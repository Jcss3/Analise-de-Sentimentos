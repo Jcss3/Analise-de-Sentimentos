{
 "cells": [
  {
   "cell_type": "markdown",
   "metadata": {},
   "source": [
    "## Imports"
   ]
  },
  {
   "cell_type": "code",
   "execution_count": 44,
   "metadata": {},
   "outputs": [],
   "source": [
    "import pandas as pd\n",
    "import numpy as np\n",
    "import datetime\n",
    "from nltk.sentiment.vader import SentimentIntensityAnalyzer\n",
    "import matplotlib.pyplot as plt\n",
    "from sklearn.model_selection import train_test_split\n",
    "from sklearn.ensemble  import RandomForestClassifier\n",
    "from sklearn.metrics import confusion_matrix\n",
    "from sklearn.metrics import plot_confusion_matrix\n",
    "from sklearn.metrics import mean_squared_error\n",
    "from tensorflow.keras.preprocessing.text import Tokenizer\n",
    "from tensorflow.keras.preprocessing.sequence import pad_sequences\n",
    "from tensorflow.keras.utils import to_categorical\n",
    "from math import sqrt\n",
    "from sklearn.metrics import accuracy_score\n",
    "# from dotenv import load_dotenv, find_dotenv\n",
    "# load_dotenv(find_dotenv())"
   ]
  },
  {
   "cell_type": "markdown",
   "metadata": {},
   "source": [
    "## Leitura e ajuste dos Datasets"
   ]
  },
  {
   "cell_type": "code",
   "execution_count": 45,
   "metadata": {},
   "outputs": [],
   "source": [
    "# Definindo o caminho dos dados\n",
    "data_company_path = \"dados/Company.csv\"\n",
    "data_tweet_path = \"dados/Tweet.csv\"\n",
    "data_company_tweet_path = \"dados/Company_Tweet.csv\""
   ]
  },
  {
   "cell_type": "code",
   "execution_count": 46,
   "metadata": {},
   "outputs": [],
   "source": [
    "# Ler e colocar em um dataframe\n",
    "data_company = pd.read_csv(data_company_path)\n",
    "data_tweet = pd.read_csv(data_tweet_path)\n",
    "data_company_tweet = pd.read_csv(data_company_tweet_path)"
   ]
  },
  {
   "cell_type": "code",
   "execution_count": 47,
   "metadata": {},
   "outputs": [
    {
     "name": "stdout",
     "output_type": "stream",
     "text": [
      "             tweet_id ticker_symbol\n",
      "0  550803612197457920          AAPL\n",
      "1  550803610825928706          AAPL\n",
      "2  550803225113157632          AAPL\n",
      "3  550802957370159104          AAPL\n",
      "4  550802855129382912          AAPL\n",
      "(4336445, 2)\n"
     ]
    }
   ],
   "source": [
    "print(data_company_tweet.head())\n",
    "print(data_company_tweet.shape)"
   ]
  },
  {
   "cell_type": "code",
   "execution_count": 48,
   "metadata": {},
   "outputs": [
    {
     "name": "stdout",
     "output_type": "stream",
     "text": [
      "  ticker_symbol company_name\n",
      "0          AAPL        apple\n",
      "1          GOOG   Google Inc\n",
      "2         GOOGL   Google Inc\n",
      "3          AMZN   Amazon.com\n",
      "4          TSLA    Tesla Inc\n",
      "5          MSFT    Microsoft\n",
      "(6, 2)\n"
     ]
    }
   ],
   "source": [
    "print(data_company)\n",
    "print(data_company.shape)"
   ]
  },
  {
   "cell_type": "code",
   "execution_count": 49,
   "metadata": {},
   "outputs": [
    {
     "name": "stdout",
     "output_type": "stream",
     "text": [
      "             tweet_id           writer   post_date  \\\n",
      "0  550441509175443456  VisualStockRSRC  1420070457   \n",
      "1  550441672312512512      KeralaGuy77  1420070496   \n",
      "2  550441732014223360      DozenStocks  1420070510   \n",
      "3  550442977802207232     ShowDreamCar  1420070807   \n",
      "4  550443807834402816     i_Know_First  1420071005   \n",
      "\n",
      "                                                body  comment_num  \\\n",
      "0  lx21 made $10,008  on $AAPL -Check it out! htt...            0   \n",
      "1  Insanity of today weirdo massive selling. $aap...            0   \n",
      "2  S&P100 #Stocks Performance $HD $LOW $SBUX $TGT...            0   \n",
      "3  $GM $TSLA: Volkswagen Pushes 2014 Record Recal...            0   \n",
      "4  Swing Trading: Up To 8.91% Return In 14 Days h...            0   \n",
      "\n",
      "   retweet_num  like_num  \n",
      "0            0         1  \n",
      "1            0         0  \n",
      "2            0         0  \n",
      "3            0         1  \n",
      "4            0         1  \n",
      "(3717964, 7)\n"
     ]
    }
   ],
   "source": [
    "print(data_tweet.head())\n",
    "print(data_tweet.shape)"
   ]
  },
  {
   "cell_type": "code",
   "execution_count": 50,
   "metadata": {},
   "outputs": [
    {
     "data": {
      "text/html": [
       "<div>\n",
       "<style scoped>\n",
       "    .dataframe tbody tr th:only-of-type {\n",
       "        vertical-align: middle;\n",
       "    }\n",
       "\n",
       "    .dataframe tbody tr th {\n",
       "        vertical-align: top;\n",
       "    }\n",
       "\n",
       "    .dataframe thead th {\n",
       "        text-align: right;\n",
       "    }\n",
       "</style>\n",
       "<table border=\"1\" class=\"dataframe\">\n",
       "  <thead>\n",
       "    <tr style=\"text-align: right;\">\n",
       "      <th></th>\n",
       "      <th>tweet_id</th>\n",
       "      <th>company_name</th>\n",
       "    </tr>\n",
       "  </thead>\n",
       "  <tbody>\n",
       "    <tr>\n",
       "      <th>0</th>\n",
       "      <td>550803612197457920</td>\n",
       "      <td>apple</td>\n",
       "    </tr>\n",
       "    <tr>\n",
       "      <th>1</th>\n",
       "      <td>550803610825928706</td>\n",
       "      <td>apple</td>\n",
       "    </tr>\n",
       "    <tr>\n",
       "      <th>2</th>\n",
       "      <td>550803225113157632</td>\n",
       "      <td>apple</td>\n",
       "    </tr>\n",
       "    <tr>\n",
       "      <th>3</th>\n",
       "      <td>550802957370159104</td>\n",
       "      <td>apple</td>\n",
       "    </tr>\n",
       "    <tr>\n",
       "      <th>4</th>\n",
       "      <td>550802855129382912</td>\n",
       "      <td>apple</td>\n",
       "    </tr>\n",
       "  </tbody>\n",
       "</table>\n",
       "</div>"
      ],
      "text/plain": [
       "             tweet_id company_name\n",
       "0  550803612197457920        apple\n",
       "1  550803610825928706        apple\n",
       "2  550803225113157632        apple\n",
       "3  550802957370159104        apple\n",
       "4  550802855129382912        apple"
      ]
     },
     "execution_count": 50,
     "metadata": {},
     "output_type": "execute_result"
    }
   ],
   "source": [
    "dados_merge1 = pd.merge(data_company_tweet,data_company, on='ticker_symbol')\n",
    "dados_merge1 = dados_merge1.drop(columns=['ticker_symbol'])\n",
    "dados_merge1.head()"
   ]
  },
  {
   "cell_type": "code",
   "execution_count": 51,
   "metadata": {},
   "outputs": [
    {
     "data": {
      "text/html": [
       "<div>\n",
       "<style scoped>\n",
       "    .dataframe tbody tr th:only-of-type {\n",
       "        vertical-align: middle;\n",
       "    }\n",
       "\n",
       "    .dataframe tbody tr th {\n",
       "        vertical-align: top;\n",
       "    }\n",
       "\n",
       "    .dataframe thead th {\n",
       "        text-align: right;\n",
       "    }\n",
       "</style>\n",
       "<table border=\"1\" class=\"dataframe\">\n",
       "  <thead>\n",
       "    <tr style=\"text-align: right;\">\n",
       "      <th></th>\n",
       "      <th>company_name</th>\n",
       "      <th>writer</th>\n",
       "      <th>post_date</th>\n",
       "      <th>body</th>\n",
       "      <th>comment_num</th>\n",
       "      <th>retweet_num</th>\n",
       "      <th>like_num</th>\n",
       "    </tr>\n",
       "  </thead>\n",
       "  <tbody>\n",
       "    <tr>\n",
       "      <th>0</th>\n",
       "      <td>apple</td>\n",
       "      <td>SentiQuant</td>\n",
       "      <td>1420156789</td>\n",
       "      <td>#TOPTICKERTWEETS $AAPL $IMRS $BABA $EBAY $AMZN...</td>\n",
       "      <td>0</td>\n",
       "      <td>0</td>\n",
       "      <td>1</td>\n",
       "    </tr>\n",
       "    <tr>\n",
       "      <th>1</th>\n",
       "      <td>Amazon.com</td>\n",
       "      <td>SentiQuant</td>\n",
       "      <td>1420156789</td>\n",
       "      <td>#TOPTICKERTWEETS $AAPL $IMRS $BABA $EBAY $AMZN...</td>\n",
       "      <td>0</td>\n",
       "      <td>0</td>\n",
       "      <td>1</td>\n",
       "    </tr>\n",
       "    <tr>\n",
       "      <th>2</th>\n",
       "      <td>apple</td>\n",
       "      <td>SentiQuant</td>\n",
       "      <td>1420156788</td>\n",
       "      <td>#SENTISHIFTUP $K $FB $GOOGL $GS $GOLD $T $AAPL...</td>\n",
       "      <td>0</td>\n",
       "      <td>0</td>\n",
       "      <td>1</td>\n",
       "    </tr>\n",
       "    <tr>\n",
       "      <th>3</th>\n",
       "      <td>Google Inc</td>\n",
       "      <td>SentiQuant</td>\n",
       "      <td>1420156788</td>\n",
       "      <td>#SENTISHIFTUP $K $FB $GOOGL $GS $GOLD $T $AAPL...</td>\n",
       "      <td>0</td>\n",
       "      <td>0</td>\n",
       "      <td>1</td>\n",
       "    </tr>\n",
       "    <tr>\n",
       "      <th>4</th>\n",
       "      <td>Amazon.com</td>\n",
       "      <td>SentiQuant</td>\n",
       "      <td>1420156788</td>\n",
       "      <td>#SENTISHIFTUP $K $FB $GOOGL $GS $GOLD $T $AAPL...</td>\n",
       "      <td>0</td>\n",
       "      <td>0</td>\n",
       "      <td>1</td>\n",
       "    </tr>\n",
       "  </tbody>\n",
       "</table>\n",
       "</div>"
      ],
      "text/plain": [
       "  company_name      writer   post_date  \\\n",
       "0        apple  SentiQuant  1420156789   \n",
       "1   Amazon.com  SentiQuant  1420156789   \n",
       "2        apple  SentiQuant  1420156788   \n",
       "3   Google Inc  SentiQuant  1420156788   \n",
       "4   Amazon.com  SentiQuant  1420156788   \n",
       "\n",
       "                                                body  comment_num  \\\n",
       "0  #TOPTICKERTWEETS $AAPL $IMRS $BABA $EBAY $AMZN...            0   \n",
       "1  #TOPTICKERTWEETS $AAPL $IMRS $BABA $EBAY $AMZN...            0   \n",
       "2  #SENTISHIFTUP $K $FB $GOOGL $GS $GOLD $T $AAPL...            0   \n",
       "3  #SENTISHIFTUP $K $FB $GOOGL $GS $GOLD $T $AAPL...            0   \n",
       "4  #SENTISHIFTUP $K $FB $GOOGL $GS $GOLD $T $AAPL...            0   \n",
       "\n",
       "   retweet_num  like_num  \n",
       "0            0         1  \n",
       "1            0         1  \n",
       "2            0         1  \n",
       "3            0         1  \n",
       "4            0         1  "
      ]
     },
     "execution_count": 51,
     "metadata": {},
     "output_type": "execute_result"
    }
   ],
   "source": [
    "dados_tweet_company = pd.merge(dados_merge1,data_tweet,on='tweet_id')\n",
    "dados_tweet_company = dados_tweet_company.drop(columns=['tweet_id'])\n",
    "dados_tweet_company.head()"
   ]
  },
  {
   "cell_type": "code",
   "execution_count": 52,
   "metadata": {},
   "outputs": [],
   "source": [
    "#dados_tweet_company = dados_tweet_company.iloc[:500000]\n",
    "#dados_tweet_company.head()"
   ]
  },
  {
   "cell_type": "code",
   "execution_count": 53,
   "metadata": {},
   "outputs": [
    {
     "data": {
      "text/plain": [
       "(4336445, 7)"
      ]
     },
     "execution_count": 53,
     "metadata": {},
     "output_type": "execute_result"
    }
   ],
   "source": [
    "dados_tweet_company.shape"
   ]
  },
  {
   "cell_type": "markdown",
   "metadata": {},
   "source": [
    "## Ajustar Tempo (Data do Tweet)"
   ]
  },
  {
   "cell_type": "code",
   "execution_count": 54,
   "metadata": {},
   "outputs": [
    {
     "data": {
      "text/plain": [
       "1420156789"
      ]
     },
     "execution_count": 54,
     "metadata": {},
     "output_type": "execute_result"
    }
   ],
   "source": [
    "dados_tweet_company.post_date[0]"
   ]
  },
  {
   "cell_type": "code",
   "execution_count": 55,
   "metadata": {},
   "outputs": [
    {
     "data": {
      "text/plain": [
       "'2015-01-01 20:59:49'"
      ]
     },
     "execution_count": 55,
     "metadata": {},
     "output_type": "execute_result"
    }
   ],
   "source": [
    "ts_epoch = dados_tweet_company.post_date[0]\n",
    "ts = datetime.datetime.fromtimestamp(ts_epoch).strftime('%Y-%m-%d %H:%M:%S')\n",
    "ts"
   ]
  },
  {
   "cell_type": "code",
   "execution_count": 56,
   "metadata": {},
   "outputs": [
    {
     "data": {
      "text/html": [
       "<div>\n",
       "<style scoped>\n",
       "    .dataframe tbody tr th:only-of-type {\n",
       "        vertical-align: middle;\n",
       "    }\n",
       "\n",
       "    .dataframe tbody tr th {\n",
       "        vertical-align: top;\n",
       "    }\n",
       "\n",
       "    .dataframe thead th {\n",
       "        text-align: right;\n",
       "    }\n",
       "</style>\n",
       "<table border=\"1\" class=\"dataframe\">\n",
       "  <thead>\n",
       "    <tr style=\"text-align: right;\">\n",
       "      <th></th>\n",
       "      <th>company_name</th>\n",
       "      <th>writer</th>\n",
       "      <th>post_date</th>\n",
       "      <th>body</th>\n",
       "      <th>comment_num</th>\n",
       "      <th>retweet_num</th>\n",
       "      <th>like_num</th>\n",
       "      <th>Date</th>\n",
       "    </tr>\n",
       "  </thead>\n",
       "  <tbody>\n",
       "    <tr>\n",
       "      <th>0</th>\n",
       "      <td>apple</td>\n",
       "      <td>SentiQuant</td>\n",
       "      <td>1420156789</td>\n",
       "      <td>#TOPTICKERTWEETS $AAPL $IMRS $BABA $EBAY $AMZN...</td>\n",
       "      <td>0</td>\n",
       "      <td>0</td>\n",
       "      <td>1</td>\n",
       "      <td>2015-01-01 20:59:49</td>\n",
       "    </tr>\n",
       "    <tr>\n",
       "      <th>1</th>\n",
       "      <td>Amazon.com</td>\n",
       "      <td>SentiQuant</td>\n",
       "      <td>1420156789</td>\n",
       "      <td>#TOPTICKERTWEETS $AAPL $IMRS $BABA $EBAY $AMZN...</td>\n",
       "      <td>0</td>\n",
       "      <td>0</td>\n",
       "      <td>1</td>\n",
       "      <td>2015-01-01 20:59:49</td>\n",
       "    </tr>\n",
       "    <tr>\n",
       "      <th>2</th>\n",
       "      <td>apple</td>\n",
       "      <td>SentiQuant</td>\n",
       "      <td>1420156788</td>\n",
       "      <td>#SENTISHIFTUP $K $FB $GOOGL $GS $GOLD $T $AAPL...</td>\n",
       "      <td>0</td>\n",
       "      <td>0</td>\n",
       "      <td>1</td>\n",
       "      <td>2015-01-01 20:59:48</td>\n",
       "    </tr>\n",
       "    <tr>\n",
       "      <th>3</th>\n",
       "      <td>Google Inc</td>\n",
       "      <td>SentiQuant</td>\n",
       "      <td>1420156788</td>\n",
       "      <td>#SENTISHIFTUP $K $FB $GOOGL $GS $GOLD $T $AAPL...</td>\n",
       "      <td>0</td>\n",
       "      <td>0</td>\n",
       "      <td>1</td>\n",
       "      <td>2015-01-01 20:59:48</td>\n",
       "    </tr>\n",
       "    <tr>\n",
       "      <th>4</th>\n",
       "      <td>Amazon.com</td>\n",
       "      <td>SentiQuant</td>\n",
       "      <td>1420156788</td>\n",
       "      <td>#SENTISHIFTUP $K $FB $GOOGL $GS $GOLD $T $AAPL...</td>\n",
       "      <td>0</td>\n",
       "      <td>0</td>\n",
       "      <td>1</td>\n",
       "      <td>2015-01-01 20:59:48</td>\n",
       "    </tr>\n",
       "  </tbody>\n",
       "</table>\n",
       "</div>"
      ],
      "text/plain": [
       "  company_name      writer   post_date  \\\n",
       "0        apple  SentiQuant  1420156789   \n",
       "1   Amazon.com  SentiQuant  1420156789   \n",
       "2        apple  SentiQuant  1420156788   \n",
       "3   Google Inc  SentiQuant  1420156788   \n",
       "4   Amazon.com  SentiQuant  1420156788   \n",
       "\n",
       "                                                body  comment_num  \\\n",
       "0  #TOPTICKERTWEETS $AAPL $IMRS $BABA $EBAY $AMZN...            0   \n",
       "1  #TOPTICKERTWEETS $AAPL $IMRS $BABA $EBAY $AMZN...            0   \n",
       "2  #SENTISHIFTUP $K $FB $GOOGL $GS $GOLD $T $AAPL...            0   \n",
       "3  #SENTISHIFTUP $K $FB $GOOGL $GS $GOLD $T $AAPL...            0   \n",
       "4  #SENTISHIFTUP $K $FB $GOOGL $GS $GOLD $T $AAPL...            0   \n",
       "\n",
       "   retweet_num  like_num                 Date  \n",
       "0            0         1  2015-01-01 20:59:49  \n",
       "1            0         1  2015-01-01 20:59:49  \n",
       "2            0         1  2015-01-01 20:59:48  \n",
       "3            0         1  2015-01-01 20:59:48  \n",
       "4            0         1  2015-01-01 20:59:48  "
      ]
     },
     "execution_count": 56,
     "metadata": {},
     "output_type": "execute_result"
    }
   ],
   "source": [
    "def ajustar_tempo(row):\n",
    "    ts_epoch = row['post_date']\n",
    "    ts = datetime.datetime.fromtimestamp(ts_epoch).strftime('%Y-%m-%d %H:%M:%S')\n",
    "    return ts  \n",
    "new_date = dados_tweet_company.apply(ajustar_tempo,axis=1)\n",
    "dados_tweet_company['Date'] = list(new_date)\n",
    "dados_tweet_company.head()"
   ]
  },
  {
   "cell_type": "code",
   "execution_count": 57,
   "metadata": {},
   "outputs": [
    {
     "name": "stdout",
     "output_type": "stream",
     "text": [
      "<class 'pandas.core.frame.DataFrame'>\n",
      "Int64Index: 4336445 entries, 0 to 4336444\n",
      "Data columns (total 8 columns):\n",
      "company_name    object\n",
      "writer          object\n",
      "post_date       int64\n",
      "body            object\n",
      "comment_num     int64\n",
      "retweet_num     int64\n",
      "like_num        int64\n",
      "Date            object\n",
      "dtypes: int64(4), object(4)\n",
      "memory usage: 297.8+ MB\n"
     ]
    }
   ],
   "source": [
    "dados_tweet_company.info()"
   ]
  },
  {
   "cell_type": "markdown",
   "metadata": {},
   "source": [
    "## Removendo Caracteres "
   ]
  },
  {
   "cell_type": "code",
   "execution_count": 58,
   "metadata": {},
   "outputs": [
    {
     "name": "stdout",
     "output_type": "stream",
     "text": [
      "#TOPTICKERTWEETS $AAPL $IMRS $BABA $EBAY $AMZN $T $IGN $SPY $FB $UGAZ #sentiquant 20150101 19:00:08:298\n",
      "Our Penny Stock Picks Gained Over 968% In the Past 5 Weeks! Get our next pick early: http://tinyurl.com/p46mnk2 $TRX $AAPL $GOOG\n"
     ]
    }
   ],
   "source": [
    "sentenca = dados_tweet_company.body[0]\n",
    "print(sentenca)\n",
    "\n",
    "sentenca_2 = dados_tweet_company.body[100]\n",
    "print(sentenca_2)"
   ]
  },
  {
   "cell_type": "code",
   "execution_count": 59,
   "metadata": {},
   "outputs": [
    {
     "data": {
      "text/html": [
       "<div>\n",
       "<style scoped>\n",
       "    .dataframe tbody tr th:only-of-type {\n",
       "        vertical-align: middle;\n",
       "    }\n",
       "\n",
       "    .dataframe tbody tr th {\n",
       "        vertical-align: top;\n",
       "    }\n",
       "\n",
       "    .dataframe thead th {\n",
       "        text-align: right;\n",
       "    }\n",
       "</style>\n",
       "<table border=\"1\" class=\"dataframe\">\n",
       "  <thead>\n",
       "    <tr style=\"text-align: right;\">\n",
       "      <th></th>\n",
       "      <th>company_name</th>\n",
       "      <th>writer</th>\n",
       "      <th>post_date</th>\n",
       "      <th>body</th>\n",
       "      <th>comment_num</th>\n",
       "      <th>retweet_num</th>\n",
       "      <th>like_num</th>\n",
       "      <th>Date</th>\n",
       "      <th>Processed_Tweet</th>\n",
       "    </tr>\n",
       "  </thead>\n",
       "  <tbody>\n",
       "    <tr>\n",
       "      <th>0</th>\n",
       "      <td>apple</td>\n",
       "      <td>SentiQuant</td>\n",
       "      <td>1420156789</td>\n",
       "      <td>#TOPTICKERTWEETS $AAPL $IMRS $BABA $EBAY $AMZN...</td>\n",
       "      <td>0</td>\n",
       "      <td>0</td>\n",
       "      <td>1</td>\n",
       "      <td>2015-01-01 20:59:49</td>\n",
       "      <td>20150101 19:00:08:298</td>\n",
       "    </tr>\n",
       "    <tr>\n",
       "      <th>1</th>\n",
       "      <td>Amazon.com</td>\n",
       "      <td>SentiQuant</td>\n",
       "      <td>1420156789</td>\n",
       "      <td>#TOPTICKERTWEETS $AAPL $IMRS $BABA $EBAY $AMZN...</td>\n",
       "      <td>0</td>\n",
       "      <td>0</td>\n",
       "      <td>1</td>\n",
       "      <td>2015-01-01 20:59:49</td>\n",
       "      <td>20150101 19:00:08:298</td>\n",
       "    </tr>\n",
       "    <tr>\n",
       "      <th>2</th>\n",
       "      <td>apple</td>\n",
       "      <td>SentiQuant</td>\n",
       "      <td>1420156788</td>\n",
       "      <td>#SENTISHIFTUP $K $FB $GOOGL $GS $GOLD $T $AAPL...</td>\n",
       "      <td>0</td>\n",
       "      <td>0</td>\n",
       "      <td>1</td>\n",
       "      <td>2015-01-01 20:59:48</td>\n",
       "      <td>20150101 19:00:04:526</td>\n",
       "    </tr>\n",
       "    <tr>\n",
       "      <th>3</th>\n",
       "      <td>Google Inc</td>\n",
       "      <td>SentiQuant</td>\n",
       "      <td>1420156788</td>\n",
       "      <td>#SENTISHIFTUP $K $FB $GOOGL $GS $GOLD $T $AAPL...</td>\n",
       "      <td>0</td>\n",
       "      <td>0</td>\n",
       "      <td>1</td>\n",
       "      <td>2015-01-01 20:59:48</td>\n",
       "      <td>20150101 19:00:04:526</td>\n",
       "    </tr>\n",
       "    <tr>\n",
       "      <th>4</th>\n",
       "      <td>Amazon.com</td>\n",
       "      <td>SentiQuant</td>\n",
       "      <td>1420156788</td>\n",
       "      <td>#SENTISHIFTUP $K $FB $GOOGL $GS $GOLD $T $AAPL...</td>\n",
       "      <td>0</td>\n",
       "      <td>0</td>\n",
       "      <td>1</td>\n",
       "      <td>2015-01-01 20:59:48</td>\n",
       "      <td>20150101 19:00:04:526</td>\n",
       "    </tr>\n",
       "  </tbody>\n",
       "</table>\n",
       "</div>"
      ],
      "text/plain": [
       "  company_name      writer   post_date  \\\n",
       "0        apple  SentiQuant  1420156789   \n",
       "1   Amazon.com  SentiQuant  1420156789   \n",
       "2        apple  SentiQuant  1420156788   \n",
       "3   Google Inc  SentiQuant  1420156788   \n",
       "4   Amazon.com  SentiQuant  1420156788   \n",
       "\n",
       "                                                body  comment_num  \\\n",
       "0  #TOPTICKERTWEETS $AAPL $IMRS $BABA $EBAY $AMZN...            0   \n",
       "1  #TOPTICKERTWEETS $AAPL $IMRS $BABA $EBAY $AMZN...            0   \n",
       "2  #SENTISHIFTUP $K $FB $GOOGL $GS $GOLD $T $AAPL...            0   \n",
       "3  #SENTISHIFTUP $K $FB $GOOGL $GS $GOLD $T $AAPL...            0   \n",
       "4  #SENTISHIFTUP $K $FB $GOOGL $GS $GOLD $T $AAPL...            0   \n",
       "\n",
       "   retweet_num  like_num                 Date        Processed_Tweet  \n",
       "0            0         1  2015-01-01 20:59:49  20150101 19:00:08:298  \n",
       "1            0         1  2015-01-01 20:59:49  20150101 19:00:08:298  \n",
       "2            0         1  2015-01-01 20:59:48  20150101 19:00:04:526  \n",
       "3            0         1  2015-01-01 20:59:48  20150101 19:00:04:526  \n",
       "4            0         1  2015-01-01 20:59:48  20150101 19:00:04:526  "
      ]
     },
     "execution_count": 59,
     "metadata": {},
     "output_type": "execute_result"
    }
   ],
   "source": [
    "def replace_all(texto):\n",
    "    palavras_especiais = [word for word in texto.split(' ') if word.startswith(('#','$','@'))]\n",
    "    #print(palavras_especiais)\n",
    "    sentenca = ' '.join(x for x in texto.split(' ') if x not in palavras_especiais)\n",
    "    return sentenca\n",
    "\n",
    "new_strings = dados_tweet_company.body.apply(replace_all)\n",
    "dados_tweet_company['Processed_Tweet'] = list(new_strings)\n",
    "dados_tweet_company.head()"
   ]
  },
  {
   "cell_type": "code",
   "execution_count": 60,
   "metadata": {},
   "outputs": [
    {
     "name": "stdout",
     "output_type": "stream",
     "text": [
      "20150101 19:00:08:298\n",
      "Our Penny Stock Picks Gained Over 968% In the Past 5 Weeks! Get our next pick early: http://tinyurl.com/p46mnk2\n"
     ]
    }
   ],
   "source": [
    "sentenca = dados_tweet_company.Processed_Tweet[0]\n",
    "print(sentenca)\n",
    "\n",
    "sentenca_2 = dados_tweet_company.Processed_Tweet[100]\n",
    "print(sentenca_2)\n"
   ]
  },
  {
   "cell_type": "markdown",
   "metadata": {},
   "source": [
    "## Filtrando Dados"
   ]
  },
  {
   "cell_type": "code",
   "execution_count": 72,
   "metadata": {},
   "outputs": [
    {
     "data": {
      "text/html": [
       "<div>\n",
       "<style scoped>\n",
       "    .dataframe tbody tr th:only-of-type {\n",
       "        vertical-align: middle;\n",
       "    }\n",
       "\n",
       "    .dataframe tbody tr th {\n",
       "        vertical-align: top;\n",
       "    }\n",
       "\n",
       "    .dataframe thead th {\n",
       "        text-align: right;\n",
       "    }\n",
       "</style>\n",
       "<table border=\"1\" class=\"dataframe\">\n",
       "  <thead>\n",
       "    <tr style=\"text-align: right;\">\n",
       "      <th></th>\n",
       "      <th>company_name</th>\n",
       "      <th>writer</th>\n",
       "      <th>post_date</th>\n",
       "      <th>body</th>\n",
       "      <th>comment_num</th>\n",
       "      <th>retweet_num</th>\n",
       "      <th>like_num</th>\n",
       "      <th>Date</th>\n",
       "      <th>Processed_Tweet</th>\n",
       "    </tr>\n",
       "  </thead>\n",
       "  <tbody>\n",
       "    <tr>\n",
       "      <th>0</th>\n",
       "      <td>apple</td>\n",
       "      <td>SentiQuant</td>\n",
       "      <td>1420156789</td>\n",
       "      <td>#TOPTICKERTWEETS $AAPL $IMRS $BABA $EBAY $AMZN...</td>\n",
       "      <td>0</td>\n",
       "      <td>0</td>\n",
       "      <td>1</td>\n",
       "      <td>2015-01-01 20:59:49</td>\n",
       "      <td>20150101 19:00:08:298</td>\n",
       "    </tr>\n",
       "    <tr>\n",
       "      <th>1</th>\n",
       "      <td>Amazon.com</td>\n",
       "      <td>SentiQuant</td>\n",
       "      <td>1420156789</td>\n",
       "      <td>#TOPTICKERTWEETS $AAPL $IMRS $BABA $EBAY $AMZN...</td>\n",
       "      <td>0</td>\n",
       "      <td>0</td>\n",
       "      <td>1</td>\n",
       "      <td>2015-01-01 20:59:49</td>\n",
       "      <td>20150101 19:00:08:298</td>\n",
       "    </tr>\n",
       "    <tr>\n",
       "      <th>2</th>\n",
       "      <td>apple</td>\n",
       "      <td>SentiQuant</td>\n",
       "      <td>1420156788</td>\n",
       "      <td>#SENTISHIFTUP $K $FB $GOOGL $GS $GOLD $T $AAPL...</td>\n",
       "      <td>0</td>\n",
       "      <td>0</td>\n",
       "      <td>1</td>\n",
       "      <td>2015-01-01 20:59:48</td>\n",
       "      <td>20150101 19:00:04:526</td>\n",
       "    </tr>\n",
       "    <tr>\n",
       "      <th>3</th>\n",
       "      <td>Google Inc</td>\n",
       "      <td>SentiQuant</td>\n",
       "      <td>1420156788</td>\n",
       "      <td>#SENTISHIFTUP $K $FB $GOOGL $GS $GOLD $T $AAPL...</td>\n",
       "      <td>0</td>\n",
       "      <td>0</td>\n",
       "      <td>1</td>\n",
       "      <td>2015-01-01 20:59:48</td>\n",
       "      <td>20150101 19:00:04:526</td>\n",
       "    </tr>\n",
       "    <tr>\n",
       "      <th>4</th>\n",
       "      <td>Amazon.com</td>\n",
       "      <td>SentiQuant</td>\n",
       "      <td>1420156788</td>\n",
       "      <td>#SENTISHIFTUP $K $FB $GOOGL $GS $GOLD $T $AAPL...</td>\n",
       "      <td>0</td>\n",
       "      <td>0</td>\n",
       "      <td>1</td>\n",
       "      <td>2015-01-01 20:59:48</td>\n",
       "      <td>20150101 19:00:04:526</td>\n",
       "    </tr>\n",
       "  </tbody>\n",
       "</table>\n",
       "</div>"
      ],
      "text/plain": [
       "  company_name      writer   post_date  \\\n",
       "0        apple  SentiQuant  1420156789   \n",
       "1   Amazon.com  SentiQuant  1420156789   \n",
       "2        apple  SentiQuant  1420156788   \n",
       "3   Google Inc  SentiQuant  1420156788   \n",
       "4   Amazon.com  SentiQuant  1420156788   \n",
       "\n",
       "                                                body  comment_num  \\\n",
       "0  #TOPTICKERTWEETS $AAPL $IMRS $BABA $EBAY $AMZN...            0   \n",
       "1  #TOPTICKERTWEETS $AAPL $IMRS $BABA $EBAY $AMZN...            0   \n",
       "2  #SENTISHIFTUP $K $FB $GOOGL $GS $GOLD $T $AAPL...            0   \n",
       "3  #SENTISHIFTUP $K $FB $GOOGL $GS $GOLD $T $AAPL...            0   \n",
       "4  #SENTISHIFTUP $K $FB $GOOGL $GS $GOLD $T $AAPL...            0   \n",
       "\n",
       "   retweet_num  like_num                Date        Processed_Tweet  \n",
       "0            0         1 2015-01-01 20:59:49  20150101 19:00:08:298  \n",
       "1            0         1 2015-01-01 20:59:49  20150101 19:00:08:298  \n",
       "2            0         1 2015-01-01 20:59:48  20150101 19:00:04:526  \n",
       "3            0         1 2015-01-01 20:59:48  20150101 19:00:04:526  \n",
       "4            0         1 2015-01-01 20:59:48  20150101 19:00:04:526  "
      ]
     },
     "execution_count": 72,
     "metadata": {},
     "output_type": "execute_result"
    }
   ],
   "source": [
    "dados_tweet_company['Date'] = pd.to_datetime(dados_tweet_company['Date'])\n",
    "dados_tweet_company1 = dados_tweet_company[dados_tweet_company['Date'].dt.year == 2015].copy()\n",
    "dados_tweet_company1.head()"
   ]
  },
  {
   "cell_type": "code",
   "execution_count": 74,
   "metadata": {},
   "outputs": [
    {
     "name": "stdout",
     "output_type": "stream",
     "text": [
      "(56971, 9)\n"
     ]
    },
    {
     "data": {
      "text/html": [
       "<div>\n",
       "<style scoped>\n",
       "    .dataframe tbody tr th:only-of-type {\n",
       "        vertical-align: middle;\n",
       "    }\n",
       "\n",
       "    .dataframe tbody tr th {\n",
       "        vertical-align: top;\n",
       "    }\n",
       "\n",
       "    .dataframe thead th {\n",
       "        text-align: right;\n",
       "    }\n",
       "</style>\n",
       "<table border=\"1\" class=\"dataframe\">\n",
       "  <thead>\n",
       "    <tr style=\"text-align: right;\">\n",
       "      <th></th>\n",
       "      <th>company_name</th>\n",
       "      <th>writer</th>\n",
       "      <th>post_date</th>\n",
       "      <th>body</th>\n",
       "      <th>comment_num</th>\n",
       "      <th>retweet_num</th>\n",
       "      <th>like_num</th>\n",
       "      <th>Date</th>\n",
       "      <th>Processed_Tweet</th>\n",
       "    </tr>\n",
       "  </thead>\n",
       "  <tbody>\n",
       "    <tr>\n",
       "      <th>75</th>\n",
       "      <td>Microsoft</td>\n",
       "      <td>LongbetCapital</td>\n",
       "      <td>1420145515</td>\n",
       "      <td>RT @theinformation: Apple products are getting...</td>\n",
       "      <td>0</td>\n",
       "      <td>0</td>\n",
       "      <td>2</td>\n",
       "      <td>2015-01-01 17:51:55</td>\n",
       "      <td>RT Apple products are getting harder to use, s...</td>\n",
       "    </tr>\n",
       "    <tr>\n",
       "      <th>111</th>\n",
       "      <td>Microsoft</td>\n",
       "      <td>TalkMarkets</td>\n",
       "      <td>1420139559</td>\n",
       "      <td>Gappy New Year! $SPY $DIA $IWM $INTC $MSFT $AA...</td>\n",
       "      <td>0</td>\n",
       "      <td>0</td>\n",
       "      <td>1</td>\n",
       "      <td>2015-01-01 16:12:39</td>\n",
       "      <td>Gappy New Year!  http://goo.gl/RkXfHT</td>\n",
       "    </tr>\n",
       "    <tr>\n",
       "      <th>120</th>\n",
       "      <td>Microsoft</td>\n",
       "      <td>TalkMarkets</td>\n",
       "      <td>1420138386</td>\n",
       "      <td>3 #Technology #Stocks That Crushed #Apple In 2...</td>\n",
       "      <td>0</td>\n",
       "      <td>0</td>\n",
       "      <td>2</td>\n",
       "      <td>2015-01-01 15:53:06</td>\n",
       "      <td>3 That Crushed In 2014  http://goo.gl/t3eX4u</td>\n",
       "    </tr>\n",
       "    <tr>\n",
       "      <th>139</th>\n",
       "      <td>Microsoft</td>\n",
       "      <td>investcorrectly</td>\n",
       "      <td>1420133571</td>\n",
       "      <td>Key Tech Highlights Of 2014 $AAPL $BBRY $BB $M...</td>\n",
       "      <td>0</td>\n",
       "      <td>0</td>\n",
       "      <td>1</td>\n",
       "      <td>2015-01-01 14:32:51</td>\n",
       "      <td>Key Tech Highlights Of 2014 http://investcorre...</td>\n",
       "    </tr>\n",
       "    <tr>\n",
       "      <th>142</th>\n",
       "      <td>Microsoft</td>\n",
       "      <td>SwingTradeAlert</td>\n",
       "      <td>1420133480</td>\n",
       "      <td>IBD:2015 technology forecasts: Wearable techno...</td>\n",
       "      <td>0</td>\n",
       "      <td>0</td>\n",
       "      <td>3</td>\n",
       "      <td>2015-01-01 14:31:20</td>\n",
       "      <td>IBD:2015 technology forecasts: Wearable techno...</td>\n",
       "    </tr>\n",
       "  </tbody>\n",
       "</table>\n",
       "</div>"
      ],
      "text/plain": [
       "    company_name           writer   post_date  \\\n",
       "75     Microsoft   LongbetCapital  1420145515   \n",
       "111    Microsoft      TalkMarkets  1420139559   \n",
       "120    Microsoft      TalkMarkets  1420138386   \n",
       "139    Microsoft  investcorrectly  1420133571   \n",
       "142    Microsoft  SwingTradeAlert  1420133480   \n",
       "\n",
       "                                                  body  comment_num  \\\n",
       "75   RT @theinformation: Apple products are getting...            0   \n",
       "111  Gappy New Year! $SPY $DIA $IWM $INTC $MSFT $AA...            0   \n",
       "120  3 #Technology #Stocks That Crushed #Apple In 2...            0   \n",
       "139  Key Tech Highlights Of 2014 $AAPL $BBRY $BB $M...            0   \n",
       "142  IBD:2015 technology forecasts: Wearable techno...            0   \n",
       "\n",
       "     retweet_num  like_num                Date  \\\n",
       "75             0         2 2015-01-01 17:51:55   \n",
       "111            0         1 2015-01-01 16:12:39   \n",
       "120            0         2 2015-01-01 15:53:06   \n",
       "139            0         1 2015-01-01 14:32:51   \n",
       "142            0         3 2015-01-01 14:31:20   \n",
       "\n",
       "                                       Processed_Tweet  \n",
       "75   RT Apple products are getting harder to use, s...  \n",
       "111              Gappy New Year!  http://goo.gl/RkXfHT  \n",
       "120       3 That Crushed In 2014  http://goo.gl/t3eX4u  \n",
       "139  Key Tech Highlights Of 2014 http://investcorre...  \n",
       "142  IBD:2015 technology forecasts: Wearable techno...  "
      ]
     },
     "execution_count": 74,
     "metadata": {},
     "output_type": "execute_result"
    }
   ],
   "source": [
    "dados_tweet_company1 = dados_tweet_company1[dados_tweet_company1.company_name == 'Microsoft']\n",
    "print(dados_tweet_company1.shape)\n",
    "dados_tweet_company1.head()"
   ]
  },
  {
   "cell_type": "markdown",
   "metadata": {},
   "source": [
    "## Criando Labels para os Tweets \n",
    "* Positivo = 1 or pos\n",
    "* Neutro = 0 or neu\n",
    "* Negativo = -1 or neg"
   ]
  },
  {
   "cell_type": "code",
   "execution_count": 69,
   "metadata": {},
   "outputs": [],
   "source": [
    "#'https://towardsdatascience.com/sentimental-analysis-using-vader-a3415fef7664'"
   ]
  },
  {
   "cell_type": "code",
   "execution_count": 76,
   "metadata": {},
   "outputs": [
    {
     "data": {
      "text/plain": [
       "{'neg': 0.0, 'neu': 0.852, 'pos': 0.148, 'compound': 0.3818}"
      ]
     },
     "execution_count": 76,
     "metadata": {},
     "output_type": "execute_result"
    }
   ],
   "source": [
    "sid = SentimentIntensityAnalyzer()\n",
    "sid.polarity_scores(dados_tweet_company1.body[142])"
   ]
  },
  {
   "cell_type": "code",
   "execution_count": 77,
   "metadata": {},
   "outputs": [
    {
     "data": {
      "text/plain": [
       "(56971, 9)"
      ]
     },
     "execution_count": 77,
     "metadata": {},
     "output_type": "execute_result"
    }
   ],
   "source": [
    "dados_tweet_company1.shape"
   ]
  },
  {
   "cell_type": "code",
   "execution_count": 78,
   "metadata": {},
   "outputs": [
    {
     "data": {
      "text/html": [
       "<div>\n",
       "<style scoped>\n",
       "    .dataframe tbody tr th:only-of-type {\n",
       "        vertical-align: middle;\n",
       "    }\n",
       "\n",
       "    .dataframe tbody tr th {\n",
       "        vertical-align: top;\n",
       "    }\n",
       "\n",
       "    .dataframe thead th {\n",
       "        text-align: right;\n",
       "    }\n",
       "</style>\n",
       "<table border=\"1\" class=\"dataframe\">\n",
       "  <thead>\n",
       "    <tr style=\"text-align: right;\">\n",
       "      <th></th>\n",
       "      <th>company_name</th>\n",
       "      <th>writer</th>\n",
       "      <th>post_date</th>\n",
       "      <th>body</th>\n",
       "      <th>comment_num</th>\n",
       "      <th>retweet_num</th>\n",
       "      <th>like_num</th>\n",
       "      <th>Date</th>\n",
       "      <th>Processed_Tweet</th>\n",
       "      <th>vader_scores</th>\n",
       "    </tr>\n",
       "  </thead>\n",
       "  <tbody>\n",
       "    <tr>\n",
       "      <th>75</th>\n",
       "      <td>Microsoft</td>\n",
       "      <td>LongbetCapital</td>\n",
       "      <td>1420145515</td>\n",
       "      <td>RT @theinformation: Apple products are getting...</td>\n",
       "      <td>0</td>\n",
       "      <td>0</td>\n",
       "      <td>2</td>\n",
       "      <td>2015-01-01 17:51:55</td>\n",
       "      <td>RT Apple products are getting harder to use, s...</td>\n",
       "      <td>{'neg': 0.0, 'neu': 0.916, 'pos': 0.084, 'comp...</td>\n",
       "    </tr>\n",
       "    <tr>\n",
       "      <th>111</th>\n",
       "      <td>Microsoft</td>\n",
       "      <td>TalkMarkets</td>\n",
       "      <td>1420139559</td>\n",
       "      <td>Gappy New Year! $SPY $DIA $IWM $INTC $MSFT $AA...</td>\n",
       "      <td>0</td>\n",
       "      <td>0</td>\n",
       "      <td>1</td>\n",
       "      <td>2015-01-01 16:12:39</td>\n",
       "      <td>Gappy New Year!  http://goo.gl/RkXfHT</td>\n",
       "      <td>{'neg': 0.0, 'neu': 1.0, 'pos': 0.0, 'compound...</td>\n",
       "    </tr>\n",
       "    <tr>\n",
       "      <th>120</th>\n",
       "      <td>Microsoft</td>\n",
       "      <td>TalkMarkets</td>\n",
       "      <td>1420138386</td>\n",
       "      <td>3 #Technology #Stocks That Crushed #Apple In 2...</td>\n",
       "      <td>0</td>\n",
       "      <td>0</td>\n",
       "      <td>2</td>\n",
       "      <td>2015-01-01 15:53:06</td>\n",
       "      <td>3 That Crushed In 2014  http://goo.gl/t3eX4u</td>\n",
       "      <td>{'neg': 0.412, 'neu': 0.588, 'pos': 0.0, 'comp...</td>\n",
       "    </tr>\n",
       "    <tr>\n",
       "      <th>139</th>\n",
       "      <td>Microsoft</td>\n",
       "      <td>investcorrectly</td>\n",
       "      <td>1420133571</td>\n",
       "      <td>Key Tech Highlights Of 2014 $AAPL $BBRY $BB $M...</td>\n",
       "      <td>0</td>\n",
       "      <td>0</td>\n",
       "      <td>1</td>\n",
       "      <td>2015-01-01 14:32:51</td>\n",
       "      <td>Key Tech Highlights Of 2014 http://investcorre...</td>\n",
       "      <td>{'neg': 0.0, 'neu': 1.0, 'pos': 0.0, 'compound...</td>\n",
       "    </tr>\n",
       "    <tr>\n",
       "      <th>142</th>\n",
       "      <td>Microsoft</td>\n",
       "      <td>SwingTradeAlert</td>\n",
       "      <td>1420133480</td>\n",
       "      <td>IBD:2015 technology forecasts: Wearable techno...</td>\n",
       "      <td>0</td>\n",
       "      <td>0</td>\n",
       "      <td>3</td>\n",
       "      <td>2015-01-01 14:31:20</td>\n",
       "      <td>IBD:2015 technology forecasts: Wearable techno...</td>\n",
       "      <td>{'neg': 0.0, 'neu': 0.776, 'pos': 0.224, 'comp...</td>\n",
       "    </tr>\n",
       "  </tbody>\n",
       "</table>\n",
       "</div>"
      ],
      "text/plain": [
       "    company_name           writer   post_date  \\\n",
       "75     Microsoft   LongbetCapital  1420145515   \n",
       "111    Microsoft      TalkMarkets  1420139559   \n",
       "120    Microsoft      TalkMarkets  1420138386   \n",
       "139    Microsoft  investcorrectly  1420133571   \n",
       "142    Microsoft  SwingTradeAlert  1420133480   \n",
       "\n",
       "                                                  body  comment_num  \\\n",
       "75   RT @theinformation: Apple products are getting...            0   \n",
       "111  Gappy New Year! $SPY $DIA $IWM $INTC $MSFT $AA...            0   \n",
       "120  3 #Technology #Stocks That Crushed #Apple In 2...            0   \n",
       "139  Key Tech Highlights Of 2014 $AAPL $BBRY $BB $M...            0   \n",
       "142  IBD:2015 technology forecasts: Wearable techno...            0   \n",
       "\n",
       "     retweet_num  like_num                Date  \\\n",
       "75             0         2 2015-01-01 17:51:55   \n",
       "111            0         1 2015-01-01 16:12:39   \n",
       "120            0         2 2015-01-01 15:53:06   \n",
       "139            0         1 2015-01-01 14:32:51   \n",
       "142            0         3 2015-01-01 14:31:20   \n",
       "\n",
       "                                       Processed_Tweet  \\\n",
       "75   RT Apple products are getting harder to use, s...   \n",
       "111              Gappy New Year!  http://goo.gl/RkXfHT   \n",
       "120       3 That Crushed In 2014  http://goo.gl/t3eX4u   \n",
       "139  Key Tech Highlights Of 2014 http://investcorre...   \n",
       "142  IBD:2015 technology forecasts: Wearable techno...   \n",
       "\n",
       "                                          vader_scores  \n",
       "75   {'neg': 0.0, 'neu': 0.916, 'pos': 0.084, 'comp...  \n",
       "111  {'neg': 0.0, 'neu': 1.0, 'pos': 0.0, 'compound...  \n",
       "120  {'neg': 0.412, 'neu': 0.588, 'pos': 0.0, 'comp...  \n",
       "139  {'neg': 0.0, 'neu': 1.0, 'pos': 0.0, 'compound...  \n",
       "142  {'neg': 0.0, 'neu': 0.776, 'pos': 0.224, 'comp...  "
      ]
     },
     "execution_count": 78,
     "metadata": {},
     "output_type": "execute_result"
    }
   ],
   "source": [
    "dados_tweet_company1['vader_scores']  = None\n",
    "dados_tweet_company1['vader_scores'] = dados_tweet_company1.Processed_Tweet.apply(lambda tweet : sid.polarity_scores(tweet))\n",
    "dados_tweet_company1.head()"
   ]
  },
  {
   "cell_type": "code",
   "execution_count": 79,
   "metadata": {},
   "outputs": [
    {
     "data": {
      "text/html": [
       "<div>\n",
       "<style scoped>\n",
       "    .dataframe tbody tr th:only-of-type {\n",
       "        vertical-align: middle;\n",
       "    }\n",
       "\n",
       "    .dataframe tbody tr th {\n",
       "        vertical-align: top;\n",
       "    }\n",
       "\n",
       "    .dataframe thead th {\n",
       "        text-align: right;\n",
       "    }\n",
       "</style>\n",
       "<table border=\"1\" class=\"dataframe\">\n",
       "  <thead>\n",
       "    <tr style=\"text-align: right;\">\n",
       "      <th></th>\n",
       "      <th>company_name</th>\n",
       "      <th>writer</th>\n",
       "      <th>post_date</th>\n",
       "      <th>body</th>\n",
       "      <th>comment_num</th>\n",
       "      <th>retweet_num</th>\n",
       "      <th>like_num</th>\n",
       "      <th>Date</th>\n",
       "      <th>Processed_Tweet</th>\n",
       "      <th>vader_scores</th>\n",
       "      <th>compound</th>\n",
       "    </tr>\n",
       "  </thead>\n",
       "  <tbody>\n",
       "    <tr>\n",
       "      <th>75</th>\n",
       "      <td>Microsoft</td>\n",
       "      <td>LongbetCapital</td>\n",
       "      <td>1420145515</td>\n",
       "      <td>RT @theinformation: Apple products are getting...</td>\n",
       "      <td>0</td>\n",
       "      <td>0</td>\n",
       "      <td>2</td>\n",
       "      <td>2015-01-01 17:51:55</td>\n",
       "      <td>RT Apple products are getting harder to use, s...</td>\n",
       "      <td>{'neg': 0.0, 'neu': 0.916, 'pos': 0.084, 'comp...</td>\n",
       "      <td>0.0258</td>\n",
       "    </tr>\n",
       "    <tr>\n",
       "      <th>111</th>\n",
       "      <td>Microsoft</td>\n",
       "      <td>TalkMarkets</td>\n",
       "      <td>1420139559</td>\n",
       "      <td>Gappy New Year! $SPY $DIA $IWM $INTC $MSFT $AA...</td>\n",
       "      <td>0</td>\n",
       "      <td>0</td>\n",
       "      <td>1</td>\n",
       "      <td>2015-01-01 16:12:39</td>\n",
       "      <td>Gappy New Year!  http://goo.gl/RkXfHT</td>\n",
       "      <td>{'neg': 0.0, 'neu': 1.0, 'pos': 0.0, 'compound...</td>\n",
       "      <td>0.0000</td>\n",
       "    </tr>\n",
       "    <tr>\n",
       "      <th>120</th>\n",
       "      <td>Microsoft</td>\n",
       "      <td>TalkMarkets</td>\n",
       "      <td>1420138386</td>\n",
       "      <td>3 #Technology #Stocks That Crushed #Apple In 2...</td>\n",
       "      <td>0</td>\n",
       "      <td>0</td>\n",
       "      <td>2</td>\n",
       "      <td>2015-01-01 15:53:06</td>\n",
       "      <td>3 That Crushed In 2014  http://goo.gl/t3eX4u</td>\n",
       "      <td>{'neg': 0.412, 'neu': 0.588, 'pos': 0.0, 'comp...</td>\n",
       "      <td>-0.4215</td>\n",
       "    </tr>\n",
       "    <tr>\n",
       "      <th>139</th>\n",
       "      <td>Microsoft</td>\n",
       "      <td>investcorrectly</td>\n",
       "      <td>1420133571</td>\n",
       "      <td>Key Tech Highlights Of 2014 $AAPL $BBRY $BB $M...</td>\n",
       "      <td>0</td>\n",
       "      <td>0</td>\n",
       "      <td>1</td>\n",
       "      <td>2015-01-01 14:32:51</td>\n",
       "      <td>Key Tech Highlights Of 2014 http://investcorre...</td>\n",
       "      <td>{'neg': 0.0, 'neu': 1.0, 'pos': 0.0, 'compound...</td>\n",
       "      <td>0.0000</td>\n",
       "    </tr>\n",
       "    <tr>\n",
       "      <th>142</th>\n",
       "      <td>Microsoft</td>\n",
       "      <td>SwingTradeAlert</td>\n",
       "      <td>1420133480</td>\n",
       "      <td>IBD:2015 technology forecasts: Wearable techno...</td>\n",
       "      <td>0</td>\n",
       "      <td>0</td>\n",
       "      <td>3</td>\n",
       "      <td>2015-01-01 14:31:20</td>\n",
       "      <td>IBD:2015 technology forecasts: Wearable techno...</td>\n",
       "      <td>{'neg': 0.0, 'neu': 0.776, 'pos': 0.224, 'comp...</td>\n",
       "      <td>0.3818</td>\n",
       "    </tr>\n",
       "  </tbody>\n",
       "</table>\n",
       "</div>"
      ],
      "text/plain": [
       "    company_name           writer   post_date  \\\n",
       "75     Microsoft   LongbetCapital  1420145515   \n",
       "111    Microsoft      TalkMarkets  1420139559   \n",
       "120    Microsoft      TalkMarkets  1420138386   \n",
       "139    Microsoft  investcorrectly  1420133571   \n",
       "142    Microsoft  SwingTradeAlert  1420133480   \n",
       "\n",
       "                                                  body  comment_num  \\\n",
       "75   RT @theinformation: Apple products are getting...            0   \n",
       "111  Gappy New Year! $SPY $DIA $IWM $INTC $MSFT $AA...            0   \n",
       "120  3 #Technology #Stocks That Crushed #Apple In 2...            0   \n",
       "139  Key Tech Highlights Of 2014 $AAPL $BBRY $BB $M...            0   \n",
       "142  IBD:2015 technology forecasts: Wearable techno...            0   \n",
       "\n",
       "     retweet_num  like_num                Date  \\\n",
       "75             0         2 2015-01-01 17:51:55   \n",
       "111            0         1 2015-01-01 16:12:39   \n",
       "120            0         2 2015-01-01 15:53:06   \n",
       "139            0         1 2015-01-01 14:32:51   \n",
       "142            0         3 2015-01-01 14:31:20   \n",
       "\n",
       "                                       Processed_Tweet  \\\n",
       "75   RT Apple products are getting harder to use, s...   \n",
       "111              Gappy New Year!  http://goo.gl/RkXfHT   \n",
       "120       3 That Crushed In 2014  http://goo.gl/t3eX4u   \n",
       "139  Key Tech Highlights Of 2014 http://investcorre...   \n",
       "142  IBD:2015 technology forecasts: Wearable techno...   \n",
       "\n",
       "                                          vader_scores  compound  \n",
       "75   {'neg': 0.0, 'neu': 0.916, 'pos': 0.084, 'comp...    0.0258  \n",
       "111  {'neg': 0.0, 'neu': 1.0, 'pos': 0.0, 'compound...    0.0000  \n",
       "120  {'neg': 0.412, 'neu': 0.588, 'pos': 0.0, 'comp...   -0.4215  \n",
       "139  {'neg': 0.0, 'neu': 1.0, 'pos': 0.0, 'compound...    0.0000  \n",
       "142  {'neg': 0.0, 'neu': 0.776, 'pos': 0.224, 'comp...    0.3818  "
      ]
     },
     "execution_count": 79,
     "metadata": {},
     "output_type": "execute_result"
    }
   ],
   "source": [
    "# separar os valores do compound - vamos uas-lo para determinar os lbels dos tweets pos/beg\n",
    "dados_tweet_company1['compound']  = dados_tweet_company1['vader_scores'].apply(lambda score_dict: score_dict['compound'])\n",
    "dados_tweet_company1.head()"
   ]
  },
  {
   "cell_type": "code",
   "execution_count": 80,
   "metadata": {},
   "outputs": [
    {
     "data": {
      "text/html": [
       "<div>\n",
       "<style scoped>\n",
       "    .dataframe tbody tr th:only-of-type {\n",
       "        vertical-align: middle;\n",
       "    }\n",
       "\n",
       "    .dataframe tbody tr th {\n",
       "        vertical-align: top;\n",
       "    }\n",
       "\n",
       "    .dataframe thead th {\n",
       "        text-align: right;\n",
       "    }\n",
       "</style>\n",
       "<table border=\"1\" class=\"dataframe\">\n",
       "  <thead>\n",
       "    <tr style=\"text-align: right;\">\n",
       "      <th></th>\n",
       "      <th>company_name</th>\n",
       "      <th>writer</th>\n",
       "      <th>post_date</th>\n",
       "      <th>body</th>\n",
       "      <th>comment_num</th>\n",
       "      <th>retweet_num</th>\n",
       "      <th>like_num</th>\n",
       "      <th>Date</th>\n",
       "      <th>Processed_Tweet</th>\n",
       "      <th>vader_scores</th>\n",
       "      <th>compound</th>\n",
       "      <th>label</th>\n",
       "    </tr>\n",
       "  </thead>\n",
       "  <tbody>\n",
       "    <tr>\n",
       "      <th>75</th>\n",
       "      <td>Microsoft</td>\n",
       "      <td>LongbetCapital</td>\n",
       "      <td>1420145515</td>\n",
       "      <td>RT @theinformation: Apple products are getting...</td>\n",
       "      <td>0</td>\n",
       "      <td>0</td>\n",
       "      <td>2</td>\n",
       "      <td>2015-01-01 17:51:55</td>\n",
       "      <td>RT Apple products are getting harder to use, s...</td>\n",
       "      <td>{'neg': 0.0, 'neu': 0.916, 'pos': 0.084, 'comp...</td>\n",
       "      <td>0.0258</td>\n",
       "      <td>pos</td>\n",
       "    </tr>\n",
       "    <tr>\n",
       "      <th>111</th>\n",
       "      <td>Microsoft</td>\n",
       "      <td>TalkMarkets</td>\n",
       "      <td>1420139559</td>\n",
       "      <td>Gappy New Year! $SPY $DIA $IWM $INTC $MSFT $AA...</td>\n",
       "      <td>0</td>\n",
       "      <td>0</td>\n",
       "      <td>1</td>\n",
       "      <td>2015-01-01 16:12:39</td>\n",
       "      <td>Gappy New Year!  http://goo.gl/RkXfHT</td>\n",
       "      <td>{'neg': 0.0, 'neu': 1.0, 'pos': 0.0, 'compound...</td>\n",
       "      <td>0.0000</td>\n",
       "      <td>neu</td>\n",
       "    </tr>\n",
       "    <tr>\n",
       "      <th>120</th>\n",
       "      <td>Microsoft</td>\n",
       "      <td>TalkMarkets</td>\n",
       "      <td>1420138386</td>\n",
       "      <td>3 #Technology #Stocks That Crushed #Apple In 2...</td>\n",
       "      <td>0</td>\n",
       "      <td>0</td>\n",
       "      <td>2</td>\n",
       "      <td>2015-01-01 15:53:06</td>\n",
       "      <td>3 That Crushed In 2014  http://goo.gl/t3eX4u</td>\n",
       "      <td>{'neg': 0.412, 'neu': 0.588, 'pos': 0.0, 'comp...</td>\n",
       "      <td>-0.4215</td>\n",
       "      <td>neg</td>\n",
       "    </tr>\n",
       "    <tr>\n",
       "      <th>139</th>\n",
       "      <td>Microsoft</td>\n",
       "      <td>investcorrectly</td>\n",
       "      <td>1420133571</td>\n",
       "      <td>Key Tech Highlights Of 2014 $AAPL $BBRY $BB $M...</td>\n",
       "      <td>0</td>\n",
       "      <td>0</td>\n",
       "      <td>1</td>\n",
       "      <td>2015-01-01 14:32:51</td>\n",
       "      <td>Key Tech Highlights Of 2014 http://investcorre...</td>\n",
       "      <td>{'neg': 0.0, 'neu': 1.0, 'pos': 0.0, 'compound...</td>\n",
       "      <td>0.0000</td>\n",
       "      <td>neu</td>\n",
       "    </tr>\n",
       "    <tr>\n",
       "      <th>142</th>\n",
       "      <td>Microsoft</td>\n",
       "      <td>SwingTradeAlert</td>\n",
       "      <td>1420133480</td>\n",
       "      <td>IBD:2015 technology forecasts: Wearable techno...</td>\n",
       "      <td>0</td>\n",
       "      <td>0</td>\n",
       "      <td>3</td>\n",
       "      <td>2015-01-01 14:31:20</td>\n",
       "      <td>IBD:2015 technology forecasts: Wearable techno...</td>\n",
       "      <td>{'neg': 0.0, 'neu': 0.776, 'pos': 0.224, 'comp...</td>\n",
       "      <td>0.3818</td>\n",
       "      <td>pos</td>\n",
       "    </tr>\n",
       "  </tbody>\n",
       "</table>\n",
       "</div>"
      ],
      "text/plain": [
       "    company_name           writer   post_date  \\\n",
       "75     Microsoft   LongbetCapital  1420145515   \n",
       "111    Microsoft      TalkMarkets  1420139559   \n",
       "120    Microsoft      TalkMarkets  1420138386   \n",
       "139    Microsoft  investcorrectly  1420133571   \n",
       "142    Microsoft  SwingTradeAlert  1420133480   \n",
       "\n",
       "                                                  body  comment_num  \\\n",
       "75   RT @theinformation: Apple products are getting...            0   \n",
       "111  Gappy New Year! $SPY $DIA $IWM $INTC $MSFT $AA...            0   \n",
       "120  3 #Technology #Stocks That Crushed #Apple In 2...            0   \n",
       "139  Key Tech Highlights Of 2014 $AAPL $BBRY $BB $M...            0   \n",
       "142  IBD:2015 technology forecasts: Wearable techno...            0   \n",
       "\n",
       "     retweet_num  like_num                Date  \\\n",
       "75             0         2 2015-01-01 17:51:55   \n",
       "111            0         1 2015-01-01 16:12:39   \n",
       "120            0         2 2015-01-01 15:53:06   \n",
       "139            0         1 2015-01-01 14:32:51   \n",
       "142            0         3 2015-01-01 14:31:20   \n",
       "\n",
       "                                       Processed_Tweet  \\\n",
       "75   RT Apple products are getting harder to use, s...   \n",
       "111              Gappy New Year!  http://goo.gl/RkXfHT   \n",
       "120       3 That Crushed In 2014  http://goo.gl/t3eX4u   \n",
       "139  Key Tech Highlights Of 2014 http://investcorre...   \n",
       "142  IBD:2015 technology forecasts: Wearable techno...   \n",
       "\n",
       "                                          vader_scores  compound label  \n",
       "75   {'neg': 0.0, 'neu': 0.916, 'pos': 0.084, 'comp...    0.0258   pos  \n",
       "111  {'neg': 0.0, 'neu': 1.0, 'pos': 0.0, 'compound...    0.0000   neu  \n",
       "120  {'neg': 0.412, 'neu': 0.588, 'pos': 0.0, 'comp...   -0.4215   neg  \n",
       "139  {'neg': 0.0, 'neu': 1.0, 'pos': 0.0, 'compound...    0.0000   neu  \n",
       "142  {'neg': 0.0, 'neu': 0.776, 'pos': 0.224, 'comp...    0.3818   pos  "
      ]
     },
     "execution_count": 80,
     "metadata": {},
     "output_type": "execute_result"
    }
   ],
   "source": [
    "# definindo os labels usando o compund value como referenecia\n",
    "def labels(value):\n",
    "    if value == 0:\n",
    "        return 'neu'\n",
    "    elif value > 0:\n",
    "        return 'pos'\n",
    "    elif value < 0:\n",
    "        return 'neg'\n",
    "    \n",
    "dados_tweet_company1['label']  = dados_tweet_company1['compound'].apply(lambda value: labels(value))\n",
    "dados_tweet_company1.head()"
   ]
  },
  {
   "cell_type": "code",
   "execution_count": 81,
   "metadata": {},
   "outputs": [
    {
     "data": {
      "text/plain": [
       "neu    28799\n",
       "pos    20881\n",
       "neg     7291\n",
       "Name: label, dtype: int64"
      ]
     },
     "execution_count": 81,
     "metadata": {},
     "output_type": "execute_result"
    }
   ],
   "source": [
    "dados_tweet_company1.label.value_counts()"
   ]
  },
  {
   "cell_type": "markdown",
   "metadata": {},
   "source": [
    "## Dados para ML\n",
    "* Processed_Tweet - feature\n",
    "* Label - target"
   ]
  },
  {
   "cell_type": "code",
   "execution_count": 82,
   "metadata": {},
   "outputs": [
    {
     "data": {
      "text/html": [
       "<div>\n",
       "<style scoped>\n",
       "    .dataframe tbody tr th:only-of-type {\n",
       "        vertical-align: middle;\n",
       "    }\n",
       "\n",
       "    .dataframe tbody tr th {\n",
       "        vertical-align: top;\n",
       "    }\n",
       "\n",
       "    .dataframe thead th {\n",
       "        text-align: right;\n",
       "    }\n",
       "</style>\n",
       "<table border=\"1\" class=\"dataframe\">\n",
       "  <thead>\n",
       "    <tr style=\"text-align: right;\">\n",
       "      <th></th>\n",
       "      <th>Processed_Tweet</th>\n",
       "      <th>label</th>\n",
       "    </tr>\n",
       "  </thead>\n",
       "  <tbody>\n",
       "    <tr>\n",
       "      <th>75</th>\n",
       "      <td>RT Apple products are getting harder to use, s...</td>\n",
       "      <td>pos</td>\n",
       "    </tr>\n",
       "    <tr>\n",
       "      <th>111</th>\n",
       "      <td>Gappy New Year!  http://goo.gl/RkXfHT</td>\n",
       "      <td>neu</td>\n",
       "    </tr>\n",
       "    <tr>\n",
       "      <th>120</th>\n",
       "      <td>3 That Crushed In 2014  http://goo.gl/t3eX4u</td>\n",
       "      <td>neg</td>\n",
       "    </tr>\n",
       "    <tr>\n",
       "      <th>139</th>\n",
       "      <td>Key Tech Highlights Of 2014 http://investcorre...</td>\n",
       "      <td>neu</td>\n",
       "    </tr>\n",
       "    <tr>\n",
       "      <th>142</th>\n",
       "      <td>IBD:2015 technology forecasts: Wearable techno...</td>\n",
       "      <td>pos</td>\n",
       "    </tr>\n",
       "  </tbody>\n",
       "</table>\n",
       "</div>"
      ],
      "text/plain": [
       "                                       Processed_Tweet label\n",
       "75   RT Apple products are getting harder to use, s...   pos\n",
       "111              Gappy New Year!  http://goo.gl/RkXfHT   neu\n",
       "120       3 That Crushed In 2014  http://goo.gl/t3eX4u   neg\n",
       "139  Key Tech Highlights Of 2014 http://investcorre...   neu\n",
       "142  IBD:2015 technology forecasts: Wearable techno...   pos"
      ]
     },
     "execution_count": 82,
     "metadata": {},
     "output_type": "execute_result"
    }
   ],
   "source": [
    "# separando os valores para a machine learning\n",
    "dados = dados_tweet_company1[['Processed_Tweet','label']]\n",
    "dados.head()"
   ]
  },
  {
   "cell_type": "markdown",
   "metadata": {},
   "source": [
    "## Balanceando Dados"
   ]
  },
  {
   "cell_type": "code",
   "execution_count": 83,
   "metadata": {},
   "outputs": [
    {
     "data": {
      "text/plain": [
       "neu    28799\n",
       "pos    20881\n",
       "neg     7291\n",
       "Name: label, dtype: int64"
      ]
     },
     "execution_count": 83,
     "metadata": {},
     "output_type": "execute_result"
    }
   ],
   "source": [
    "dados.label.value_counts()"
   ]
  },
  {
   "cell_type": "code",
   "execution_count": 84,
   "metadata": {},
   "outputs": [
    {
     "name": "stdout",
     "output_type": "stream",
     "text": [
      "Tamanho POS: 20881\n",
      "Tamanho NEU: 28799\n",
      "Tamanho NEG: 7291\n",
      "####################################################################################################\n",
      "Tamanhos:  [20881, 28799, 7291]\n",
      "####################################################################################################\n",
      "7291\n"
     ]
    }
   ],
   "source": [
    "# filtrar dados por fase\n",
    "dataset_pos = dados[dados['label']=='pos']\n",
    "dataset_neu = dados[dados['label']=='neu']\n",
    "dataset_neg = dados[dados['label']=='neg']\n",
    "\n",
    "print(f'Tamanho POS: {len(dataset_pos)}')\n",
    "print(f'Tamanho NEU: {len(dataset_neu)}')\n",
    "print(f'Tamanho NEG: {len(dataset_neg)}')\n",
    "\n",
    "print('#'*100)\n",
    "dataset_tamanhos = [len(dataset_pos),len(dataset_neu),len(dataset_neg)]\n",
    "print('Tamanhos: ',dataset_tamanhos)\n",
    "print('#'*100)\n",
    "\n",
    "tamanho_min = min(dataset_tamanhos)\n",
    "print(tamanho_min)"
   ]
  },
  {
   "cell_type": "code",
   "execution_count": 85,
   "metadata": {},
   "outputs": [],
   "source": [
    "data_a = dataset_pos.iloc[:tamanho_min-1].copy()\n",
    "data_b = dataset_neu.iloc[:tamanho_min-1].copy()\n",
    "data_c = dataset_neg.iloc[:tamanho_min-1].copy()\n",
    "\n",
    "frames = [data_a, data_b,data_c]\n",
    "\n",
    "df_data = pd.concat(frames)"
   ]
  },
  {
   "cell_type": "code",
   "execution_count": 86,
   "metadata": {},
   "outputs": [
    {
     "name": "stdout",
     "output_type": "stream",
     "text": [
      "(21870, 2)\n"
     ]
    },
    {
     "data": {
      "text/html": [
       "<div>\n",
       "<style scoped>\n",
       "    .dataframe tbody tr th:only-of-type {\n",
       "        vertical-align: middle;\n",
       "    }\n",
       "\n",
       "    .dataframe tbody tr th {\n",
       "        vertical-align: top;\n",
       "    }\n",
       "\n",
       "    .dataframe thead th {\n",
       "        text-align: right;\n",
       "    }\n",
       "</style>\n",
       "<table border=\"1\" class=\"dataframe\">\n",
       "  <thead>\n",
       "    <tr style=\"text-align: right;\">\n",
       "      <th></th>\n",
       "      <th>Processed_Tweet</th>\n",
       "      <th>label</th>\n",
       "    </tr>\n",
       "  </thead>\n",
       "  <tbody>\n",
       "    <tr>\n",
       "      <th>75</th>\n",
       "      <td>RT Apple products are getting harder to use, s...</td>\n",
       "      <td>pos</td>\n",
       "    </tr>\n",
       "    <tr>\n",
       "      <th>142</th>\n",
       "      <td>IBD:2015 technology forecasts: Wearable techno...</td>\n",
       "      <td>pos</td>\n",
       "    </tr>\n",
       "    <tr>\n",
       "      <th>161</th>\n",
       "      <td>2015 technology forecasts: Wearable technology...</td>\n",
       "      <td>pos</td>\n",
       "    </tr>\n",
       "    <tr>\n",
       "      <th>171</th>\n",
       "      <td>2015 technology forecasts: Wearable technology...</td>\n",
       "      <td>pos</td>\n",
       "    </tr>\n",
       "    <tr>\n",
       "      <th>270</th>\n",
       "      <td>Intel: Windows 8.1 Smart TV Dongles Are Now Av...</td>\n",
       "      <td>pos</td>\n",
       "    </tr>\n",
       "  </tbody>\n",
       "</table>\n",
       "</div>"
      ],
      "text/plain": [
       "                                       Processed_Tweet label\n",
       "75   RT Apple products are getting harder to use, s...   pos\n",
       "142  IBD:2015 technology forecasts: Wearable techno...   pos\n",
       "161  2015 technology forecasts: Wearable technology...   pos\n",
       "171  2015 technology forecasts: Wearable technology...   pos\n",
       "270  Intel: Windows 8.1 Smart TV Dongles Are Now Av...   pos"
      ]
     },
     "execution_count": 86,
     "metadata": {},
     "output_type": "execute_result"
    }
   ],
   "source": [
    "print(df_data.shape)\n",
    "df_data.head()"
   ]
  },
  {
   "cell_type": "markdown",
   "metadata": {},
   "source": [
    "## Criando conjuntos de Treino e Teste"
   ]
  },
  {
   "cell_type": "code",
   "execution_count": 87,
   "metadata": {},
   "outputs": [],
   "source": [
    "datasetVariables_train, datasetVariables_test, datasetTarget_train, datasetTarget_test = train_test_split(df_data['Processed_Tweet'], df_data['label'], test_size=0.33, random_state=42)"
   ]
  },
  {
   "cell_type": "code",
   "execution_count": null,
   "metadata": {},
   "outputs": [],
   "source": []
  },
  {
   "cell_type": "markdown",
   "metadata": {},
   "source": [
    "## Vetorizando Tweets\n",
    "* Tokenizer - Tensorflow Keras"
   ]
  },
  {
   "cell_type": "code",
   "execution_count": 88,
   "metadata": {},
   "outputs": [
    {
     "name": "stdout",
     "output_type": "stream",
     "text": [
      "16845\n"
     ]
    }
   ],
   "source": [
    "tokenizer = Tokenizer(oov_token='<OOV>')\n",
    "tokenizer.fit_on_texts(datasetVariables_train)\n",
    "\n",
    "word_index = tokenizer.word_index\n",
    "print(len(word_index))"
   ]
  },
  {
   "cell_type": "code",
   "execution_count": 89,
   "metadata": {},
   "outputs": [
    {
     "name": "stdout",
     "output_type": "stream",
     "text": [
      "{'<OOV>': 1, 'http': 2, 'com': 3, 'the': 4, 'to': 5, 'in': 6, 'microsoft': 7, 'a': 8, 'is': 9, 'and': 10, 'for': 11, 'of': 12, 'on': 13, 'ly': 14, 'apple': 15, 'news': 16, 'us': 17, 'bit': 18, 'article': 19, 'rt': 20, 'tech': 21, 'p': 22, 'source': 23, 'seekingalpha': 24, 't': 25, 'it': 26, 'with': 27, 'be': 28, '10': 29, '2015': 30, 'hft': 31, 'x': 32, '00': 33, 'algos': 34, 'sigma': 35, 'crossfinder': 36, 'ats': 37, 'lx': 38, 'triggered': 39, 'name': 40, 'feed': 41, 'co': 42, 'this': 43, 'earnings': 44, 'stock': 45, 'sell': 46, 'google': 47, 'giants': 48, 'at': 49, 'new': 50, 'buy': 51, 'why': 52, 'stks': 53, 'compare': 54, 'windows': 55, 'up': 56, 'comparespreadbetting': 57, '20tech': 58, '20giants…': 59, 'are': 60, 'you': 61, 'market': 62, '…': 63, 'will': 64, 'stocks': 65, 'via': 66, 'that': 67, 'msft': 68, 'as': 69, 'i': 70, 'from': 71, '1lhpqkk': 72, '4': 73, 'tweets': 74, 'more': 75, 'nasdaq': 76, '1': 77, 'by': 78, 'vs': 79, 'not': 80, 'corporation': 81, 'our': 82, 'cloud': 83, 'gl': 84, 'goo': 85, 'has': 86, 'access': 87, '5': 88, 'day': 89, 'now': 90, 'top': 91, 'but': 92, 'your': 93, 'technology': 94, '3': 95, 'tickers…': 96, 'good': 97, 'investors': 98, 'one': 99, 'how': 100, 'dow': 101, 'utm': 102, 's': 103, 'https': 104, '2': 105, 'have': 106, 'f…': 107, 'what': 108, 'out': 109, 'my': 110, 'all': 111, '09': 112, 'high': 113, 'today': 114, 'could': 115, 'inc': 116, 'get': 117, 'big': 118, 'can': 119, 'down': 120, 'or': 121, 'amazon': 122, 'after': 123, 'its': 124, 'trading': 125, 'tickers': 126, 'advfn': 127, 'xref': 128, 'newsalerttweet': 129, 'adw': 130, '1126416…': 131, 'curated': 132, 'over': 133, 'like': 134, 'sales': 135, 'analysis': 136, 'mobile': 137, 'no': 138, 'twitter': 139, 'when': 140, 'morning': 141, 'aapl': 142, 'htm…': 143, 'growth': 144, '100': 145, 'ipad': 146, 'just': 147, 'next': 148, 'price': 149, 'tinyurl': 150, 'ahead': 151, 'html…': 152, 'so': 153, 'surface': 154, 'than': 155, 'great': 156, '50': 157, '7': 158, 'make': 159, 'u': 160, 'was': 161, 'most': 162, 'friends': 163, 'about': 164, 'if': 165, 'index': 166, 'views': 167, 'here': 168, 'see': 169, 'water': 170, 'business': 171, '15': 172, 'week': 173, 'assets': 174, 'xbox': 175, 'uk': 176, 'an': 177, '24': 178, 'pc': 179, 'buff': 180, '9': 181, '12': 182, 'they': 183, 'we': 184, 'huge': 185, 'tweaktown': 186, 'trade': 187, 'billion': 188, 'less': 189, 'time': 190, '0': 191, 'stay': 192, '11': 193, 'cityfalcon': 194, 'watchlists': 195, 'update': 196, 'should': 197, 'track': 198, 'android': 199, \"microsoft's\": 200, 'companies': 201, 'long': 202, 'still': 203, 'watchlist': 204, 'free': 205, \"it's\": 206, 'some': 207, 'off': 208, 'coming': 209, 'group': 210, 'cash': 211, 'app': 212, 'watch': 213, 'intel': 214, 'trend': 215, '20tracker…': 216, '12stocks': 217, 'do': 218, 'medium': 219, 'ticker': 220, 'phone': 221, 'monitor': 222, '08': 223, 'ow': 224, 'relevancy': 225, 'spam': 226, 'pick': 227, 'share': 228, \"apple's\": 229, 'only': 230, 'revenue': 231, '30': 232, 'into': 233, 'back': 234, 'shares': 235, 'last': 236, 'pro': 237, 'cut': 238, 'short': 239, 'may': 240, 'value': 241, '01': 242, 'year': 243, 'me': 244, 'these': 245, 'multiple': 246, 'iphone': 247, '07': 248, 'also': 249, 'search': 250, 'strong': 251, 'picks': 252, 'best': 253, 'open': 254, 'sony': 255, 'money': 256, 'worth': 257, 'penny': 258, '8': 259, 'php': 260, 'chart': 261, 'cap': 262, 'video': 263, 'bad': 264, 'yahoo': 265, 'm': 266, '6': 267, '20': 268, 'their': 269, 'does': 270, 'ways': 271, 'options': 272, 'gained': 273, 'tt': 274, 'campaign': 275, 'worst': 276, 'deal': 277, 'jobs': 278, 'critical': 279, 'quarter': 280, 'says': 281, 'report': 282, 'ift': 283, 'close': 284, 'since': 285, 'early': 286, 'low': 287, 'company': 288, 'amzn': 289, 'china': 290, 'dividend': 291, 'traders': 292, 'buying': 293, 'apples': 294, 'mac': 295, '19': 296, 'compared': 297, 'lower': 298, 'gain': 299, 'future': 300, 'cuts': 301, 'going': 302, 'before': 303, 'doing': 304, 'true': 305, 'read': 306, 'think': 307, 'check': 308, 'w': 309, '13': 310, 'tweet…': 311, 'much': 312, '1wbb89k': 313, 'loss': 314, 'office': 315, 'bz': 316, 'ih': 317, 'pid': 318, 'nmona': 319, 'apps': 320, \"don't\": 321, '25': 322, 'would': 323, 'first': 324, 'across': 325, 'support': 326, 'even': 327, 'take': 328, 'game': 329, 'beat': 330, '28': 331, 'other': 332, \"'s\": 333, 'pay': 334, 'active': 335, 'largest': 336, '2016': 337, 'look': 338, 'too': 339, 'again': 340, 'results': 341, 'dld': 342, 'nokia': 343, 'software': 344, 'blog': 345, 'users': 346, 'right': 347, 'looks': 348, 'really': 349, '02': 350, 'did': 351, 'story': 352, 'three': 353, 'profit': 354, 'weekly': 355, 'wars': 356, 'target': 357, 'guru': 358, 'hit': 359, 'net': 360, '114': 361, 'click': 362, 'tv': 363, 'facebook': 364, 'want': 365, '17': 366, '18': 367, 'record': 368, 'way': 369, 'smartphone': 370, 'guy': 371, 'play': 372, 'googl': 373, 'strategy': 374, 'nightmare': 375, 'weeks': 376, 'another': 377, 'go': 378, 'broke': 379, 'reality': 380, 'shareholders': 381, 'post': 382, 'exciting': 383, 'ios': 384, 'well': 385, 'easy': 386, 'problem': 387, 'move': 388, 'better': 389, 'html': 390, '14': 391, 'selling': 392, 'dlvr': 393, 'ansh…': 394, 'know': 395, 'holdings': 396, 'enterprise': 397, 'end': 398, '03': 399, 'ceo': 400, '42': 401, 'tablet': 402, 'review': 403, 'them': 404, 'potential': 405, 'acesss': 406, 'surprise': 407, 'tmf': 408, 'had': 409, 'street': 410, 'reports': 411, '04': 412, 'work': 413, 'latest': 414, 'volume': 415, 'higher': 416, 'ibm': 417, 'world': 418, 'gains': 419, 'major': 420, '16': 421, 'very': 422, 'were': 423, 'wall': 424, 'goina': 425, \"i'm\": 426, 'book': 427, 'data': 428, 'battle': 429, 'devices': 430, 'articles': 431, 'war': 432, 'biggest': 433, 'which': 434, 'years': 435, 'use': 436, 'fb': 437, '05': 438, 'tomorrow': 439, '500': 440, '21': 441, 'investing': 442, 'must': 443, '120': 444, 'continue': 445, 'industry': 446, 'dump': 447, 'call': 448, 'benzinga': 449, 'subscribers': 450, 'profits': 451, 'r': 452, 'there': 453, 'away': 454, 'been': 455, 'term': 456, 'miss': 457, 'daily': 458, '108': 459, 'financial': 460, 'calls': 461, 'playstation': 462, '200': 463, 'interesting': 464, '40': 465, 'might': 466, 'looking': 467, 'cboe': 468, 'fall': 469, 'run': 470, 'getting': 471, 'learnbonds': 472, 'markets': 473, 'myfinancialwisdom': 474, 'weak': 475, 'lost': 476, 'being': 477, '31': 478, 'among': 479, 'samsung': 480, 'internet': 481, 'things': 482, 'billions': 483, 'biloselhi': 484, 'list': 485, 'key': 486, 'stop': 487, 'website': 488, 'azure': 489, 'set': 490, 'services': 491, 'far': 492, 'yet': 493, 'past': 494, 'investcorrectly': 495, 'patent': 496, 'symbol': 497, 'makes': 498, 'who': 499, '06': 500, 'any': 501, 'bi': 502, '105': 503, '27': 504, 'five': 505, 'z': 506, 'hours': 507, 'am': 508, 'real': 509, 'alerts': 510, 'red': 511, 'analyst': 512, '46': 513, '29': 514, 'live': 515, 'smartphones': 516, 'aws': 517, 'phones': 518, 'wait': 519, 'release': 520, 'drop': 521, 'youtu': 522, \"doesn't\": 523, 'outlook': 524, '2014': 525, 'join': 526, 'hold': 527, 'trades': 528, 'drive': 529, \"here's\": 530, 'products': 531, '4835': 532, 'salesforce': 533, 'date': 534, 'event': 535, 'smart': 536, 'lose': 537, 'help': 538, 'hololens': 539, 'performance': 540, 'below': 541, 'forget': 542, 'nice': 543, 'goog': 544, 'debt': 545, 'seen': 546, 'based': 547, 'making': 548, 'd': 549, 'smq': 550, 'tc': 551, '1faizc0': 552, 'both': 553, '41': 554, 'missed': 555, '90': 556, 'os': 557, 'ps4': 558, 'aol': 559, '800': 560, 'need': 561, '26': 562, 'hedge': 563, 'ad': 564, 'quantpost': 565, 'own': 566, 'wsj': 567, 'yesterday': 568, 'icharttop': 569, 'pain': 570, 'q2': 571, 'two': 572, 'many': 573, 'corp': 574, 'bought': 575, 'soon': 576, '000': 577, 'view': 578, 'show': 579, '23': 580, 'block': 581, 'blackberry': 582, 'thing': 583, 'days': 584, 'digital': 585, 'april': 586, 'plans': 587, 'virtual': 588, 'ending': 589, 'improve': 590, 'invest': 591, 'against': 592, 'demand': 593, '47': 594, 'quarterly': 595, 'computing': 596, 'soc': 597, 'monday': 598, 'gaming': 599, 'web': 600, 'product': 601, 'shareholder': 602, 'storage': 603, 'others': 604, 'mkt': 605, 'global': 606, 'max': 607, 'full': 608, 'ever': 609, 'hp': 610, 'measureschart': 611, 'starbreakouts': 612, 'give': 613, 'start': 614, 'e': 615, 'come': 616, 'friday': 617, 'grow': 618, 'unlock': 619, 'green': 620, 'businesses': 621, '968': 622, 'games': 623, 'already': 624, 'v': 625, 'win': 626, 'cnb': 627, 'cx': 628, 'naenmo': 629, 'alert': 630, 'p46mnk2': 631, 'love': 632, 'seo': 633, 'box': 634, 'wrong': 635, 'rating': 636, \"today's\": 637, 'finance': 638, 'double': 639, 'change': 640, 'djn': 641, 'tablets': 642, 'pm': 643, 'interest': 644, 'old': 645, 'q4': 646, 'gets': 647, 'opportunity': 648, 'same': 649, 'inside': 650, 'million': 651, 'lot': 652, 'per': 653, 'become': 654, 'd56kh': 655, 'media': 656, 'valuation': 657, 'success': 658, 'sector': 659, 'risk': 660, 'n': 661, 'twitter…': 662, 'hard': 663, 'while': 664, 'people': 665, 'leads': 666, 'made': 667, 'using': 668, 'negative': 669, 'cnbc': 670, 'line': 671, 'seek': 672, 'under': 673, 'season': 674, 'upgrade': 675, 'put': 676, 'got': 677, 'never': 678, 'updates': 679, 'matter': 680, 'security': 681, 'through': 682, 'console': 683, 'months': 684, 'service': 685, 'changes': 686, 'said': 687, '55': 688, 'because': 689, 'lead': 690, 'd2hh9': 691, 'funds': 692, 'ready': 693, 'expected': 694, 'microsoft’s': 695, 'dollar': 696, 'winners': 697, 'likely': 698, 'status': 699, 'measures': 700, 'special': 701, 'store': 702, 'acquisition': 703, 'single': 704, 'wants': 705, '45': 706, 'y': 707, 'commented': 708, 'plan': 709, 'decline': 710, 'cortana': 711, \"can't\": 712, 'vr': 713, 'where': 714, 'case': 715, 'combined': 716, 'analyze': 717, 'then': 718, 'takes': 719, 'return': 720, 'without': 721, '116': 722, 'valuable': 723, 'sold': 724, 'est': 725, 'ie': 726, 'hate': 727, 'updated': 728, 'margin': 729, 'point': 730, 'investment': 731, '44': 732, 'expectations': 733, 'subscribe': 734, 'nadella': 735, 'futures': 736, 'part': 737, 'bullish': 738, 'mad': 739, 'yhoo': 740, 'beats': 741, 'trader': 742, 'opportunities': 743, '43': 744, 'releases': 745, 'continues': 746, 'focus': 747, 'job': 748, 'few': 749, 'edge': 750, 'launch': 751, 'rise': 752, 'thanks': 753, 'taking': 754, 'least': 755, 'management': 756, 'pressure': 757, 'steve': 758, 'loses': 759, 'alphabet': 760, '36': 761, 'team': 762, 'hardware': 763, 'happy': 764, 'jan': 765, 'eps': 766, 'sure': 767, 'moving': 768, 'weekend': 769, 'pre': 770, 'fire': 771, 'include': 772, 'gates': 773, 'thoughts': 774, 'ms': 775, 'spending': 776, 'dead': 777, 'actives': 778, 'keep': 779, 'microsofts': 780, 'device': 781, 'during': 782, 'fast': 783, 'st': 784, '22': 785, 'between': 786, 'brands': 787, 'id': 788, 'analysts': 789, 'due': 790, 'little': 791, '33': 792, 'tw…': 793, 'say': 794, 'puts': 795, 'alerted': 796, 'ipo': 797, 'drops': 798, 'amazing': 799, 'numbers': 800, 'computer': 801, 'tax': 802, 'solid': 803, 'pt': 804, 'above': 805, 'level': 806, 'his': 807, \"isn't\": 808, 'ballmer': 809, 'valuewalk': 810, 'mktw': 811, 'sign': 812, '35': 813, 'forecast': 814, 'charts': 815, 'breaking': 816, 'hurt': 817, 'highs': 818, 'ago': 819, 'buys': 820, 'second': 821, 'etf': 822, 'increases': 823, 'despite': 824, 'he': 825, 'upgrades': 826, 'browser': 827, 'iphones': 828, 'month': 829, 'explorer': 830, 'cutting': 831, 'aspx': 832, 'augmented': 833, 'serious': 834, 'rival': 835, 'watching': 836, 'life': 837, 'public': 838, 'shipments': 839, 'bonds': 840, 'research': 841, 'wow': 842, 'leading': 843, 'es': 844, 'layoffs': 845, 'capital': 846, 'calculate': 847, 'momentum': 848, 'shows': 849, 'revenues': 850, 'names': 851, 'investor': 852, 'oceans': 853, 'etc': 854, '265': 855, 'space': 856, 'cheap': 857, 'popular': 858, 'anyone': 859, 'announces': 860, 'boost': 861, 'holiday': 862, \"google's\": 863, 'etfs': 864, 'needs': 865, 'course': 866, 'holding': 867, 'trouble': 868, 'portfolio': 869, 'rally': 870, 'home': 871, 'hike': 872, 'large': 873, 'those': 874, 're': 875, 'statement': 876, 'corporate': 877, '49': 878, \"that's\": 879, 'october': 880, 'gross': 881, 'weakness': 882, 'deals': 883, 'seems': 884, 'maybe': 885, '48': 886, 'recent': 887, 'movers': 888, 'find': 889, 'ibdn': 890, 'uz': 891, 'position': 892, '60': 893, 'until': 894, 'barrons': 895, 'threat': 896, '“': 897, 'intc': 898, 'everyone': 899, 'fitbit': 900, 'algo': 901, 'prices': 902, 'rest': 903, 'talks': 904, 'recap': 905, 'acnv': 906, '34': 907, 'yes': 908, 'falling': 909, \"what's\": 910, '38': 911, 'percent': 912, 'siri': 913, '400': 914, 'lumia': 915, 'roundup': 916, 'behind': 917, 'becomes': 918, 'june': 919, 'blue': 920, 'excited': 921, 'ideas': 922, 'im': 923, 'costs': 924, 'avoid': 925, 'stocktwits': 926, \"didn't\": 927, 'write': 928, 'option': 929, 'rate': 930, '115': 931, 'action': 932, 'preview': 933, 'kill': 934, '–': 935, 'lots': 936, 'tough': 937, 'star': 938, 'gap': 939, 'lawsuit': 940, 'personal': 941, 'twap': 942, 'near': 943, 'sale': 944, 'overweight': 945, 'sees': 946, 'follow': 947, 'finally': 948, 'bet': 949, 'moves': 950, 'trends': 951, 'bill': 952, 'email': 953, '93': 954, 'attack': 955, 'shift': 956, 'slow': 957, 'amid': 958, 'asset': 959, 'growing': 960, 'b': 961, 'cnnmon': 962, 'fund': 963, 'flash': 964, 'power': 965, 'late': 966, 'something': 967, 'guidance': 968, 'total': 969, 'social': 970, 'catalyst': 971, 'q1': 972, 'announce': 973, 'ecosystem': 974, 'christmas': 975, '↓': 976, 'reporting': 977, 'stockaviator': 978, 'hot': 979, 'always': 980, 'crash': 981, 'woes': 982, 'credit': 983, 'bloom': 984, 'bg': 985, 'podcast': 986, \"won't\": 987, 'src': 988, 'surge': 989, '52': 990, 'important': 991, 'leaders': 992, 'c': 993, 'half': 994, 'q3': 995, '37': 996, 'broken': 997, 'downside': 998, 'platform': 999, '32': 1000, 'working': 1001, 'agree': 1002, 'misses': 1003, 'tuesday': 1004, 'alone': 1005, 'crush': 1006, 'p100': 1007, 'sp100': 1008, 'board': 1009, '80': 1010, 'massive': 1011, 'f': 1012, '106': 1013, 'drives': 1014, 'attacks': 1015, 'reason': 1016, 'add': 1017, 'qualcomm': 1018, 'attractive': 1019, 'q': 1020, 'bing': 1021, 'else': 1022, 'h': 1023, '39': 1024, 'falls': 1025, 'exclusive': 1026, '1h': 1027, 'strikes': 1028, 'correction': 1029, 'pr': 1030, 'technical': 1031, 'held': 1032, 'times': 1033, 'arm': 1034, 'available': 1035, '53': 1036, 'bring': 1037, 'comes': 1038, 'feb': 1039, 'mega': 1040, 'satya': 1041, 'bloomberg': 1042, 'wearables': 1043, 'push': 1044, 'lnkd': 1045, 'death': 1046, 'wwdc': 1047, 'bubble': 1048, 'crazy': 1049, 'trending': 1050, 'peak': 1051, 'problems': 1052, '58': 1053, 'caps': 1054, 'developers': 1055, 'trying': 1056, '56': 1057, 'following': 1058, 'fed': 1059, 'rs': 1060, 'offering': 1061, '2000': 1062, 'thought': 1063, 'firms': 1064, 'trk': 1065, 'face': 1066, '51': 1067, 'probably': 1068, 'thestreet': 1069, '54': 1070, 'retail': 1071, 'actually': 1072, 'cook': 1073, 'small': 1074, 'goldman': 1075, 'info': 1076, 'ads': 1077, 'significant': 1078, 'advertising': 1079, 'killing': 1080, 'such': 1081, 'rev': 1082, 'please': 1083, 'cierre': 1084, 'poised': 1085, 'bell': 1086, 'blogs': 1087, 'talking': 1088, '57': 1089, 'sec': 1090, 'solve': 1091, 'forbes': 1092, 'fun': 1093, 'ophirgottlieb': 1094, 'macs': 1095, 'battlefront': 1096, 'reach': 1097, 't…': 1098, 'every': 1099, 'rackspace': 1100, 'giving': 1101, 'dell': 1102, 'chip': 1103, 'hybrid': 1104, 'curse': 1105, '59': 1106, 'tim': 1107, 'online': 1108, '250': 1109, 'pamphletshop': 1110, '98': 1111, 'promo': 1112, 'sells': 1113, 'bid': 1114, 'watson': 1115, 'japan': 1116, 'ownership': 1117, 'running': 1118, 'rates': 1119, 'tool': 1120, 'around': 1121, 'yield': 1122, 'car': 1123, 'hands': 1124, 'limited': 1125, 'model': 1126, 'greece': 1127, 'talk': 1128, 'bear': 1129, 'let': 1130, 'warning': 1131, 'eu': 1132, 'fight': 1133, '75': 1134, 'content': 1135, 'laptop': 1136, \"barron's\": 1137, 'hits': 1138, 'steals': 1139, 'bearish': 1140, 'whoa': 1141, 'positioned': 1142, 'july': 1143, 'systems': 1144, 'lows': 1145, 'turn': 1146, 'stuff': 1147, 'music': 1148, 'otcbb': 1149, 'income': 1150, 'mean': 1151, 'tonight': 1152, 'pcs': 1153, 'plus': 1154, 'boom': 1155, 'twitterbreaking…': 1156, 'night': 1157, 'oil': 1158, 'powered': 1159, 'features': 1160, 'antitrust': 1161, 'o': 1162, '”': 1163, 'chinese': 1164, 'mediacontentstory': 1165, 'buybacks': 1166, 'lol': 1167, 'estimates': 1168, 'equity': 1169, 'pacific': 1170, 'copying': 1171, 'disaster': 1172, 'strike': 1173, 'everything': 1174, \"there's\": 1175, \"let's\": 1176, 'commercial': 1177, \"they're\": 1178, 'leave': 1179, 'ugly': 1180, 'competitive': 1181, 'download': 1182, 'ah': 1183, 'trial': 1184, 'remember': 1185, 'saw': 1186, 'investorplace': 1187, 'started': 1188, 'break': 1189, 'killed': 1190, 'foxconn': 1191, 'launches': 1192, 'offer': 1193, 'rumors': 1194, 'charge': 1195, 'failure': 1196, 'disappoint': 1197, 'innovation': 1198, 'rated': 1199, 'fear': 1200, 'fresh': 1201, 'losing': 1202, 'rising': 1203, 'bounce': 1204, 'notebook': 1205, 'panic': 1206, 'reported': 1207, 'buyout': 1208, 'minutes': 1209, 'idea': 1210, '⇚': 1211, 'expect': 1212, 'correct': 1213, 'morgan': 1214, 'lowered': 1215, 'insider': 1216, 'highest': 1217, 'chance': 1218, 'points': 1219, 'warns': 1220, 'fell': 1221, 'engine': 1222, 'once': 1223, 'losses': 1224, 'vulnerable': 1225, 'truly': 1226, 'nyti': 1227, 'cisco': 1228, 'user': 1229, 'sense': 1230, 'consumer': 1231, 'vision': 1232, 'ln': 1233, 'nicohof1': 1234, 'beneficial': 1235, 'initiate': 1236, 'competition': 1237, 'margins': 1238, 'entry': 1239, 'indicate': 1240, 'room': 1241, '124': 1242, 'care': 1243, 'twtr': 1244, 'halo': 1245, 'doomed': 1246, 'posted': 1247, 'fy': 1248, 'snapshot': 1249, 'announced': 1250, 'control': 1251, 'profitable': 1252, '2015…': 1253, \"zynga's\": 1254, 'opinions': 1255, 'bond': 1256, 'replacement': 1257, 'default': 1258, 'buyers': 1259, '118': 1260, 'creating': 1261, 'subscription': 1262, 'firm': 1263, 'side': 1264, 'biz': 1265, 'brand': 1266, 'sentiment': 1267, 'beating': 1268, 'guide': 1269, 'inclusion': 1270, 'doubt': 1271, 'amigobulls': 1272, 'bull': 1273, 'reasons': 1274, 'adds': 1275, 'upside': 1276, 'hubs': 1277, 'project': 1278, 'feature': 1279, 'added': 1280, 'thinking': 1281, 'hope': 1282, 'intelligence': 1283, 'priced': 1284, 'macbook': 1285, 'head': 1286, 'oracle': 1287, 'putting': 1288, 'properties1': 1289, 'average': 1290, 'powerful': 1291, 'flow': 1292, 'mini': 1293, 'losers': 1294, \"cramer's\": 1295, 'seeing': 1296, 'longer': 1297, 'word': 1298, 'almost': 1299, 'done': 1300, 'oh': 1301, 'idc': 1302, 'different': 1303, 'businessinsider': 1304, 'starbucks': 1305, 'black': 1306, \"world's\": 1307, 'customers': 1308, 'link': 1309, 'cyanogen': 1310, '—': 1311, 'onforb': 1312, 'number': 1313, 'dominate': 1314, 'calendar': 1315, 'core': 1316, 'gave': 1317, 'theverge': 1318, 'cool': 1319, 'sorry': 1320, '220': 1321, 'aaplwebsite': 1322, 'thursday': 1323, 'bigger': 1324, 'tref': 1325, 'crest': 1326, 'possible': 1327, '66': 1328, '245': 1329, 'display': 1330, 'nothing': 1331, 'saying': 1332, 'caesars': 1333, 'poor': 1334, 'save': 1335, 'though': 1336, 'strength': 1337, 'seriously': 1338, 'january': 1339, 'bust': 1340, 'september': 1341, 'kills': 1342, 'upcoming': 1343, 'light': 1344, 'closing': 1345, 'believe': 1346, 'goes': 1347, '62': 1348, 'blocking': 1349, 'sites': 1350, 'round': 1351, 'called': 1352, 'analytics': 1353, 'overseas': 1354, \"week's\": 1355, 'gamestop': 1356, '70': 1357, 'gear': 1358, 'breakout': 1359, 'xiaomi': 1360, 'trefis': 1361, \"corporation's\": 1362, 'aspx…': 1363, 'system': 1364, 'december': 1365, 'took': 1366, 'trillion': 1367, 'fix': 1368, 'final': 1369, 'secure': 1370, 'outperform': 1371, 'shake': 1372, '103': 1373, 'driving': 1374, 'winning': 1375, 'mt': 1376, 'en': 1377, 'transition': 1378, 'cross': 1379, 'downgrades': 1380, 'ill': 1381, 'currency': 1382, 'selloff': 1383, 'banked': 1384, 'blogspot': 1385, 'balance': 1386, 'happened': 1387, '65': 1388, 'jumps': 1389, 'issues': 1390, '2nd': 1391, 'assistant': 1392, 'targets': 1393, 'size': 1394, '102': 1395, 'later': 1396, '77': 1397, 'europe': 1398, 'platinum': 1399, 'l': 1400, 'version': 1401, 'mixed': 1402, 'original': 1403, 'left': 1404, 'spreads': 1405, 'positive': 1406, 'hackers': 1407, 'pretty': 1408, 'ytd': 1409, 'network': 1410, 'fool': 1411, 'changing': 1412, 'pennystocksuperstar': 1413, 'jump': 1414, 'impact': 1415, 'spy': 1416, 'protection': 1417, '•': 1418, 'patch': 1419, 'employees': 1420, 'worry': 1421, 'heading': 1422, 'enters': 1423, 'youtube': 1424, 'four': 1425, 'partnership': 1426, 'artificial': 1427, 'processing': 1428, 'driven': 1429, 'leaked': 1430, 'breaks': 1431, 'volatility': 1432, 'integration': 1433, 'decisions': 1434, 'swing': 1435, 'billionaire': 1436, 'tried': 1437, 'linux': 1438, 'traded': 1439, 'offers': 1440, 'equipped': 1441, 'official': 1442, 'screen': 1443, '110': 1444, \"you're\": 1445, 'benefit': 1446, 'upgraded': 1447, 'killer': 1448, 'exec': 1449, 'faster': 1450, 'nearly': 1451, 'starting': 1452, 'dear': 1453, 'usage': 1454, 'collapse': 1455, 'undervalued': 1456, 'crm': 1457, 'create': 1458, 'mark': 1459, 'test': 1460, 'giant': 1461, 'bpts': 1462, 'premarket': 1463, 'age': 1464, 'maximum': 1465, 'advanced': 1466, 'reut': 1467, '370': 1468, 'except': 1469, 'aapl…': 1470, '5004az': 1471, 'alibaba': 1472, 'mail': 1473, 'shorts': 1474, 'further': 1475, 'remains': 1476, 'enough': 1477, 'increased': 1478, 'iot': 1479, 'throw': 1480, 'exit': 1481, 'having': 1482, 'partner': 1483, 'reiterated': 1484, 'india': 1485, 'de': 1486, '67': 1487, 'employee': 1488, 'someone': 1489, 'restructuring': 1490, 'man': 1491, 'turns': 1492, '11zifop': 1493, 'stocknomics': 1494, 'beta': 1495, 'catch': 1496, 'netflix': 1497, 'techs': 1498, 'bank': 1499, 'amd': 1500, 'wearable': 1501, 'beyond': 1502, 'including': 1503, 'issued': 1504, 'guess': 1505, 'spot': 1506, 'msft…': 1507, 'calculates': 1508, 'challenges': 1509, 'feel': 1510, 'surprised': 1511, 'disappointing': 1512, 'history': 1513, 'pic': 1514, 'qxx8n4y': 1515, 'inch': 1516, 'wired': 1517, 'march': 1518, 'setting': 1519, 'pressrelease': 1520, 'maturity': 1521, 'steal': 1522, '1st': 1523, 'ok': 1524, 'overall': 1525, 'reshuffle': 1526, 'members': 1527, 'note': 1528, 'range': 1529, 'n79nie': 1530, 'remain': 1531, 'alpha': 1532, 'er': 1533, '81': 1534, 'testing': 1535, 'forex': 1536, 'j': 1537, 'used': 1538, 'chatter': 1539, 'place': 1540, 'current': 1541, 'wednesday': 1542, 'machine': 1543, 'consoles': 1544, 'al': 1545, 'cover': 1546, 'released': 1547, \"corcelli's\": 1548, 'wonder': 1549, 'lowest': 1550, 'economy': 1551, 'alphangen': 1552, 'tr': 1553, 'marketwatch': 1554, 'compete': 1555, 'solutions': 1556, 'shorting': 1557, 'wins': 1558, 'fail': 1559, '7800': 1560, 'meeting': 1561, \"i'd\": 1562, 'posts': 1563, '6s': 1564, 'race': 1565, 'org': 1566, 'conference': 1567, 'instead': 1568, \"couldn't\": 1569, 'foreign': 1570, 'dynamics': 1571, 'mr': 1572, 'rich': 1573, 'cyber': 1574, 'failed': 1575, 'worse': 1576, 'twitterupdate…': 1577, 'ppprophet': 1578, 'chrome': 1579, 'starts': 1580, 'comments': 1581, '3d': 1582, 'division': 1583, 'tops': 1584, '1999': 1585, 'googles': 1586, 'nasdaq100': 1587, 'missing': 1588, 'quality': 1589, 'message': 1590, 'positions': 1591, 'licensing': 1592, 'slide': 1593, 'vetr': 1594, 'cc': 1595, 'certian': 1596, 'natreconofc': 1597, 'bar': 1598, 'boosts': 1599, 'sunrise': 1600, 'twitterupdated…': 1601, 'discuss': 1602, 'component': 1603, 'understand': 1604, 'twice': 1605, 'purchase': 1606, 'enemy': 1607, 'contract': 1608, 'partners': 1609, 'ltd': 1610, 'rumor': 1611, 'raised': 1612, 'faces': 1613, 'gdp': 1614, 'usb': 1615, 'it’s': 1616, 'vital': 1617, 'boss': 1618, 'energy': 1619, 'vnwrlqoka2o': 1620, '365': 1621, 'currently': 1622, 'build': 1623, 'tell': 1624, 'benefits': 1625, 'paid': 1626, 'mistake': 1627, 'former': 1628, 'area': 1629, 'partnerships': 1630, '360': 1631, 'marketing': 1632, 'waiting': 1633, 'hurts': 1634, 'units': 1635, 'activity': 1636, 'brings': 1637, 'era': 1638, '↑': 1639, 'dropped': 1640, 'together': 1641, 'maps': 1642, 'electronic': 1643, 'arts': 1644, 'steam': 1645, 'approach': 1646, \"i've\": 1647, 'keeps': 1648, 'xp': 1649, 'opening': 1650, 'details': 1651, 'edition': 1652, 'gonna': 1653, 'gapped': 1654, 'operating': 1655, 'gaining': 1656, 'inevitable': 1657, '300b': 1658, 'north': 1659, 'guys': 1660, 'customer': 1661, 'announcements': 1662, 'outside': 1663, 'fx': 1664, 'comparison': 1665, 'related': 1666, 'strategies': 1667, 'bloombergview': 1668, 'joins': 1669, \"trader's\": 1670, 'ouch': 1671, 'oct': 1672, 'map': 1673, 'spref': 1674, 'mp': 1675, 'rises': 1676, 'bringing': 1677, 'dog': 1678, 'itself': 1679, 'g': 1680, 'fighting': 1681, 'securities': 1682, 'crushed': 1683, 'dont': 1684, 'ask': 1685, 'zone': 1686, 'ten': 1687, 'spotlight': 1688, 'sellers': 1689, 'signs': 1690, 'bets': 1691, 'amidst': 1692, 'rumored': 1693, 'aims': 1694, 'gq6ec': 1695, 'movie': 1696, 'leadership': 1697, 'disruptive': 1698, 'cost': 1699, 'happen': 1700, 'given': 1701, 'innovations': 1702, 'fit': 1703, 'anti': 1704, 'air': 1705, 'downgrade': 1706, 'hod': 1707, 'reveals': 1708, '1mvtkkb': 1709, 'disney': 1710, 'becoming': 1711, 'premium': 1712, 'resistance': 1713, 'billionaires': 1714, 'wanted': 1715, '122': 1716, 'twitterhandle': 1717, 'getinmicrosoft…': 1718, 'skype': 1719, 'worldwide': 1720, 'qqq': 1721, 'summer': 1722, 'doesnt': 1723, 'frivolous': 1724, 'ford': 1725, 'onedrive': 1726, 'reuters': 1727, 'middlemen': 1728, 'desktop': 1729, 'mid': 1730, 'plays': 1731, 'frontier': 1732, 'titans': 1733, 'difference': 1734, 'computers': 1735, 'account': 1736, 'cramers': 1737, 'protect': 1738, 'entire': 1739, 'touts': 1740, '2020': 1741, 'predicts': 1742, '3258925': 1743, \"'\": 1744, 'charges': 1745, 'bidding': 1746, 'bundle': 1747, 'bottom': 1748, 'can’t': 1749, 'lite': 1750, 'cmld3b': 1751, '20margin': 1752, 'himax': 1753, 'tight': 1754, 'piper': 1755, 'dropping': 1756, 'smoke': 1757, 'fud': 1758, 'went': 1759, 'isnt': 1760, '95': 1761, 'saturday': 1762, 'tvs': 1763, 'gives': 1764, 'apple’s': 1765, 'third': 1766, 'shar': 1767, 'placements': 1768, 'financiers': 1769, 'gamesforever': 1770, 'lonely': 1771, 'movement': 1772, 'likes': 1773, 'building': 1774, 'laptops': 1775, 'stanley': 1776, 'learning': 1777, 'favor': 1778, 'looked': 1779, '61': 1780, 'min': 1781, 'trust': 1782, 'sachs': 1783, 'international': 1784, 'hopes': 1785, \"pers'l\": 1786, 'education': 1787, 'dumb': 1788, 'interested': 1789, 'confirms': 1790, 'makers': 1791, 'chicken': 1792, 'haeau': 1793, 'national': 1794, 'claims': 1795, 'study': 1796, 'closed': 1797, 'patents': 1798, 'writes': 1799, '300': 1800, 'clear': 1801, 'contrast': 1802, 'hand': 1803, 'white': 1804, 'bgr': 1805, '205': 1806, '2887496': 1807, 'amount': 1808, 'djia': 1809, 'heavy': 1810, 'nflx': 1811, 'heres': 1812, '113': 1813, 'concessions': 1814, 'beijing': 1815, 'hub': 1816, 'wells': 1817, 'house': 1818, 'ea': 1819, 'means': 1820, 'hey': 1821, 'unveil': 1822, 'dies': 1823, 'edgar': 1824, 'reaction': 1825, 'yr': 1826, 'according': 1827, 'fi': 1828, 'flop': 1829, 'accounts': 1830, 'stores': 1831, 'warren': 1832, 'kimonolabs': 1833, 'ew8asq': 1834, '2013': 1835, 'stake': 1836, 'discount': 1837, 'greek': 1838, 'investorshangout': 1839, 'court': 1840, 'document': 1841, 'oculus': 1842, 'danger': 1843, 'lowers': 1844, 'general': 1845, 'capitalmarketlabs': 1846, 'winner': 1847, 'stage': 1848, 'unveils': 1849, 'ride': 1850, 'learn': 1851, 'confirmed': 1852, 'fired': 1853, 'impressive': 1854, 'profile': 1855, 'techcrunch': 1856, 'pricing': 1857, 'obama': 1858, 'signals': 1859, 'act': 1860, 'stops': 1861, 'd2ter': 1862, 'rules': 1863, 'banned': 1864, 'climate': 1865, '700': 1866, 'ups': 1867, 'raise': 1868, 'headsets': 1869, 'leader': 1870, 'today’s': 1871, 'economic': 1872, 'machines': 1873, '3rd': 1874, 'victory': 1875, 'usat': 1876, 'kids': 1877, 'simple': 1878, 'delayed': 1879, 'enter': 1880, 'kind': 1881, 'hotpage': 1882, 'worried': 1883, 'baidu': 1884, 'technologies': 1885, 'damage': 1886, 'told': 1887, 'shrd': 1888, 'uber': 1889, 'counting': 1890, 'dominance': 1891, 'cars': 1892, 'busy': 1893, 'cnn': 1894, 'program': 1895, 'ranked': 1896, 'investments': 1897, 'unit': 1898, 'tn': 1899, 'chartsmarter': 1900, 'recession': 1901, 'looms': 1902, '3055306': 1903, 'risks': 1904, 'levels': 1905, '99': 1906, 'competing': 1907, 'forced': 1908, 'try': 1909, 'headset': 1910, 'kvcgqnq': 1911, 'kzsaej': 1912, 'solution': 1913, 'question': 1914, 'highlights': 1915, 'fargo': 1916, 'uses': 1917, 'pny': 1918, 'anything': 1919, 'america': 1920, 'perfect': 1921, 'gopro': 1922, 'load': 1923, 'glass': 1924, 'trumped': 1925, 'voice': 1926, 'ex': 1927, 'player': 1928, 'stick': 1929, 'seem': 1930, 'mon': 1931, 'gainers': 1932, 'showing': 1933, 'productivity': 1934, 'housing': 1935, 'wp': 1936, 'flat': 1937, 'opinion': 1938, 'earlier': 1939, 'fake': 1940, 'p500': 1941, 'takeover': 1942, 'bulls': 1943, 'code': 1944, '1…': 1945, 'madness': 1946, 'washington': 1947, 'hacking': 1948, 'subject': 1949, 'breakfast': 1950, 'vuuxsm4keie': 1951, 'pop': 1952, 'feasible': 1953, 'sk': 1954, 'whats': 1955, 'pays': 1956, '3149686': 1957, 'venture': 1958, 'relative': 1959, 'returning': 1960, 'earning': 1961, 'coverage': 1962, 'delay': 1963, 'x27': 1964, 'econ': 1965, 'force': 1966, 'performing': 1967, 'quick': 1968, 'memo': 1969, 'reduce': 1970, 'tradingview': 1971, 'ban': 1972, 'page': 1973, '112': 1974, '3270435': 1975, \"who's\": 1976, 'copy': 1977, 'wireless': 1978, 'pe': 1979, 'ridiculous': 1980, 'downdraft': 1981, 'deliver': 1982, 'questions': 1983, 'denies': 1984, 'aggressive': 1985, 'accelra': 1986, 'gears': 1987, 'sets': 1988, \"aren't\": 1989, 'yourself': 1990, 'nasdaqmsft': 1991, 'cybersecurity': 1992, 'fails': 1993, 'server': 1994, '215': 1995, 'scared': 1996, 'session': 1997, 'widespread': 1998, '88': 1999, 'hello': 2000, 'cnnmoney': 2001, '76': 2002, 'adding': 2003, '3720936': 2004, 'overtook': 2005, 'couldnt': 2006, 'legacy': 2007, 'pursue': 2008, 'acquiring': 2009, 'todays': 2010, 'revs': 2011, '3271985': 2012, 'continued': 2013, 'o8okd5u': 2014, 'ipads': 2015, 'spread': 2016, \"we're\": 2017, 'ur': 2018, 'eyes': 2019, '5th': 2020, 'imo': 2021, 'favorite': 2022, 'warn': 2023, 'declining': 2024, 'competitors': 2025, 'here’s': 2026, 'emulate': 2027, 'expands': 2028, 'et': 2029, 'candy': 2030, 'saga': 2031, \"we'll\": 2032, 'oem': 2033, 'tabs': 2034, '2922446': 2035, 'owned': 2036, '2x': 2037, 'cmg': 2038, '3695366': 2039, 'disagreed': 2040, 'asks': 2041, 'printing': 2042, 'paying': 2043, '3243906': 2044, 'wi': 2045, 'paypal': 2046, '86': 2047, 'qqqq': 2048, 'sheet': 2049, 'platforms': 2050, '150': 2051, 'thinks': 2052, 'cents': 2053, '84': 2054, 'arb': 2055, 'fine': 2056, 'decade': 2057, 'changed': 2058, \"'the\": 2059, 'enjoy': 2060, 'touch': 2061, 'announcement': 2062, 'design': 2063, 'desk': 2064, 'shortcode': 2065, '89d99fae7920e156f260c3aaa29e440d…': 2066, 'stopped': 2067, \"wouldn't\": 2068, '198': 2069, 'buffett': 2070, 'consider': 2071, '3106676': 2072, '3702486': 2073, '3556426': 2074, 'each': 2075, 'opens': 2076, 'stories': 2077, 'plenty': 2078, 'uncertain': 2079, 'lets': 2080, 'buyback': 2081, 'mil': 2082, 'www': 2083, 'insane': 2084, '73': 2085, 'sitting': 2086, 'western': 2087, 'party': 2088, 'api': 2089, \"tv's\": 2090, 'afternoon': 2091, 'delivered': 2092, 'surprises': 2093, 'ref': 2094, 'researcher': 2095, '2009': 2096, 'bone': 2097, 'rip': 2098, 'super': 2099, 'qcom': 2100, 'larger': 2101, 'adoption': 2102, 'longs': 2103, 'cat': 2104, 'dogs': 2105, 'terrible': 2106, 'quite': 2107, 'multi': 2108, 'chromebooks': 2109, 'able': 2110, 'links': 2111, 'gold': 2112, 'dec': 2113, 'ttm': 2114, 'tl': 2115, 'calling': 2116, 'bosocial': 2117, 'buyer': 2118, 'prediction': 2119, 'steps': 2120, 'neutral': 2121, 'dismal': 2122, 'dip': 2123, \"intel's\": 2124, 'forward': 2125, 'qtr': 2126, 'chips': 2127, 'john': 2128, '3478766': 2129, 'includes': 2130, 'rivals': 2131, 'caught': 2132, '3699126': 2133, 'folks': 2134, 'verizon': 2135, 'ibdinvestors': 2136, 'hologram': 2137, 'attention': 2138, 'overcoming': 2139, 'feels': 2140, 'art': 2141, 'attracts': 2142, 'rolls': 2143, 'unusual': 2144, 'pos': 2145, 'stupid': 2146, 'excellent': 2147, 'meet': 2148, 'zero': 2149, 'teases': 2150, 'challenge': 2151, 'united': 2152, 'states': 2153, 'either': 2154, 'begun': 2155, 'startup': 2156, '63': 2157, 'awesome': 2158, 'identify': 2159, 'setups': 2160, 'workplace': 2161, 'eye': 2162, 'blame': 2163, 'citi': 2164, 'files': 2165, 'camwilmot…': 2166, 'weight': 2167, 'crisis': 2168, 'probability': 2169, 'privacy': 2170, 'grows': 2171, 'clouds': 2172, 'bezos': 2173, 'dominates': 2174, 'cities': 2175, 'impacting': 2176, 'specs': 2177, '950': 2178, 'needed': 2179, 'spent': 2180, 'realize': 2181, 'loves': 2182, 'progress': 2183, 'sai': 2184, 'president': 2185, 'shipment': 2186, 'dumped': 2187, 'e3': 2188, 'teams': 2189, 'sexy': 2190, 'implied': 2191, 'loser': 2192, 'nytimes': 2193, 'lone': 2194, 'unleash': 2195, 'multitasking': 2196, 'interview': 2197, 'hi': 2198, 'bright': 2199, 'shorted': 2200, 'pattern': 2201, 'cant': 2202, 'whole': 2203, 'begin': 2204, 'safe': 2205, 'sprint': 2206, 'pump': 2207, 'boeing': 2208, 'wwwowensassetfund': 2209, 'rejected': 2210, 'alliance': 2211, '2017': 2212, 'narrow': 2213, 'wmt': 2214, 'newsletter': 2215, 'gone': 2216, 'helped': 2217, 'stat': 2218, 'jim': 2219, 'reaches': 2220, 'tools': 2221, 'sandisk': 2222, 'similar': 2223, 'exchange': 2224, 'stall': 2225, 'sunday': 2226, 'alex': 2227, 'aarontilley': 2228, 'demo': 2229, 'quietly': 2230, 'recode': 2231, 'fbr': 2232, 'nintendo': 2233, 'survey': 2234, 'absurd': 2235, 'happens': 2236, 'pcn4g6k': 2237, 'cnet': 2238, 'highly': 2239, 'ignore': 2240, '247wallst': 2241, 'owns': 2242, 'flashratings': 2243, 'cent': 2244, 'differences': 2245, 'msfts': 2246, 'cos': 2247, 'hype': 2248, 'overvalued': 2249, 'zzzz': 2250, '3577976': 2251, '3512166': 2252, 'buzz': 2253, 'avg': 2254, 'joint': 2255, 'pivot': 2256, 'headed': 2257, '2008': 2258, 'chromebook': 2259, 'corporations': 2260, 'spx': 2261, 'obsolete': 2262, '1jquzdr': 2263, \"shouldn't\": 2264, 'shouldnt': 2265, 'previous': 2266, 'definitely': 2267, 'detected': 2268, 'mentioned': 2269, '83': 2270, 'slowing': 2271, '3563356': 2272, 'suffers': 2273, 'emerging': 2274, '71': 2275, 'valuations': 2276, 'engineers': 2277, 'runs': 2278, 'gt': 2279, 'initial': 2280, 'yeah': 2281, '3565886': 2282, 'weakening': 2283, 'nov': 2284, 'retirement': 2285, 'quote': 2286, 'along': 2287, 'targeting': 2288, 'feeling': 2289, 'hitting': 2290, 'pending': 2291, 'whisper': 2292, 'iaas': 2293, 'reviews': 2294, '3049166': 2295, 'considering': 2296, 'gd': 2297, 'touting': 2298, 'damn': 2299, 'shelter': 2300, 'jeff': 2301, 'io': 2302, 'oversold': 2303, 'gpro': 2304, 'jp': 2305, '210': 2306, 'confirm': 2307, '3566506': 2308, 'millions': 2309, 'ends': 2310, 'threats': 2311, 'asp': 2312, 'shit': 2313, 'nobody': 2314, 'stockandfinancewatch': 2315, 'jones': 2316, 'sharply': 2317, 'november': 2318, 'wallet': 2319, 'welcome': 2320, 'disappointed': 2321, 'stuck': 2322, 'ended': 2323, 'causing': 2324, '129': 2325, '3709986': 2326, 'sessions': 2327, 'secret': 2328, '061215': 2329, '757016': 2330, 'sid': 2331, 'yrs': 2332, 'him': 2333, 'spartan': 2334, 'information': 2335, 'yoy': 2336, 'equities': 2337, 'hell': 2338, 'band': 2339, 'suddenly': 2340, 'predict': 2341, 'concerns': 2342, 'eat': 2343, 'picked': 2344, 'main': 2345, 'hour': 2346, 'development': 2347, 'provide': 2348, 'richest': 2349, \"gates'\": 2350, 'mutual': 2351, 'wish': 2352, 'self': 2353, 'step': 2354, 'switch': 2355, 'dependent': 2356, 'apparently': 2357, 'worms': 2358, 'stark': 2359, '3521016': 2360, 'tweaktown…': 2361, 'exclusivity': 2362, 'shaping': 2363, 'issue': 2364, '160': 2365, 'k7vw6pt': 2366, 'summary': 2367, 'streaming': 2368, 'nike': 2369, 'center': 2370, 'ge': 2371, 'glad': 2372, 'hear': 2373, 'chief': 2374, 'amp': 2375, 'gift': 2376, 'banks': 2377, 'learned': 2378, 'mashable': 2379, 'upgrading': 2380, 'crap': 2381, 'thank': 2382, 'monthly': 2383, 'finished': 2384, 'excel': 2385, 'arkinv': 2386, 'robust': 2387, 'gas': 2388, 'gotta': 2389, 'versus': 2390, 'insights': 2391, 'chat': 2392, 'fib': 2393, 'micro': 2394, '1kwelwy': 2395, '2944766': 2396, 'replace': 2397, 'holographic': 2398, 'csco': 2399, \"i'll\": 2400, 'government': 2401, 'sick': 2402, 'digitimes': 2403, 'develop': 2404, 'golden': 2405, 'tutorial': 2406, 'listen': 2407, 'lookups': 2408, 'american': 2409, 'matters': 2410, 'keynote': 2411, 'changer': 2412, 'advertisers': 2413, 'playing': 2414, 'jaffray': 2415, 'prior': 2416, 'fly': 2417, 'auto': 2418, 'respect': 2419, \"inc's\": 2420, '032315': 2421, '744671': 2422, 'wrap': 2423, '212': 2424, 'disappointment': 2425, 'ratings': 2426, 'speculation': 2427, 'faa': 2428, 'front': 2429, 'accidentally': 2430, \"digital's\": 2431, 'riskier': 2432, '69009603': 2433, '203': 2434, 'vp': 2435, 'revealed': 2436, '225': 2437, 'poorly': 2438, 'tw': 2439, '2981076': 2440, 'unlikely': 2441, 'admit': 2442, 'especially': 2443, 'appear': 2444, 'inflows': 2445, 'cheaper': 2446, 'increase': 2447, 'confidence': 2448, 'wtf': 2449, '3545536': 2450, 'o4zk6zc': 2451, 'august': 2452, 'tableau': 2453, 'argument': 2454, 'finds': 2455, 'components': 2456, 'devs': 2457, 'corporation’s': 2458, 'xperia': 2459, '5000': 2460, 'trailing': 2461, 'orders': 2462, 'mellanox': 2463, 'policy': 2464, 'internal': 2465, 'channel': 2466, 'reading': 2467, 'smarter': 2468, \"you've\": 2469, 'catching': 2470, 'infrastructure': 2471, 'provides': 2472, 'recipe': 2473, 'turning': 2474, 'allow': 2475, 'fair': 2476, 'apologizes': 2477, 'dubious': 2478, 'base': 2479, 'heat': 2480, 'extremely': 2481, 'doom': 2482, \"us'\": 2483, '3249315': 2484, 'statistical': 2485, \"wasn't\": 2486, 'metal': 2487, 'david': 2488, 'useful': 2489, 'workforce': 2490, 'efforts': 2491, 'joke': 2492, 'signal': 2493, 'ftc': 2494, 'continuing': 2495, 'lessons': 2496, 'install': 2497, 'headwinds': 2498, 'pullback': 2499, '3400': 2500, 'fdl6x6': 2501, 'bears': 2502, 'joining': 2503, 'engages': 2504, 'struck': 2505, 'redemption': 2506, 'spark': 2507, 'mind': 2508, 'searches': 2509, 'notes': 2510, 'iphoneportfolioapp': 2511, 'exactly': 2512, 'law': 2513, 'win10': 2514, 'overbought': 2515, 'answer': 2516, 'incredible': 2517, 'dominating': 2518, 'ibd': 2519, 'wk': 2520, 'invstplc': 2521, 'vmware': 2522, 'stuxnet': 2523, \"blackberry's\": 2524, '430': 2525, 'launched': 2526, 'process': 2527, 'developments': 2528, \"china's\": 2529, 'cancelled': 2530, 'dumps': 2531, 'hoping': 2532, 'bc': 2533, '3459386': 2534, '3741026': 2535, 'reduction': 2536, 'increasing': 2537, 'acquired': 2538, 'exiting': 2539, 'flagship': 2540, 'impressed': 2541, 'phablet': 2542, 'strongest': 2543, 'reveal': 2544, 'fears': 2545, '94': 2546, 'networks': 2547, 'extends': 2548, \"'15\": 2549, 'promises': 2550, 'weird': 2551, 'pact': 2552, 'startups': 2553, 'director': 2554, 'order': 2555, 'revolution': 2556, 'referral': 2557, 'firsttomarkets': 2558, '310': 2559, 'reiterated…': 2560, 'adobe': 2561, 'sp500': 2562, 'turned': 2563, '4q': 2564, 'state': 2565, 'minecraft': 2566, 'crushes': 2567, 'bode': 2568, 'struggles': 2569, 'reportedly': 2570, 'valued': 2571, 'slashes': 2572, 'fiscal': 2573, 'prepare': 2574, \"he's\": 2575, 'freak': 2576, 'fill': 2577, 'peter': 2578, 'gamers': 2579, \"co's\": 2580, '85': 2581, 'divided': 2582, 'backward': 2583, 'fallout': 2584, 'soda': 2585, 'password': 2586, 'instagram': 2587, 'yields': 2588, 'morningstar': 2589, 'sentiquant': 2590, '2010': 2591, '2011': 2592, 'absolutely': 2593, 'defeat': 2594, 'webinar': 2595, '1cxpscx': 2596, 'generation': 2597, 'goggles': 2598, 'boy': 2599, '3675686': 2600, 'fantastic': 2601, 'battlefield': 2602, 'acquisitions': 2603, 'approaching': 2604, 'totally': 2605, 'heard': 2606, 'equinix': 2607, 'punished': 2608, 'affected': 2609, 'algorithmic': 2610, 'false': 2611, 'launching': 2612, 'truce': 2613, 'lines': 2614, 'cheers': 2615, 'events': 2616, 'imagine': 2617, 'however': 2618, 'easier': 2619, 'opposite': 2620, 'dot': 2621, 'jjbqxiiyyj8': 2622, 'aside': 2623, 'wifi': 2624, 'clients': 2625, 'turnaround': 2626, 'forecasts': 2627, 'college': 2628, 'developer': 2629, 'perspective': 2630, 'child': 2631, 'encryption': 2632, 'vimeo': 2633, 'checkout': 2634, 'suitors': 2635, 'caterpillar': 2636, 'several': 2637, 'trem': 2638, 't3': 2639, 'marketrealist': 2640, 'promising': 2641, 'rbc': 2642, '2660835': 2643, 'takeaways': 2644, 'table': 2645, 'stands': 2646, 'culture': 2647, '3568756': 2648, '72': 2649, 'drones': 2650, 'ces': 2651, 'literally': 2652, '74': 2653, 'hiring': 2654, 'choices': 2655, 'speed': 2656, 'within': 2657, '107': 2658, 'imho': 2659, 'accounting': 2660, '1080p': 2661, 'successful': 2662, 'places': 2663, 'tradingcommonsense': 2664, 'vol': 2665, '3525126': 2666, 'expenses': 2667, 'pause': 2668, 'experience': 2669, 'cfm': 2670, 'wake': 2671, 'soaring': 2672, '97': 2673, '60m': 2674, 'unlike': 2675, 'iii': 2676, 'corpora': 2677, 'spend': 2678, 'dragged': 2679, 'difficult': 2680, 'downloads': 2681, 'showed': 2682, 'taxes': 2683, 'mainstream': 2684, 'celebrates': 2685, '20th': 2686, 'came': 2687, 'shocked': 2688, 'connected': 2689, 'seattle': 2690, 'explained': 2691, 'followed': 2692, 'workers': 2693, 'middle': 2694, 'ryan': 2695, 'advice': 2696, 'zynga': 2697, 'probe': 2698, 'loom': 2699, 'played': 2700, '638': 2701, 'anqtlv': 2702, 'shocking': 2703, 'biotech': 2704, 'morpheus': 2705, 'settle': 2706, 'shipped': 2707, 'funny': 2708, 'triple': 2709, 'automatic': 2710, 'ya': 2711, 'bargain': 2712, 'loved': 2713, 'stepping': 2714, 'nomura': 2715, 'result': 2716, 'jumping': 2717, 'deck': 2718, 'downgraded': 2719, 'expecting': 2720, 'pros': 2721, 'die': 2722, 'rule': 2723, 'activist': 2724, 'beginning': 2725, 'arstechnica': 2726, 'litigation': 2727, 'crappy': 2728, 'relevant': 2729, 'split': 2730, 'monster': 2731, 'bunch': 2732, 'docker': 2733, '2850916': 2734, 'korea': 2735, 'pharma': 2736, 'locked': 2737, 'digits': 2738, 'returns': 2739, 'sharing': 2740, 'saas': 2741, 'providers': 2742, 'introduces': 2743, 'vendors': 2744, 'ps3': 2745, 'struggling': 2746, 'slump': 2747, 'cycle': 2748, 'moment': 2749, 'grab': 2750, 'tumblr': 2751, 'direction': 2752, 'wave': 2753, 'unitedhealth': 2754, 'disappoints': 2755, 'electronics': 2756, 'picking': 2757, 'seeks': 2758, 'till': 2759, 'dark': 2760, 'community': 2761, '2796065': 2762, 'globalstar': 2763, 'comeback': 2764, 'reversal': 2765, 'skylake': 2766, 'letting': 2767, 'certain': 2768, \"nadella's\": 2769, 'king': 2770, 'respond': 2771, '3383995': 2772, 'tries': 2773, 'hack': 2774, 'recognition': 2775, 'works': 2776, 'interline': 2777, 'unique': 2778, 'translate': 2779, 'dangerous': 2780, 'comp': 2781, 'ca': 2782, '3501696': 2783, 'horse': 2784, 'dr': 2785, 'jobs…': 2786, 'ubisoft': 2787, 'lenovo': 2788, 'ai': 2789, 'bridgewater': 2790, 'couple': 2791, 'notable': 2792, 'gotten': 2793, 'avalanche': 2794, '1yszwfe': 2795, 'shopping': 2796, 'grateful': 2797, 'phantom': 2798, 'shareplanner': 2799, 'splash': 2800, \"disney's\": 2801, 'cause': 2802, '3235896': 2803, 'students': 2804, 'pine': 2805, '2019': 2806, 'type': 2807, 'unlimited': 2808, 'host': 2809, 'staff': 2810, 'galaxy': 2811, '2786495': 2812, 'sources': 2813, '30fps': 2814, 'compatibility': 2815, 'sept': 2816, 'carriers': 2817, '68': 2818, 'existing': 2819, 'painful': 2820, 'telling': 2821, 'ft': 2822, 'qanda': 2823, 'driver': 2824, 'dual': 2825, 'tumbles': 2826, 'stratasys': 2827, 'busted': 2828, 'lucky': 2829, 'vulnerability': 2830, 'nw': 2831, 'costco': 2832, '3555266': 2833, 'sharepoint': 2834, 'minus': 2835, 'pg': 2836, 'boring': 2837, 'family': 2838, 'cramer': 2839, 'engagement': 2840, '92': 2841, 'po': 2842, 'found': 2843, 'deflationary': 2844, 'ease': 2845, 'preserve': 2846, 'earnings…': 2847, 'skip': 2848, 'suit': 2849, '2823916': 2850, 'commentary': 2851, 'league': 2852, 'accused': 2853, 'surges': 2854, '570': 2855, 'thesis': 2856, 'ch': 2857, 'reimagining': 2858, '3317505': 2859, 'wild': 2860, 'pass': 2861, 'slightly': 2862, 'zacks': 2863, 'firefox': 2864, 'deserves': 2865, 'don': 2866, 'port': 2867, 'hikes': 2868, 'supplier': 2869, 'bomb': 2870, '1q': 2871, 'narrative': 2872, 'adallom': 2873, 'elite': 2874, 'sheets': 2875, 'button': 2876, 'threatened': 2877, 'gartner': 2878, 'messaging': 2879, 'bbry': 2880, 'license': 2881, 'desperate': 2882, 'performed': 2883, 'hearing': 2884, 'unconfirmed': 2885, 'outflows': 2886, 'james': 2887, '3625786': 2888, 'reboot': 2889, 'filing': 2890, 'wordpress': 2891, '4…': 2892, 'differently': 2893, 'repurchases': 2894, '3549276': 2895, '3318095': 2896, '6th': 2897, 'friend': 2898, 'crushing': 2899, 'players': 2900, 'symbols': 2901, 'venturebeat': 2902, 'february': 2903, 'stronger': 2904, 'follows': 2905, 'ceos': 2906, 'form': 2907, 'ysty': 2908, 'leviat': 2909, 'hn': 2910, 'sogotrade’s': 2911, 'trap': 2912, 'lure': 2913, 'gadgets': 2914, 'z5': 2915, 'victims': 2916, 'decent': 2917, 'awful': 2918, 'popularity': 2919, 'boys': 2920, 'evidence': 2921, 'marginhunt': 2922, 'intraday': 2923, 'mistakes': 2924, 'sucks': 2925, 'properly': 2926, '3562226': 2927, 'mapping': 2928, 'ones': 2929, '3441186': 2930, 'failures': 2931, \"'star\": 2932, 'choice': 2933, 'cfo': 2934, 'euro': 2935, 'servers': 2936, 'complete': 2937, 'bitcoin': 2938, 'competitor': 2939, 'mass': 2940, 'marc': 2941, '1nizxib': 2942, '3773716': 2943, 'plunge': 2944, 'earns': 2945, 'leak': 2946, 'linkedin': 2947, 'graphs': 2948, 'proven': 2949, 'william': 2950, 'declines': 2951, 'european': 2952, 'predictions': 2953, 'prime': 2954, 'restructure': 2955, 'merger': 2956, 'screener': 2957, 'pace': 2958, 'lately': 2959, 'citigroup': 2960, 'ansh': 2961, 'etf…': 2962, 'tighten': 2963, 'groups': 2964, 'usdcad…': 2965, 'comps': 2966, 'facing': 2967, 'flood': 2968, 'miles': 2969, \"user's\": 2970, 'york': 2971, 'tuesday’s': 2972, 'industrial': 2973, 'risky': 2974, 'capitalization': 2975, 'dads': 2976, 'consumers': 2977, 'terror': 2978, 'aaa': 2979, 'simplystockinfo': 2980, 'benioff': 2981, 'zmp': 2982, 'unmanned': 2983, 'aerial': 2984, 'developing': 2985, 'attacked': 2986, 'overnight': 2987, 'mode': 2988, 'wondering': 2989, 'managing': 2990, '060515': 2991, 'careful': 2992, 'logic': 2993, 'flying': 2994, 'zdnet': 2995, '200dma': 2996, 'tues': 2997, 'dispute': 2998, 'complaints': 2999, 'earn': 3000, 'flattery': 3001, 'powerpoint': 3002, 'ratio': 3003, 'thru': 3004, 'writedown': 3005, 'downturn': 3006, 'picture': 3007, 'cautious': 3008, '111315': 3009, 'explains': 3010, 'mkts': 3011, 'clearly': 3012, '2847826': 3013, 'offered': 3014, 'path': 3015, 'clutter': 3016, 'shortcuts': 3017, 'healthy': 3018, 'recover': 3019, 'mature': 3020, 'tho': 3021, 'certainly': 3022, 'tomb': 3023, 'raider': 3024, 'hint': 3025, 'btw': 3026, 'moved': 3027, '89': 3028, 'breakdown': 3029, 'blows': 3030, '4th': 3031, 'sdn': 3032, 'nfv': 3033, 'presentation': 3034, 'rogue': 3035, 'vanguard': 3036, '3495356': 3037, 'excludes': 3038, 'innwbgy6rvi': 3039, 'foundation': 3040, \"mac's\": 3041, '3671336': 3042, 'soft': 3043, 'getty': 3044, 'debut': 3045, 'strengthen': 3046, 'worries': 3047, 'fights': 3048, 'holograms': 3049, 'widen': 3050, '“star': 3051, 'battlefront”': 3052, 'faber': 3053, 'direct': 3054, 'mostly': 3055, 'ericsson': 3056, 'wmd': 3057, 'i’m': 3058, 'sma': 3059, 'topped': 3060, 'chaos': 3061, 'thus': 3062, 'exclusively': 3063, 'innovative': 3064, 'designer': 3065, 'officially': 3066, 'hmm': 3067, 'quickly': 3068, 'australia': 3069, 'stress': 3070, 'discussed': 3071, 'flaw': 3072, 'xietxc': 3073, 'square': 3074, '20millions': 3075, 'stars': 3076, 'holidays': 3077, \"amazon's\": 3078, 'leaps': 3079, 'smell': 3080, 'fourth': 3081, 'estimate': 3082, \"you'll\": 3083, 'bug': 3084, 'manager': 3085, 'afford': 3086, 'jefferies': 3087, 'prefer': 3088, 'discussion': 3089, 'tag': 3090, '3699346': 3091, \"ballmer's\": 3092, 'keyboard': 3093, 'shredding': 3094, 'embraces': 3095, 'taken': 3096, 'glassware': 3097, 'websites': 3098, \"'16\": 3099, 'messenger': 3100, 'chase': 3101, 'usatoday': 3102, 'associates': 3103, '120115': 3104, 'attempt': 3105, 'scare': 3106, 'wont': 3107, '650': 3108, 'lift': 3109, 'sometimes': 3110, 'lesson': 3111, 'brief': 3112, 'fraud': 3113, 'explain': 3114, 'stockmarket': 3115, 'activision': 3116, 'rallies': 3117, 'peek': 3118, 'altera': 3119, 'abt': 3120, \"yesterday's\": 3121, 'economist': 3122, 'basically': 3123, '3q15': 3124, 'gov': 3125, 'pickup': 3126, 'speculatingstocks': 3127, 'successfully': 3128, 'baby': 3129, 'knows': 3130, 'tricks': 3131, 'setup': 3132, 'nytcore': 3133, 'mozilla': 3134, 'professionals': 3135, 'sh': 3136, 'oversight': 3137, 'common': 3138, 'ar': 3139, 'chipping': 3140, 'chipzilla': 3141, 'tracking': 3142, 'afterdawn': 3143, 'traffic': 3144, 'indices': 3145, 'storm': 3146, 'adblock': 3147, 'overpriced': 3148, 'envy': 3149, 'expects': 3150, 'terminal': 3151, 'reduced': 3152, 'execs': 3153, 'financials': 3154, 'badly': 3155, '20150904': 3156, 'yandex': 3157, 'approaches': 3158, 'thousands': 3159, 'stox': 3160, 'photo': 3161, 'worlds': 3162, 'slipped': 3163, \"company's\": 3164, '3607956': 3165, 'phenomenal': 3166, 'falconstocks': 3167, 'relationship': 3168, '1990s': 3169, 'pencil': 3170, 'volatile': 3171, 'image': 3172, 'perform': 3173, 'owners': 3174, 'fundamental': 3175, \"monday's\": 3176, 'qco42tt': 3177, 'acquires': 3178, 'tcrn': 3179, 'gen': 3180, 'techtraderdaily': 3181, '79': 3182, '3565716': 3183, 'trail': 3184, 'teasing': 3185, 'filings': 3186, 'appreciation': 3187, 'exchanges': 3188, 'shutdown': 3189, 'onto': 3190, 'stand': 3191, 'softbank': 3192, 'alphamaven': 3193, 'frand': 3194, 'controller': 3195, '5x': 3196, 'comscore': 3197, 'hottest': 3198, 'battles': 3199, 'suite': 3200, '9th': 3201, 'supported': 3202, 'rolling': 3203, \"benzinga's\": 3204, 'themselves': 3205, 'buzzing': 3206, 'earned': 3207, '3q': 3208, 'owning': 3209, 'consolidation': 3210, 'share…': 3211, 'headline': 3212, \"it'll\": 3213, 'footsteps': 3214, 'blackberrys': 3215, 'completely': 3216, 'overview': 3217, 'disruption': 3218, 'soars': 3219, 'ssr': 3220, 'angry': 3221, 'agrees': 3222, 'football': 3223, '140b': 3224, 'embarrassing': 3225, 'hewlett': 3226, 'rather': 3227, 'saved': 3228, 'struggle': 3229, '20150127': 3230, 'swift': 3231, 'burn': 3232, 'mrsimf': 3233, 'setback': 3234, 'themed': 3235, '78': 3236, 'cheer': 3237, 'landing': 3238, 'dev': 3239, 'guesses': 3240, 'non': 3241, 'etfgui': 3242, 'myself': 3243, 'alternatives': 3244, 'fan': 3245, 'nmfcym7': 3246, 'harsh': 3247, '252io': 3248, 'shooting': 3249, 'shy': 3250, 'pull': 3251, 'obvious': 3252, 'oems': 3253, 'hates': 3254, 'acer': 3255, 'yup': 3256, 'pulse': 3257, 'webcast': 3258, 'rivalry': 3259, '021815': 3260, 'hpq': 3261, 'downloading': 3262, 'investfeed': 3263, 'nyt': 3264, 'stifel': 3265, 'commodity': 3266, 'dna': 3267, '2801515': 3268, 'anymore': 3269, 'concept': 3270, 'tweet': 3271, 'figure': 3272, 'feat': 3273, 'rankings': 3274, '1nizxibsignals': 3275, 'nokias': 3276, 'ultimate': 3277, 'screwing': 3278, 'pulling': 3279, 'period': 3280, 'eod': 3281, '051915': 3282, 'impairment': 3283, 'thin': 3284, 'universe': 3285, 'rocket': 3286, 'streetinsider': 3287, 'roll': 3288, 'luck': 3289, 'prod': 3290, 'pissed': 3291, '3320935': 3292, 'created': 3293, \"sony's\": 3294, 'sonys': 3295, 'exposure': 3296, 'intels': 3297, 'consistently': 3298, 'capitalcube': 3299, 'extending': 3300, 'moms': 3301, 'collapses': 3302, 'sends': 3303, '2…': 3304, 'dismiss': 3305, 'finding': 3306, 'hated': 3307, 'mod': 3308, 'avoided': 3309, 'munster': 3310, '3b': 3311, 'establish': 3312, 'autonomous': 3313, '499': 3314, 'sundar': 3315, 'sp': 3316, 'ageless': 3317, 'gm': 3318, 'pirates': 3319, \"hasn't\": 3320, 'possibly': 3321, 'hostile': 3322, 'd1y67': 3323, 'apart': 3324, 'struggled': 3325, '3771276': 3326, 'offshore1': 3327, 'processors': 3328, 'ship': 3329, 'appleinsider': 3330, 'ha': 3331, 'imitation': 3332, 'bs': 3333, 'wasted': 3334, 'stockstat': 3335, 'recording': 3336, 'grade': 3337, 'piece': 3338, 'deutsche': 3339, 'combo': 3340, 'itunes': 3341, 'motorsport': 3342, 'built': 3343, 'arrived': 3344, 'announcing': 3345, 'spidey': 3346, 'rtp8rj': 3347, 'horrible': 3348, '64': 3349, 'rapid': 3350, 'motley': 3351, 'tuned': 3352, 'grip': 3353, '780898': 3354, 'tape': 3355, 'pushes': 3356, 'acquire': 3357, 'knowledge': 3358, 'cons': 3359, 'prepping': 3360, '041715': 3361, 'expensive': 3362, 'forever': 3363, 'icahn': 3364, 'neutrality': 3365, 'private': 3366, 'collection': 3367, 'uptrend': 3368, 'pair': 3369, 'stays': 3370, 'pts': 3371, 'recommended': 3372, 'pile': 3373, 'monopoly': 3374, 'fq4': 3375, 'scan': 3376, 'decades': 3377, 'disagree': 3378, 'baba': 3379, 'cooperate': 3380, '82': 3381, 'oriented': 3382, 'tsla': 3383, 'distribution': 3384, 'mike': 3385, 'ground': 3386, 'leverage': 3387, 'ht': 3388, 'perhaps': 3389, 'controls': 3390, '2830096': 3391, 'macd': 3392, 'wintel': 3393, 'halt': 3394, 'consulting': 3395, 'disastrous': 3396, 'prefers': 3397, 'appeal': 3398, 'towards': 3399, 'rock': 3400, 'prep': 3401, 'ppl': 3402, 'besides': 3403, 'failing': 3404, '1b': 3405, 'expand': 3406, 'kid': 3407, 'patience': 3408, 'closely': 3409, 'blowout': 3410, 'executive': 3411, 'shine': 3412, '020615': 3413, '4q14': 3414, 'pdf…': 3415, 'ray': 3416, 'often': 3417, 'property': 3418, 'pushing': 3419, 'proof': 3420, 'forces': 3421, 'hug': 3422, 'rsi': 3423, 'territory': 3424, 'ssft': 3425, 'floor': 3426, 'executives': 3427, '3444566': 3428, 'aatilley': 3429, 'addition': 3430, 'usa': 3431, 'archives': 3432, 'lipton': 3433, 'slowly': 3434, 'fees': 3435, '5b': 3436, 'bag': 3437, 'bln': 3438, 'react': 3439, 'handle': 3440, 'kiss': 3441, 'offerings': 3442, 'agreement': 3443, 'smb': 3444, 'ers': 3445, 'decision': 3446, 'client': 3447, 'prepared': 3448, 'capacity': 3449, 'glimpse': 3450, 'asia': 3451, 'asked': 3452, 'sensitive': 3453, 'print': 3454, 'nba': 3455, 'zune': 3456, 'icloud': 3457, 'trim': 3458, 'chasing': 3459, 'murdering': 3460, 'mercadomagico': 3461, 'site': 3462, 'powering': 3463, 'kcapitaladvisors': 3464, 'valueact': 3465, 'counterfeit': 3466, 'accusations': 3467, 'regulator': 3468, 'delivers': 3469, 'slips': 3470, 'sounds': 3471, 'corrective': 3472, 'irrelevant': 3473, '3313855': 3474, 'field': 3475, 'spends': 3476, 'pocket': 3477, 'hunting': 3478, '022015': 3479, '740170': 3480, 'arista': 3481, 'entertainment': 3482, 'tlps': 3483, 'sue': 3484, 'effect': 3485, 'lyft': 3486, '3436946': 3487, 'debate': 3488, 'topics': 3489, 'li': 3490, '3495796': 3491, 'migration': 3492, 'softy': 3493, 'register': 3494, 'historic': 3495, 'cur': 3496, 'lv': 3497, 'amongst': 3498, '18oivrv': 3499, 'skyworks': 3500, 'handset': 3501, 'whatstrading': 3502, 'theregister': 3503, 'sohn': 3504, 'bl': 3505, 'nasa': 3506, 'blizzard': 3507, 'mandel': 3508, 'vista': 3509, 'sweet': 3510, 'suck': 3511, 'emoji': 3512, 'nvidia': 3513, 'dice': 3514, 'slim': 3515, 'spying': 3516, 'dumping': 3517, 'ackman': 3518, 'charging': 3519, 'mallory': 3520, 'iknowfirst': 3521, 'approved': 3522, 'havoc': 3523, '2012': 3524, 'gigaom': 3525, 'ubs': 3526, 'movies': 3527, 'contracts': 3528, 'shutting': 3529, 'focused': 3530, 'throws': 3531, 'softee': 3532, 'cannot': 3533, 'planning': 3534, '3239836': 3535, '8th': 3536, 'compatible': 3537, 'layoff': 3538, 'avoidance': 3539, 'durable': 3540, '23rd': 3541, 'researchers': 3542, 'lagging': 3543, 'cohen': 3544, 'grill': 3545, 'ram': 3546, 'deep': 3547, 'px': 3548, 'leaving': 3549, 'mankind': 3550, 'retreat': 3551, 'keeping': 3552, 'visual': 3553, 'reinventing': 3554, '2541826': 3555, 'techniques': 3556, 'hop': 3557, 'deflation': 3558, '011615': 3559, '735080': 3560, 'foolish': 3561, '69': 3562, 'gp': 3563, 'warner': 3564, 'triangle': 3565, '3553926': 3566, '123361': 3567, 'forgot': 3568, 'capitalistbull': 3569, 'barclay': 3570, 'chain': 3571, 'control4': 3572, 'intensified': 3573, 'boot': 3574, 'huh': 3575, 'hjbosf': 3576, 'expedia': 3577, 'application': 3578, 'rolled': 3579, '1vcwx3t': 3580, 'destroyed': 3581, 'belong': 3582, 'controversial': 3583, 'severely': 3584, 'dive': 3585, 'availability': 3586, '102315': 3587, 'pirated': 3588, 'discover': 3589, 'michaud': 3590, 'scenario': 3591, 'send': 3592, 'trigger': 3593, 'asian': 3594, 'dropbox': 3595, 'leg': 3596, 'standard': 3597, 'jnj': 3598, 'unicorns': 3599, 'bugs': 3600, 'happening': 3601, 'file': 3602, 'clears': 3603, 'german': 3604, 'models': 3605, 'broaden': 3606, 'finish': 3607, 'necessary': 3608, 'emails': 3609, 'friendly': 3610, 'nyc': 3611, 'ven': 3612, 'amc': 3613, 'releasing': 3614, 'redmond': 3615, '1iidjjm': 3616, 'oops': 3617, 'bmo': 3618, '2000s': 3619, 'summit': 3620, 'diy': 3621, 'repairs': 3622, 'gurufocus': 3623, 'poll': 3624, 'regulation': 3625, 'seeitmarket': 3626, 'marks': 3627, 'nearline': 3628, 'instablog': 3629, 'gmail': 3630, 'reliable': 3631, 'au': 3632, 'codenamed': 3633, 'environment': 3634, '20150722': 3635, 'nasdaqgs': 3636, 'nasty': 3637, 'benner': 3638, 'managers': 3639, 'estimize': 3640, 'confirmation': 3641, 'flawed': 3642, '2826166': 3643, '1iidlha': 3644, 'comparing': 3645, 'exploit': 3646, 'eric': 3647, 'splunk': 3648, 'newconstructs': 3649, 'operations': 3650, '20150708': 3651, 'school': 3652, '3567086': 3653, 'bounces': 3654, 'interfere': 3655, 'tapping': 3656, 'spectrum': 3657, 'strange': 3658, 'dailytradingsignals': 3659, '3707506': 3660, 'bytesfrombits': 3661, 'blessing': 3662, 'tgt': 3663, '20m': 3664, 'watches': 3665, \"'best\": 3666, 'hole': 3667, 'warned': 3668, 'prevent': 3669, 'innovate': 3670, 'stealing': 3671, 'bizj': 3672, 'arn': 3673, '66583049': 3674, 'city': 3675, 'vía': 3676, 'expanding': 3677, 'dollars': 3678, 'weaker': 3679, 'powershares': 3680, 'lifting': 3681, 'swallowing': 3682, \"tech's\": 3683, 'candle': 3684, 'patterns': 3685, '4x': 3686, 'sogotrade': 3687, 'sogolandtc': 3688, 'exposing': 3689, 'slides': 3690, 'alphr': 3691, 'lag': 3692, 'tease': 3693, '1d6fstw': 3694, 'cameras': 3695, \"zuckerberg's\": 3696, 'standards': 3697, '3663736': 3698, 'delivery': 3699, 'recently': 3700, '65840547': 3701, 'evolution': 3702, '2007': 3703, \"amd's\": 3704, 'sir': 3705, \"one's\": 3706, 'srcarecorner': 3707, 'n3pa63k': 3708, 'oz9ureo': 3709, 'branding': 3710, 'betting': 3711, '739821': 3712, 'negatively': 3713, 'casino': 3714, 'indicates': 3715, '2q15': 3716, 'repurchase': 3717, 'mainly': 3718, 'disappointments': 3719, 'garbage': 3720, 'inspired': 3721, 'vehicles': 3722, 't3live': 3723, 'lt': 3724, 'walking': 3725, 'gearing': 3726, 'shack': 3727, 'riskgrap': 3728, 'ironic': 3729, 'founder': 3730, 'miyamoto': 3731, 'union': 3732, 'weighting': 3733, 'm64yz4f': 3734, 'hrs': 3735, '1astw11vrzg': 3736, '66734200': 3737, 'advisors': 3738, '2742286': 3739, 'fy15': 3740, 'clean': 3741, '3455916': 3742, 'equivalent': 3743, 'birthday': 3744, 'window': 3745, 'asking': 3746, 'postpone': 3747, 'salsa': 3748, '1000': 3749, 'firing': 3750, 'class': 3751, 'spinoff': 3752, 'impress': 3753, 'lack': 3754, '65954211': 3755, 'ccleaner': 3756, 'v5': 3757, 'loop': 3758, 'dreams': 3759, 'laws': 3760, 'truth': 3761, 'infringement': 3762, 'lawsuits': 3763, 'skeptical': 3764, '52wk': 3765, 'gallery': 3766, 'magic': 3767, 'leap': 3768, 'effects': 3769, '6b': 3770, 'icymi': 3771, 'emc': 3772, 'wise': 3773, 'bay': 3774, 'operate': 3775, 'measure': 3776, 'audio': 3777, 'bethesda': 3778, 'cd': 3779, \"twitter's\": 3780, 'hinges': 3781, 'mastering': 3782, '755995': 3783, 'although': 3784, '122626': 3785, 'hw': 3786, 'obsessed': 3787, 'weighs': 3788, 'undiscovered': 3789, 'local': 3790, 'biometrics': 3791, 'thur': 3792, 'fri': 3793, 'googls': 3794, 'scary': 3795, '1wn6hfl': 3796, 'explosion': 3797, 'bundling': 3798, 'technically': 3799, \"iphone's\": 3800, 'aggressively': 3801, 'a9x': 3802, 'doubled': 3803, 'safari': 3804, 'hoped': 3805, 'livetradingnews': 3806, 'unbelievable': 3807, 'understanding': 3808, 'segment': 3809, 'trib': 3810, 'stats': 3811, 'values': 3812, 'provider': 3813, 'pushed': 3814, '—steve': 3815, '2007iphone': 3816, 'health': 3817, 'drags': 3818, 'bv': 3819, '3115': 3820, 'oh2kwk': 3821, '20150105': 3822, '083115': 3823, 'optimism': 3824, 'longrundata': 3825, 'tip': 3826, 'docs': 3827, 'they’re': 3828, '2813305': 3829, 'fixed': 3830, 'lags': 3831, 'holds': 3832, 'steady': 3833, 'hotpagenews': 3834, '65729705': 3835, 'carl': 3836, '90s': 3837, 'industrials': 3838, 'shed': 3839, '1q15': 3840, 'titan': 3841, 'theme': 3842, 'wkly': 3843, 'joined': 3844, 'royalties': 3845, 'remove': 3846, 'select': 3847, 'she': 3848, 'formation': 3849, 'promise': 3850, 'alive': 3851, 'capture': 3852, 'tizen': 3853, 'knight': 3854, 'sit': 3855, 'entering': 3856, 'sphere': 3857, 'recovery': 3858, '3300895': 3859, 'spreadsheets': 3860, 'multinationals': 3861, 'engadget': 3862, 'wonderful': 3863, 'tick': 3864, 'largely': 3865, 'p5hvht': 3866, 'madaz': 3867, 'epic': 3868, 'infographic': 3869, 'thankful': 3870, 'camp': 3871, 'saturation': 3872, 'mouse': 3873, 'videos': 3874, 'signature': 3875, 'engineering': 3876, 'prickly': 3877, 'insidermonkey': 3878, 'congrats': 3879, 'payments': 3880, 'nasdaqaapl': 3881, 'cowen': 3882, 'confused': 3883, 'ordered': 3884, 'wal': 3885, 'mart': 3886, 'extreme': 3887, 'phony': 3888, 'semiconductor': 3889, '010215': 3890, 'ages': 3891, '040815': 3892, '746960': 3893, 'mortal': 3894, 'kombat': 3895, 'contact': 3896, '2841426': 3897, '121115': 3898, '784947': 3899, 'candidate': 3900, 'noon': 3901, \"nokia's\": 3902, 'evil': 3903, \"'sirvival'\": 3904, 'reserves': 3905, 'strategic': 3906, 'principles': 3907, 'career': 3908, 'integrate': 3909, 'flagging': 3910, 'viernes': 3911, 'octubre': 3912, 'innova': 3913, '2827536': 3914, 'tmrw': 3915, 'sad': 3916, 'modular': 3917, 'customizable': 3918, 'swingweb': 3919, 'rush': 3920, 'evening': 3921, 'notice': 3922, 'disappear': 3923, 'appears': 3924, 'ardnev': 3925, 'bold': 3926, 'nab': 3927, 'compute': 3928, 'softie': 3929, 'led': 3930, 'iron': 3931, 'pu7ojhc': 3932, 'don’t': 3933, 'elop': 3934, 'visit': 3935, '1yt4dng': 3936, '738329': 3937, 'tech’s': 3938, 'punch': 3939, 'chose': 3940, 'cellphone': 3941, 'entrepreneurship': 3942, 'dalio’s': 3943, 'intellectual': 3944, '255': 3945, 'chunk': 3946, 'datawatch': 3947, 'barchart': 3948, 'cloudbook': 3949, '3101046': 3950, 'signifies': 3951, 'licenses': 3952, 'expiry': 3953, 'temporarily': 3954, 'weather': 3955, 'v165w': 3956, 'tanking': 3957, 'ma': 3958, 'sluggish': 3959, '090815': 3960, 'prob': 3961, 'mobility': 3962, 'reflect': 3963, 'sep': 3964, 'bot': 3965, 'el': 3966, '1mlimuw': 3967, 'empires': 3968, 'focuses': 3969, '3619906': 3970, 'collapsed': 3971, 'disc': 3972, 'ifa': 3973, 'plummet': 3974, 'deloitte': 3975, 'manufacturing': 3976, 'dragging': 3977, 'skills': 3978, 'shaky': 3979, 'ronda': 3980, 'rousey': 3981, 'ufc': 3982, 'camera': 3983, 'containers': 3984, 'leaves': 3985, 'subcats': 3986, 'pshort': 3987, 'pfull': 3988, 'pname': 3989, 'pkeywords': 3990, 'dispatch': 3991, 'hacks': 3992, 'boat': 3993, 'challenger': 3994, 'what’s': 3995, 'presents': 3996, 'hardline': 3997, 'concern': 3998, 'coo': 3999, 'ops': 4000, 'cards': 4001, 'posting': 4002, 'costly': 4003, 'evolved': 4004, 'sound': 4005, 'programs': 4006, 'backup': 4007, 'roadmap': 4008, '3700296': 4009, 'xom': 4010, 'dividends': 4011, '177': 4012, 'ltqc78f': 4013, 'gaonkar': 4014, 'steadyoptions': 4015, 'holders': 4016, 'survive': 4017, 'covering': 4018, 'reactions': 4019, 'hosting': 4020, 'devaste': 4021, 'toi': 4022, 'e90vla': 4023, 'toimobile': 4024, 'referral…': 4025, 'annual': 4026, 'silicon': 4027, 'peht3tp': 4028, 'insincere': 4029, 'suspected': 4030, 'slog': 4031, 'ip': 4032, 'experts': 4033, 'gravity': 4034, 'overturn': 4035, 'helps': 4036, 'fmt': 4037, 'consultants': 4038, 'worked': 4039, 'smaller': 4040, 'orcl': 4041, 'stalls': 4042, '032015': 4043, '744430': 4044, 'equivalents': 4045, 'hurting': 4046, 'error': 4047, 'versions': 4048, 'cuz': 4049, 'turnabout': 4050, 'settles': 4051, '10…': 4052, 'courses': 4053, 'alarm': 4054, 'complaint': 4055, 'presence': 4056, 'cml': 4057, 'barely': 4058, 'clock': 4059, '1472': 4060, 'oljx6hn': 4061, 'prospects': 4062, 'gamble': 4063, 'san': 4064, 'disrupt': 4065, 'taylor': 4066, 'horizons': 4067, 'flows': 4068, 'isis': 4069, 'google’s': 4070, 'insight': 4071, 'dance': 4072, 'actions': 4073, 'goodbye': 4074, 'mojo': 4075, 'celebrate': 4076, 'reform': 4077, 'passwords': 4078, 'gene': 4079, 'published': 4080, 'dream': 4081, 'biometric': 4082, 'squeeze': 4083, 'stylish': 4084, 'v215b': 4085, 'nicely': 4086, 'supposed': 4087, 'regret': 4088, 'valeant': 4089, '229': 4090, 'rockstar': 4091, 'featured': 4092, '2410746': 4093, 'snow': 4094, 'blames': 4095, 'situation': 4096, 'aid': 4097, 'cape': 4098, \"valve's\": 4099, '3556326': 4100, 'shape': 4101, 'mission': 4102, 'malls': 4103, 'rewards': 4104, 'sensor': 4105, 'pitching': 4106, 'sherlund': 4107, '1gfls7e': 4108, 'satish': 4109, 'kumar21': 4110, 'silly': 4111, 'blow': 4112, 'criminal': 4113, 'superb': 4114, '202': 4115, 'ball': 4116, 'portable': 4117, 'fitness': 4118, 'npd': 4119, '1k': 4120, 'reminds': 4121, 'consensus': 4122, 'repeat': 4123, '3695026': 4124, 'worrying': 4125, 'seagate': 4126, 'ws': 4127, 'tencent': 4128, 'ramp': 4129, 'monkey': 4130, '9k': 4131, 'plants': 4132, 'kit': 4133, '66142078': 4134, 'tap': 4135, 'marathon': 4136, 'savings': 4137, 'screens': 4138, 'instantly': 4139, 'zuckerberg': 4140, 'deusex': 4141, 'drama': 4142, 'helping': 4143, 'tempers': 4144, '3359555': 4145, 'lawmakers': 4146, 'majors': 4147, '66277427': 4148, 'dvd': 4149, 'uh': 4150, 'tells': 4151, 'c1nyk': 4152, 'maker': 4153, 'stephen': 4154, 'influx': 4155, 'plz': 4156, 'attract': 4157, 'carrier': 4158, 'blocks': 4159, 'fortune': 4160, 'bil': 4161, \"analysts'\": 4162, 'tweeting': 4163, 'rebel': 4164, 'motion': 4165, 'browsers': 4166, 'freedom': 4167, 'fascinating': 4168, 'decide': 4169, 'closes': 4170, '3350195': 4171, 'involvement': 4172, 'undisclosed': 4173, 'payouts': 4174, 'jumped': 4175, 'solace': 4176, '66061033': 4177, 'modi': 4178, 'schools': 4179, 'expectation': 4180, 'bullshit': 4181, 'living': 4182, 'bbc': 4183, 'difficulties': 4184, 'exxon': 4185, 'snubs': 4186, 'wisdom': 4187, 'lunes': 4188, 'legs': 4189, 'heads': 4190, 'suitable': 4191, 'argue': 4192, 'suisse': 4193, 'racks': 4194, 'richer': 4195, 'whether': 4196, 'haul': 4197, 'batman': 4198, 'succeeds': 4199, 'heather': 4200, 'scientists': 4201, 'cdns': 4202, '5400997': 4203, 'messages': 4204, 'xl': 4205, 'unhappy': 4206, '’s': 4207, 'awsome': 4208, 'frame': 4209, 'plot': 4210, 'hang': 4211, 'ought': 4212, 'declined': 4213, 'hoy': 4214, 'eztradingcomputers': 4215, 'kick': 4216, '65415463': 4217, 'buckets': 4218, 'minute': 4219, 'stream': 4220, 'pixel': 4221, 'ps': 4222, '2878866': 4223, \"sector's\": 4224, '20150126': 4225, 'regulatory': 4226, 'human': 4227, 'thestreettech': 4228, \"buffett's\": 4229, 'berkshire': 4230, 'hathaway': 4231, 'buffetts': 4232, '194bmicrosoft': 4233, '108bgoogle': 4234, 'consist': 4235, 'investorscloud': 4236, 'pscp': 4237, 'forum': 4238, 'gordonkelly': 4239, '1umccyw': 4240, \"2015's\": 4241, 'newsedge': 4242, 'exxonmobil': 4243, 'chevron': 4244, 'mrk': 4245, 'replaced': 4246, 'bird': 4247, 'regrets': 4248, '104': 4249, 'squawk': 4250, 'bailout': 4251, 'extension': 4252, 'hurdle': 4253, '65657005': 4254, 'asus': 4255, 'fact': 4256, '3705936': 4257, 'patient': 4258, 'assistants': 4259, '2782865': 4260, 'htm': 4261, 'manufacturers': 4262, 'title': 4263, 'brainer': 4264, 'pulled': 4265, 'qpn37q': 4266, 'm4u3nj9': 4267, 'takeout': 4268, 'proposal': 4269, '66730333': 4270, 'unfortunately': 4271, 'workout': 4272, '070115': 4273, '125455': 4274, '3554866': 4275, \"'revolutionize'\": 4276, 'ixnu7f': 4277, 'nx': 4278, 'verge': 4279, '26th': 4280, 'generating': 4281, 'sickening': 4282, 'believers': 4283, 'streak': 4284, 'extended': 4285, 'slumps': 4286, 'produce': 4287, 'robot': 4288, 'hmmm': 4289, 'didnt': 4290, 'clueless': 4291, '2767126': 4292, '20150130': 4293, 'hardly': 4294, '67020624': 4295, 'vip': 4296, 'outperformed': 4297, '13382957': 4298, '122949': 4299, '108m': 4300, 'comparisons': 4301, '10x': 4302, 'boycott': 4303, 'warnings': 4304, 'zhenting': 4305, 'zhou': 4306, '2m2': 4307, 'initiated': 4308, 'pure': 4309, 'affect': 4310, '063015': 4311, 'daytradersgroupofamerica': 4312, 'series': 4313, 'stab': 4314, 'relations': 4315, 'touchpad': 4316, 'peace': 4317, 'aggregation': 4318, 'notifications': 4319, '23ftse100': 4320, 'listed': 4321, 'wallstreetrain': 4322, 'doesn’t': 4323, 'excite': 4324, 'armour': 4325, 'succeed': 4326, 'intra': 4327, '2952136': 4328, '18th': 4329, 'experienced': 4330, 'monetize': 4331, '45b': 4332, 'osx': 4333, 'jpm': 4334, 'atlantic': 4335, 'reporters': 4336, 'facts': 4337, 'devastating': 4338, 'cue': 4339, 'crucial': 4340, 'usd': 4341, 'baml': 4342, 'shared': 4343, 'packard': 4344, 'worker': 4345, 'benchmark': 4346, 'tradable': 4347, '1broker': 4348, 'signup': 4349, '96': 4350, 'accounted': 4351, '66244592': 4352, 'glasses': 4353, 'traction': 4354, 'language': 4355, 'michaels': 4356, 'factor': 4357, 'bundled': 4358, '67019335': 4359, 'and…': 4360, 'brilliant': 4361, '88ukqk': 4362, '23greferendum': 4363, 'vrx…': 4364, 'robots': 4365, '5r0bu9': 4366, 'quotatium': 4367, 'strategies…': 4368, 'stretched': 4369, 'bastard': 4370, \"ain't\": 4371, 'classes': 4372, 'accuracy': 4373, '1001448': 4374, 'stoporder': 4375, 'absolute': 4376, 'kinect': 4377, 'ensure': 4378, 'valaafshar': 4379, '052115': 4380, 'lists': 4381, '275': 4382, 'telecom': 4383, 'crying': 4384, 'loud': 4385, 'ebooktop7': 4386, 'divergence': 4387, 'irony': 4388, 'fox': 4389, 'budget': 4390, '66225019': 4391, '3542776': 4392, 'tank': 4393, 'normal': 4394, 'tradtool': 4395, 'channelid': 4396, 'channellistid': 4397, '87ce30f5be214b01be55fc231a256371': 4398, 'mediaid': 4399, 'entered': 4400, 'fcf': 4401, 'ignite': 4402, 'peeps': 4403, \"battlefront'\": 4404, 'mentality': 4405, 'overlook': 4406, 'updating': 4407, 'receive': 4408, '850': 4409, 'sums': 4410, 'straight': 4411, 'admits': 4412, '228': 4413, 'limitations': 4414, 'hmpmps': 4415, 'screwed': 4416, 'kodak': 4417, 'medical': 4418, 'marijuana': 4419, 'yday': 4420, '67140262': 4421, 'midnight': 4422, 'headlines': 4423, 'applications': 4424, 'hacked': 4425, 'weighing': 4426, 'dying': 4427, 'inc’s': 4428, 'revised': 4429, 'mirroring': 4430, \"oil's\": 4431, 'resumed': 4432, 'shrinking': 4433, '1qxnp3d': 4434, 'award': 4435, 'intrin': 4436, '’': 4437, 'dragon': 4438, \"would've\": 4439, 'quit': 4440, 'horizon': 4441, 'none': 4442, 'intriguing': 4443, 'destroy': 4444, 'nixes': 4445, 'pursues': 4446, '753264': 4447, 'shelves': 4448, 'television': 4449, 'blastoff': 4450, '1ktv2bc': 4451, '043015': 4452, 'salesforcecom': 4453, '1widfif': 4454, 'persistence': 4455, 'haha': 4456, '65267760': 4457, 'mvakulenko': 4458, 'bots': 4459, '9a66510bb0f9…': 4460, 'agreed': 4461, 'stunning': 4462, 'supply': 4463, 'pages': 4464, 'participating': 4465, 'shortly': 4466, '122889': 4467, 'debuts': 4468, '122473': 4469, 'awarded': 4470, 'restore': 4471, 'knife': 4472, 'loaded': 4473, 'address': 4474, 'addressing': 4475, 'thrones': 4476, 'zw7fs0': 4477, 'battery': 4478, 'stockmarketlive': 4479, 'crowd': 4480, 'bizarre': 4481, 'clippy': 4482, '65992387': 4483, '2b': 4484, 'twst': 4485, '118197': 4486, 'providing': 4487, 'utilize': 4488, 'vehicles…': 4489, '3108': 4490, \"valueact's\": 4491, 'request': 4492, 'debacle': 4493, 'tko': 4494, 'tkostocks': 4495, 'rpx': 4496, 'settled': 4497, 'farms': 4498, 'earningshttp': 4499, 'taunts': 4500, '012815': 4501, 'eventually': 4502, 'flag': 4503, \"sonasoft's\": 4504, 'ediscovery': 4505, 'stoc': 4506, 'techradar': 4507, '1296596…': 4508, 'weds': 4509, 'pichai': 4510, 'pzg4zr': 4511, 'tos': 4512, 'mx': 4513, 'efficiency': 4514, \"'playstation\": 4515, \"now'\": 4516, '2807815': 4517, 'disclose': 4518, 'ed': 4519, 'raymond': 4520, 'switrsub': 4521, 'mess': 4522, 'loyal': 4523, 'ye': 4524, 'indeed': 4525, '30am': 4526, 'intel’s': 4527, '30pm': 4528, 'boosting': 4529, '20150424': 4530, 'optpower': 4531, 'screenshots': 4532, '240': 4533, 'sky': 4534, 'intact': 4535, 'challenging': 4536, 'evolves': 4537, 'centric': 4538, 'parature': 4539, '768883': 4540, 'freaking': 4541, '65764279': 4542, \"haven't\": 4543, '800b': 4544, 'connect': 4545, 'ire': 4546, 'i1vxk': 4547, 'feedback': 4548, 'compares': 4549, 'smarteranalyst': 4550, 'rid': 4551, '“i': 4552, 'webcasts': 4553, 'liking': 4554, 'spring': 4555, '120215': 4556, 'dma': 4557, 'tighter': 4558, 'banking': 4559, '65868831': 4560, '748368': 4561, 'demandware': 4562, 'wider': 4563, 'arrogance': 4564, 'supports': 4565, 'java': 4566, 'confusing': 4567, 'weighted': 4568, 'wildly': 4569, '1kihnak': 4570, 'powerbi2015': 4571, 'violating': 4572, 'russia': 4573, 'parental': 4574, 'drj': 4575, 'sour': 4576, \"gov't\": 4577, 'primed': 4578, 'swiss': 4579, 'snap': 4580, 'nail': 4581, '3100': 4582, '1erpbma': 4583, 'crowded': 4584, '91': 4585, 'apr': 4586, 'await': 4587, 'collaborate': 4588, 'frozen': 4589, 'boards': 4590, 'cure': 4591, 'cancer': 4592, 'cyclic': 4593, \"mcdonald's\": 4594, 'records': 4595, '125': 4596, '3712956': 4597, 'arkham': 4598, 'pack': 4599, 'ear': 4600, '1990': 4601, 'america’s': 4602, 'modems': 4603, '65237130': 4604, 'row': 4605, 'sinks': 4606, 'cliff': 4607, '7a5a': 4608, 'tale': 4609, 'ifeed': 4610, 'revenge': 4611, 'chess': 4612, 'einvesting': 4613, 'heck': 4614, 'juggernaut': 4615, 'rarely': 4616, 'heats': 4617, 'tesla': 4618, 'loving': 4619, 'somehow': 4620, 'rips': 4621, '061515': 4622, 'preferred': 4623, 'luxury': 4624, '67019070': 4625, 'weigh': 4626, 'tracks': 4627, 'mu': 4628, 'sr': 4629, 'rainbow': 4630, 'jesse': 4631, 'oldest': 4632, 'slumped': 4633, '72hrs': 4634, '400b': 4635, 'slip': 4636, 'backlash': 4637, 'censors': 4638, '65886162': 4639, 'duty': 4640, 'funds’': 4641, 'ranking': 4642, '1owwm': 4643, 'seasonal': 4644, 'initiations': 4645, '1k41a1u': 4646, 'bidders': 4647, 'verified': 4648, 'thx': 4649, '270': 4650, 'meets': 4651, '2015http': 4652, 'suggest': 4653, 'monday’s': 4654, 'barclays': 4655, 'barnes': 4656, 'noble': 4657, 'nook': 4658, 'thrive': 4659, 'tepid': 4660, '1oxrda7': 4661, 'unveiled': 4662, 'interactive': 4663, 'cry': 4664, 'foul': 4665, '2605555': 4666, 'lasting': 4667, 'rents': 4668, 'vacancies': 4669, 'moscow': 4670, 'confronts': 4671, '66140417': 4672, 'trip': 4673, 'midday': 4674, 'eyed': 4675, 'lock': 4676, 'resources': 4677, '66099501': 4678, 'surprising': 4679, '67021856': 4680, 'pivots': 4681, 'conversation': 4682, '3375265': 4683, 'theinformation': 4684, 'proves': 4685, '3222286': 4686, 'nailed': 4687, 'qdgidb': 4688, 'spoke': 4689, 'guided': 4690, '3x': 4691, 'integrated': 4692, 'extra': 4693, 'nuts': 4694, '1zrcrt3': 4695, '2974676': 4696, '65814765': 4697, 'wormsteam17': 4698, '9622': 4699, 'team17': 4700, 'inexplicable': 4701, 'nj7nbc': 4702, 'lay': 4703, 'stashing': 4704, 'rob': 4705, 'f5': 4706, '66551749': 4707, 'watchful': 4708, 'eg': 4709, 'fixes': 4710, 'dp': 4711, '65327975': 4712, 'snowden': 4713, 'refuses': 4714, 'ships': 4715, 'smoked': 4716, 'speculated': 4717, 'expense': 4718, 'heavily': 4719, 'minor': 4720, 'blew': 4721, '66242493': 4722, '66738375': 4723, '67020244': 4724, '“forza': 4725, 'debuting': 4726, 'disrupting': 4727, 'pickshttp': 4728, 'sp1500': 4729, 'recommends': 4730, 'hedging': 4731, '1mruo2p': 4732, '121882': 4733, 'endless': 4734, 'overwhelms': 4735, 'carrizo': 4736, 'apus': 4737, 'debicred': 4738, '“a': 4739, '“aaa”': 4740, 'innovating': 4741, 'collect': 4742, 'execess': 4743, 'authorities': 4744, '50b': 4745, '180817932': 4746, 'carry': 4747, 'americans': 4748, 'kuh': 4749, 'ching': 4750, 'departure': 4751, 'fw': 4752, 'knocking': 4753, 'ubben': 4754, 'noviembre': 4755, 'equal': 4756, '3548526': 4757, 'disciplined': 4758, 'marty': 4759, 'activists': 4760, '2004': 4761, 'monetization': 4762, 'rmwwbc': 4763, 'greeks': 4764, '022615': 4765, '741068': 4766, 'uptake': 4767, 'projected': 4768, 'doj': 4769, 'domination': 4770, 'marriage': 4771, 'affordable': 4772, 'wrote': 4773, 'beaten': 4774, 'utterly': 4775, 'technicals': 4776, '67020861': 4777, '2233476': 4778, 'collaboration': 4779, 'institutional': 4780, 'anxious': 4781, 'giddy': 4782, 'kicks': 4783, 'swedishtechinvestor': 4784, 'spite': 4785, 'sectors': 4786, 'opened': 4787, '100115': 4788, 'lisahopeking': 4789, 'responsible': 4790, 'universal': 4791, 'vehicle': 4792, 'bound': 4793, 'cm': 4794, 'poses': 4795, 'violation': 4796, 'meaningful': 4797, 'slows': 4798, 'stable': 4799, 'emotion': 4800, 'sigh': 4801, 'remarkable': 4802, '13b': 4803, '102499259': 4804, 'fantasy': 4805, 'bombs': 4806, 'countdown': 4807, 'unveiling': 4808, '1c8hscu': 4809, 'documents': 4810, 'tmt': 4811, 'merrill': 4812, 'gb': 4813, 'six': 4814, 'sports': 4815, 'resolve': 4816, '220100209': 4817, '67020364': 4818, 'accessories': 4819, 'search…': 4820, '65346156': 4821, 'slower': 4822, '110615': 4823, 'implications': 4824, 'criticism': 4825, 'wednesday’s': 4826, 'upper': 4827, 'cios': 4828, 'decay': 4829, 'timedecay': 4830, 'horsemen': 4831, 'figured': 4832, 'macobserver': 4833, 'rethink': 4834, 'pare': 4835, 'buoys': 4836, '123015': 4837, 'retailers': 4838, 'soup': 4839, 'curve': 4840, 'hears': 4841, 'curious': 4842, 'heir': 4843, '9mycxe': 4844, 'usually': 4845, 'iphone6': 4846, 'postponing': 4847, 'centers': 4848, '1uxqsiw': 4849, 'reward': 4850, 'paint': 4851, 'recruiting': 4852, 'slated': 4853, 'dilemma': 4854, 'processor': 4855, 'exposes': 4856, 'publishes': 4857, '600': 4858, 'multiples': 4859, 'applies': 4860, 'noticed': 4861, '1m': 4862, 'exp': 4863, '500k': 4864, '2617615': 4865, 'complex': 4866, 'cases': 4867, 'nintendoamerica': 4868, 'bob': 4869, 'cio': 4870, 'bloodbath': 4871, '66360996': 4872, '1d91pia': 4873, 'chc': 4874, 'inception': 4875, 'upsizes': 4876, 'zpr': 4877, '20150504': 4878, '117121252149': 4879, 'stuck…': 4880, 'scaling': 4881, 'tmblr': 4882, 'ests': 4883, 'wire': 4884, 'charged': 4885, 'creative': 4886, 'future…': 4887, 'ap': 4888, 'honeymoon': 4889, 'capitan': 4890, 'prominent': 4891, 'tons': 4892, 'balmer': 4893, 'partial': 4894, 'detection': 4895, 'collecting': 4896, 'shr': 4897, 'float': 4898, 'icharttop…': 4899, 'pmlfy': 4900, 'triumph': 4901, '75b': 4902, 'zd': 4903, 'morehttp': 4904, 'xlk': 4905, 'edu': 4906, 'rose': 4907, 'caused': 4908, 'seat': 4909, 'wedge': 4910, 'francisco': 4911, 'teach': 4912, 'fiesta': 4913, 'escape': 4914, 'sync': 4915, 'totalinvestor': 4916, 'divisions': 4917, 'thefts': 4918, 'introduction': 4919, \"'90s\": 4920, '4q15': 4921, 'printers': 4922, 'laggard': 4923, '3422356': 4924, 'th': 4925, 'easily': 4926, 'ira': 4927, 'dgb': 4928, '40241…': 4929, 'notification': 4930, 'improving': 4931, 'twimg': 4932, 'effective': 4933, 'structures': 4934, 'violent': 4935, 'resilient': 4936, '⇨': 4937, 'allowing': 4938, 'greater': 4939, \"ibm's\": 4940, 'americasmarkets': 4941, 'dancing': 4942, 'frustrating': 4943, 'unable': 4944, '1r196oi': 4945, 'tested': 4946, '49167': 4947, 'exits': 4948, 'meh': 4949, 'drag': 4950, 'yarsky': 4951, 'unchanged': 4952, 'training': 4953, 'idiot': 4954, 'breadth': 4955, 'brother': 4956, 'ta': 4957, 'flush': 4958, 'briefing': 4959, '3236906': 4960, 'jbooton': 4961, '053115': 4962, '755031': 4963, 'simply': 4964, 'authentication': 4965, 'vie': 4966, '123868': 4967, 'thousand': 4968, 'jobless': 4969, 'accumulate': 4970, 'fo89m4': 4971, 'battleground': 4972, 'covered': 4973, '2855886': 4974, 'translation': 4975, '112515': 4976, 'da': 4977, 'exist': 4978, 'bus': 4979, 'anywhere': 4980, '2018': 4981, 'auth': 4982, 'param': 4983, 'uprof': 4984, '2day': 4985, 'woos': 4986, 'macro': 4987, 'commerce': 4988, '65255294': 4989, 'algorithms': 4990, 'merging': 4991, 'proving': 4992, 'kudos': 4993, 'reject': 4994, 'valley': 4995, 'regarding': 4996, '67018898': 4997, 'santa': 4998, 'xmas': 4999, '1da8zmj': 5000, 'rick': 5001, 'positioning': 5002, 'discusses': 5003, 'legal': 5004, 'compliance': 5005, 'baked': 5006, '1hsb92p': 5007, 'kwf4au': 5008, 'kitch': 5009, \"weren't\": 5010, 'argues': 5011, 'listening': 5012, '3628706': 5013, 'ignored': 5014, 'wasn’t': 5015, 'acquirer': 5016, '3524786': 5017, 'consolidating': 5018, '1br0l96': 5019, 'soar': 5020, 'klou': 5021, 'cnnbrk': 5022, 'ars': 5023, 'rout': 5024, 'overuse': 5025, 'firmware': 5026, 'genuine': 5027, 'destiny': 5028, 'hence': 5029, 'ev': 5030, 'fxn': 5031, 'fills': 5032, 'rotate': 5033, 'everywhere': 5034, 'soundcloud': 5035, 'boosted': 5036, 'tecnical': 5037, '3459456': 5038, 'flaws': 5039, 'nasdaqmsfts': 5040, 'satyanadella': 5041, '67327030': 5042, 'rocks': 5043, 'advance': 5044, 'ran': 5045, 'lowe': 5046, 'annoyed': 5047, 'smid': 5048, 'smprod': 5049, 'ipad…': 5050, 'predicting': 5051, 'tb': 5052, '230': 5053, 'weekweb': 5054, '1q16': 5055, 'genius': 5056, 'laying': 5057, 'chicago': 5058, 'rushed': 5059, 'halted': 5060, 'advantages': 5061, 'blood': 5062, 'that’s': 5063, 'conviction': 5064, 'zuckerbergs': 5065, 'world’s': 5066, 'deus': 5067, 'quiet': 5068, '3506976': 5069, 'trajectory': 5070, 'somewhat': 5071, 'dipped': 5072, 'became': 5073, 'parts': 5074, 'nasdaqgoog': 5075, 'xactly': 5076, 'dirty': 5077, 'thu': 5078, '»': 5079, 'wed': 5080, 'tiny': 5081, 'gizmodo': 5082, 'att': 5083, \"friday's\": 5084, 'wallstjesus': 5085, '3541626': 5086, 'pulls': 5087, '67021937': 5088, 'efficient': 5089, 'zzzf': 5090, 'yawnnzzz': 5091, 'unfollow': 5092, '18olyjs': 5093, 'hosted': 5094, 'd9as6n': 5095, '1985': 5096, 'advantage': 5097, 'dearth': 5098, 'california': 5099, 'gender': 5100, 'discrimination': 5101, 'tumble': 5102, 'sjm': 5103, 'consumed': 5104, 'stingy': 5105, 'probation': 5106, 'bn': 5107, 'inverse': 5108, 'flowers': 5109, 'angela': 5110, 'obuklp': 5111, 'remote': 5112, 'books': 5113, 'fortunes': 5114, '2899116': 5115, 'leveraged': 5116, 'graphics': 5117, 'waver': 5118, 'rax': 5119, \"'we\": 5120, \"wrong'\": 5121, 'cont': 5122, 'w10': 5123, 'u2026': 5124, 'there’s': 5125, 'lynch': 5126, 'enormous': 5127, 'ecb': 5128, 'laughs': 5129, '20k': 5130, 'affirms': 5131, 'investigation': 5132, 'unless': 5133, 'enix': 5134, 'straddle': 5135, 'died': 5136, '65729989': 5137, 'mc': 5138, 'proud': 5139, 'won': 5140, 'mktg': 5141, 'claim': 5142, 'fab': 5143, 'comment': 5144, 'chajnd': 5145, 'bits': 5146, 'encrypted': 5147, 'gadget': 5148, 'kin': 5149, 'barbie': 5150, 'lod': 5151, 'begins': 5152, 'closer': 5153, '830': 5154, 'fallen': 5155, 'mediocre': 5156, '17x': 5157, 'qter': 5158, 'shock': 5159, 'substantial': 5160, 'continuum': 5161, 'pachter': 5162, 'oneplus': 5163, 'broadens': 5164, 'annualized': 5165, 'blind': 5166, 'elevated': 5167, 'inbox': 5168, 'founded': 5169, 'invested': 5170, 'hook': 5171, '3259025': 5172, 'percentile': 5173, 'computerworld': 5174, 'words': 5175, 'explore': 5176, 'met': 5177, 'filed': 5178, 'previews': 5179, 'seemingly': 5180, 'fyi': 5181, 'handing': 5182, 'russell': 5183, 'dlc': 5184, 'vault': 5185, 'interdigital': 5186, '2844566': 5187, 'nas': 5188, 'scutify': 5189, 'zqzojs': 5190, 'ransomware': 5191, 'sql': 5192, 'hd': 5193, 'modest': 5194, 'techanaly': 5195, 'avoiding': 5196, 'investing…': 5197, 'succumb': 5198, 'noting': 5199, 'aclkis': 5200, 'defense': 5201, 'broad': 5202, '1roqkh2': 5203, 'fcc': 5204, 'creepy': 5205, 'closingbell': 5206, 'tf': 5207, '1w…': 5208, '1cd9vq3': 5209, 'bless': 5210, '67020127': 5211, 'seller': 5212, 'millennials': 5213, 'admitted': 5214, 'oscillat': 5215, 'broader': 5216, 'neither': 5217, '013015': 5218, '736967': 5219, 'lions': 5220, 'sucked': 5221, 'responder': 5222, 'il': 5223, 'scrutiny': 5224, 'handles': 5225, 'root': 5226, \"10's\": 5227, 'maven': 5228, 'mqrrct': 5229, 'geaux': 5230, 'diluted': 5231, \"ea's\": 5232, 'ux': 5233, '10c': 5234, 'prove': 5235, 'gauntlet': 5236, 'codec': 5237, 'teased': 5238, \"season's\": 5239, 'bespokepremium': 5240, '3262195': 5241, 'sa': 5242, 'alert…': 5243, 'gang': 5244, 'east': 5245, 'coast': 5246, '3207396': 5247, 'answers': 5248, 'hulktrader': 5249, 'amateurs': 5250, 'ptcij7': 5251, 'win8': 5252, 'homes': 5253, 'hat': 5254, 'stack': 5255, '3278335': 5256, 'investhuddle': 5257, '123907': 5258, '67021627': 5259, 'bout': 5260, 'howardlindzon': 5261, 'canadian': 5262, 'kept': 5263, '2003': 5264, 'emergingmarketsdaily': 5265, 'significance': 5266, '777116': 5267, 'unauthorized': 5268, 'rumoured': 5269, 'teaming': 5270, 'guardians': 5271, 'anticipate': 5272, 'park': 5273, 'credentials': 5274, '1tmrnd9': 5275, 'repatriation': 5276, 'represent': 5277, 'directors': 5278, 'resis': 5279, '20150616': 5280, 'synect': 5281, 'booth': 5282, 'installation': 5283, 'companys': 5284, 'brewing': 5285, 'ink': 5286, 'street’s': 5287, 'dreaded': 5288, '66546651': 5289, 'collaborative': 5290, 'swap': 5291, 'slashed': 5292, 'pek2y8': 5293, 'log': 5294, 'axp': 5295, 'unbiased': 5296, 'sample': 5297, 'spls': 5298, 'moar': 5299, '180': 5300, 'acts': 5301, 'tradersedge': 5302, '67020970': 5303, '9889': 5304, 'quant': 5305, 'abroad': 5306, '120459': 5307, 'callers': 5308, 'stockmarkt': 5309, 'earth': 5310, 'bidness': 5311, 'staying': 5312, '1jinvrn': 5313, 'yahoocp': 5314, 'aurlled': 5315, 'yahoo…': 5316, '124943': 5317, 'expired': 5318, 'vying': 5319, 'mirror': 5320, '1uxentl': 5321, 'db': 5322, 'facebook’s': 5323, 'payoff': 5324, 'ruin': 5325, 'keyboards': 5326, 'mentioning': 5327, 'presenting': 5328, 'discriminating': 5329, 'women': 5330, '759887': 5331, 'rebounds': 5332, \"'major\": 5333, 'apertura': 5334, 'amazed': 5335, 'screw': 5336, 'credibility': 5337, 'gorilla': 5338, '16x3qbq': 5339, 'smacked': 5340, 'reverse': 5341, 'van': 5342, 'loyalty': 5343, 'ti': 5344, 'creep': 5345, 'opuy4': 5346, 'door': 5347, 'canberratimes': 5348, '20150429': 5349, 'twt…': 5350, 'basics': 5351, 'sne': 5352, 'survivor': 5353, 'vala': 5354, 'afshar': 5355, 'pwzn': 5356, 'boysofts': 5357, \"redstone'\": 5358, '44488': 5359, 'redstone': 5360, 'snapped': 5361, 'ferrari': 5362, 'hq': 5363, '119724': 5364, 'durables': 5365, 'simplywall': 5366, '3310425': 5367, 'hotfixes': 5368, 'weeklyoptionstrading': 5369, 'ktbenner': 5370, '061815': 5371, 'mine': 5372, 'bye': 5373, '1qilnau': 5374, 'hammered': 5375, 'raises': 5376, 'percentage': 5377, 'mcap': 5378, '3077846': 5379, '66400992': 5380, \"'limited\": 5381, \"november'\": 5382, 'generated': 5383, 'h5n1xa': 5384, 'protecting': 5385, 'paranoia': 5386, '20151023': 5387, 'misery': 5388, 'holder': 5389, '2825126': 5390, '1abuqny': 5391, '161': 5392, 'kinds': 5393, 'voluprof': 5394, '48498': 5395, 'seasonality': 5396, 'shifts': 5397, 'impedes': 5398, '759661': 5399, 'teenagers': 5400, '1jksqus': 5401, 'invents': 5402, 'guilty': 5403, 'gain100': 5404, 'lacking': 5405, 'annoying': 5406, 'connectivity': 5407, 'ho': 5408, 'habits': 5409, '45806': 5410, 'normalcy': 5411, 'theflynews': 5412, '131137448': 5413, 'ripping': 5414, 'tanks': 5415, '1zvj5hm': 5416, 'warms': 5417, 'unused': 5418, 'assault': 5419, 'vague': 5420, 'seeking': 5421, '46570': 5422, '07m': 5423, 'rage': 5424, 'relief': 5425, 'writing': 5426, 'mountains': 5427, '99hxkr': 5428, 'producing': 5429, 'embrace': 5430, '224': 5431, \"nothing's\": 5432, '1iejjpj': 5433, '3747846': 5434, '19b': 5435, '1flbska': 5436, 'hill': 5437, 'bias': 5438, 'navy': 5439, 'resetting': 5440, '“we': 5441, 'candles': 5442, 'removes': 5443, \"ideas'\": 5444, 'bowl': 5445, 'flip': 5446, 'yet…': 5447, 'optsprphil': 5448, 'raising': 5449, '65922670': 5450, 'packages': 5451, '1j5e9o': 5452, 'timetable': 5453, 'duopoly': 5454, 'nation': 5455, 'bernstein': 5456, 'pour': 5457, 'pbr': 5458, 'vale': 5459, 'uec': 5460, 'improves': 5461, '45398': 5462, '2849386': 5463, 'refund': 5464, 'esports': 5465, 'pops': 5466, 'veoz18': 5467, 'sang': 5468, 'meanwhile': 5469, 'rocking': 5470, 'considered': 5471, 'extensions': 5472, 'eurusd': 5473, 'tailwinds': 5474, 'hipster': 5475, '9to5mac': 5476, 'okay': 5477, 'all…': 5478, '120315': 5479, '145': 5480, '2601585': 5481, 'sanctions': 5482, 'criticised': 5483, 'indenture': 5484, '305b2': 5485, '65407475': 5486, '9p7ul6': 5487, 'hedgefunds': 5488, 'ichimoku': 5489, 'drivers': 5490, '753696': 5491, 'vc': 5492, 'voted': 5493, '20151102': 5494, \"it'd\": 5495, 'underestimate': 5496, 'u…': 5497, '2005': 5498, '7…': 5499, 'production': 5500, 'expenditures': 5501, 'foot': 5502, 'indie': 5503, 'officialpes': 5504, \"'just\": 5505, \"shy'\": 5506, '47210': 5507, 'soccer': 5508, 'deirdre': 5509, 'bolton': 5510, 'ysjzkf': 5511, 'holman': 5512, 'jenkins': 5513, 'installing': 5514, 'silverlight': 5515, 'plug': 5516, 'competes': 5517, 'amds': 5518, '‘m': 5519, 'commerce’': 5520, '3007': 5521, '48499': 5522, '47652': 5523, '65327990': 5524, 'youngmoneymonsters': 5525, 'c95u': 5526, \"you'd\": 5527, 'dist': 5528, 'beforebell…': 5529, '44381': 5530, '3600406': 5531, 'whatsapp': 5532, 'topbreakoutstocks': 5533, 'v98i7z': 5534, 'amusing': 5535, 'alcohol': 5536, 'inflation': 5537, 'daejft': 5538, 'notebooks': 5539, 'equalize': 5540, '66101698': 5541, '2007apple': 5542, 'adj': 5543, 'exaazi': 5544, 'wld': 5545, 'specialize': 5546, 'sink': 5547, 'suits': 5548, 'smashed': 5549, 'tone': 5550, 'deaf': 5551, 'centre': 5552, 'ties': 5553, 'considers': 5554, '1bsl67z': 5555, 'yang': 5556, 'dumbest': 5557, '“other”': 5558, 'revealing': 5559, 'walter': 5560, 'isaacson': 5561, 'afraid': 5562, 'cannibalize': 5563, 'finviz': 5564, 'd1': 5565, 'negativity': 5566, 'obviously': 5567, 'context': 5568, 'demands': 5569, '2364266': 5570, 'validates': 5571, 'evolent': 5572, 'ndx100': 5573, 'athcr0psyua…': 5574, 'downloaded': 5575, 'robotics': 5576, '1pk3uz': 5577, \"gartner's\": 5578, '2542466': 5579, 'gartners': 5580, 'utx': 5581, 'statista': 5582, '3626': 5583, 'microstrategy': 5584, '1clqisw': 5585, 'awaiting': 5586, 'flexibility': 5587, '¯': 5588, 'breakup': 5589, 'thurs': 5590, '122346': 5591, \"ubben's\": 5592, 'afterhours': 5593, '46206': 5594, 'insidertradingwire': 5595, 'form4': 5596, 'insidertrading': 5597, 'waters': 5598, 'inquisition': 5599, 'predicted': 5600, 'neck': 5601, 'liked': 5602, '1jomqz4': 5603, 'vu': 5604, '030315': 5605, '741721': 5606, 'deluge': 5607, 'rallying': 5608, \"year's\": 5609, 'overheating': 5610, 'fossil': 5611, 'etho': 5612, 'spyx': 5613, 'slcaaf': 5614, '750346': 5615, 'bungie': 5616, 'feud': 5617, 'mktmgl': 5618, '1sjwas4': 5619, '076': 5620, 'utter': 5621, \"where's\": 5622, 'earningsandfinancials': 5623, 'pressreleaseandwebcast': 5624, 'yea': 5625, '3054646': 5626, 'gx7fs': 5627, 'bloatware': 5628, 'causes': 5629, 'retakes': 5630, 'denofgeek': 5631, '36891': 5632, 'vfgpmnhcpxk': 5633, 'climbing': 5634, 'buybuybuy': 5635, '525': 5636, 'popped': 5637, 'tad': 5638, 'tired': 5639, 'garden': 5640, 'farming': 5641, 'eliminate': 5642, 'androidheadlines': 5643, 'konami': 5644, 'egx': 5645, 'shuhei': 5646, 'yoshida': 5647, 'replacing': 5648, 'possibilities': 5649, 'sling': 5650, 'blog…': 5651, 'inventors': 5652, 'radio': 5653, 'inspire': 5654, 'basic': 5655, 'nest': 5656, 'streeteye': 5657, 'my4wpz': 5658, '012715': 5659, '66740012': 5660, '20150417': 5661, 'nadella’s': 5662, 'easiest': 5663, 'backs': 5664, '1gkchhz': 5665, 'glddb8': 5666, '1ixiao': 5667, 'bloody': 5668, '46143': 5669, 'atms': 5670, 'frustration': 5671, \"fitbit's\": 5672, '1kmz9al': 5673, '65526939': 5674, 'nonsense': 5675, 'algorithm': 5676, '1yjadfi': 5677, 'mgt': 5678, 'conf': 5679, 'pps': 5680, 'suppose': 5681, 'archive': 5682, 'fault': 5683, 'conservative': 5684, 'agricole': 5685, \"jaffray's\": 5686, 'stunned': 5687, '68837143': 5688, 'kenny': 5689, 'juankvargas9': 5690, 'harmful': 5691, 'msci': 5692, 'rejects': 5693, 'shut': 5694, 'revamp': 5695, 'mins': 5696, '3628256': 5697, 'neurons': 5698, 'schmidt': 5699, 'sandberg': 5700, 'davos': 5701, 'denied': 5702, 'toronto': 5703, 'youngresearch': 5704, 'researchandanalysis': 5705, '149': 5706, 'footage': 5707, 'naz': 5708, 'densification': 5709, '4sfyb8': 5710, '736676': 5711, 'slammed': 5712, 'fakes': 5713, '2605695': 5714, 'invst': 5715, 'institutions': 5716, 'lays': 5717, 'immersion': 5718, 'playstationlifestyle': 5719, 'prismatic': 5720, 'drove': 5721, 'labor': 5722, 'marketwhitefish': 5723, 'finger': 5724, 'sparks': 5725, 'directx': 5726, 'bouncing': 5727, 'marketplace': 5728, 'unstoppable': 5729, 'nightcap': 5730, 'fkwq4x': 5731, 'definition': 5732, 'effort': 5733, '231xc': 5734, '6m': 5735, 'us…': 5736, '1ksujld': 5737, 'salvage': 5738, '66551698': 5739, 'snapdragon': 5740, 'benchmarks': 5741, 'constructive': 5742, '1ovayf1': 5743, 'pray': 5744, 'sincerest': 5745, 'em3jtt': 5746, 'enjoyed': 5747, 'quotes': 5748, 'wunderlich': 5749, 'brutal': 5750, 'fractional': 5751, 'issuance': 5752, 'eventful': 5753, 'wanna': 5754, 'aliens': 5755, 'tom': 5756, 'burst': 5757, 'timesofindia': 5758, 'indiatimes': 5759, 'cms…': 5760, 'underperformer': 5761, 'pms': 5762, '130395960': 5763, 'plummeted': 5764, '8…': 5765, 'sidelines': 5766, '400m': 5767, 'smartmon': 5768, '1owojjo': 5769, 'forza': 5770, 'vastly': 5771, 'packers': 5772, 'layer': 5773, 'sits': 5774, 'overpaid': 5775, 'goverlan': 5776, 'complimentary': 5777, 'requires': 5778, 'outshining': 5779, '1tqmeir': 5780, 'clip': 5781, 'eogyholnk0000001': 5782, \"'blind\": 5783, \"spot'\": 5784, '061015': 5785, '756650': 5786, 'marchex': 5787, 'present': 5788, 'precious': 5789, 'metals': 5790, 'rel': 5791, 'foundries': 5792, 'cheatsheet': 5793, 'receiving': 5794, 'relatively': 5795, 'tbd': 5796, 'akpaqa': 5797, 'gobbles': 5798, '69231207': 5799, \"nobody's\": 5800, 'timing': 5801, 'booked': 5802, 'greed': 5803, '1cekqcr': 5804, 'manager’s': 5805, 'blasted': 5806, '3593716': 5807, 'drew': 5808, 'competency': 5809, 'aligning': 5810, 'brk': 5811, 'loading': 5812, '1fs9mdy': 5813, '1gnsxxc': 5814, 'advbund': 5815, 'wil': 5816, 'und': 5817, 'kdwbki': 5818, '67022377': 5819, '1buthhb': 5820, '103284': 5821, \"wednesday's\": 5822, 'actx': 5823, 'raiding': 5824, 'mg05aj': 5825, '264': 5826, 'nsa': 5827, 'native': 5828, 'managed': 5829, 'bloombergtv': 5830, '1lmq4x5': 5831, 'bitch': 5832, 'marketfy': 5833, '1184': 5834, '70804': 5835, '2f51aa6f429a989ca7464481dc4bdbbb…': 5836, 'robert': 5837, 'smith': 5838, '268th': 5839, 'wealthiest': 5840, '1j58ryv': 5841, 'rotation': 5842, 'we’re': 5843, 'o4khcgy': 5844, 'euphoria': 5845, 'dd1a93e2d343438da9ac79c1073bf80e': 5846, 'vipers': 5847, '1zga9fk': 5848, '090315': 5849, '769523': 5850, 'v0zh1o': 5851, 'upsides': 5852, '66378634': 5853, 'commences': 5854, 'workmail': 5855, 'functionality': 5856, 'solitaire': 5857, 'rtrs': 5858, 'mondelez': 5859, 'accurate': 5860, 'typescript': 5861, 'interviews': 5862, '“the': 5863, 'forums': 5864, 'nyse': 5865, 'brain': 5866, '1bsnwmt': 5867, '65833006': 5868, 'hiked': 5869, 'pad': 5870, 'creation': 5871, 'spec': 5872, 'cinematic': 5873, \"y'day\": 5874, 'country': 5875, 'chorus': 5876, 'fierce': 5877, 'cdn': 5878, 'pressuring': 5879, '65692096': 5880, 'fans': 5881, '30th': 5882, 'anniversary': 5883, \"editor's\": 5884, 'who’ll': 5885, 'ditched': 5886, 'yellen': 5887, 'remarks': 5888, '3385515': 5889, 'springs': 5890, 'dude': 5891, 'asness’': 5892, 'bounced': 5893, 'piracy': 5894, 'executing': 5895, 'purpose': 5896, 'sway': 5897, 'jeffgrubb': 5898, 'vine': 5899, '47567': 5900, 'savvy': 5901, 'thanksgiving': 5902, 'investorshub': 5903, 'msg': 5904, 'tumbling': 5905, '092815': 5906, '773008': 5907, 'eoy': 5908, '2643095': 5909, '082015': 5910, '767461': 5911, 'crossing': 5912, 'doug': 5913, 'engelbart': 5914, 'invent': 5915, 'wneex1': 5916, '190': 5917, 'dig': 5918, 'match': 5919, 'allegations': 5920, 'totem': 5921, \"sap's\": 5922, '350': 5923, 'stumble': 5924, '3392945': 5925, 'incomplete': 5926, 'microsoft…': 5927, 'be…': 5928, '263': 5929, '761': 5930, \"they'll\": 5931, 'outperforming': 5932, 'enhance': 5933, \"'pandemonium'\": 5934, 'offshore': 5935, 'saving': 5936, '124859': 5937, 'impatient': 5938, 'occupy': 5939, 'slots': 5940, '20151006': 5941, 'retest': 5942, \"money'\": 5943, 'modestly': 5944, 'amd…': 5945, '46471': 5946, 'walmart': 5947, 'noted': 5948, 'coalition': 5949, 'reverend': 5950, 'jackson': 5951, 'commend': 5952, 'grown': 5953, '3146296': 5954, 'obv': 5955, 'yammer': 5956, '101215': 5957, 'avhyr1': 5958, 'py': 5959, \"tonight's\": 5960, \"'away\": 5961, \"google'\": 5962, '1b6n36v': 5963, 'byod': 5964, '733014': 5965, 'uhd': 5966, 'sne…': 5967, 'stirs': 5968, '1tbwanl': 5969, 'effectively': 5970, 'irrational': 5971, 'va': 5972, 'x0ep': 5973, 'corruption': 5974, 'purchases': 5975, 'netherrealm': 5976, '47342': 5977, 'bulk': 5978, 'appl': 5979, 'pose': 5980, '102644941': 5981, 'trivia': 5982, 'marketcap': 5983, 'switzerland': 5984, 'dimensionality': 5985, 'mktstk': 5986, 'unrelated': 5987, 'c2tke': 5988, 'lastest': 5989, 'fractionally': 5990, '133': 5991, 'ogtqqtw': 5992, 'coke': 5993, 'spdr®': 5994, 'hjh07': 5995, 'boon': 5996, 'uneven': 5997, 'affecting': 5998, 'termination': 5999, 'echoes': 6000, 'firstft': 6001, 'tobacco': 6002, 'heffx': 6003, 'ltn': 6004, 'overreactions': 6005, 'bo': 6006, 'searchengineland': 6007, 'amused': 6008, 'muqkz4': 6009, 'scams': 6010, 'biting': 6011, '67021106': 6012, '123926': 6013, 'external': 6014, 'implosion': 6015, 'absurdly': 6016, 'font': 6017, 'technet': 6018, 'merge': 6019, 'screws': 6020, 'identity': 6021, 'callz': 6022, 'n1': 6023, 'roth': 6024, '45897': 6025, 'ree': 6026, 'spur': 6027, 'scam': 6028, 'wintergreen': 6029, 'advisers': 6030, 'gs': 6031, 'suspect': 6032, 'psychology': 6033, 'acting': 6034, \"tomorrow's\": 6035, 'bp': 6036, 'uploaded': 6037, 'sprinklebit': 6038, 'conditions': 6039, 'swell': 6040, 'zerohedge': 6041, 'skipped': 6042, 'disney’s': 6043, 'p2eooox': 6044, 'breaches': 6045, 'fuck': 6046, '1go5bgs': 6047, 'beast': 6048, '4k': 6049, 'zeppelin': 6050, 'eimcorporate': 6051, 'clippers': 6052, 'spurs': 6053, 'eepurl': 6054, '13qlghe': 6055, 'survived': 6056, 'omg': 6057, 'condors': 6058, 'ironcondors': 6059, 'student': 6060, 'pledge': 6061, '3050796': 6062, 'mock': 6063, 'lifted': 6064, 'conundrum': 6065, 'mba': 6066, 'rightswatch': 6067, 'popping': 6068, 'reference': 6069, 'indicator': 6070, 'tweeted': 6071, '732922': 6072, 'entity': 6073, 'watchdox': 6074, '20v20': 6075, 'rudder': 6076, 'overhaul': 6077, '1lftvni': 6078, 'ceramic': 6079, 'infuser': 6080, 'daytrweb': 6081, 'fy14': 6082, 'succeeding': 6083, 'lazy': 6084, 'iwm': 6085, 'ceased': 6086, 'archaic': 6087, 'architecture': 6088, 'workloads': 6089, \"wearables'\": 6090, 'b1qrj': 6091, '3216086': 6092, 'markethttp': 6093, 'ives': 6094, '5891632': 6095, 'ir': 6096, 'deeper': 6097, 'moguls': 6098, '20150806': 6099, 'offloads': 6100, 'cradle': 6101, 'chipmakers': 6102, 'crashed': 6103, 'alternative': 6104, 'holo': 6105, '1100': 6106, 'yelp': 6107, 'stimulus': 6108, 'notches': 6109, \"windows'\": 6110, 'billgates': 6111, 'land': 6112, 'panicking': 6113, 'indicators': 6114, 'worthless': 6115, 'ramps': 6116, 'enthusiasts': 6117, '3639816': 6118, 'debit': 6119, 'defectors': 6120, '605': 6121, 'publicly': 6122, '2852066': 6123, '1cdnzjx': 6124, '1iylnq5': 6125, 'bucks': 6126, '3280855': 6127, \"'14\": 6128, 'reply': 6129, 'protests': 6130, 'policies': 6131, 'weaken': 6132, \"acer's\": 6133, 'acers': 6134, 'lte': 6135, '3671306': 6136, '15yr': 6137, 'stubborn': 6138, 's2xge': 6139, '197': 6140, \"ceo's\": 6141, 'gjuxfz': 6142, 'jeffrey': 6143, '1rwdd3a': 6144, 'hound': 6145, 'trapped': 6146, 'curiouscatblog': 6147, '3212806': 6148, 'influence': 6149, 'masters': 6150, 'diuyte': 6151, 'minds': 6152, '“immune”': 6153, 'dayhttp': 6154, \"could've\": 6155, 'areas': 6156, '2awcj8': 6157, 'faulty': 6158, 'sizzles': 6159, 'fizzles': 6160, '1d0pbzl': 6161, 'dreaming': 6162, 'alarms': 6163, 'snadsu': 6164, 'regain': 6165, 'licence': 6166, '2617085': 6167, 'spots': 6168, '3703486': 6169, 'sadly': 6170, \"facebook's\": 6171, '9906': 6172, 'funding': 6173, '1qjoz7h': 6174, 'bonuses': 6175, '45160': 6176, 'punching': 6177, 'yest': 6178, 'lackluster': 6179, 'qz': 6180, 'qlik': 6181, 'bolsters': 6182, 'example': 6183, 'scharts': 6184, 'frtvvj': 6185, '200d': 6186, 'constantly': 6187, 'tstock': 6188, '6d6kwh': 6189, 'harvest': 6190, 'harris': 6191, 'legalizing': 6192, 'the…': 6193, 'coulda': 6194, 'bankers': 6195, 'hired': 6196, 'fy16': 6197, '44857': 6198, '950xl': 6199, '68895004': 6200, 'ass': 6201, 'alsabogal': 6202, 'cows': 6203, '20151008': 6204, 'exact': 6205, 'buyouts': 6206, 'particularly': 6207, 'vid': 6208, 'unite': 6209, 'reauthorization': 6210, 'patriot': 6211, '67022011': 6212, \"'tries\": 6213, \"hard'\": 6214, '48374': 6215, 'k': 6216, 'socially': 6217, '47420': 6218, 'mayer': 6219, 'opp': 6220, 'contenders': 6221, 'safer': 6222, 'headcount': 6223, 'wrd': 6224, '060415': 6225, '755693': 6226, 'china’s': 6227, 'retain': 6228, '3354755': 6229, 'properties': 6230, 'resigned': 6231, 'bitter': 6232, 'uefa': 6233, 'champions': 6234, 'gps': 6235, 'stopping': 6236, 'm3qv8n': 6237, 'smtraderca': 6238, 'crapped': 6239, 'sthash': 6240, 'dpuf…': 6241, 'keqwlwl': 6242, 'reaffirmed': 6243, 'openoutcrier': 6244, 'tests': 6245, 'letterman': 6246, 'paris': 6247, 'contra': 6248, 'www2': 6249, 'dam': 6250, 'telecommunications': 6251, 'dds': 6252, 'adopt': 6253, 'tradefollowers': 6254, 'mmmm': 6255, 'bofa': 6256, '9869': 6257, 'hating': 6258, '1fmboir': 6259, '45371': 6260, 'brillo': 6261, 'investigating': 6262, 'xphone': 6263, 'ru': 6264, 'integrates': 6265, 'functions': 6266, \"2's\": 6267, '48422': 6268, '2s': 6269, '1hjkiki': 6270, '30s': 6271, 'gregg': 6272, 'author': 6273, '561': 6274, '704': 6275, 'regains': 6276, 'sandp': 6277, 'rectifying': 6278, 'corrupt': 6279, 'sequence': 6280, '031215': 6281, 'wondered': 6282, 'hedgies': 6283, '042215': 6284, '749206': 6285, 'abbvie': 6286, 'alexion': 6287, 'alaska': 6288, 'southwest': 6289, 'capitaloversight': 6290, 'bjwtb1': 6291, 'exists': 6292, 'haven': 6293, 's7kcs6': 6294, '113015': 6295, 'initiative': 6296, '122316': 6297, 'boo': 6298, 'men': 6299, 'behave': 6300, 'clarifies': 6301, 'primesense': 6302, 'c…': 6303, '779747': 6304, '3156226': 6305, 'magid': 6306, 'crwn': 6307, 'ath': 6308, 'propaganda': 6309, '640': 6310, 'typical': 6311, '020215': 6312, '737454': 6313, '1centve': 6314, 'aces': 6315, 'satisfaction': 6316, 'infinite': 6317, 'wlvb1f': 6318, 'pressing': 6319, 'remorse': 6320, 'fearless': 6321, 'blunders': 6322, '1hcexcg': 6323, '49094': 6324, 'ark': 6325, 'survival': 6326, 'personally': 6327, 'iball': 6328, 'aiming': 6329, 'wellness': 6330, '081415': 6331, '766652': 6332, '‘s': 6333, '1qa8v7': 6334, '1evwc2c': 6335, 'atm': 6336, 'nqc24ml': 6337, 'cvx': 6338, 'bidnessetc': 6339, 'won’t': 6340, 'stylus': 6341, 'chibooth': 6342, '1mos2yb': 6343, 'primps': 6344, 'nears': 6345, '20150318': 6346, 'embarrassment': 6347, 'slate': 6348, 'bully': 6349, 'roxqsv': 6350, 'talent': 6351, 'usatodaytech': 6352, '49bcet': 6353, 's1l4p': 6354, 'isn’t': 6355, 'loaners': 6356, 'idiots': 6357, 'distant': 6358, 'liquidity': 6359, 'dives': 6360, 'thriving': 6361, '755959': 6362, 'express': 6363, 'query': 6364, '1e25sbe': 6365, 'laugh': 6366, 'drug': 6367, 'adverse': 6368, 'findings': 6369, '765': 6370, 'honeywell': 6371, '1r9zhm1': 6372, 'standing': 6373, 'hvst': 6374, 'stalled': 6375, 'structure': 6376, 'priv': 6377, 'sizzle': 6378, 'orxyp3': 6379, 'ep': 6380, 'fastest': 6381, '46685': 6382, '030615': 6383, '204': 6384, 'scanner': 6385, '33687': 6386, 'growth…': 6387, 'idf': 6388, 'taker': 6389, 'consortium': 6390, \"heuer's\": 6391, '3672366': 6392, 'heuers': 6393, 'spree': 6394, 'farmer': 6395, 'prem': 6396, 'uber…': 6397, 'cake': 6398, 'corner': 6399, 'qa': 6400, 'iclohg': 6401, 'concerned': 6402, '1dwhc7j': 6403, 'yep': 6404, 'pawn': 6405, 'sleep': 6406, \"peck's\": 6407, 'trio': 6408, 'arinovastech': 6409, 'cioonline': 6410, '3013517': 6411, 'clips': 6412, 'las': 6413, 'sparta': 6414, '20150826': 6415, 'weapons': 6416, '1oe6pjx': 6417, 'collateral': 6418, 'fy85rn': 6419, '1iciod5': 6420, 'riskiest': 6421, 'berlin': 6422, '124539': 6423, 'mar': 6424, 'zloznl1pers3z': 6425, '1tb': 6426, '3688596': 6427, 'believed': 6428, 'ridiculousness': 6429, 'himx': 6430, '2842006': 6431, 'technologies…': 6432, 'confounded': 6433, 'dailyfinance': 6434, 'dgi': 6435, 'aolshare': 6436, 'likefolio': 6437, '109223798362': 6438, '163049174': 6439, 'aware': 6440, 'lies': 6441, 'mney': 6442, '1gp0pcd': 6443, '20150707': 6444, 'outage': 6445, 'judge': 6446, 'colossal': 6447, 'exclusion': 6448, '121415': 6449, 'ne': 6450, 'jlb': 6451, 'meter': 6452, 'rough': 6453, 'involved': 6454, '20150423': 6455, 'refusing': 6456, '783137': 6457, 'subs': 6458, 'secular': 6459, 'toward': 6460, 'flowing': 6461, 'iwatch': 6462, 'icon': 6463, 'syncing': 6464, 'metric': 6465, 'lotto': 6466, 'sum': 6467, 'exploited': 6468, 'newsweek': 6469, '358952…': 6470, \"'07\": 6471, 'gifts': 6472, '122819': 6473, 'composed': 6474, 'ibooks': 6475, '67021431': 6476, 'brin': 6477, '1ayh4qe': 6478, 'nl': 6479, 'claytrader': 6480, 'marriott': 6481, 'paper': 6482, 'lmao': 6483, 'pls': 6484, 'brian': 6485, 'nelson': 6486, '47776': 6487, 'carlquintanilla': 6488, 'rant': 6489, '65999845': 6490, 'swung': 6491, 'wpp': 6492, 'woo': 6493, '3782856': 6494, 'opex': 6495, 'performers': 6496, 'questioning': 6497, 'yours': 6498, '1bfm5vc': 6499, '773598': 6500, '1dfu5bz': 6501, 'celgene': 6502, 'topping': 6503, 'cbsnews': 6504, '1grjwm5': 6505, 'bymch': 6506, 'jasonbondpicks': 6507, 'aff': 6508, 'jbpd4219': 6509, 'jbpsales…': 6510, '50sma': 6511, '012215': 6512, '735811': 6513, 'inflow': 6514, 'ema50': 6515, 'nearing': 6516, '1aewn6e': 6517, 'heart': 6518, 'calories': 6519, 'cares': 6520, '783350': 6521, '3303815': 6522, '1exlwid': 6523, 'personaltech': 6524, 'pundits': 6525, 'flipkart': 6526, '67019924': 6527, 'enable': 6528, '20150702': 6529, 'terrorists': 6530, 'terms': 6531, 'exploring': 6532, 'restricts': 6533, 'hpe': 6534, 'news360': 6535, 'installed': 6536, 'climb': 6537, 'yielding': 6538, 'tectonic': 6539, '67485430': 6540, '1iqldtp': 6541, 'youve': 6542, 'cites': 6543, '1ivovgd': 6544, 'streamed': 6545, 'calomas': 6546, 'fergie': 6547, 'jw847e': 6548, 'horror': 6549, '1y3dc5g': 6550, 'brettarends': 6551, '1q1kxnf': 6552, 'moore': 6553, 'recounts': 6554, 'ring': 6555, \"yesterday's's\": 6556, 'pp6hd5r': 6557, '238': 6558, 'war…': 6559, 'letter': 6560, 'destroying': 6561, '787477': 6562, 'choose': 6563, 'background': 6564, 'observe': 6565, 'founders': 6566, 'entirely': 6567, 'surely': 6568, '0u4ty7': 6569, 'pounded': 6570, 'ss': 6571, 'spelling': 6572, '12…': 6573, '17azwyl': 6574, 'surging': 6575, 'vnkoiy5jk54': 6576, 'ofc': 6577, '66132534': 6578, 'establishing': 6579, 'privileges': 6580, 'arriving': 6581, \"jobs'\": 6582, '1o4uyhk': 6583, 'wouldn’t': 6584, 'situation”': 6585, 'some1': 6586, '748424': 6587, 'searched': 6588, '20150514': 6589, 'magnet': 6590, 'visceral': 6591, 'indication': 6592, 'expansion': 6593, 'reclaim': 6594, 'rile': 6595, 'unknown': 6596, 'threatening': 6597, '67019557': 6598, '9709': 6599, 'weighed': 6600, 'reenables': 6601, '10’s': 6602, 'preferences': 6603, 'abandon': 6604, 'armed': 6605, 'tsrc': 6606, 'applewf…': 6607, '782690': 6608, 'underweight': 6609, '1txvhcg': 6610, 'ugh': 6611, 'tmo': 6612, 'rss': 6613, '2797705': 6614, 'outperforms': 6615, 'mgx00z': 6616, 'y0': 6617, 'autopsy': 6618, 'vhvijh': 6619, '67018663': 6620, '122685': 6621, 'bte': 6622, 'shining': 6623, 'actual': 6624, '65237636': 6625, '10min': 6626, 'reorg': 6627, 'craziness': 6628, '1vkwgoo': 6629, 'pope': 6630, 'doubles': 6631, 'year…': 6632, 'taiwan': 6633, '2817936': 6634, 'carpedmstocks': 6635, 'sdig': 6636, 'rite': 6637, '3f9o2u': 6638, 'salpha': 6639, '12tsme': 6640, '1acgbm4': 6641, 'b4e5e3c5eb6301f16832f7e51a17a563': 6642, \"shiller's\": 6643, '3526516': 6644, 'shillers': 6645, 'persistshttp': 6646, 'vote': 6647, 'yhs5l0': 6648, 'combinator': 6649, 'credits': 6650, 'bnn': 6651, 'quarter’s': 6652, 'eager': 6653, 'undermining': 6654, '67020510': 6655, 'windows10': 6656, 'imminent': 6657, 'eastar': 6658, '47183': 6659, 'vendor': 6660, 'handheld': 6661, 'newsmax': 6662, 'prison': 6663, 'revolutionary': 6664, 'response': 6665, 'sq': 6666, \"o'leary\": 6667, '1colkie': 6668, 'p…': 6669, 'ey': 6670, 'elephone': 6671, 'gild': 6672, 'cord': 6673, 'antsy': 6674, 'isn': 6675, 'central': 6676, 'sniffs': 6677, 'lurking': 6678, 'geekwire': 6679, 'decreasing': 6680, 'whining': 6681, 'latency': 6682, 'interrupt': 6683, 'thread': 6684, 'shuts': 6685, 'drunk': 6686, \"'steam\": 6687, \"machines'\": 6688, 'stacks': 6689, '3047766': 6690, \"pine's\": 6691, 'taste': 6692, \"enemy's\": 6693, 'famous': 6694, 'acompli': 6695, 'qtrs': 6696, 'behavior': 6697, '21643': 6698, 'chessnwine': 6699, 'mister': 6700, 'partnering': 6701, 'spleverage': 6702, 'overdue': 6703, 'sunset': 6704, 'strategyanalytics': 6705, '47198': 6706, '2ds': 6707, 'trackers': 6708, 'press': 6709, 'divide': 6710, 'transcript': 6711, 'speech': 6712, '20rq7dw': 6713, 'legit': 6714, '591': 6715, 'scorecard': 6716, 'improved': 6717, '67022530': 6718, '1vxjfe3': 6719, '7jgf5a': 6720, '3356125': 6721, 'joe': 6722, \"eu's\": 6723, '67403164': 6724, 'supporting': 6725, 'attached': 6726, 'invixwetrust': 6727, 'bracket': 6728, '65951394': 6729, '15lgkxu': 6730, 'strengthening': 6731, 'caixin': 6732, '1p3o75c': 6733, 'shifted': 6734, 'mover': 6735, '67019205': 6736, 'nature': 6737, 'upp8mk': 6738, '3236666': 6739, '3739426': 6740, 'unease': 6741, 'lives': 6742, 'streetwise': 6743, 'als0': 6744, 'families': 6745, 'bigstory': 6746, 'market…': 6747, 'bungie’s': 6748, 'acinvestorblog': 6749, 'pursuing': 6750, 'b1wx8': 6751, \"companies'\": 6752, 's2y5b': 6753, 'mtc': 6754, 'gw': 6755, 'testy': 6756, 'cmcmarkets': 6757, 't7jvqw': 6758, 'fyq4': 6759, 'minimum': 6760, 'ttrxg5': 6761, 'tq7dqp': 6762, 'cocktails': 6763, 'retesting': 6764, 'commodities': 6765, 'halloween': 6766, 'shore': 6767, 'senator': 6768, 'accumulated': 6769, 'taxes…': 6770, '232': 6771, 'tradewithjoe': 6772, 'royale': 6773, 'eating': 6774, '3768546': 6775, 'ign': 6776, 'frequently': 6777, 'stealthy': 6778, 'barcelona': 6779, 'fireeye': 6780, 'russian': 6781, '5422268': 6782, '2804325': 6783, 'balls': 6784, 'ongoing': 6785, 'whatever': 6786, 'arrives': 6787, 'brazil': 6788, 'takeoff': 6789, '173724420': 6790, 'fyq3': 6791, 'shakes': 6792, '1hwfpsx': 6793, '3447036': 6794, '47724': 6795, 'upon': 6796, 'retrace': 6797, 'metaphysical': 6798, 'karma': 6799, '1jnmmzc': 6800, 'sequels': 6801, '3578826': 6802, 'perks': 6803, 'decepciona': 6804, 'mercado': 6805, 'ticking': 6806, 'ffs': 6807, 'heavyweights': 6808, 'gig': 6809, 'fs': 6810, '2430446': 6811, 'fsrc': 6812, 'scn': 6813, '‘game': 6814, 'excuse': 6815, 'qjr5yn': 6816, 'dominant': 6817, 'capital’s': 6818, '2900416': 6819, 'donated': 6820, 'headwind': 6821, 'killers': 6822, 'aftermarket': 6823, 'pixar': 6824, '1ntj79n': 6825, 'pfe': 6826, '17woq7d': 6827, 'trendy': 6828, '67021727': 6829, 'upwards': 6830, 'aal': 6831, '1oci4hb': 6832, 'avalance': 6833, 'studios': 6834, 'fairly': 6835, 'sights': 6836, 'honest': 6837, 'stash': 6838, 'fps': 6839, 'amoled': 6840, 'epoch': 6841, 'ttjwn': 6842, '45105': 6843, 'assassins': 6844, 'creed': 6845, 'vacation': 6846, 'awhile': 6847, '725': 6848, 'barack': 6849, 'bands': 6850, '062315': 6851, '758617': 6852, 'golf': 6853, 'sbux': 6854, 'planned': 6855, '783184': 6856, 'honestly': 6857, 'halftime': 6858, '9kbgsa': 6859, '3536546': 6860, 'speakers': 6861, 'goankar': 6862, 'religion': 6863, 'sic': 6864, 'lookup': 6865, 'hoverboards': 6866, 'expert': 6867, '3651596': 6868, 'igte': 6869, 'walt': 6870, 'mossberg': 6871, 'facebook…': 6872, '67140164': 6873, 'serves': 6874, '2533076': 6875, 'flossbach': 6876, 'von': 6877, 'storch': 6878, 'member': 6879, 'o365': 6880, 'quivering': 6881, 'qs': 6882, 'marketo': 6883, 'z7upj8': 6884, 'blast': 6885, '…https': 6886, 'activetraders': 6887, 'socialmarketanalytics': 6888, \"'within\": 6889, \"days'\": 6890, 'addresses': 6891, 've': 6892, 'blocked': 6893, 'loopholes': 6894, 'sealed': 6895, '3283225': 6896, 'spikes': 6897, '102215': 6898, '776943': 6899, 'logistics': 6900, 'zixamv': 6901, 'caymans': 6902, 'dodgers': 6903, '2q': 6904, 'roi': 6905, 'finishes': 6906, 'economics': 6907, 'f2f8v': 6908, 'images': 6909, 'copyright': 6910, '65m': 6911, 'peer': 6912, 'diversify': 6913, '032715': 6914, '745427': 6915, 'estate': 6916, 'greenback': 6917, 'alot': 6918, 'stmz': 6919, 'sticker': 6920, '111': 6921, '47296': 6922, '5s': 6923, 'initiatives': 6924, 'foursquare': 6925, 'ttl': 6926, 'frm': 6927, '1zplqvr': 6928, 'dnan…': 6929, 'owner': 6930, 'upset': 6931, 'cart': 6932, 'mf': 6933, 'probanal': 6934, 'suing': 6935, '65183932': 6936, 'lee': 6937, 'ainslie': 6938, 'gateway': 6939, '48266': 6940, '1roq6js�': 6941, 'approval': 6942, '49166': 6943, 'izz': 6944, 'gogogo': 6945, 'wannabes': 6946, '7000': 6947, 'blueeye': 6948, 'g47wdjaan4': 6949, 'analogy': 6950, 'hyperlapse': 6951, 'smooth': 6952, 'complain': 6953, 'unlicensed': 6954, 'payday': 6955, 'resigns': 6956, 'vi': 6957, 'troubled': 6958, 'bernadette': 6959, 'cute': 6960, 'grain': 6961, 'salt': 6962, '1uxspah': 6963, 'clowd': 6964, '1xk7yov': 6965, 'abounds': 6966, 'sending': 6967, 'dj': 6968, 'darkhorse': 6969, 'shop': 6970, '1elomql': 6971, 'teens': 6972, '67019700': 6973, '1thi5ed': 6974, '3364175': 6975, 'earnings1': 6976, '18f5ubn': 6977, 'dazed': 6978, 'outcome': 6979, '45190': 6980, '2935896': 6981, '54m': 6982, 'waste': 6983, 'individual': 6984, 'scale': 6985, 'caution': 6986, '3706906': 6987, 'airlines': 6988, 'projekt': 6989, 'witcher': 6990, 'sweetalpha': 6991, '3143796': 6992, 'spin': 6993, '042315': 6994, 'cheapest': 6995, '4gb': 6996, 'phased': 6997, 'worn': 6998, 'nap': 6999, 'narrows': 7000, 'bilo': 7001, 'selhi': 7002, '3481716': 7003, 'helm': 7004, 'smash': 7005, 'binary': 7006, 'flattish': 7007, 'refresh': 7008, 'particular': 7009, 'pfl': 7010, 'shot': 7011, 'acknowledged': 7012, 'lying': 7013, 'yc': 7014, '2lemetry': 7015, 'lineup': 7016, 'whitefish': 7017, 'accesswire': 7018, '3658116': 7019, 'wouldnt': 7020, 'latter': 7021, 'td': 7022, 'ignites': 7023, 'essential': 7024, 'useless': 7025, 'sued': 7026, 'gathers': 7027, 'ammo': 7028, '76th': 7029, 'jab': 7030, 'techies': 7031, 'penalty': 7032, 'odms': 7033, 'fundamentals': 7034, '3211166': 7035, 'overtake': 7036, '67022456': 7037, \"investor's\": 7038, 'diff': 7039, 'wear': 7040, 'wary': 7041, 'outpaces': 7042, 'marked': 7043, \"''special''\": 7044, 'pool': 7045, 'squareenix': 7046, \"'wasn't\": 7047, \"decision'\": 7048, '46712': 7049, 'wasnt': 7050, 'panay': 7051, '13f': 7052, 'reinvention': 7053, 'recommend': 7054, 'breathtaking': 7055, '9hrlcc': 7056, 'nose': 7057, '2544726': 7058, 'win7': 7059, '3535106': 7060, \"war'\": 7061, 'answered': 7062, '69559578': 7063, 'la': 7064, 'cheated': 7065, 'qhjsgl': 7066, 'forming': 7067, 'jdecuy': 7068, '3238936': 7069, 'teaching': 7070, 'seattletimes': 7071, 'businesstechnology': 7072, 'messenging': 7073, 'terrorism': 7074, 'dongles': 7075, 'jonathon': 7076, 'jacobson’s': 7077, 'samsung’s': 7078, 'marching': 7079, 'activation': 7080, 'reiterates': 7081, 'paul': 7082, 'allen': 7083, 'catalysts': 7084, 'nor': 7085, '122711': 7086, 'noses': 7087, 'rare': 7088, '1f4fwln': 7089, 'lookin': 7090, 'androidhttp': 7091, 'deny': 7092, '2yxuyg': 7093, 'proper': 7094, 'multiscreen': 7095, 'dithering': 7096, 'rebounding': 7097, 'ii': 7098, 'sap': 7099, '30x': 7100, 'linkid': 7101, 'hedgepulse': 7102, 'consecutive': 7103, 'digit': 7104, 'vm': 7105, 'contacts': 7106, '3a': 7107, '1994': 7108, '2001': 7109, '1jq0tb7': 7110, '1owboko': 7111, 'adhedgfut': 7112, 'dtgoody': 7113, 'consolidates': 7114, 'osnews': 7115, 'parliament': 7116, 'approve': 7117, 'investigations': 7118, '3293315': 7119, \"oracle's\": 7120, 'now…': 7121, '117': 7122, 'consolidated': 7123, 'strategictechinvestor': 7124, '051415': 7125, '752634': 7126, 'forecasting': 7127, 'counter': 7128, '3214796': 7129, '122357': 7130, 'relic': 7131, 'aka': 7132, 'storing': 7133, '21st': 7134, 'b4': 7135, 'arguments': 7136, 'hotels': 7137, 'cow': 7138, 'nowhere': 7139, 'remaining': 7140, '3720796': 7141, 'sf': 7142, 'spell': 7143, 'tipping': 7144, 'scalp': 7145, 'suowv': 7146, 'enuf': 7147, 'alarmists': 7148, 'luddite': 7149, \"'never'\": 7150, '46191': 7151, '1200': 7152, 'utility': 7153, 'rotating': 7154, 'score': 7155, 'lest': 7156, 'rallied': 7157, '1fx1aul': 7158, 'videohttp': 7159, '1cy04gm': 7160, 'wit': 7161, 'odd': 7162, 'marker': 7163, 'trmaxweb': 7164, 'automatically': 7165, 'consent': 7166, '3276035': 7167, 'loophole': 7168, '67022095': 7169, 'appreciate': 7170, 'corrected': 7171, 'conquer': 7172, 'vengeance': 7173, 'itm': 7174, 'hedged': 7175, '3315365': 7176, 'digitaltrends': 7177, 'technologiess': 7178, 'mobil': 7179, 'copies': 7180, 'ridiculously': 7181, 'suggests': 7182, 'foohm71': 7183, 'mobilepotpurri': 7184, 'legends': 7185, 'naysayers': 7186, 'her': 7187, 'zhdx8g': 7188, 'recurring': 7189, 'fetch': 7190, 'shitty': 7191, 'unborn': 7192, '121815': 7193, '785993': 7194, 'cert': 7195, 'ncas': 7196, 'backtested': 7197, 'macbooks': 7198, 'thou': 7199, 'immense': 7200, 'd2j1bx': 7201, 'constructing': 7202, 'antifragile': 7203, 'flops': 7204, 'generally': 7205, 'nvda': 7206, 'coolest': 7207, 'mtg': 7208, 'ordinary': 7209, 'moments': 7210, 'aug': 7211, '071115': 7212, 'senators': 7213, 'kevin': 7214, '19th': 7215, '1lpsvfd': 7216, 'fields': 7217, 'africa': 7218, 'focusing': 7219, 'countries': 7220, 'uncertainty': 7221, '46346': 7222, '5180721': 7223, 'older': 7224, 'salaries': 7225, 'goodness': 7226, '7868251': 7227, 'experience…': 7228, 'cyn': 7229, '46220': 7230, \"'sell'\": 7231, '3343865': 7232, '118705': 7233, 'realistic': 7234, 'utf8': 7235, 'train': 7236, '49296': 7237, 'framerates': 7238, 'master': 7239, 'lawyers': 7240, 'supremacy': 7241, 'cracked': 7242, 'dmackdaddy': 7243, '1997': 7244, '21cpg': 7245, 'extend': 7246, '1dvjfjc': 7247, '3364325': 7248, '1819': 7249, 'vz': 7250, '47122': 7251, 'holy': 7252, 'videogames': 7253, 'photos': 7254, '3602966': 7255, 'qj8tfve': 7256, 'mimecast': 7257, 'lens': 7258, 'threaten': 7259, 'exhausted': 7260, 'meat': 7261, 'mojang': 7262, '3ixmvg': 7263, 'satoru': 7264, 'iwata': 7265, 'passive': 7266, '1xkkkxz': 7267, '4g': 7268, 'briefly': 7269, 'unhealthier': 7270, 'loads': 7271, 'safety': 7272, '1rw7o': 7273, '091115': 7274, '3142486': 7275, 'visionary': 7276, 'dolby': 7277, 'widens': 7278, 'hoarding': 7279, 'unbiasedpenny': 7280, '1i78sjl': 7281, 'gtnr': 7282, '1sjxeav': 7283, 'e1tel': 7284, 'pointed': 7285, 'heuer': 7286, 'smartwatch': 7287, 'bankrupt': 7288, 'item': 7289, 'junk': 7290, 'aths': 7291, '1b3cvzs': 7292, '4pm': 7293, 'cracks': 7294, '67022196': 7295, \"q1'12\": 7296, \"q1'13\": 7297, \"q1'14\": 7298, '71http': 7299, 'stocksearning': 7300, 'sys': 7301, 'spyware': 7302, 'pictures': 7303, 'kenya': 7304, 'mfi': 7305, 'nav': 7306, 'achieved': 7307, 'marketshare': 7308, '102915': 7309, '778151': 7310, 'htc': 7311, 'insanely': 7312, 'clicks': 7313, '113874075974': 7314, 'unv': 7315, '5437270': 7316, 'moral': 7317, 'computex': 7318, 'rooms': 7319, 'circumstances': 7320, '295': 7321, 'rut': 7322, 'setbacks': 7323, '900': 7324, 'humbug': 7325, 'shun': 7326, 'shanghai': 7327, 'diana': 7328, 'pallais': 7329, 'appointed': 7330, 'poverty': 7331, 'ambassador': 7332, 'ringing': 7333, 'itworx': 7334, 'bett': 7335, 'tremendous': 7336, 'bros': 7337, '172': 7338, 'sorts': 7339, 'aint': 7340, 'motors': 7341, 'gamescom': 7342, 'compelling': 7343, 'ddsjdm': 7344, 'goods': 7345, '1fq8z1u': 7346, 'lunch': 7347, 'elastic': 7348, 'romnick': 7349, 'chipotle': 7350, \"'em\": 7351, 'born': 7352, \"she's\": 7353, 'breath': 7354, 'collective': 7355, 'snbu57': 7356, 'knocks': 7357, 'courtesy': 7358, 'flooding': 7359, 'brink': 7360, 'viewing': 7361, 'shortage': 7362, 'hbr': 7363, 'company…': 7364, 'injustice': 7365, 'requirements': 7366, 'seconds': 7367, 'cough': 7368, 'enabled': 7369, 'ww': 7370, 'mars': 7371, 'tonite': 7372, 'magicka': 7373, '1cciqlq': 7374, 'believer': 7375, 'extent': 7376, '062915': 7377, 'talked': 7378, 'thats': 7379, 'mkm': 7380, 'complained': 7381, 'ssh': 7382, 'tips': 7383, '3424106': 7384, 'playmates': 7385, 'joyride': 7386, '3613736': 7387, 'akamais': 7388, 'lat': 7389, 'ouaeks3': 7390, 'nke': 7391, 'guessing': 7392, '838': 7393, '801': 7394, 'oof': 7395, 'gienz': 7396, 'msn': 7397, 'p5brztb': 7398, 'bizjournals': 7399, 'techflash': 7400, 'restraints': 7401, 'adrenaline': 7402, 'o64sfva': 7403, 'marissa': 7404, \"'halo\": 7405, 'entice': 7406, 'patches': 7407, 'controllers': 7408, 'hdd': 7409, 'refs': 7410, \"we've\": 7411, 'sep15': 7412, 'audited': 7413, 'rebound': 7414, '1mucmwh': 7415, 'gaps': 7416, 'dji': 7417, 'incl': 7418, 'farnam': 7419, 'chipmaker': 7420, 'hero': 7421, 'proposition': 7422, 'regulators': 7423, 'jsp': 7424, 'ibdeditorials': 7425, 'reception': 7426, 'boomers': 7427, '0…': 7428, 'profitably': 7429, '67022747': 7430, 'pointing': 7431, '67021522': 7432, 'joy': 7433, 'eyeing': 7434, '1el43uo': 7435, 'limits': 7436, '1d1b4y8': 7437, '65940761': 7438, 'shoulders': 7439, 'younger': 7440, 'suitor': 7441, '1nnahas': 7442, 'github': 7443, 'conquered': 7444, 'reworked': 7445, 'sues': 7446, 'petrobras': 7447, 'auditor': 7448, 'club': 7449, 'royalty': 7450, '4b': 7451, 'chargedoubler': 7452, 'v2': 7453, 'electric': 7454, 'trials': 7455, 'roseasp': 7456, 'chapter': 7457, 'oscillators': 7458, 'wwii': 7459, 'brazenly': 7460, 'tnzar0': 7461, 'synergy': 7462, 'oft': 7463, 'grossing': 7464, 'ovi': 7465, '3520096': 7466, 'belichick': 7467, 'years…': 7468, 'midst': 7469, 'shoot': 7470, 'activated': 7471, 'em': 7472, '1mfwffs': 7473, 'trajectories': 7474, \"thursday's\": 7475, 'vkaejfyw': 7476, 'symantec': 7477, 'introduce': 7478, 'tussle': 7479, 'amy': 7480, 'atop': 7481, 'submit': 7482, 'playlist': 7483, '131731526': 7484, '1vokj7k': 7485, 'convergence': 7486, \"5'\": 7487, 'historical': 7488, 'woah': 7489, 'juniper': 7490, 'omnicare': 7491, 'admitting': 7492, 'uv': 7493, 'wut': 7494, 'senior': 7495, 'mention': 7496, '31st': 7497, 'temp': 7498, 'wuz': 7499, 'scraps': 7500, 'governments': 7501, 'excites': 7502, '1980': 7503, 'preferable': 7504, 'traditional': 7505, 'plunging': 7506, 'turtlebeach': 7507, 'stealth': 7508, '420x': 7509, 'turtle': 7510, 'beach': 7511, 'tokyo': 7512, 'shinjiru': 7513, 'marketjolt': 7514, '112815': 7515, '782870': 7516, 'trump': 7517, 'confessions': 7518, 'adviser': 7519, 'scarf': 7520, 'beauty': 7521, '87': 7522, 'newly': 7523, 'adswhen': 7524, 'toys': 7525, '783199': 7526, 'ranks': 7527, 'pot': 7528, 'winphone': 7529, 'intense': 7530, 'networkworld': 7531, 'tab': 7532, 'alipay': 7533, 'progressive': 7534, 'spoiling': 7535, \"'go\": 7536, 'fbi': 7537, 'yacht': 7538, 'warship': 7539, 'theater': 7540, 'discussing': 7541, 'gif': 7542, 'linger': 7543, 'maintains': 7544, 'boyer': 7545, \"'fanatical'\": 7546, '071315': 7547, '761287': 7548, 'atlanta': 7549, 'invade': 7550, 'halolens': 7551, 'generates': 7552, 'excitement': 7553, 'invests': 7554, 'computation': 7555, 'listings': 7556, 'qhd': 7557, '20mp': 7558, 'bio': 7559, 'hopefully': 7560, 'headphones': 7561, 'happily': 7562, 'mbid': 7563, 'assessing': 7564, 'moincstra': 7565, '118898': 7566, 'cable': 7567, 'encore': 7568, 'roof': 7569, 'historically': 7570, 'mount': 7571, 'riskhttp': 7572, 'genetics': 7573, 'thomas': 7574, 'hahn': 7575, 'expertise': 7576, 'falters': 7577, 'molyneux': 7578, 'overpromise': 7579, 'portfolios': 7580, 'intuit': 7581, '1980s': 7582, '596bfc3c9d': 7583, 'mckesson': 7584, 'paragon': 7585, 'turmoil': 7586, 'rebalance': 7587, 'sleepless': 7588, 'nights': 7589, 'married': 7590, 'blend': 7591, 'ultra': 7592, 'gs40': 7593, 'packs': 7594, 'mailbox': 7595, 'method': 7596, 'dickens': 7597, 'discovered': 7598, 'unreliable': 7599, 'componens': 7600, '1idcd9g': 7601, '9n73g…': 7602, 'fraction': 7603, 'opciones': 7604, 'activas': 7605, 'cheerleader': 7606, '67198621': 7607, 'surprisingly': 7608, 'afterwards': 7609, '2952456': 7610, 'stubbornly': 7611, 'refuse': 7612, 'inlgn': 7613, 'shchurmoney': 7614, \"'google'\": 7615, '1jdrqmb': 7616, 'gut': 7617, 'crawl': 7618, '1d0nnfe': 7619, 'ylurtji3r8': 7620, '011415': 7621, '734705': 7622, '679050299827294208…': 7623, '1fje8zz': 7624, 'hacker': 7625, 'cx9hzt': 7626, 'peanuts': 7627, 'copyrights': 7628, 'forbid': 7629, 'p3kk6e': 7630, 'excluding': 7631, 'ppoint': 7632, '1stibgk': 7633, '680455014859423744…': 7634, '1g4pshb': 7635, 'q2heb': 7636, '1jjwxoc': 7637, 'showtime': 7638, '2856106': 7639, 'grindtime': 7640, 'j1c3m': 7641, \"pe's\": 7642, 'moon': 7643, 'hotspot': 7644, 'netgear': 7645, 'fuse': 7646, 'newsroom': 7647, '1tzvyco': 7648, 'salphatech': 7649, '966': 7650, '1yqbo1c': 7651, '945': 7652, 'erp': 7653, 's2tyi': 7654, '47070': 7655, 'mathiaspau': 7656, '682354597625786368…': 7657, 'hwayoutaline': 7658, 'nosy': 7659, '1451077454…': 7660, 'hit…': 7661, 'powerhouse': 7662, 'offensive': 7663, 'transformers': 7664, 'devastation': 7665, '1j7lxv1': 7666, '44776': 7667, 'dn': 7668, 'dn2': 7669, 'swinging': 7670, '3083746': 7671, '67624439': 7672, '10k': 7673, 's1gpn': 7674, '1j5nzdt': 7675, 'hhmu0og9ys': 7676, '3737816': 7677, 'knocked': 7678, '1gleulg': 7679, 'compromise': 7680, 'e22zc': 7681, 'stansberryresearch': 7682, 'bobbyw24': 7683, 'qqm2q…”': 7684, 'fal': 7685, 'cn': 7686, 'lyj': 7687, 'nols': 7688, 'settlements': 7689, 'chatroom': 7690, '1zoohaa': 7691, 'caucasian': 7692, 'hispanic': 7693, '21ma': 7694, '6021344': 7695, '19731259': 7696, '1mcog2q': 7697, 'poured': 7698, 'taxonomy': 7699, '19678877': 7700, \"battle'\": 7701, 'rede': 7702, '1qv7tna': 7703, 'ah6fgte3nzc5fdq0mjk2njcx8p33q1c7sggavljgb6zejmca3xuxswya': 7704, 'zddqd': 7705, 'kl24': 7706, 'championed': 7707, 'infinitum': 7708, 'develope': 7709, 'showcased': 7710, 'rm': 7711, 'manana': 7712, 'vtxq1ara': 7713, 'eutheniainvesting': 7714, 'mcd': 7715, 'bax': 7716, 'nue': 7717, 'ko': 7718, 'q2nnh': 7719, 'bubbles': 7720, 'sexiest': 7721, '1nyjczk': 7722, 'migrated': 7723, 'reconfigured': 7724, 'vix': 7725, 'vixindex': 7726, 'androidcentral': 7727, 'combined…': 7728, 'd8qzbd': 7729, 'omnichannel': 7730, '1bxjzlb': 7731, \"'cook'\": 7732, \"'investment\": 7733, \"grade'\": 7734, 'stockapple': 7735, 's1cdg': 7736, 'sizing': 7737, '1yskibj': 7738, 'n2lrb': 7739, 'twitthat': 7740, 'tww6m': 7741, '753': 7742, '979': 7743, '3284689…': 7744, 'sigma’s': 7745, 'wwwvlf': 7746, '1darwab': 7747, 'urges': 7748, 'warrant': 7749, '1nr6orm': 7750, '1bfixp6': 7751, 'consultant': 7752, \"too'\": 7753, '1pv2yku': 7754, 'h1zbe': 7755, '3068956': 7756, 'vs0elq…': 7757, '5388470': 7758, 'etc’s': 7759, '1dqagow': 7760, 'intros': 7761, '1gkony9': 7762, 'hotstocks': 7763, 'metrics': 7764, 'dilution': 7765, '051315': 7766, '752412': 7767, 'clouding': 7768, 'clarity': 7769, 'informationweek': 7770, '1322347': 7771, 'attacking': 7772, 'straddles': 7773, 'advstrdle': 7774, 'pointless': 7775, 'meetings': 7776, 'uncalled': 7777, 'divison': 7778, '1436361327…': 7779, 'f37oa': 7780, 'milling': 7781, \"worlds'\": 7782, 'utxe9': 7783, 'wjqcfp': 7784, 'organize': 7785, '1yomwei': 7786, '3052396': 7787, 'immediate': 7788, 'baird': 7789, 'montalvo': 7790, 'yogi': 7791, 'i38ps': 7792, 'argus': 7793, '1i0tp6z': 7794, 'v1': 7795, 'aesthetic': 7796, '48546': 7797, '1hfjqiq': 7798, 'bcpr6k': 7799, 'jisle': 7800, 'r2jk2': 7801, '1ukjs7imore': 7802, '14495': 7803, '1im94rt': 7804, '1ihzjpa': 7805, 'milestone': 7806, '022415': 7807, '740633': 7808, '1kdteqh': 7809, 'homescreen': 7810, 'pg0x': 7811, \"announcements'\": 7812, 'pummeling': 7813, 'yestserday': 7814, 'consequences': 7815, 'presenter': 7816, 'booms': 7817, 'adjustment': 7818, \"andora's\": 7819, 'hairy': 7820, '‘major': 7821, 'products’': 7822, '1ytlvbh': 7823, '1igfbj4': 7824, '1smujnu': 7825, 'bog': 7826, '366229': 7827, 'meerten': 7828, '4136395': 7829, 'results…': 7830, '7937841': 7831, 'outlook…': 7832, '5831186': 7833, 'vfk0pg…': 7834, 'p1o5f': 7835, 'a27yp': 7836, 'redux': 7837, '1anodfj': 7838, 'sleek': 7839, 'pit': 7840, 'tossing': 7841, 'entries': 7842, 'ideally': 7843, 'roe': 7844, 'i1cjg': 7845, 't1bqr': 7846, '1mwiyc': 7847, 'stb': 7848, '1jeauvn': 7849, 'intoptweb': 7850, '191579': 7851, 'office…': 7852, '16871162': 7853, 'paulschinider': 7854, '3988586': 7855, 'cuts…': 7856, 'hnrfjv': 7857, 'woe': 7858, '103015': 7859, '778359': 7860, '3577406': 7861, 'nine': 7862, 'takers': 7863, 'overtakes': 7864, 'downward': 7865, 'holdi': 7866, 'fb9': 7867, 'adviced': 7868, '2065': 7869, 'tradevisioncapital': 7870, 'mattrick’': 7871, 'spotted': 7872, 'growers': 7873, '837': 7874, 'kf7it': 7875, 'mortimer': 7876, 'perished': 7877, 'selllllllll': 7878, 'hogfg': 7879, 'squash': 7880, \"ponzi's\": 7881, 'enrichment': 7882, '1bew2nf': 7883, 'mfeaaq': 7884, 'descent': 7885, 'firmly': 7886, 'convictions': 7887, 'advisory': 7888, 'anticipated': 7889, 'presented': 7890, '024654949': 7891, '1payhga': 7892, 'philip': 7893, 'morris': 7894, '757917': 7895, '59797…': 7896, '3345745': 7897, 'listing': 7898, 'stakes': 7899, 'gmo': 7900, 'fetched': 7901, 'yum': 7902, 'upping': 7903, 'b2fos': 7904, 'scream': 7905, 'capitalism': 7906, '101': 7907, 'mice': 7908, 'feared': 7909, 'adp11': 7910, 'h1d9s': 7911, '3045276': 7912, '1hqpcf1': 7913, 'weakest': 7914, '3034256': 7915, '19707635': 7916, 'nasdaqaapls': 7917, '1din1zl': 7918, 'q1yym': 7919, '1rgnsrj': 7920, '1hitvig': 7921, 'r1t49': 7922, 'buycott': 7923, '1251': 7924, 'covington': 7925, 'holder…': 7926, 'deadly': 7927, '1i03vpt': 7928, 'whips': 7929, 'cables': 7930, '1gecqo': 7931, 'minyanville': 7932, 'phasing': 7933, '760': 7934, 'gloomy': 7935, 'på12': 7936, 'b1t0i': 7937, '1ol32': 7938, 'god': 7939, '5877816': 7940, 'acronym': 7941, 'faam': 7942, 'ichan': 7943, '134': 7944, '110215': 7945, '778599': 7946, '1fhkzr3': 7947, '3538956': 7948, 'v0pn': 7949, 'variables': 7950, \"'not\": 7951, \"dead'\": 7952, '111015': 7953, '780025': 7954, 'cyberespionage': 7955, '1qx00no': 7956, 'c754…': 7957, 'nugget': 7958, 'groupme': 7959, 'thatswattsup': 7960, '1df945c09ac6…': 7961, 'pffssssh': 7962, '1h20apl': 7963, '1kt5cxm': 7964, '20150203': 7965, '1x8et29': 7966, 'throwbackthursday': 7967, 'london': 7968, 'techearningspalooza': 7969, 'andrew': 7970, 'creates': 7971, 'itc': 7972, 'unbiasedhttp': 7973, 'afternoon’s': 7974, 'oqyv2mn': 7975, 'stratechery': 7976, 'restartsis': 7977, 'poster': 7978, 'r4': 7979, 'convincing': 7980, 'neg': 7981, 'chk': 7982, 'gbpaud': 7983, 'ds': 7984, '2500': 7985, 'fisq2': 7986, 'gviezw': 7987, 'swirling': 7988, 'i23zq': 7989, 'necessity': 7990, 'trans': 7991, '3pm': 7992, '3249495': 7993, '1yethzv': 7994, 'willie': 7995, 'paraphrased': 7996, 'bbgysx': 7997, '1x8x1zi': 7998, '1gcd6el': 7999, '1vr34v9': 8000, '19739515': 8001, 'd36bgb': 8002, 'netbook': 8003, '66356684': 8004, 'ttn': 8005, 'uphill': 8006, '496': 8007, '329': 8008, 'zmpcgq': 8009, 'sat': 8010, 'investwithconf': 8011, '649175868200349696…': 8012, '59m': 8013, '53m': 8014, '18m': 8015, '84m': 8016, 'sega’s': 8017, 'streets': 8018, 'franchise': 8019, '1jhpnd6': 8020, 'prospectus': 8021, '163': 8022, '433': 8023, 'fwp': 8024, '1bpckwq': 8025, 'fetching': 8026, '1ev9ehy': 8027, 'bedfellows': 8028, '1u52tvf': 8029, 'streethttp': 8030, '3451286': 8031, '2826686': 8032, '625239': 8033, '1bedoka': 8034, 'd1ko0': 8035, 'arthur': 8036, 'j3jdx': 8037, 'ben': 8038, 'evans': 8039, 'benedictevans': 8040, 'score…': 8041, '520': 8042, 'fp': 8043, 'reit': 8044, 'wp7': 8045, 'activesync': 8046, 'industries': 8047, '9xbtdm': 8048, 'laidbacknate': 8049, '593543131091480576…': 8050, '9cmwdp': 8051, 'individuals': 8052, '1jtp7dv': 8053, 'scansource': 8054, \"brazil's\": 8055, 'network1': 8056, '1bskyod': 8057, '5496130': 8058, 'cbc': 8059, 'waterloo': 8060, 'ont': 8061, 'f2fgn': 8062, 'xlix': 8063, 'qaoik': 8064, 'stockpickers': 8065, 'ensured': 8066, 'd77lz1': 8067, 'lifing': 8068, '17e': 8069, 'reiterating': 8070, '5529621': 8071, 'a20150115pd203': 8072, 'dragonfly': 8073, '1jcjqpy': 8074, '3698556': 8075, \"packard's\": 8076, '3689436': 8077, 'packards': 8078, 'computers…': 8079, 'erode': 8080, '1kj4cbs': 8081, '1dmrtkn': 8082, 'mbvht1o4': 8083, 'atl…': 8084, '47026': 8085, 'iqraa': 8086, '568': 8087, '840': 8088, 'bidless': 8089, '1xy668a': 8090, 'q2nup': 8091, 'pounds': 8092, 'ise': 8093, 'q3lpc': 8094, 'nasknwe': 8095, \"'backup\": 8096, \"truck'\": 8097, 'drift': 8098, 'snaps': 8099, 'treasurys': 8100, 'iow8s': 8101, 'races': 8102, 'tuckers': 8103, '080515': 8104, '765320': 8105, '1gw3wfr': 8106, 'mk2': 8107, 'choc': 8108, 'boursier': 8109, 'les': 8110, 'gafa': 8111, '1h8udlx': 8112, '1noehzc': 8113, 'm9lbl': 8114, '1lhpfzr': 8115, 'telegraph': 8116, '11960048': 8117, 'dramatically': 8118, 'pcmag': 8119, '2476500': 8120, '825': 8121, '67733493': 8122, 'programming': 8123, 'lendingtree': 8124, 'trvo2': 8125, '1asot9u': 8126, '1ocffle': 8127, 's1dpp': 8128, 'nfl': 8129, 'sponsor': 8130, 'hdjv8x': 8131, 'cantor': 8132, 'defends': 8133, '1id2tvv': 8134, '1fbymb8': 8135, 'optimized': 8136, 'g1xmoa': 8137, 'likewise': 8138, 'pleased': 8139, 'syndrome': 8140, '1z3fcax': 8141, '1agkute': 8142, 'j3k1s': 8143, '1hlvwia': 8144, 'carefully': 8145, '20150306': 8146, '166': 8147, 'usurp': 8148, 'galore': 8149, 'inject': 8150, '1420394674…': 8151, \"30's\": 8152, '2860366': 8153, '1iq8psx': 8154, 'deflating': 8155, '3568516': 8156, 'uk48w': 8157, 'lovechild': 8158, '20151009': 8159, '1qzycef': 8160, 'haning': 8161, '783620': 8162, 'sub': 8163, 'ooc': 8164, 'h2g9j': 8165, 'hxzgbp': 8166, 'military': 8167, 'govt': 8168, '21yni9m': 8169, 'y0rtq80': 8170, 'y0rtqh0': 8171, 'q1myw': 8172, '1owbcpq': 8173, 'monkbent': 8174, 'aosp': 8175, 'road': 8176, \"50's\": 8177, 'retweeted': 8178, '6cllfyejy': 8179, 't2ger': 8180, 'h2wxy': 8181, 'g3szo': 8182, 'dailystockplays': 8183, 'belongs': 8184, 'rumormongers': 8185, 'jail': 8186, 't3b3r': 8187, \"viacom's\": 8188, 'crosses': 8189, '357': 8190, 'b2vxg': 8191, 'eywi0h': 8192, 'y5': 8193, 'qlgc': 8194, 'cannibalization': 8195, '46966011': 8196, 'png': 8197, '1450366902…': 8198, 't2dcj': 8199, '3295455': 8200, '1gh1z4w': 8201, 'dimensionschart': 8202, '1xglxxv': 8203, 'deserved': 8204, 'criticisms': 8205, 't1ilo': 8206, '1dfwz0h': 8207, 'downtrend': 8208, 'contrarian': 8209, 'buckle': 8210, '1425426901…': 8211, '“make': 8212, 'default”': 8213, '“msn': 8214, 'page”': 8215, 'handshakes': 8216, 'f2pvp': 8217, '1ejrsvt': 8218, 'kbio': 8219, '1yo89g3': 8220, 'harshal': 8221, '326425970275452…': 8222, '54e5f6a10cf23137e888f78c…': 8223, '5525269': 8224, '5b55c8e4496547688d9023fbc15d1ba5': 8225, '7bd982977eec4cf39d0d481b7a90f521…': 8226, \"ney's\": 8227, 'ntk': 8228, 'fireworksor': 8229, 'sharpens': 8230, '1ja6b8c': 8231, 's2m1m': 8232, 'reads': 8233, 'enabling': 8234, 'neonode': 8235, 'p20sy': 8236, 'epglmed': 8237, '628902789305872385…': 8238, 'girl': 8239, 'vnovjbdn': 8240, '20150313': 8241, 'lnvgy': 8242, 'intrigues': 8243, 'benzi': 8244, '2792545': 8245, 'invite': 8246, 'approximately': 8247, '3491586': 8248, '5egvfz1ud': 8249, '1z8cquz': 8250, '1lk3xyq': 8251, '598844424743821312…': 8252, 'vvsk9g…': 8253, 'i’ve': 8254, 'hefty': 8255, 'bypass': 8256, '1zd0hcv': 8257, 's1l3q': 8258, 'woohoo': 8259, 'blogra': 8260, '817156': 8261, 'vancouver…': 8262, '1x8jfwn': 8263, 'taxing': 8264, '91153': 8265, 'costlier': 8266, 'houses': 8267, 'biotechs': 8268, 'revolting': 8269, 'i1xkn': 8270, 's2xbs': 8271, 'ingrained': 8272, '1ytq1my': 8273, 'p3azv': 8274, 'intention': 8275, 'authorization': 8276, 'ashx': 8277, 'ho…': 8278, '1ddb9aw': 8279, '3606586': 8280, 'roic': 8281, 'clockwork': 8282, 'bitpay': 8283, 'kcy': 8284, '1ffpt': 8285, 'intolerably': 8286, 'hadn’t': 8287, 'understood': 8288, 'volvo': 8289, 't2lhc': 8290, 'stewardship': 8291, 'redhat': 8292, 'releasedetail': 8293, 'releaseid': 8294, '899560…': 8295, '1epn3kcalso': 8296, '5811': 8297, 'dr122915': 8298, '14awyig': 8299, 'b2rwe': 8300, 'tmlt': 8301, 'drumming': 8302, \"health's\": 8303, '3229726': 8304, 'healths': 8305, 't2gxf': 8306, '1sn5lfu': 8307, 'tripling': 8308, 'dippers': 8309, 'justwatch': 8310, 'a2aj8': 8311, '20ma': 8312, '15phcgp': 8313, 'irritating': 8314, '113413974': 8315, 'ixzz3q1mhmhxt…': 8316, 'andreessen': 8317, '620': 8318, '2244436': 8319, '1fwhxwm': 8320, '1ythlks': 8321, 'travels': 8322, 'kraft': 8323, 'recalls': 8324, '1i6iy1f': 8325, 'corp’s': 8326, 'bleak': 8327, '66681195': 8328, 'p1giv': 8329, 'ツ': 8330, '2uzes9': 8331, 'cult': 8332, 'dailyplay': 8333, 's1kw3': 8334, '1j7gbwk': 8335, 'emmy': 8336, 'capabilities': 8337, '1it10lu': 8338, '1cffamn': 8339, 'dram': 8340, 'gpm': 8341, 'ahours': 8342, '7d': 8343, 'fanboy': 8344, '84833900': 8345, 'axiom': 8346, '‘applebot': 8347, 'bioware’s': 8348, 'trespasser': 8349, '1ghqtgs': 8350, 'council': 8351, 'consilium': 8352, 'europa': 8353, 'ticket': 8354, '775': 8355, '983': 8356, '15448…': 8357, 'idiotic': 8358, 'misrepresent': 8359, 'someday': 8360, 'weed': 8361, '112415': 8362, '782344': 8363, 'decelerate': 8364, 'imagetomorrow': 8365, 'gonrrs': 8366, 'bfamnyk': 8367, 'quarters': 8368, '899231222876920…': 8369, 'tradinghttp': 8370, 'e26zo': 8371, 'tmjjo…': 8372, '073': 8373, 'nja3mja1': 8374, 'tonight’s': 8375, 'choked': 8376, 'uplifting': 8377, 'preachy': 8378, '1lvoa1d': 8379, \"pc's\": 8380, 'everyday': 8381, '495': 8382, 'e27pn': 8383, 'iseg': 8384, 'jp86': 8385, '53cd': 8386, 'rife': 8387, '1lg4gf8': 8388, 'cutthroat': 8389, 'a…': 8390, '1hglhpf': 8391, 'appealing': 8392, 'tyvm': 8393, 'carnage': 8394, '3709876': 8395, '1moajre': 8396, '3050646': 8397, 'vary': 8398, 'b2hkh': 8399, 'teaser': 8400, '1eidkam': 8401, '20151002': 8402, 'wholesalemba': 8403, '678764164907532288…': 8404, 'followthrough': 8405, 'in2': 8406, '10709396': 8407, '3572366': 8408, '064': 8409, '3154846…': 8410, '1aiwyab': 8411, '3050906': 8412, 'unsupported': 8413, 'pony': 8414, 'renderingassets': 8415, 'fy15q2': 8416, '10q': 8417, 'docx…': 8418, 'dislike': 8419, 'kicking': 8420, 'tires': 8421, '22nd': 8422, 'telatively': 8423, '1ahxlpy': 8424, 'squeaky': 8425, 'reg': 8426, 'gst': 8427, 'extracting': 8428, '19693933': 8429, 'let’s': 8430, 'o8xuthl': 8431, 'p54h9x2': 8432, 'scored': 8433, 'railroad': 8434, '1nurbvn': 8435, 'malware': 8436, 'swing…': 8437, 's256i': 8438, 'xtra': 8439, 'divest': 8440, 'jointly': 8441, '72olds': 8442, 'unwind': 8443, 'stooges': 8444, 'datepublish': 8445, 'pd': 8446, 'seq': 8447, '201…': 8448, 'stocks1': 8449, 'sagehb': 8450, '1iedtww': 8451, 'fantasticalforeverobjectivecslashswift': 8452, \"'pot'\": 8453, 'portunity': 8454, 'sustainability': 8455, 'urban': 8456, 'experiment': 8457, 'nobody’s': 8458, 'but…': 8459, 'treating': 8460, 'stepchildren': 8461, 'restructures': 8462, '1cpcmrz': 8463, '3345145': 8464, '1lqrjxq': 8465, '3163436': 8466, '65274745': 8467, 'c2jfc': 8468, '1qlqkpq': 8469, '1tubvm9': 8470, '1qf7sa': 8471, '7xy1rf': 8472, 't1is4': 8473, 'hsvicz1ryiw': 8474, '1vdb0wr': 8475, 'corrects': 8476, 'otybu0': 8477, '1edumfe': 8478, 'summarizes': 8479, \"corp's\": 8480, 'playstationhttp': 8481, 'eurogamer': 8482, 'playstation…': 8483, 'citizens': 8484, 'immigrants': 8485, 'tailspin': 8486, '1ujnbii': 8487, 'passing': 8488, 'audience': 8489, 'microsoft�s': 8490, 'hured': 8491, '19837831': 8492, 'phone…': 8493, 'cl5yr7': 8494, 'tepper': 8495, 'mults': 8496, '1kr5wzm': 8497, '19m': 8498, 'listeners': 8499, 'seacrest': 8500, \"'easy\": 8501, \"up'\": 8502, '3588916': 8503, 'jowens510': 8504, 'milestones': 8505, 'joinin…': 8506, \"'servergate\": 8507, \"dummies'\": 8508, '101415': 8509, '775395': 8510, 'clinton': 8511, 'controversy': 8512, '1g0nkog': 8513, 'msftearningstrade…': 8514, '“double': 8515, 'digit”': 8516, '“sql': 8517, 'server”': 8518, 'database': 8519, '“system': 8520, 'center”': 8521, 'spstls': 8522, '1smc1j': 8523, '2797525': 8524, '736461': 8525, 'allowed': 8526, 'atrophy': 8527, 'shame': 8528, '304': 8529, 's3nzm': 8530, '1nmbg13': 8531, '“microsoft': 8532, 'apps”': 8533, 'folder': 8534, 'toledoblade': 8535, 'charmed': 8536, 'abrupt': 8537, '15jowfg': 8538, '1dy3eyo': 8539, '14gzhzl': 8540, 'designed': 8541, 's2xih': 8542, '45711': 8543, '1ylkmur': 8544, '20150403': 8545, '432': 8546, 'anger': 8547, 'storms': 8548, '536': 8549, \"'gay\": 8550, \"friendly'\": 8551, 'unreal': 8552, 'streamlining': 8553, 'd2qrw': 8554, 'vjuiv1lthae': 8555, 'cupertino': 8556, 'h33ci': 8557, 'truthhttp': 8558, '3384745': 8559, 'hoovering': 8560, 'fleeing': 8561, '1443647846…': 8562, 'gicharts': 8563, 'enthusiasm': 8564, '1962': 8565, 'underrated': 8566, 'accnt': 8567, '5445785': 8568, 'optionspreadstrategies': 8569, 'reminiscent': 8570, 'p1elh': 8571, 'theatlantic': 8572, 'patriarchys': 8573, '396653': 8574, 'djemcio': 8575, 'h…': 8576, 'bezios': 8577, '13020598': 8578, '1fbmr9n': 8579, '1bnw4hf': 8580, '1ww0ivf': 8581, '28aapl': 8582, '24179': 8583, 'jaffrays': 8584, '11008693': 8585, 'thestockmarketwatch': 8586, '“g': 8587, 'man”': 8588, '3000349195': 8589, '638449754020548608…': 8590, '46880': 8591, '1wewzi5': 8592, 'f1kvr': 8593, '3267745': 8594, '1aqnthm': 8595, '052815': 8596, '754656': 8597, 'impacted': 8598, 'hypothetical': 8599, '50bn': 8600, 'mk': 8601, \"pichai's\": 8602, 'stupids': 8603, 'stockholder': 8604, 'cityam': 8605, '207740': 8606, 'facebooks': 8607, 'sheryl': 8608, \"'135\": 8609, \"'151\": 8610, 'previously': 8611, 'eaton': 8612, 'bmfjwdt': 8613, 'citron': 8614, 'retweet': 8615, 'clever': 8616, 'ptnmj': 8617, 's2n9q': 8618, '960': 8619, '092515': 8620, '772703': 8621, '3043926': 8622, '19d9bjj': 8623, 'gameplay': 8624, 'qcopetn': 8625, 'mildly': 8626, 'rom': 8627, 'fiercewireless': 8628, '03…': 8629, 'hijacked': 8630, 'kym': 8631, 'inverted': 8632, 'hammer': 8633, 'bother': 8634, 'outsiders': 8635, 'political': 8636, \"pharma's\": 8637, '8bhsvm”': 8638, 'distribute': 8639, 'waves': 8640, 'pk9t73c': 8641, '1qcqr8c': 8642, 'bearishness': 8643, 'psx': 8644, 'nowhttp': 8645, 'acceptance': 8646, 'compets': 8647, 'assts': 8648, '20150302': 8649, 'remember—each': 8650, 'automation': 8651, 'accessw': 8652, '505': 8653, '314': 8654, \"seattle's\": 8655, 'heft': 8656, 'usability': 8657, '1flpr13': 8658, '3x6d9uer4': 8659, '082815': 8660, '768677': 8661, '102321279': 8662, 'newsfeeds': 8663, 'globenewswire': 8664, '10115650': 8665, '20150813': 8666, \"isn''t\": 8667, 'tatuu5': 8668, '1rpq5rm': 8669, '60s': 8670, 'checking': 8671, 'foreshadowing': 8672, 'fold': 8673, 'chairman': 8674, 'a20150526pd209': 8675, 'nffmtq4': 8676, 'cashing': 8677, 'twcxk…': 8678, '1kfnn3w': 8679, '1s61mau': 8680, '1s62dlp': 8681, 'vwhcnu': 8682, '3323355': 8683, 'c1mfx': 8684, '1cspmmx': 8685, 'q2cf2': 8686, '1h1odq7': 8687, '3agoog': 8688, 'ei': 8689, 'mzcqvominjlesggh3zpwba': 8690, '2386666': 8691, '1hzlej8': 8692, 'f2kl5': 8693, 'sku': 8694, 'geez': 8695, '3558306': 8696, 'amazingly': 8697, '740': 8698, 'miner': 8699, '072015': 8700, '762420': 8701, 'mining': 8702, 'i5': 8703, 'cpu': 8704, 'retina': 8705, 'hni9p': 8706, 'k2qmu': 8707, '1oovzho': 8708, 'rebranded': 8709, 'presentations': 8710, 'cooler': 8711, '1arbfph': 8712, 'ml6lm…': 8713, '22615': 8714, 'concerning': 8715, 'witching': 8716, '122267': 8717, '1bu9frt': 8718, '1zf6tjk': 8719, 'kb': 8720, '2907018…': 8721, 'burning': 8722, 'odp': 8723, '5686030': 8724, 'ystrdy': 8725, 'aemunti2nzuynjb8mje2mdq2njrp7xcecrvurxgmxkljd0ba1pkdba1exqvgb8pktgmmrq': 8726, 'pits': 8727, 'uyl8y': 8728, 'nasgain': 8729, 'das': 8730, 'types': 8731, 'bpkykrd': 8732, 'insidershttp': 8733, '227u1hq': 8734, 'd2g9o': 8735, '6061425': 8736, 'todayj': 8737, 'ust': 8738, 'waterfall': 8739, 'sauce': 8740, 't1bj3': 8741, '4f30j6m': 8742, '1roykpm': 8743, 'b2hkp': 8744, '1pm': 8745, 'rothman': 8746, 's1fbk': 8747, '395': 8748, '10th': 8749, '5626128': 8750, 'vy1twg…': 8751, '2t': 8752, '1fu5uhl': 8753, '1ealorb': 8754, 'bcg': 8755, 'mostinnovative2015…': 8756, 'yosemite': 8757, 'articleshow': 8758, '46484964': 8759, '50x200': 8760, 'visa': 8761, 'brokers': 8762, '3535066': 8763, 'yxzh3lrzdv': 8764, 'ratios': 8765, 'evaluate': 8766, 'dummies': 8767, 'rosn…': 8768, 'cues': 8769, 'fez': 8770, 'ewj': 8771, 'b23ud': 8772, 'ahyn3u': 8773, 'cookies': 8774, 'ours': 8775, 'rsherman': 8776, 'h4aovs': 8777, 'foster': 8778, 'creativity': 8779, 'supposedly': 8780, 'terminals': 8781, 'relates': 8782, 'tracker': 8783, 'id517166254': 8784, '6dz4kw1wg': 8785, \"'top\": 8786, \"2016'\": 8787, '120915': 8788, '784637': 8789, 'lrcx': 8790, 'anet': 8791, '8czeh3': 8792, '5yr': 8793, '4758163': 8794, \"com's\": 8795, '13053778': 8796, 'salesforcecoms': 8797, '1o6jrol': 8798, '45762': 8799, 'jhiqn': 8800, \"here''s\": 8801, 'xf5tyw': 8802, 'bd1ngr': 8803, '1fd4cgu': 8804, 'superior': 8805, 'wide': 8806, 'j2nuh': 8807, 'deadspin': 8808, '1741426754…': 8809, 'trheq': 8810, 'retailer': 8811, 'newegg': 8812, '1da6eyp': 8813, 'sharp': 8814, '1jphyou': 8815, '1ly09ww': 8816, 'instrumentati': 8817, 'instrumentation': 8818, 'wmi': 8819, 'softw': 8820, '19782008': 8821, 'arrogant': 8822, 'ala': 8823, 'lightroom': 8824, 'rejection': 8825, 'btwmuje': 8826, '675': 8827, '1nsur7t': 8828, 'unfair': 8829, 'fends': 8830, 'nip': 8831, 'b2chg': 8832, 'vcypqnh4cra': 8833, 'oxyol65': 8834, '1mw5fop': 8835, 'breakouts': 8836, 'potentially': 8837, 'r1gko': 8838, 'mediocrity': 8839, 'underrating': 8840, 't1kfb': 8841, 'confimging': 8842, 'daytrad': 8843, 'scalps': 8844, 'fyq2': 8845, 'cooling': 8846, \"'pre\": 8847, 'eol': 8848, \"levels'\": 8849, '3325445': 8850, 'vav': 8851, 'dq…': 8852, 'contuning': 8853, 'fisq4': 8854, 'lk77bdvrc': 8855, '1ysjsgi': 8856, 'witnessed': 8857, 'trln': 8858, '1i1g1oa': 8859, 'leafs': 8860, 'snoop': 8861, '1i4xbnz': 8862, 'innovated': 8863, \"'80s\": 8864, 'vkhosla': 8865, '1f6bonh': 8866, 'guest': 8867, 'kinder': 8868, 'gentler': 8869, 'stu': 8870, 'experian': 8871, '15w5uqz': 8872, 'sent': 8873, 'maniac': 8874, 'geoffreyfowler': 8875, '651463624708497409…': 8876, 'dbuikes': 8877, 'domestic': 8878, '1lco7bp': 8879, '1jmmieg': 8880, '“too': 8881, 'much”': 8882, '1ef8j18': 8883, \"'''\": 8884, 'crammer': 8885, '1xu8bbs': 8886, 'quants': 8887, '13018206': 8888, 'ceiling': 8889, '1mj0i47': 8890, 'frankkly': 8891, 'unjustiiable': 8892, '750': 8893, '1czgx0l': 8894, '600k': 8895, 'lsee': 8896, 'handelsblatt': 8897, 'unternehmen': 8898, 'medien': 8899, 'ruecken': 8900, 'zum': 8901, 'duopol': 8902, 'zusammen': 8903, '11420652': 8904, 'hrms': 8905, 'tm': 8906, 'podcasts': 8907, 'breaker': 8908, '1uvmqbq': 8909, 'downgrading': 8910, '55b': 8911, 'risking': 8912, 'gdx': 8913, '1gyg8zf': 8914, '“surface': 8915, 'phone”': 8916, 'nokia’s': 8917, '125389': 8918, 'eerie': 8919, \"moody's\": 8920, \"'robust'\": 8921, '783354': 8922, 'moodys': 8923, 't1e9r': 8924, '1layovo': 8925, \"'13\": 8926, 'kgbmas3': 8927, '3168356': 8928, 'q1up9': 8929, \"moore's\": 8930, '1k8dpja': 8931, 'psychologically': 8932, 'cia': 8933, 'drpizza': 8934, \"chowdhry's\": 8935, 'checks': 8936, \"'non\": 8937, 'stood': 8938, '6013078': 8939, '1fkf8sg': 8940, 'obnoxious': 8941, 'saves': 8942, 'corrections': 8943, 'microcap': 8944, '66575226': 8945, 'e2q9s': 8946, '1lm976r': 8947, 'sequentially': 8948, 'a20150420pd201': 8949, 'oo3ayqh': 8950, 'phase': 8951, '1cwct8w': 8952, 'notices': 8953, 'vhu8ng…': 8954, 'enhancing': 8955, 'mothers': 8956, 'fathers': 8957, 'children': 8958, 'uncharted': 8959, '1kd4n1a': 8960, '2dovkbxsh': 8961, 'circle': 8962, 'mrkt': 8963, \"'even\": 8964, \"microsoft'\": 8965, 'b1l2s': 8966, 'define': 8967, 'imitate': 8968, '6fwwhs': 8969, '1pihfk0': 8970, '1di6gwx': 8971, '95bcb20d23ef476fa42f0a1ca321f92c…': 8972, '1mcpjhi': 8973, 'r2w5y': 8974, '1adwmym': 8975, 'rosterloh': 8976, 'eb3f3709d34c…': 8977, '20150727': 8978, 'spice': 8979, 'plagued': 8980, 'typos': 8981, 'healthcare': 8982, 'stockerblog': 8983, 'earliest': 8984, 'shouldn': 8985, 'kyocera': 8986, '3000360144…': 8987, 'o5qsz': 8988, 'calendars': 8989, 'fort': 8990, 'g3apq': 8991, '46779': 8992, 'q2lh7': 8993, '2989306': 8994, 'e1ysu': 8995, '1za97fi': 8996, 'b2rlp': 8997, 'irish': 8998, '1jebizm': 8999, '25th': 9000, 'shockingly': 9001, 'cynically': 9002, 'influenced': 9003, 'pxbvc': 9004, 'cheerful': 9005, '3kebxlaci': 9006, 'breaktime': 9007, 'penetration': 9008, 'worthy': 9009, 'collaborating': 9010, 'angular': 9011, 'abc': 9012, 'tasked': 9013, 'spaceneedle': 9014, 'ipad”': 9015, 'intiating': 9016, 'nin': 9017, 'shirt': 9018, 'hotstockmarket': 9019, 'amex…': 9020, 'conferences': 9021, '1xyoafe': 9022, '2890666': 9023, 'biased': 9024, 'u545m': 9025, 'du': 9026, 'depends': 9027, 'grief': 9028, 'shrink': 9029, 'a2ifq': 9030, '1zqmie7': 9031, '1hxe7ol': 9032, \"nasdaq's\": 9033, 'c2eug': 9034, 'mi': 9035, 'atom': 9036, 'qc': 9037, '1qfdrmp': 9038, 'earnngs': 9039, '2927046': 9040, '47378': 9041, 'mpp': 9042, 'mr1': 9043, 'crime': 9044, 'fighter': 9045, '1w4syj8': 9046, 'blaming': 9047, 'volatilty': 9048, 'pound': 9049, '1flci8b': 9050, 'celebrating': 9051, 'win3': 9052, '45479': 9053, '1se68bn': 9054, 'devaluation': 9055, 'j2z2c': 9056, 'windows8': 9057, 'distros': 9058, '3391805': 9059, '1000x': 9060, '14x967i': 9061, '1f5jy8t': 9062, '3626206': 9063, 'vby': 9064, '3a…': 9065, '3121816': 9066, '13x': 9067, 'd1ytr': 9068, '3717093': 9069, '7c…': 9070, '1au3ytu': 9071, 'owe': 9072, 'venerable': 9073, '1qazafh': 9074, 'sharehttp': 9075, 'p1vjv': 9076, 'respective': 9077, '20sma': 9078, '44096': 9079, 'agile': 9080, 'selfishly': 9081, \"services'\": 9082, \"cyberark's\": 9083, 'easing': 9084, '1i1s9n4': 9085, 'hsxws': 9086, 'arashmarkazi': 9087, 'opevzax3vzd”': 9088, 'hurdles': 9089, 'd2y9h': 9090, 'business…': 9091, 'breakthroughs': 9092, 'illustrating': 9093, 'dysfunctional': 9094, 'unjust': 9095, 'd2hry': 9096, 'lived': 9097, '1os2f7z': 9098, 'twitter’s': 9099, 'twitters': 9100, 't1mpg': 9101, 'whew': 9102, 'incredibly': 9103, 'datasets': 9104, '115235403…': 9105, 'classroom': 9106, '1nboazg': 9107, 'sideways': 9108, 'screener…': 9109, 'biotechmoney18': 9110, 'deja': 9111, 'horseman': 9112, 'x1kxlr': 9113, 'ony': 9114, 'ffznevvnncw': 9115, 'median': 9116, 'fish4bot': 9117, 'indicatorp': 9118, '1hlijwz': 9119, 'roared': 9120, '111714': 9121, '726766': 9122, 'consists': 9123, '1aqkl5s': 9124, 'c10pp…': 9125, 'h2a2i': 9126, 'liac3ta2nek': 9127, 'microsoftdeflate': 9128, 'batteries': 9129, '1otnh1f': 9130, '1429932877…': 9131, 'service…': 9132, 'ilrio2ivia': 9133, 'glitch': 9134, 'quantifiedalpha': 9135, '146': 9136, '06m': 9137, '77m': 9138, '76m': 9139, '28m': 9140, 'fare': 9141, 'ufnke': 9142, 'ruling': 9143, 'booking': 9144, 'ccs': 9145, 'expire': 9146, 'proceeds': 9147, 'basis': 9148, '1kygjgx': 9149, 'tdjnmw20150127293': 9150, '1id6obn': 9151, '1yxawss': 9152, '2874366': 9153, 'f3rdo': 9154, 'warrenbuffett': 9155, 'fbhttp': 9156, '371692': 9157, 'singlepage': 9158, '110577824529': 9159, 'borg': 9160, 'blowing': 9161, 'nfkp49madio': 9162, '2887390…': 9163, '5552928': 9164, '1gzsr6r': 9165, 'ambitions': 9166, '16o5zpr': 9167, 'nerd': 9168, 'helmet': 9169, 'ncid': 9170, 'rss…': 9171, '3767866': 9172, '757304': 9173, '921': 9174, 'chasers': 9175, 'pumping': 9176, 'shakers': 9177, '1tbclhm': 9178, 'similarities': 9179, 'dotcom': 9180, 'propose': 9181, 'profit…': 9182, \"u'r\": 9183, 'rig': 9184, '1x09leh': 9185, 'concedes': 9186, 'zk3zpb': 9187, 'interbrands': 9188, 'dt': 9189, 'rockin': 9190, 'profound': 9191, 'chooses': 9192, 'transmit': 9193, \"'mad\": 9194, 'e2gu3': 9195, 'ato': 9196, 't2sbi': 9197, 'differentiates': 9198, '1z6flsp': 9199, 'natl': 9200, 'walk': 9201, \"other's\": 9202, 'footprints': 9203, 'ozy': 9204, 'twmoney012615china0330story…foreign': 9205, 'micr': 9206, '19693548': 9207, '940': 9208, '1p08lfe': 9209, '2949066': 9210, 'trick': 9211, 'f1d9k': 9212, '3454816': 9213, '1eqwyg2': 9214, \"stock's\": 9215, 'overvaluation': 9216, 'compressed': 9217, 'unsexy': 9218, 'chasms': 9219, 'wqjx5k': 9220, 'upstockstrading': 9221, 'southpark': 9222, 'episodes': 9223, 's17e09': 9224, 'titties': 9225, 'dragons…': 9226, '1ee6aay': 9227, 'warrior': 9228, '1t2ozrs': 9229, '775135': 9230, 'offline': 9231, '1ld45en': 9232, 'corps': 9233, '3208596': 9234, '1eju0tc': 9235, \"'smart\": 9236, 'afp': 9237, '1zpyder': 9238, '1ko5rrr': 9239, 'prosecuted': 9240, '1bg8jbo': 9241, 'abreast': 9242, '69426331': 9243, '67535092': 9244, 'what…': 9245, 'h0q…': 9246, 'troll': 9247, '1m9nsxi': 9248, '3174646': 9249, '185mmif': 9250, 'codywillard': 9251, 'them—though': 9252, '18fztt0': 9253, 'jpmorgan': 9254, '18o6yrw': 9255, 'revivalhttp': 9256, '1suutbf': 9257, 'valid': 9258, 'appetite': 9259, 'bgl1uv': 9260, 'requiring': 9261, 'noncompete': 9262, 'i’ll': 9263, 'outlive': 9264, 'tradingstreet': 9265, '3201336': 9266, '5004b5': 9267, 'uplaod': 9268, 'bucking': 9269, '1nqnawv': 9270, 'på1': 9271, 'affects': 9272, 'stocks—': 9273, 'bdbqcnp': 9274, '143752419': 9275, 'resurgence': 9276, 'f1wr9': 9277, '1jst6ho': 9278, 'pressures': 9279, 'utilities': 9280, '1ftrntv': 9281, 'q1zvu': 9282, 'adaptation': 9283, 'q1ys7': 9284, 'europeans': 9285, '1apomna': 9286, '1zuofpk': 9287, '1i4bidh': 9288, '1zuogtr': 9289, 'few…': 9290, '92060': 9291, '2874346': 9292, 'fuss': 9293, '5683242': 9294, '20151028': 9295, '122nxkc': 9296, '6be4opcw8': 9297, '67624806': 9298, 'rudyhuyn': 9299, '1gig3ae': 9300, 'column': 9301, 'alexa': 9302, '1mrhjzr': 9303, '1gchaa2': 9304, '072415': 9305, '763443': 9306, 'modernization': 9307, '1vn9bat': 9308, 'winxp': 9309, 'dissipates': 9310, 'inexorable': 9311, 'kedrosky': 9312, 'when…': 9313, 'traderslog': 9314, 'florentcapital': 9315, 'racehttp': 9316, 'hypergridbusiness': 9317, 'pointers': 9318, 'playbook': 9319, 'd3jf7kq': 9320, 'yzdyjf': 9321, 'see…rt': 9322, 'p1xtr9': 9323, '1wij': 9324, 'tuh': 9325, 'rt“': 9326, 'scottwapnercnbc': 9327, 'swaps': 9328, '228765': 9329, 'feedburner': 9330, 'main…': 9331, '03http': 9332, 'j23ax': 9333, 'i680w': 9334, 'ipejg': 9335, 'tel': 9336, 'replies': 9337, 'ebit': 9338, 'destiny’s': 9339, '1or2oan': 9340, 'tp9qr': 9341, '175': 9342, 'nrhla7x': 9343, 'prov': 9344, 'customizes': 9345, 'offeri': 9346, '19774720': 9347, 'aaplstocknews': 9348, 'carols': 9349, 'overdone': 9350, '9g70mj': 9351, '46z0e9yk5': 9352, '117706569379': 9353, 'library': 9354, 'ms15': 9355, '078…': 9356, 'mukundmohan': 9357, 'otc': 9358, 'succeeded': 9359, 'delete': 9360, '7uxmgh8hj': 9361, 'g1gbx': 9362, '48561': 9363, 'i2fr3': 9364, 'tomorrows': 9365, 'wtw': 9366, 'opera': 9367, '1ef983h': 9368, 'standing——amazon’s': 9369, 'ndzpcy': 9370, '1hrxrmu': 9371, 'timeline': 9372, 'flipped': 9373, 'manually': 9374, '1o6nksm': 9375, '1fayuso': 9376, 'skypedown': 9377, '3738306': 9378, '1eh99aq': 9379, 'laughin': 9380, 'superstar': 9381, '2810955': 9382, '1llh4ok': 9383, 'guides': 9384, 'porked': 9385, '1d3yzaf': 9386, 'q1qs9': 9387, 'm2wjv': 9388, '1lbioqg': 9389, 'discretionary': 9390, '1z0xj6e': 9391, 'jishk': 9392, '1vi2ewn': 9393, 'datacenters': 9394, 'raspberry': 9395, 'pi': 9396, 'higherhttp': 9397, 'b1bxx': 9398, 'wziymu': 9399, 'rebuilding': 9400, '16upgw8': 9401, 'g3bxb': 9402, 'arent': 9403, '118793': 9404, '7531471': 9405, 'preview…': 9406, '1xxooxe': 9407, 'bashing': 9408, 'laughing': 9409, 'a2027': 9410, 'c207q': 9411, 'grew': 9412, '080100611': 9413, 'apm': 9414, 'lid': 9415, '26otk': 9416, 'tradelong': 9417, '54short': 9418, '2212': 9419, 'rainbows': 9420, 'suisse…': 9421, 'kf7e3': 9422, 'roars': 9423, 'spike': 9424, '3gsw': 9425, '83n': 9426, 'flatterylong': 9427, 'foreseeable': 9428, '1tnnce8': 9429, '20089930': 9430, 'frequent': 9431, 'h1zh9': 9432, 'd3aymy': 9433, \"'freak'\": 9434, '18ogcmx': 9435, '8uyci': 9436, '2943566': 9437, 'hure4': 9438, '1gpzdob': 9439, 'caring': 9440, 'vhq4ua…': 9441, 'providers…': 9442, 'p2vnd': 9443, '1z9hytg': 9444, 'bosses': 9445, 'sought': 9446, 'misstep': 9447, 'problemshttps': 9448, '15smcx': 9449, '753233': 9450, '1ijkuoi': 9451, '1oefshd': 9452, \"microsft's\": 9453, 'loy9rn': 9454, '1gygoib': 9455, 'doubledownss': 9456, 'combined”': 9457, 'mhczbj': 9458, 'whiteboard': 9459, 'projector': 9460, 'hindenburg': 9461, 'ixfjq': 9462, \"combined'\": 9463, '1al8knh': 9464, 'eases': 9465, '032415': 9466, '744844': 9467, 'eased': 9468, 'bcpo3x': 9469, 'nvr': 9470, '1hkquzd': 9471, 'q1s2c': 9472, 'seahawks': 9473, 'hank': 9474, 'awkward': 9475, 'intends': 9476, 'defer': 9477, 'warriors': 9478, 'steve2': 9479, 'vi…': 9480, '1gra0si': 9481, 'g1xhn': 9482, '20150331': 9483, '412': 9484, '1ar8h9e': 9485, 'thursday’s': 9486, 'japanese': 9487, 'output': 9488, 'unexpectedly': 9489, 'fueling': 9490, 'cjb85y': 9491, '15yugoc': 9492, 'suggested': 9493, '1mv3z0m': 9494, 'restored': 9495, 'darkness': 9496, '1roxquw': 9497, 'flounders': 9498, 'jmho': 9499, '1sc3scu': 9500, \"fbr's\": 9501, 'opk': 9502, '1fvh6sn': 9503, 'fireworks': 9504, 'earnings5': 9505, '1bkxhqe': 9506, '1few5fj': 9507, 'c2js1': 9508, \"crest's\": 9509, 'owens': 9510, 'palo': 9511, 'alto': 9512, 'baskets': 9513, 'ebbing': 9514, 'd1zps': 9515, 'card': 9516, 'lie': 9517, '1buf25a': 9518, '19623268': 9519, '67c': 9520, '59c': 9521, '19707198': 9522, 'in•': 9523, 'investmentsguest': 9524, 'tags': 9525, 'onbalvol': 9526, '1feumdb': 9527, 'mlt': 9528, 'i3atu': 9529, 'reformedbroker': 9530, '661366140975882240…': 9531, 'text': 9532, 'extraction': 9533, '3094876': 9534, 'tags…': 9535, 'incomweb': 9536, 'topline': 9537, 'iaasitlnk0000003…': 9538, '66546826': 9539, 'lawyer': 9540, 'circuit': 9541, 'avert': 9542, \"'global\": 9543, \"chaos'\": 9544, '2b7xys': 9545, 'jq1cv': 9546, '‘a': 9547, '1mizmce': 9548, 'eastarwars': 9549, '47379': 9550, 'mahamosa': 9551, 'teapot': 9552, 'teas': 9553, 'b00b1i0wui': 9554, '3054336': 9555, 'adventure': 9556, 'empl': 9557, 'opr': 9558, 'bcc6px': 9559, 'p1jdb': 9560, 'operated': 9561, 'totaled': 9562, '8m': 9563, '308': 9564, 'fy13': 9565, 'edge’s': 9566, 'omd6jlw': 9567, 'indian': 9568, 'cold': 9569, 'shoulder': 9570, \"pepsi's\": 9571, 'nooyi': 9572, 'speaking': 9573, 'germany': 9574, 'satisfying': 9575, 'varying': 9576, 'perfs': 9577, 'walked': 9578, 'obligitory': 9579, 'sight': 9580, 'gsh': 9581, 'yge': 9582, 'xurcf5': 9583, 'ubiquitous': 9584, 'choking': 9585, 'blooming': 9586, 'pitchers': 9587, 'e2eys': 9588, 'affirmed': 9589, 'j2jve': 9590, 'possibility': 9591, '2851716': 9592, '1xxfeup': 9593, 'viability': 9594, 'og935hs': 9595, 'ptypo': 9596, 'aps': 9597, 'appliance': 9598, 'resume': 9599, '50x': 9600, 'stinker': 9601, 'mo': 9602, 'ck': 9603, 'equitie': 9604, 'withstand': 9605, 'd2ijf': 9606, 'csc': 9607, '1hsb7p1': 9608, '185206424': 9609, '1dbuqyx': 9610, '1elrf1l': 9611, 'ayoqe…': 9612, 'rumorsfor': 9613, '5volbo': 9614, 'longon': 9615, \"78today's\": 9616, 'birol92': 9617, 'daniel': 9618, 'vhqw4g…': 9619, 'hailstorm': 9620, 'carrying': 9621, 'torch': 9622, 'marvelous': 9623, '1darqeo': 9624, 'p1tps': 9625, 'q1tr1': 9626, 'bchx8z': 9627, '1lqrosc': 9628, '1k4593k': 9629, '1hq7pbd': 9630, 'hangs': 9631, 'aspect': 9632, 'c20gh': 9633, '8ema': 9634, 'subpar': 9635, 'regresses': 9636, 'ellison': 9637, 'git9ri': 9638, '1go6dlm': 9639, 'fledgling': 9640, 't25hu': 9641, '1elr0ei': 9642, 'nma7s75': 9643, '041815': 9644, '748492': 9645, '1fhirvx': 9646, 'h3aaa': 9647, '1dm9xtu': 9648, 'condoweb': 9649, 'incorporated': 9650, 'factory': 9651, '1obtmho': 9652, '15cqsng': 9653, 'brean': 9654, '1ur5wif': 9655, '1cq4yka': 9656, 'longest': 9657, '1dcrucc': 9658, '535': 9659, 'welcomes': 9660, '1hfpuyg': 9661, 'togetheragain': 9662, '1akcyjg': 9663, '1j4up7e': 9664, 'posing': 9665, '1bgcp06': 9666, 'rtbusiest': 9667, 'a1y9r': 9668, '1p3hmda': 9669, '1ligqak': 9670, '2966296': 9671, 'sized': 9672, 'jmo': 9673, 'xnpjoh': 9674, '38k': 9675, 'accident': 9676, 'e2bus': 9677, '1k5vr7s': 9678, 'enjoyable': 9679, 'informative': 9680, 'barry': 9681, \"'rit\": 9682, 'ritholtz': 9683, 'disclosure': 9684, '15impsf': 9685, '1rsqtzh': 9686, '770': 9687, 'blazes': 9688, 'f3xhw': 9689, '1jtnrxj': 9690, 'respite': 9691, 'q1rdy': 9692, 's2yio': 9693, 'f2oly': 9694, '2808585': 9695, 'generous': 9696, '49214': 9697, '143319383': 9698, 'rat': 9699, 'woods': 9700, '1be0amx': 9701, 'rescue': 9702, \"erp's\": 9703, 'ditto': 9704, '46502': 9705, '169': 9706, '3725006': 9707, 'whit': 9708, 'victortellegio': 9709, 'bags': 9710, 'wealthy': 9711, 'kpyrsj': 9712, '3583266': 9713, '1zqbpt5': 9714, '11x': 9715, '66228078': 9716, 'engulfed': 9717, 't1mga': 9718, 'bellwethers': 9719, 'dammit': 9720, 'degenerate': 9721, 'multiply': 9722, '1rd57kp': 9723, '786': 9724, 'y0vxct0': 9725, '1ugnaysxg': 9726, 'wgt7trr': 9727, '1yq60nm': 9728, 'r1luf': 9729, 'angles': 9730, 'jet': 9731, 'instacart': 9732, '1yomwdq': 9733, 'bumps': 9734, 'rear': 9735, '1dq2ycn': 9736, 'h1tgy': 9737, 'waning': 9738, 'importance…': 9739, 'vrx': 9740, '1ynz4ry': 9741, 'på12345': 9742, '9qvi': 9743, 'qvbm8m': 9744, '1tgsba8qn': 9745, 'blown': 9746, 'antique': 9747, 'm1onxea0mxg…': 9748, \"market's\": 9749, 'began': 9750, '1e3ko68': 9751, 'ponders': 9752, 'p2lbl': 9753, '4mu': 9754, '318': 9755, 'y0bqmz0': 9756, 'e9zxumt': 9757, '5819238': 9758, '67623983': 9759, 'iknowfirstuk': 9760, 'm3tvk': 9761, 'backstabbing': 9762, '15vmx04': 9763, '1i6uiym': 9764, '2yr': 9765, 'mjna': 9766, 'p24e8': 9767, 'j2awh': 9768, 'jul': 9769, 'p2xyi': 9770, 'retrospect': 9771, 'j3dm8': 9772, 'mattered': 9773, '1uy1ioo': 9774, '1zjumok': 9775, 'doctor': 9776, '1eycqbb': 9777, 'optexdyna': 9778, 'rumour': 9779, 'lame': 9780, '004205432': 9781, 'candlestick': 9782, 'ema': 9783, 'b1vgq': 9784, 'becx7q7': 9785, 'lkrvu': 9786, '1hidg6u': 9787, '1nou6xk': 9788, 'julie188': 9789, 'ancient': 9790, 'fought': 9791, 'internecine': 9792, 'professors': 9793, 'parking': 9794, 'loke': 9795, 'harassing': 9796, 'momo': 9797, 'ham': 9798, 'via…': 9799, '9g6ggx': 9800, 'b81bgn': 9801, 'biobloodbaths': 9802, 'comfortably': 9803, 'd2rnv': 9804, 'p1qcp': 9805, 'nfrdo': 9806, 'j2v7m': 9807, '1jwrl4k': 9808, 'bsy1x9': 9809, 'k7qcadbyz4': 9810, '1ojokhk': 9811, 'levy': 9812, '1jjwjs7': 9813, '600m': 9814, '300m': 9815, 'cite': 9816, '373': 9817, 'supreme': 9818, 'nationwide': 9819, 'equality': 9820, 'charles': 9821, 'scharf': 9822, 'f1naq': 9823, 'bending': 9824, 'fatman': 9825, \"anyone's\": 9826, '1dcojro': 9827, 'pulp': 9828, 'dimmed': 9829, '15002': 9830, '384': 9831, '1yrzoqr': 9832, '531278': 9833, 'lanexa': 9834, 'managementhttp': 9835, 'q23xe': 9836, 'sas': 9837, 'spss': 9838, 'wikibon': 9839, 'e2de7': 9840, '1krn1oj': 9841, 'icvy8…': 9842, 'btc': 9843, '1siurj1': 9844, '1a37mg': 9845, '14d': 9846, '50d': 9847, 'h2vhp': 9848, 'overtures': 9849, '1fbu64d': 9850, 'permissions': 9851, 'getwired': 9852, '629308833018437633…': 9853, 'wlstcom': 9854, 's2lhz': 9855, 'bemckenna': 9856, 'elephant': 9857, 'pw72odq': 9858, '1gjlfqi': 9859, 'theweedblog': 9860, 'p2pacw': 9861, 'qw': 9862, '1dbnxlj”': 9863, 'treaty': 9864, 'b2foo': 9865, 'drip': 9866, '1kh4vdv': 9867, 'g2r6i': 9868, 'dividend…': 9869, 'htc0wge': 9870, '770005': 9871, 'duer': 9872, 'lumias': 9873, 'swore': 9874, 'ponytail': 9875, 'stave': 9876, 'fav': 9877, 'contemplate': 9878, 'defenders': 9879, 'inept': 9880, 'mobilegalen': 9881, '626909173695918080…': 9882, 'microsoftstore': 9883, '1nfuc3z': 9884, '1k9snba': 9885, \"'unttainable'\": 9886, '1sfigl3': 9887, '‘free’': 9888, 'gobbled': 9889, 'trademark': 9890, 'b218b': 9891, '1ddf6yh': 9892, 'vuzi': 9893, 'holdings…': 9894, 'reinforces': 9895, 'michaelsantoli': 9896, 'reportby': 9897, 'jacob': 9898, 'demmitthttp': 9899, 'dnrzfo': 9900, 'b2q05': 9901, 'spooks': 9902, 'izzzl': 9903, 'x3': 9904, '102397022': 9905, 'morn': 9906, 'c23y9': 9907, '19772902': 9908, 'revolutionanalytics': 9909, '17cjtpw': 9910, '100x': 9911, 'contendershttp': 9912, 's1veo': 9913, 'nasdaqamzn': 9914, 'voluntarily': 9915, \"'petri\": 9916, \"dish'\": 9917, 'vertical': 9918, 'trdollar': 9919, 'roughly': 9920, '1nax9vv': 9921, '2k': 9922, 'spanning': 9923, 'v30jz': 9924, 'tremen': 9925, 'pleasantly': 9926, 'analysthttp': 9927, 'd26ti': 9928, '20150327': 9929, 'hpq…': 9930, 'offset': 9931, 'r2lnh': 9932, 'erian': 9933, 'tsipras': 9934, 'proposals': 9935, 'arrival': 9936, 'creditors': 9937, 'plan…': 9938, 'strip': 9939, 'convience': 9940, 'reborn': 9941, '65326760': 9942, 'kf4zg': 9943, 'd1yus': 9944, 'd56uk': 9945, '773652': 9946, '3227366': 9947, '1g7fpvf': 9948, '030915': 9949, '742535': 9950, 'magical': 9951, '16mna1h': 9952, 'c2jsk': 9953, 'infotainment': 9954, 'woul': 9955, '3738896': 9956, 'declares': 9957, 'newest': 9958, 'adjust': 9959, '77th': 9960, 'ramping': 9961, 'pz9fzwy': 9962, 'implying': 9963, \"evening's\": 9964, 'dial': 9965, '1lxogas': 9966, 'anyway': 9967, '1yn0kgj': 9968, 'matchups': 9969, 'verify': 9970, 'necessarily': 9971, 'b34fn': 9972, '1hgurzo': 9973, 'allies': 9974, '1sm2pjr': 9975, 'kf4ev': 9976, 'pth': 9977, '787281': 9978, '319': 9979, 'dailyoptionalerts': 9980, '1540': 9981, 'whyhttp': 9982, 'h2con': 9983, '021015': 9984, '738738': 9985, 'container': 9986, 'aftr': 9987, 'lk4rp': 9988, 'watchdog': 9989, 't38y309': 9990, 'u6pc6': 9991, '1j17diw': 9992, 't21h0': 9993, 'tvixplayer': 9994, 'accum': 9995, '1ub8cyp': 9996, '1ub8axg': 9997, 'statements': 9998, 'annotated': 9999, 'hrc': 10000, 'pleasedbs': 10001, 'contemptmo': 10002, '3031256': 10003, 'theinquirer': 10004, 'inquirer': 10005, '2425381': 10006, 'case…': 10007, '120715': 10008, '784102': 10009, 'transportation': 10010, 'department': 10011, '67814277': 10012, 'a1nlr': 10013, '95b': 10014, '65b': 10015, '178b': 10016, '73c': 10017, '20150320': 10018, '922': 10019, 'pushsquare': 10020, 'ps4…': 10021, '1m6gmvy': 10022, 'strategist': 10023, 'udall': 10024, 'bd740k': 10025, 'h010cbn0': 10026, 'hcpg': 10027, 'shakeups': 10028, 'convo': 10029, 'inclusive': 10030, 'identified': 10031, 'rewarding': 10032, 'gtx': 10033, 'gtxo': 10034, 'smartsoles': 10035, 'finalist': 10036, 'ctia': 10037, 'awards': 10038, 's9ztgkzr': 10039, '1nwsmfr': 10040, \"'countdown\": 10041, \"2015'\": 10042, 'un': 10043, '19611876': 10044, '1wm60': 10045, '1fotqab': 10046, 'karen': 10047, 'tso': 10048, 'kazuo': 10049, 'hirai': 10050, '1np9hoy': 10051, '783601': 10052, '185000589': 10053, 'default…': 10054, 'breaching': 10055, '19mbu9c': 10056, '381497': 10057, '67022296': 10058, '1000343': 10059, 'paris…': 10060, '3571416': 10061, 'govts': 10062, '1vimgfx': 10063, 'kqqii…': 10064, 'maintain': 10065, 'nm': 10066, 'lptwthu': 10067, 'rdymvv': 10068, 'hshcx0…': 10069, 'tears': 10070, '2798825': 10071, '1bgmffe': 10072, '5208731': 10073, 'bitcoin…': 10074, 'jsp…': 10075, '„turning': 10076, 'op': 10077, 'margins“': 10078, '22u4i': 10079, 'roommate': 10080, 'squircle': 10081, 'shaped': 10082, 'comparably': 10083, 'ipod': 10084, 'wheel': 10085, '1v5iayo': 10086, 'adobe’s': 10087, 'catapulted': 10088, '912552': 10089, 'resistnace': 10090, 'r2uvb': 10091, 'simulator': 10092, '1b7ts9d': 10093, '2004http': 10094, 'phonearena': 10095, 'id70888…http': 10096, '4pda': 10097, '229447': 10098, '48584': 10099, \"'darlings'\": 10100, '13351339': 10101, 'darlings': 10102, 'stereoscopic': 10103, 'powerhour': 10104, 'questionable': 10105, 'mbps': 10106, '3gb': 10107, 'hours…': 10108, '1gm6i9a': 10109, '1naxmdp': 10110, '5595180': 10111, 'pilot': 10112, '1month': 10113, 'moskowitz': 10114, 'blackledge': 10115, 'colby': 10116, 'synesael': 10117, '3419257…': 10118, 'paccrest': 10119, '6067861': 10120, 'vybbmq…': 10121, '5mwgif': 10122, '033015': 10123, '745699': 10124, 'distribut': 10125, 'distributed': 10126, '19636686': 10127, '743215': 10128, 'tou': 10129, '2931156': 10130, 'grantham': 10131, 'yacktman': 10132, 't1la3': 10133, '1qjnlzo': 10134, '65833420': 10135, '65328014': 10136, 'f24rb”': 10137, 'zyxvoxpppv': 10138, 'packed': 10139, 'excited…': 10140, 'piggish': 10141, '1shdvqm': 10142, 'renegotiations': 10143, '1qpbd1z': 10144, 'optionstrategies': 10145, 'stocks…': 10146, 'hwwua…': 10147, 'standouts': 10148, 'c26va': 10149, '48281': 10150, '1gxcwt7': 10151, 'a3y00…': 10152, 'margspre': 10153, 'kings': 10154, '782925': 10155, 'grave': 10156, \"ford's\": 10157, 'p2iu5': 10158, '1gmu0qz': 10159, 'pretend': 10160, 's2pwb': 10161, 'meme': 10162, '1mxvy0o': 10163, '1atyeimalso': 10164, 'rebooting': 10165, 'wasting': 10166, 'bite': 10167, 'ver9oa…': 10168, '3mfczkyjt6': 10169, '070815': 10170, '760708': 10171, '66056031': 10172, 'aknowledge': 10173, '19709050': 10174, 'p0kac': 10175, 'lflb7ap': 10176, 'kevinolearytv': 10177, 'groundbreaking': 10178, '5334598': 10179, '1lepskf': 10180, 'f7gvqm': 10181, 'mjxytkb': 10182, 'edinburgh': 10183, 'partners’': 10184, 'quarterhttp': 10185, 'c1xj0': 10186, 'jisl9': 10187, '1nesyaq': 10188, '1mognsb': 10189, \"algo's\": 10190, 'inspite': 10191, '1u8vklt': 10192, 'besting': 10193, 'jambay': 10194, 'tpm': 10195, 'readers…': 10196, '13d': 10197, '33xvuz': 10198, 'smartwatchhttp': 10199, 'h2ccr': 10200, 'nasy': 10201, '5glyxpdye': 10202, 'forgettable': 10203, 'g3c2i': 10204, 'reaching': 10205, 'om4xi': 10206, '1g5nfar': 10207, '122638': 10208, 's2xfa': 10209, 'seemed': 10210, '1ofhiqv': 10211, 'trendline': 10212, 'amhttp': 10213, 'levie': 10214, '0jejuobefi8': 10215, 'fxcm': 10216, 'nflx…': 10217, '65364824': 10218, '060915': 10219, '756407': 10220, 'impacts': 10221, 'ek79un': 10222, 'so3vj5': 10223, 'demonstrated': 10224, 'nadellas': 10225, 'missive': 10226, 'c231v': 10227, '2794105': 10228, 'fyq1': 10229, 'benefitting': 10230, 'st1…': 10231, '1438724304…': 10232, 'expose': 10233, 'expresses': 10234, '1lgkty9': 10235, 'masse': 10236, 'opps': 10237, '18qhia9': 10238, 'c2sil': 10239, '012415': 10240, '736090': 10241, 'zilch': 10242, 'calcbench': 10243, '124754565958': 10244, 'nope…': 10245, 'urgent': 10246, 'actionable': 10247, 'ntip': 10248, 'mkfy': 10249, '1zidunc': 10250, 'commentators': 10251, 'splendo': 10252, 'frisbee': 10253, 'newsdetail': 10254, \"yahoo'd\": 10255, '1bzjwia': 10256, \"trump's\": 10257, 'b2bee': 10258, 'xhukfd': 10259, 'g1wet': 10260, 'unusable': 10261, 'j1xfw': 10262, 'realtime': 10263, 'filtered': 10264, 'gld': 10265, 'usdjpy…': 10266, 'signed': 10267, 'h34rd': 10268, 'cop': 10269, 'oxy': 10270, 'celg': 10271, 'regn': 10272, 'pwr': 10273, 'd7cwj5': 10274, '32703': 10275, 'kpop': 10276, 'kf4fw': 10277, 'toptickertweets': 10278, 'fucked': 10279, '1eaapjg': 10280, '787411': 10281, '1zoypxp': 10282, 'dumpage': 10283, \"'no\": 10284, \"here'\": 10285, '1cifhxs': 10286, 'lever': 10287, 'r2eiv': 10288, 'saber': 10289, 'rattles': 10290, '1yt1f8o': 10291, '1bzcxp1': 10292, \"day's\": 10293, 'kum2l': 10294, 'payments’': 10295, 'payment': 10296, '1c9tacr': 10297, 'jv3fxf': 10298, '20150213': 10299, 'q3gbg': 10300, '1fejpv2': 10301, 'rohan': 10302, 'alphahat': 10303, '2004…': 10304, 'samsungtweets': 10305, '49288': 10306, 'i2vcq': 10307, 'dis': 10308, 'haz': 10309, 'serviczes': 10310, \"everywhere'because\": 10311, 'pulpit': 10312, 'warming': 10313, 'benbajarin': 10314, 'mitigate': 10315, 'licensed': 10316, 'sx69w': 10317, 's2p58': 10318, '“cyber': 10319, 'room”': 10320, 'qb3n3da': 10321, 'bullishness': 10322, 'politically': 10323, '“sweet': 10324, 'spot”': 10325, '1katouj': 10326, 'h3ppi': 10327, 'falsity': 10328, 'equals': 10329, '1yuhd': 10330, '1mfihkz': 10331, 'nzg5ndm0': 10332, 'quadruple': 10333, 'addressable': 10334, '030215': 10335, '741502': 10336, 'sb49': 10337, 'commercials': 10338, 'correlation': 10339, 'g2bbd': 10340, 'skyrocket': 10341, 'addiction': 10342, 'cyclical': 10343, 'j3eix': 10344, '153bps': 10345, 'treasuries': 10346, '65263908': 10347, 'donation': 10348, 'p3gck': 10349, 'announcementshttp': 10350, '579413': 10351, 'announcements…': 10352, 'enriching': 10353, 'inl7k': 10354, 'donut': 10355, 'troubles': 10356, 'bestbuy': 10357, 'searchresults': 10358, 'ca77b9b4beca91fe414314b86bb581f8en20': 10359, '10322302': 10360, '10322304': 10361, '10322303': 10362, 'lang': 10363, 'icmp': 10364, '20150413': 10365, 'en…': 10366, '20024755': 10367, 'stoch': 10368, '1enhhhs': 10369, 't1ur9': 10370, 'lvol': 10371, 'sotm': 10372, '1hzvxop': 10373, '3219366': 10374, '1dwamd7': 10375, '´': 10376, '061715': 10377, '757841': 10378, 'dry': 10379, 'inclining': 10380, '252': 10381, '1cxuas3': 10382, '1rwqfel': 10383, 'financialbuzz': 10384, '249764…': 10385, '1g5qjbq': 10386, '1karmys': 10387, 'j25oz': 10388, 'summoned': 10389, 'belgian': 10390, 'eekulsr': 10391, '1b0ug2s': 10392, '685': 10393, '274': 10394, '1qvtnuq': 10395, 'exited': 10396, '1fthqr9': 10397, 'qercrx': 10398, '2850156': 10399, '5173999': 10400, '3653776': 10401, 'observation': 10402, '3znujden2': 10403, 'visits': 10404, '123115': 10405, '787481': 10406, 'mlnx': 10407, 'smashing': 10408, '742307': 10409, 'hain': 10410, 'tptg8f': 10411, \"innovator's\": 10412, '65237290': 10413, 'linic…': 10414, '3684606': 10415, 'pro…': 10416, '3454826': 10417, '47783': 10418, 'vendettas': 10419, 'whatnot': 10420, 'macos': 10421, 'tvos': 10422, 'props': 10423, 'seadrill': 10424, 'proshares': 10425, '72315': 10426, '1sf3zpv': 10427, '20150108': 10428, '1roaobo': 10429, \"abrams'\": 10430, '311083': 10431, 'abrams': 10432, 'picks…': 10433, 'ofcourse': 10434, 'screaming': 10435, 'delicious': 10436, 'relatives': 10437, 'talented': 10438, 'down—no': 10439, 'r1pkt': 10440, '3xrn6s': 10441, 'phrases': 10442, 'soonquicklylike': 10443, 'rocketshort': 10444, 'squeezepossible': 10445, '42k': 10446, 'ebola': 10447, 's2xtm': 10448, 'spectacular': 10449, 'blowoff': 10450, 'b2xrj': 10451, 'knell': 10452, 'emarketer': 10453, 'ji3xf': 10454, '65436210': 10455, 'kltblom': 10456, 'unintended': 10457, '815389280634931…': 10458, '1r472': 10459, '46202': 10460, '280': 10461, 'multinational': 10462, '1y2kmco': 10463, '1g2vw3t': 10464, '1hudv3l': 10465, '20150528': 10466, 'rebranding': 10467, 'shout': 10468, 'meant': 10469, '5148782': 10470, 'scroogled': 10471, 'chromebook…': 10472, 't2hbw': 10473, '675503944886558720': 10474, 'b6mkngrpem…': 10475, 'jonmarino': 10476, '15b9qyu': 10477, 'timehttp': 10478, '1xym2sn': 10479, 'reaffirms': 10480, '1gtkhfe': 10481, 'pete': 10482, 'najarion': 10483, 'bullbullbulll': 10484, 'overhauls': 10485, '800m': 10486, 'nigh': 10487, 's1jzr': 10488, '19688308': 10489, 'i25d7': 10490, 'nasdaqgoogl': 10491, '367': 10492, 'lamonicabuzz': 10493, 'fishing': 10494, '1bpirju': 10495, '48311': 10496, 'abandoned': 10497, 'archivists': 10498, 'wares': 10499, 'laced': 10500, '1f595': 10501, '1khppan': 10502, '3008326': 10503, 'sobering': 10504, 'timely': 10505, 'inspires': 10506, '120415': 10507, '783816': 10508, '182654472': 10509, 'nlightn': 10510, 'priceistruth': 10511, '7zth': 10512, 'h3n7f': 10513, 'gizbot': 10514, '027857': 10515, '913': 10516, 'bifurcation': 10517, '1fkr5nw': 10518, 'infected': 10519, '1nlyay2': 10520, 'a1ywu': 10521, '224859655': 10522, 'beau': 10523, 'altr': 10524, 'vmw': 10525, 'ctxs': 10526, 'vfhy4w…': 10527, 'q414': 10528, 'guiding': 10529, 'q115': 10530, 'hacker…': 10531, '1jk5gyz': 10532, 'rewind': 10533, '1juqy2b': 10534, 'raining': 10535, '1pk0s6d': 10536, 'f3bw8': 10537, 'deflate': 10538, \"'17\": 10539, '68989378': 10540, 'copper': 10541, 'extensive': 10542, 'interference': 10543, '1k7m1ib': 10544, '174542909': 10545, 'formally': 10546, '1i6db27': 10547, '20150312': 10548, 'mfo21': 10549, 'totrillion': 10550, '050815': 10551, '751705': 10552, 'renewal': 10553, 'handful': 10554, 'q1gey': 10555, '19787116': 10556, 'showc': 10557, 'showcase': 10558, '19685252': 10559, '1jbuled': 10560, 'på123': 10561, 'fade': 10562, '1dfluwa': 10563, '67018436': 10564, 'crashes': 10565, 'keystonethescribe': 10566, 'ruled': 10567, 'violated': 10568, 'cash…and': 10569, 'kumjxs': 10570, 'puny': 10571, '30469013': 10572, 'qabq7z4': 10573, 'splutter': 10574, '785151': 10575, 'fjmsu…': 10576, 'incs': 10577, '209': 10578, 'q2ayy': 10579, \"mni's\": 10580, '1dfl0f3': 10581, 'mninews': 10582, 'billy': 10583, 'q2wjn': 10584, '7ewi7z': 10585, '893': 10586, 'urge': 10587, \"'too\": 10588, \"soon'\": 10589, '1ecbhsq': 10590, 'budge': 10591, 'faltering': 10592, 'f38hi': 10593, '3508756': 10594, \"‘diluted'\": 10595, '66662637': 10596, 'g23v2': 10597, 'normally': 10598, 'forecaster': 10599, 'bgym8qw': 10600, 'swimming': 10601, 'smartmobe': 10602, 'jamming': 10603, '1zqtnmc': 10604, 'gappers': 10605, 'purposefully': 10606, '20087569': 10607, '1cao56r': 10608, '67623940': 10609, 'brazen': 10610, 'ransomwarecareful': 10611, 'phishing': 10612, 'iglob': 10613, 'en1024092': 10614, 'lc': 10615, '1ihyllw': 10616, 'lmt': 10617, '122423404': 10618, 'attach': 10619, '1nslzr0': 10620, 'rushing': 10621, 't1obk': 10622, 'was…': 10623, 'vgkfmg…': 10624, '1vdqnhz': 10625, 'smallcapvoice': 10626, 'da5h2i2': 10627, 'bear´s': 10628, 'msftchina': 10629, 'fkgu7itgmb': 10630, 'region': 10631, '1ferpc4': 10632, '1yzh1vp': 10633, '1g4jmyb': 10634, '67019793': 10635, 'honoring': 10636, 'letterman’s': 10637, '5434847': 10638, '2283756': 10639, 'd1rm6': 10640, '48163': 10641, '560': 10642, 'holographs': 10643, '1yypsks': 10644, 'funniest': 10645, '1ht9yjq': 10646, \"'call\": 10647, \"duty'\": 10648, 'hsxqn': 10649, 'thumbs': 10650, '1z5nyb8': 10651, 'sizes': 10652, '2800425': 10653, \"xiaomi's\": 10654, '3484756': 10655, 'xiaomis': 10656, 'zzz': 10657, 'nxxsh': 10658, '20151116': 10659, '623602709963386880…': 10660, '1vgt8uo': 10661, 'whiffs': 10662, 'cushioning': 10663, 'highlighted': 10664, 'h332b': 10665, 'abolish': 10666, '3357205': 10667, '1zoixxw': 10668, 'institutionals': 10669, 'favour': 10670, 'evestment': 10671, 'e2dpl': 10672, 'ztk19n1jcfk': 10673, 'jxeek4': 10674, 's1epi': 10675, '10302151': 10676, 'stocktalk': 10677, '60601585': 10678, 'lauded': 10679, 'gripes': 10680, '1iudnkq': 10681, \"falcon's\": 10682, 'fury': 10683, 'busch': 10684, 'gardens®': 10685, 'tampa': 10686, 'fl': 10687, 'phwn6ytvcds': 10688, 'politics': 10689, 'plo0z': 10690, 'hunt': 10691, 'audit': 10692, 'exploits': 10693, 'pvk7s7j': 10694, 'interoperability': 10695, 'meteorology': 10696, 'simulation': 10697, 'simulato': 10698, 'completing': 10699, '20150723': 10700, 'dwarfs': 10701, '3xix3f': 10702, 'chesapeake': 10703, 'woowee': 10704, 'unimpressive': 10705, 't2pbm': 10706, '1gof6k8': 10707, '1nxug6g': 10708, '1apxsck': 10709, '1jyvpt1': 10710, 'keith': 10711, 'williams…': 10712, 'tanked': 10713, 'anyways': 10714, 'minded': 10715, 'sited': 10716, 'bp8wema': 10717, 'sole': 10718, '66892536': 10719, 'segmented': 10720, 'g1deg': 10721, 'initated': 10722, 't2vte': 10723, 'qdeamcw': 10724, 'squad': 10725, '1jvubw8': 10726, 'sniggering': 10727, 'wedges': 10728, 'gamble…': 10729, 'prestige': 10730, 'q2igm': 10731, \"baidu's\": 10732, 'g23bp': 10733, 'ambitious': 10734, 'yahoonewsdigest': 10735, '108766612384': 10736, 'bounds': 10737, 'e1ui9': 10738, 'gnc299': 10739, 'fran': 10740, '1hz7tec': 10741, 'fr2jiw': 10742, 'person': 10743, 'unadjusted': 10744, 'splits': 10745, 'cringed': 10746, 'eroded': 10747, '92102': 10748, 'modernizing': 10749, 'interface': 10750, '1l82diy': 10751, 'oldschoolvalue': 10752, 'w9hag…': 10753, '45599': 10754, 'g2jje': 10755, 'othershttps': 10756, 'cihxaa': 10757, 'cmiiagvi': 10758, '3298545': 10759, '1bu9pic': 10760, 'demndg': 10761, '1lkn8fc': 10762, 'congress': 10763, '3349905': 10764, 'npapi': 10765, 'plugins': 10766, 'digest': 10767, 'danger…': 10768, '20150521': 10769, 'nasdaqamzns': 10770, '1hlyetr': 10771, 'anybody': 10772, 'plc': 10773, 'fingers': 10774, 'crossed': 10775, 'd1a0n': 10776, '1w8uee4': 10777, 'shakeout': 10778, '110415': 10779, '779152': 10780, 'shakeup': 10781, 'mcdermott': 10782, 'toca': 10783, 'reporte': 10784, 'nokiaphone': 10785, 'uncomfirmed': 10786, 'skinning': 10787, 'qprvo2': 10788, 'terrified': 10789, 'lkryb': 10790, 'ipadportfolioapp': 10791, 'disorder': 10792, 'mitsmr': 10793, '1hgkqc9': 10794, 'chime': 10795, 'lures': 10796, '1kxornc': 10797, 'liftoff': 10798, 'j1ckv': 10799, '1omvqb4': 10800, 'standalone': 10801, '5656278': 10802, '743873': 10803, 'tread': 10804, 'cautiously': 10805, 'wait…': 10806, 'jiiph': 10807, 'ajlkp1u5xnacboaj1myw2na…': 10808, '590': 10809, 'kf4fv': 10810, 's3bbc': 10811, 'speeding': 10812, 'duel': 10813, 'franc': 10814, '194vftm': 10815, 'upheavals': 10816, '779539': 10817, 'shakeouts': 10818, 'rcp': 10819, 'rcpmag': 10820, 'twittersoft': 10821, 'reluctance': 10822, 'bod': 10823, 'convencen': 10824, 'defrauda': 10825, 'resultados': 10826, 'j3sbq': 10827, '1dwihqu': 10828, '1e05wzw': 10829, 'compression': 10830, 'lrhti': 10831, 'empty': 10832, 'seattledave': 10833, 'jpj': 10834, '‘next': 10835, 'evolution’': 10836, 'mirrored': 10837, 'smells': 10838, 'pao6jpp': 10839, '18zzamnalso': 10840, 'telco2': 10841, 'telco': 10842, 'microsof': 10843, 'category': 10844, 'mitchellkwarren': 10845, 'hal': 10846, '174ce53d': 10847, '9264': 10848, '4259': 10849, '93fd': 10850, '36522c759f11…”': 10851, 'additional': 10852, 'runways': 10853, 'foe': 10854, 'azure…': 10855, '294545832…': 10856, '1eqcds2': 10857, \"ever'\": 10858, '19744790': 10859, 'strides': 10860, '1e6l88b': 10861, '1o6b59y': 10862, 'cheat': 10863, 'jabra': 10864, 'sensing': 10865, 'scottgfx': 10866, 'taxable': 10867, 'clickbait': 10868, '66060120': 10869, 'chambers': 10870, 'vicious': 10871, 'atttacks': 10872, \"rally's\": 10873, 'annually': 10874, 'rutrading': 10875, '3317225': 10876, 'weights': 10877, '1t8y4hc': 10878, '1icw3ko': 10879, 'overwhelmed': 10880, '4wjhfnjqbv': 10881, '65117025': 10882, '1fr73yb': 10883, 'egqffq': 10884, 'subtly': 10885, 'f2jco': 10886, 'neat': 10887, '237': 10888, '3594406': 10889, 'hindsight': 10890, 'bump': 10891, '1w4mwsr': 10892, '9d958z': 10893, 'ryxjpp': 10894, 'haircut': 10895, '1g7tztc': 10896, '65593700': 10897, 'tinyletter': 10898, 'letters': 10899, 'hoc': 10900, 'stories…': 10901, 'flavored': 10902, 'b00a9jn4ly': 10903, 'ubju0v3cud4': 10904, 'cojo': 10905, 'qcyom': 10906, 'cxqcpt': 10907, '…of': 10908, 'sheer': 10909, 'waking': 10910, 'messy': 10911, 's2vjn': 10912, 'dougheuringaria': 10913, 'devitlisja”': 10914, 'epzzb8': 10915, 'vfqe': 10916, 'washingtonsblog': 10917, '5178503': 10918, '46280': 10919, 'mar1': 10920, '1kio9q9': 10921, 'y0qjft0': 10922, '20151103': 10923, 'atvi': 10924, 'bb': 10925, 'newsgrade': 10926, 'jumbo': 10927, '1ieto7v': 10928, '3756716': 10929, 'r8890': 10930, 'alluring': 10931, '1dycgt2': 10932, 'etfxxx': 10933, '1j7nxqs': 10934, 'stimulushttp': 10935, 'c24nw': 10936, '3701996': 10937, '7zmkxy': 10938, '3672866': 10939, 'date…': 10940, '1fljz79': 10941, '3345715': 10942, 'i3gjz': 10943, 'j2osi': 10944, 'fibretrace': 10945, 'sysorex': 10946, 'vistapglobal': 10947, '1jgysa4': 10948, '011315': 10949, '734569': 10950, \"man's\": 10951, '1lxne0e': 10952, '5687319': 10953, 'va4dvq…': 10954, 'heaven': 10955, '3135516': 10956, 'tycoons': 10957, '1gqmgyt': 10958, 'infiltrate': 10959, 'reap': 10960, 'ov5rhoe': 10961, '550': 10962, 'trailshttp': 10963, 'b27sj': 10964, '5410735': 10965, '1sp5fv1': 10966, '1kgq83e': 10967, 'anthem': 10968, '1m6966e': 10969, '4ebcpu': 10970, 'numner': 10971, 'subscriber': 10972, 'g352x': 10973, 'imsonia': 10974, '23k': 10975, 'our…': 10976, 'ywbwgionxq': 10977, '3045126': 10978, 'richi': 10979, 'thrust': 10980, \"ok'ish\": 10981, 'decidedly': 10982, 'prc': 10983, 'jpn': 10984, '597': 10985, '1i5prd4': 10986, 'jueves': 10987, '6sybhxdhp': 10988, 'ipecv': 10989, 'unblocked': 10990, 'b2vgx': 10991, 'eyjzijoidcisimkioijfmtvkzje1zdbzmxlhbnzqmij9…': 10992, '138b': 10993, '93921': 10994, 'puters': 10995, 'watchhimtrade': 10996, '15910…': 10997, 'p2xfo': 10998, '5451326': 10999, 'j23ak': 11000, 'reddogt3': 11001, '674205613170278400…': 11002, '3102346': 11003, '1ef4eju': 11004, '316': 11005, '552544502319888…': 11006, 'occur': 11007, '8x': 11008, 'workday…': 11009, 'u520p': 11010, 'id6v3': 11011, 'markindi': 11012, 'dethrone': 11013, 'z1plmo': 11014, 'burrito': 11015, 'j2obf': 11016, 'stawks': 11017, 'bitchezzz': 11018, 'singles': 11019, 'flattened': 11020, '3293265': 11021, '20150903': 11022, 'unicode': 11023, '1dte88w': 11024, 'ton': 11025, 'homework': 11026, 'forth': 11027, 'vuqlng…': 11028, 'normalised': 11029, 'mln': 11030, 'spotty': 11031, 'ohw5c25': 11032, 'tive': 11033, 'charleswlhill': 11034, 'seattles': 11035, '1ildwju': 11036, 'delivering': 11037, 'tarted': 11038, 'kickoff': 11039, 'f3xb3': 11040, 'valua': 11041, '19694645': 11042, '190028007': 11043, 'trustedreviews': 11044, 'huawei': 11045, 'corner…': 11046, 'contixapp': 11047, 'esrx': 11048, '3767996': 11049, 'mdecam…': 11050, 'equiv': 11051, 'balances': 11052, '1f02im2': 11053, 'believable': 11054, 'perceptual': 11055, '1dhtnye': 11056, 'p1gvw': 11057, 'objective': 11058, 'support…': 11059, '87cqmp0rn': 11060, '253': 11061, 'magicformula': 11062, 'x2pfus': 11063, 'sdk': 11064, 'g1vf3': 11065, 'gamblers': 11066, '013': 11067, '999': 11068, '9086': 11069, 'astonishingly': 11070, 'wesla': 11071, 'drink': 11072, 'zrbnux': 11073, '2200': 11074, 'yestrday': 11075, 'g293k': 11076, 'vfbrlw…': 11077, '172505706': 11078, 'versatile': 11079, 'motherboards': 11080, 'piggybacked': 11081, '121615': 11082, '785651': 11083, 'provision': 11084, '1eoy30r': 11085, \"'acquire\": 11086, 'breed': 11087, \"app'\": 11088, 'overpaying': 11089, 'compromised': 11090, 'jerry': 11091, '144013657': 11092, \"fang's\": 11093, 'micron': 11094, 'oled': 11095, 'displays': 11096, '1gxlruy': 11097, 't3ex4u': 11098, 'dampens': 11099, 'dzxhac': 11100, 'pwhff': 11101, 'impariment': 11102, '10709397': 11103, 'avsbjz': 11104, 'nomfqo': 11105, 'gambler': 11106, 'craps': 11107, 'allegation': 11108, 'booyah': 11109, '1q6ripr': 11110, '294021000…': 11111, 'gz': 11112, 'ds8dyjjq': 11113, 'misguided': 11114, '1vi4bt1': 11115, '77995398': 11116, 'iwatches': 11117, 'j1vc4': 11118, 'runup': 11119, 'conventional': 11120, 'asleep': 11121, '19762242': 11122, \"'tough\": 11123, \"choices'\": 11124, '759877': 11125, '012115': 11126, '735590': 11127, 'a1bkx': 11128, \"martin's\": 11129, 'martin': 11130, '181825291': 11131, 'shanelpatrick1': 11132, 'buyin': 11133, 'implementation': 11134, 'unwelcome': 11135, 'yuimrgp7yn': 11136, 'a26wg': 11137, 'throne': 11138, 'kf3zd': 11139, 'bottoming': 11140, 'motleyfoolmoney': 11141, 'contributors': 11142, 'hailing': 11143, '3568416': 11144, '1mczsfm': 11145, 'h1d5u': 11146, 'looming': 11147, 'spill': 11148, 'dlcs': 11149, '1lcd8qw': 11150, 'qzf0': 11151, 'synergies': 11152, 'loxnmzq': 11153, 'chevy': 11154, 'cadillacs': 11155, '1csaoqj': 11156, '000000': 11157, '492567': 11158, '720357': 11159, '638897': 11160, '712601': 11161, '1k7yuvl': 11162, 'ny2qyc5': 11163, 'borrows': 11164, \"adobe's\": 11165, '1pjdehv': 11166, '1429827568…cloud': 11167, 'fiercely': 11168, '265m': 11169, 'vdzaf': 11170, '033115': 11171, '745814': 11172, 'calculated': 11173, 'chandelier': 11174, '1mo': 11175, 'h2gnx': 11176, '92333': 11177, '1tgpdck': 11178, '1oqpyso': 11179, '13125634': 11180, 'regeneron': 11181, '12q': 11182, 'thorgood': 11183, 'speedbump': 11184, '1cemivp': 11185, 'mindbending': 11186, 'i3g7j': 11187, 'pointershttp': 11188, '1llxjkq': 11189, 'vwo': 11190, 'omen': 11191, '1q8q8j6': 11192, '1bvtpmf': 11193, 'emotional': 11194, 'valuing': 11195, 'degree': 11196, 'g1ee5': 11197, '1doyoedwill': 11198, 'fibonacci': 11199, '1heqou': 11200, \"investorplace's\": 11201, 'botch': 11202, 'smu': 11203, 'ucla': 11204, 'i1adv': 11205, '1me8mh8': 11206, '21569': 11207, '20151229': 11208, '19625711': 11209, 'hahahaahahahaha': 11210, '1gi6rlo': 11211, '2025j7y': 11212, '67001643': 11213, 'crazier': 11214, 'candidates': 11215, 'vatican': 11216, 'starbrekaouts': 11217, 'greatest': 11218, 'wapo': 11219, '1da3hxp': 11220, 'r2vh7': 11221, 'pooper': 11222, '753085': 11223, 'ibdinvest': 11224, 'orcl…': 11225, 'punish': 11226, '1az5k68': 11227, '194b': 11228, 'kspr': 11229, '21053196': 11230, '31236366…': 11231, 'til': 11232, 'dick': 11233, '1ztsnq6': 11234, '13182014': 11235, 'alibabas': 11236, '91fttv': 11237, 'needle': 11238, '1exkesw': 11239, '1cpupml': 11240, '081315': 11241, '766391': 11242, 'yuan': 11243, '1o6s4rk': 11244, 'birth': 11245, 'jesus': 11246, 'christ': 11247, 'valves': 11248, 'c2n5s': 11249, 'uvke2': 11250, 'egregious': 11251, 'successor': 11252, 'espresso': 11253, '6e2ac1686891dd29482f46c9d5bf5724…': 11254, '1hiv9yq': 11255, 'whipped': 11256, 'hooked': 11257, 'consumerism': 11258, 'curing': 11259, '779079…': 11260, '68ish': 11261, '20150316': 11262, '1h6s873': 11263, 'clearer': 11264, 'popularize': 11265, 'kgab283': 11266, 'stockshttp': 11267, 'f23oz': 11268, 'kf3jt': 11269, '6xd7ez': 11270, 'esp': 11271, 'f1dht': 11272, '3108806': 11273, 'paltry': 11274, '438': 11275, 'q2nln': 11276, 'lumpy': 11277, \"obama's\": 11278, 'proposed': 11279, 'vkihbq…': 11280, 'f2pxp': 11281, '1bjbsh7': 11282, 'pots': 11283, 'michael': 11284, \"steinhardt's\": 11285, 'variant': 11286, 'perception': 11287, 'nok': 11288, '1o0mxmh': 11289, '48574': 11290, 'pac': 11291, 'laud': 11292, '51b': 11293, '46b': 11294, 'airbnb': 11295, '15b': 11296, 'tya1ql': 11297, '1jxlrjl': 11298, 'lsgmbm': 11299, 'improper': 11300, 'ventilation': 11301, 'x360': 11302, \"rackspace's\": 11303, '1erp2uo': 11304, '1erp1jl': 11305, '1jabofx': 11306, 'congratulation': 11307, 'promotion': 11308, 'searching': 11309, '678503': 11310, 'jj7arv': 11311, 'sherly': 11312, 'satiya': 11313, 'vittorio': 11314, 'colao': 11315, 'weforum': 11316, 'economy…': 11317, 't25o9': 11318, 'litreleases': 11319, 'lr23261': 11320, 'realmoney': 11321, 'validity': 11322, '1biuv0j': 11323, 'biopics': 11324, '769822': 11325, 'films': 11326, 'wonderfully': 11327, 'datacenterknowledge': 11328, 'reliability': 11329, 'fewer': 11330, 'errors': 11331, 'convering': 11332, 'hybrids': 11333, 'converging': 11334, 'osx…': 11335, \"o'shares\": 11336, 'crazyman': 11337, 'cloudy': 11338, 'ability': 11339, 'mod2g': 11340, 'abbv': 11341, 'hardcore': 11342, 'u5cih': 11343, 'newyorker': 11344, 'day…': 11345, '44736': 11346, 'f8qovozv': 11347, 'newshour': 11348, 'chuck': 11349, 'carnevale': 11350, 'fully': 11351, 'bargains': 11352, 'bajbxt': 11353, 'e1cvo': 11354, \"firms'\": 11355, 'r3djm': 11356, 'independent': 11357, 'indicated': 11358, 'c2faw': 11359, 'polzt': 11360, 'israeli': 11361, '1m7igbb': 11362, 'harrisonweber': 11363, 'scaled': 11364, '1jf7hb5': 11365, 'g2mch': 11366, '7m3egatzs': 11367, 'borrowing': 11368, '130410413': 11369, 'c2ij3': 11370, 'surfacepro': 11371, '4me': 11372, 'marketmeter': 11373, 'j2bqq': 11374, '1m9wc35': 11375, '100515': 11376, '774055': 11377, 'hundred': 11378, '1di1oc1': 11379, 'scheduling': 11380, '19813439': 11381, \"'right\": 11382, \"forgotten'\": 11383, '1wcsoqx': 11384, '1yn9h2o': 11385, 'outsmarts': 11386, '90bb4k': 11387, 'g3aqm': 11388, 'hphhu': 11389, 'c2gcm': 11390, 'membership': 11391, 'fatal': 11392, 'birinyi': 11393, '1mxqkvn': 11394, \"'magical\": 11395, \"delightful'\": 11396, '1huvecy': 11397, '15prdyd': 11398, '2579': 11399, 'p3gam': 11400, \"ark's\": 11401, '3016266': 11402, 'wiped': 11403, '135': 11404, 't1me6': 11405, 'avail': 11406, 'beautiful': 11407, 'pairing': 11408, 'peoples': 11409, 'routines': 11410, 'solved': 11411, 'hunger': 11412, 'p5csmlw': 11413, 'stor…': 11414, '1j7xmzy': 11415, '48271': 11416, 'rdio': 11417, 'ntxpme': 11418, 'replay': 11419, 'interestingly': 11420, '1intv0b': 11421, '15phi3': 11422, 'mattyb': 11423, 'smwnyc': 11424, '2985066': 11425, 'i3gxc': 11426, 'rumours': 11427, 'uddb7a': 11428, '15pprz': 11429, 'reccomendations': 11430, 'slashing': 11431, '1aip8q9': 11432, 'brace': 11433, 'techno': 11434, 'marla': 11435, 'puff': 11436, 'appreciated': 11437, 'i2yum': 11438, 'wfla': 11439, '28622549': 11440, 'gungho': 11441, 'ncsoft': 11442, 'two…': 11443, 'mouth': 11444, 'ramn': 11445, '1ezjorg': 11446, 'kf7e2': 11447, 'hogfn': 11448, '1l4nx2u': 11449, 'concentrated': 11450, 'ceases': 11451, 'amaze': 11452, '1eou4l7': 11453, 'sunrise…': 11454, 'persons': 11455, 'coherent': 11456, 'emulates': 11457, 'wilt': 11458, 'chamberlain': 11459, '1ejryfg': 11460, 'fusion': 11461, '245022': 11462, 'recidivism': 11463, 'socialshare': 11464, 'top…': 11465, 'stockbattle': 11466, 'analyzed': 11467, 'g1cfx': 11468, 'knew': 11469, 'brainers': 11470, '1guynhx': 11471, 'dkvdyes': 11472, '1ykwvc5': 11473, 'danieleran': 11474, 'codecs': 11475, 'stabilise': 11476, 't2tnv': 11477, 'uninspiring': 11478, 'p2mk5': 11479, 'wds': 11480, '445': 11481, 'wps': 11482, 'portal': 11483, 'demographic': 11484, 'smartwatches': 11485, 'attracting': 11486, 'segments': 11487, 'pitched': 11488, 'einhorns': 11489, '3759': 11490, 'yikes': 11491, 'liveloop': 11492, '1abv9da': 11493, 'jun': 11494, 'pressured': 11495, \"that'd\": 11496, '500pts': 11497, '770q': 11498, '1fi1dv0': 11499, 'frontapp': 11500, 'evolutions': 11501, '13050191': 11502, 'fu': 11503, '1dnxwi4': 11504, '1eqmyf4': 11505, '7ella3': 11506, 'skinny': 11507, 'bundlers': 11508, '6g4si2': 11509, 'wsjbusiness': 11510, 'mute': 11511, '1ckehxd': 11512, 'yo': 11513, 'nxt': 11514, 'o4p8f1': 11515, '1i5vmui': 11516, 'downhill': 11517, 'cdixon': 11518, 'judges': 11519, 'seized': 11520, 'enrich': 11521, '3391625': 11522, '2824596': 11523, '547': 11524, '915': 11525, '355': 11526, '3103226…': 11527, 'wednesdays': 11528, 'harmless': 11529, 'physically': 11530, 'bore': 11531, 'droning': 11532, 'mania': 11533, '1rnmuuy': 11534, '1feyw5t': 11535, 'induced': 11536, \"b'bye\": 11537, 'znh': 11538, 'knjgx': 11539, 'ptypi': 11540, 'jimmy': 11541, 'fallon’s': 11542, 'c2jxh': 11543, '523': 11544, 'undo': 11545, 'pirate': 11546, \"hockey's\": 11547, 'derail': 11548, 'treaties': 11549, '1prmk18faud9g': 11550, 'xi': 11551, '1a1kvms': 11552, '1a7lxvm': 11553, '8mi6t': 11554, '5003ag': 11555, 'omega': 11556, '910br': 11557, '1ai54qt': 11558, '687a5a5c657f14b5e07810852292c132': 11559, '44…': 11560, 'depreciated': 11561, 'macrumors': 11562, 'bootcamp': 11563, 'freebies': 11564, \"'minimal'\": 11565, 'strings': 11566, '1ackqww': 11567, 'buffet': 11568, 'atlasoptions': 11569, 'negotiate': 11570, '92311': 11571, 'colors': 11572, '1kgsebv': 11573, 'igsrj': 11574, 'ops7f9q': 11575, '1xviwvi': 11576, '1ky7hrt': 11577, '2887394…': 11578, '8ghghp': 11579, 'blunt': 11580, 'separate': 11581, '1qzyceg': 11582, 'require': 11583, 'suppliers': 11584, 'ku88y': 11585, 'shaker': 11586, 'dominion': 11587, 'i1dkl': 11588, 'undercurrent': 11589, 'cyk49f': 11590, 'vmttlxksxug': 11591, 'resource': 11592, '48256': 11593, 'disappearing': 11594, '1ckylc6': 11595, '46223': 11596, 'honor': 11597, 'ave': 11598, 'ender': 11599, '1dupywn': 11600, 'suppresi': 11601, 'ks': 11602, 'gern': 11603, 'statistics…': 11604, '6ncwkb': 11605, '1lausiu': 11606, 'squawkcnbc': 11607, 'dcf': 11608, 'gutenbergequityresearch': 11609, \"4's\": 11610, 'updatehttp': 11611, 'abs': 11612, \"quarter's\": 11613, 'chicagoinno': 11614, 'movements': 11615, \"cisco's\": 11616, 'q2lbe': 11617, 'narcissism': 11618, '00h': 11619, 'appl3': 11620, 'teachers': 11621, 'impression': 11622, 'hollowdeck': 11623, '41d4dab0754ca1d913c82e6b013d4541': 11624, 'manipulators': 11625, '1klgzqb': 11626, '“he’s': 11627, 'hanging': 11628, 'fruit': 11629, 'but…”': 11630, 'harder…': 11631, 'mikeboysen': 11632, 'christie': 11633, 'withdraws': 11634, 'nj': 11635, 'pearson': 11636, 'ets': 11637, '1zuvz9z': 11638, '712139977773427…': 11639, '3079596': 11640, 'bars': 11641, 'a1ymj': 11642, 'stalled…': 11643, 'q323y': 11644, '13021436': 11645, '919': 11646, 'h1div': 11647, 'laggards': 11648, '1hiszcm': 11649, '33xvdm': 11650, \"sphere3d's\": 11651, 'aginst': 11652, 'i1hy3': 11653, 'philstockworld': 11654, 'shares…': 11655, '1422468169…': 11656, '49071': 11657, '1h6s7qh': 11658, \"90's\": 11659, 'e27': 11660, 'us1': 11661, '57b': 11662, '20150917': 11663, 'encouraged': 11664, 'behaved': 11665, 'darned': 11666, '1juvdzd': 11667, 'heeds': 11668, 'wagehttp': 11669, 't23qy': 11670, 'imatation': 11671, 'probook': 11672, 'coffee': 11673, \"'microsoft\": 11674, 'creator': 11675, \"devices'\": 11676, 'c1frj': 11677, '1qlf3w0': 11678, 'wallstreetmonkey': 11679, '44383970…': 11680, 'neckline': 11681, 'manageable': 11682, '042815': 11683, '749932': 11684, 'g2ovy': 11685, 'treat': 11686, '12997007': 11687, \"q's\": 11688, 'putoptions': 11689, 'bztv': 11690, 'mimics': 11691, 'g2mxg': 11692, 't2fx1': 11693, '492341071638508…': 11694, 'bolly': 11695, 'a1zrx': 11696, 'tweak': 11697, 'paste': 11698, 'a2a1g': 11699, '7q90': 11700, 'annoy': 11701, '1nwjltz': 11702, 'jewsbrothers': 11703, 'p4r3ua': 11704, 'fe': 11705, '1ayf971': 11706, 'zngujf': 11707, 'maximus': 11708, '“battle': 11709, 'royale”': 11710, 'thelincolnlist': 11711, 'prus25500515…': 11712, 'r3ad8': 11713, 'ody0njy2': 11714, 'bbg': 11715, 'i2kuk': 11716, \"'frequently'\": 11717, 'continental': 11718, 'europe…': 11719, '1wduols': 11720, 'barronsonline': 11721, 'f1kli': 11722, '20151203': 11723, 'upholds': 11724, 'ratehttp': 11725, 'hkjz7…': 11726, 'bowling': 11727, 'educational': 11728, 'a2g6c': 11729, 'clues': 11730, '37flw5kves0': 11731, 'vietnam': 11732, 'ndg3mdq4': 11733, 'notifying': 11734, \"f'in\": 11735, 'rsho': 11736, '1sm8tis': 11737, '1lz7nuu': 11738, 'convert': 11739, '1q0juib': 11740, 'o4c3496': 11741, 'dubli24cash': 11742, 'wildcard': 11743, 'yawn': 11744, '1dbr6dq': 11745, '15dktmw': 11746, 's2wfs': 11747, 'wt7qwo': 11748, 'r2ioh': 11749, 'pichais': 11750, 'sukgr': 11751, 'h2blw': 11752, '7qynyo5xdng…': 11753, '1xxowdi': 11754, '1hxf6qs': 11755, 'unclear': 11756, 'beneficiary': 11757, 'rbhxe': 11758, 'notions': 11759, 'hearsay': 11760, 'bread': 11761, 'butter': 11762, '8000': 11763, 'tapped': 11764, 'rentals': 11765, 'newerplatforms': 11766, 'backing': 11767, 'filling': 11768, 'polcari': 11769, '102615': 11770, '777348': 11771, 't1ogx': 11772, '1tzruu9': 11773, '1arc4nw': 11774, 'known': 11775, '1fgsupc': 11776, '3274705': 11777, 'a2x25': 11778, '1tksh95': 11779, '19838792': 11780, 'hortonworks': 11781, 'bottomline': 11782, 'a2nbl': 11783, 'socialist': 11784, 'agenda': 11785, 'extorting': 11786, 'who’s': 11787, '“windows': 11788, 'service”': 11789, 'sore': 11790, '1e0sye8': 11791, 'cprediction': 11792, 's3': 11793, 'amazonaws': 11794, 'postmaster': 11795, 'attachments': 11796, 'igs3jrhnlkgh9sh': 11797, 'jpg…': 11798, '785184': 11799, 'ruidoenelsistema': 11800, 'q1eyo': 11801, 's1egh': 11802, 'mreferre': 11803, 'gotcha': 11804, '1cwzlpn': 11805, 'journalist': 11806, 'pubs': 11807, \"music's\": 11808, \"tesla's\": 11809, 'downs': 11810, 'applenews': 11811, 'mtuynty1': 11812, '1j2glyt': 11813, 'readymon': 11814, 'biib': 11815, 'e2fjc': 11816, 'olj8lx8': 11817, 'disgusted': 11818, 'rooting': 11819, 'e1ikv': 11820, 'freeexchange': 11821, '2ftw': 11822, '2fte': 11823, '2fbl': 11824, '2fed': 11825, '2femergingmarkets…': 11826, 'doubtful': 11827, 'vgira': 11828, '‘reignite’': 11829, '46316': 11830, 'autologin': 11831, 'mg': 11832, 'wsj…': 11833, 'you’ll': 11834, '1onxgfs': 11835, 'eerily': 11836, 'ucuar': 11837, 'us7': 11838, 'archive1': 11839, '3528cc9f36c64a1a5311d57b0': 11840, '9d90ecaf69': 11841, 'c066b367a0…': 11842, 's38': 11843, 's42': 11844, 'r45': 11845, 'j1d49': 11846, 'jeffries': 11847, 'microsoft’': 11848, 'xmlcxi': 11849, 'existential': 11850, 'j3ggs': 11851, '1reason': 11852, 'ins': 11853, 'gabalex': 11854, 's1zki': 11855, '102472838': 11856, 'hyped': 11857, 'u54bu': 11858, 'i3kkw': 11859, '560096056780656640…': 11860, 'automated': 11861, 'proprietary': 11862, 'casual': 11863, 'ford’s': 11864, 'r2cpl': 11865, 'deployment': 11866, '65304842': 11867, 'idiotprooftrades…': 11868, '“hold”': 11869, '1qqmiow': 11870, 'arguably': 11871, 'b22tw': 11872, 'vxxkva…': 11873, 'pct': 11874, '1mgejqc': 11875, 'kf4er': 11876, '1n3syis': 11877, 'perf': 11878, 'bdq6yhy': 11879, 'acn': 11880, '1sdbi9dlargest': 11881, '1afecka': 11882, 's6': 11883, 'm9': 11884, 'tba': 11885, 'jana': 11886, \"'attractive\": 11887, \"candidate'\": 11888, 'quicker': 11889, '111115': 11890, '780443': 11891, 'jason': 11892, 'maynard': 11893, 'logical': 11894, 'microssoft': 11895, 'mtg4nzax': 11896, 'outlooka': 11897, '1fsqsxp': 11898, \"msft's\": 11899, 'iprs': 11900, \"vhc's\": 11901, 'h1z72': 11902, 'whr': 11903, '114945816': 11904, 'mediacontentsharebuttons': 11905, \"game's\": 11906, '47257': 11907, 'renames': 11908, '“black': 11909, 'tusk”': 11910, '1qavqjq': 11911, 'doubling': 11912, '3fciln': 11913, 'mortgage': 11914, 'backed': 11915, 'fires': 11916, 'history…': 11917, 'sony’s': 11918, '‘snowball': 11919, 'effect’http': 11920, 'vrfocus': 11921, '26367': 11922, 'snowball': 11923, '4fj1xew6h': 11924, 'iukxkbxham': 11925, 'somethings': 11926, 'olds': 11927, 'kiddies': 11928, 'ardevora': 11929, \"management's\": 11930, 'f2gdz': 11931, '7b': 11932, '68955127': 11933, 'preserves': 11934, '378': 11935, 'crqqpm': 11936, 'j2kyz': 11937, '082708751': 11938, '49279': 11939, 'averaged': 11940, 'deraldmuniz': 11941, '721': 11942, 'reports…': 11943, 'cracking': 11944, 'alleged': 11945, 'mnmng': 11946, '757317': 11947, '1r6jpwe': 11948, 'c233i': 11949, 'gym': 11950, '1aj024x': 11951, 'analystratings': 11952, '424625': 11953, 'dashboard': 11954, 'bluvisor': 11955, '1cwhyvj': 11956, 'aimed': 11957, '1z3tqq1': 11958, 'domain': 11959, '1bubbfh': 11960, 'tought': 11961, 'clobbered': 11962, 'axe': 11963, '1yzzvxf': 11964, '2817046': 11965, '122315': 11966, '786797': 11967, '2887066': 11968, 'fidgety': 11969, '1v56tft': 11970, '18v2m7r': 11971, 'hover': 11972, 's66tn': 11973, 'q1jj7': 11974, 'billionhttp': 11975, '1kwbmpc': 11976, 'njawndy5': 11977, 'cals': 11978, '1436369267…': 11979, 'pipstodollars': 11980, '1gc7bfi': 11981, '1zmfkbs': 11982, 'techtastic': 11983, 'nasdaw': 11984, 'a2fxz': 11985, 'that…face': 11986, 'strengthens': 11987, 'homekit': 11988, '1xh5occ': 11989, 'gates’': 11990, 'upped': 11991, 'nicer': 11992, '13yz5pg': 11993, '1clavlj': 11994, '1amckjp': 11995, 'wte': 11996, 'comparative': 11997, '1yr': 11998, 'english': 11999, 'sci': 12000, 'xhtml': 12001, '032003wtq31c…': 12002, 'ganando': 12003, 'casi': 12004, '46180': 12005, 'unloved': 12006, 'established': 12007, 'payer': 12008, 'rave': 12009, 'lambasted': 12010, '1otaaka': 12011, '739747': 12012, 'openstack': 12013, 'groupon': 12014, '49771…': 12015, 'partially': 12016, '1mfoczo': 12017, 'likelyhood': 12018, 'hide': 12019, '1yolu4x': 12020, '2852876': 12021, 'moonshots': 12022, 'skybox': 12023, '052715': 12024, '754197': 12025, '3vsss64xf': 12026, \"area's\": 12027, '782911': 12028, '658': 12029, \"''within\": 12030, \"days''…\": 12031, 'capitalist': 12032, 'hegemony': 12033, '1945': 12034, 'described': 12035, 'wallerstein': 12036, '1cxfpzf': 12037, '0dijcxs5': 12038, '1zl9rf0': 12039, '1ce37ta': 12040, \"ndq's\": 12041, 'soft•': 12042, \"waltmossberg's\": 12043, '10656914': 12044, 's2wuy': 12045, 'nagging': 12046, '1vdqot0': 12047, 'd1xzq': 12048, 'shi': 12049, 'ecosystems': 12050, 'slideshare': 12051, 'pabsanch': 12052, '43889799…': 12053, '3493486': 12054, '1rtnhmf': 12055, 'ag’s': 12056, 'ags': 12057, '3475716': 12058, 'bsqvzg': 12059, 'stabilization': 12060, \"piper's\": 12061, '1kxw2hp': 12062, '65176943': 12063, 'disjointed': 12064, '1zdzitm': 12065, 'b1qth': 12066, '1mjbbue': 12067, 'accordance': 12068, 'predictive': 12069, '1mwhksa': 12070, '1y8lmf2': 12071, 'g3olf': 12072, '65016102': 12073, '“hegemony”': 12074, 'overwhelming': 12075, 'dictators': 12076, 'unpatched': 12077, 'vulnerabilities': 12078, '1ijjpdl': 12079, 'duck': 12080, 'pond': 12081, 'whacked': 12082, 'crater': 12083, '1urlmey': 12084, 'mw': 12085, 'news…': 12086, '8bgvy0': 12087, 'q9j6ljq': 12088, '1dvmwmf': 12089, 'r2sq1': 12090, 'cap—4': 12091, '2trn—available': 12092, 'a—and': 12093, '3trn': 12094, 'boeingand': 12095, 'cocacola': 12096, \"citi's\": 12097, 'ndqymzk1': 12098, 'explaining': 12099, 'gillip': 12100, 'd2i6y': 12101, 'bidnessetcnews': 12102, '117099726956': 12103, 'sales…': 12104, '1kobcdq': 12105, 'hsov2': 12106, 'parallel': 12107, '1roqkh2…': 12108, '1cdsfho': 12109, '1ecw4aq': 12110, 'loose': 12111, 'heavier': 12112, 'drvankman': 12113, 'trix': 12114, 'suggesting': 12115, '40c': 12116, 'j3boq': 12117, 'implemented': 12118, 'protocol': 12119, 'stone': 12120, 'playback': 12121, 'technica': 12122, '1j6hxx6': 12123, 'flier': 12124, '1klfpwj': 12125, 'exception': 12126, \"'00s\": 12127, 'natural': 12128, 'organic': 12129, 'inorganic': 12130, 'mergers': 12131, 'trollish': 12132, 'bott': 12133, 'zealotry': 12134, '1xrbtue': 12135, 'ntm4nte5': 12136, 'cited': 12137, 'vat': 12138, 'slowdown': 12139, 'ubimax': 12140, 'dhl': 12141, 'allaboutshipping': 12142, 'envisioning': 12143, '1pdpct4': 12144, 't2hhw': 12145, '1dg2mp3': 12146, 'nodes': 12147, '448gib': 12148, 'optgreek': 12149, 'q2yo7': 12150, 's2y6l': 12151, 'q2yo8': 12152, '20150125': 12153, '1h8odm6': 12154, 'e1ljf': 12155, '17250': 12156, '17750': 12157, 'hardest': 12158, \"leader's\": 12159, 'typically': 12160, '1c30gbx': 12161, 'hesitant': 12162, '1kwbpqn': 12163, 'verint': 12164, 'vrnt': 12165, '1f8fetg': 12166, 'infoworld': 12167, '2887232': 12168, '20660': 12169, '1hfq0f4': 12170, 'doh': 12171, 'claiming': 12172, 'infringe': 12173, 'u5ocs': 12174, 'cla': 12175, 'facotry': 12176, '1nqbu1n': 12177, 'optionality': 12178, 'fronts': 12179, '46198': 12180, 'sutwtk': 12181, 'hints': 12182, 'patching': 12183, 'bsuj2ux': 12184, '1680912308…': 12185, '119215': 12186, '8mb': 12187, 'throughput': 12188, 'latencies': 12189, 'translating': 12190, '2978036': 12191, 'softkinetic': 12192, 'deve1op': 12193, '1jjwsxk': 12194, 'tts': 12195, 'rlaamt': 12196, 'estimated': 12197, 'eggs': 12198, '2769356': 12199, '2921896': 12200, '126': 12201, '1czkfuf': 12202, 'no…': 12203, 'siggraph': 12204, 'deblurring': 12205, 'inertial': 12206, 'measurement': 12207, 'sensorshttp': 12208, 'um': 12209, 'ivm': 12210, 'imudeblurring': 12211, 'bestcocowater': 12212, 'q21wz': 12213, \"'upgrade\": 12214, \"kits'\": 12215, 'logo': 12216, 'foldable': 12217, 'trv': 12218, 'mmm': 12219, 'ibb': 12220, 'hgx': 12221, 'aavl': 12222, 'invasive': 12223, 'prostate': 12224, 'exam': 12225, '665568070572863488…': 12226, 'deleted': 12227, 'antivirus': 12228, 'permission': 12229, 'frames': 12230, \"5's\": 12231, '48427': 12232, 'outrage': 12233, '1bbpzib': 12234, 'billionaireshttp': 12235, 'p28ml': 12236, 'rambles': 12237, '132278567598': 12238, 'fridays': 12239, 'leaders…': 12240, '756': 12241, '385': 12242, '369': 12243, 'fathom': 12244, '1aveakp': 12245, '4sqhttp': 12246, '162mlatest': 12247, \"feb'14\": 12248, '639797524765782016…': 12249, 'vemhfw…': 12250, 'overstated': 12251, '65268714': 12252, 'p2l7hz7': 12253, 'nc3kaek': 12254, '1z2kpj4': 12255, 'risehttp': 12256, '1cebfuu': 12257, 'bytes': 12258, '1okrlmd': 12259, 'whenever': 12260, 'aemsnjizotcxfdixnja0njy0v3at6': 12261, '8jcdwcx6qsuvsp5qxwetz3yjmpw41i73xf99c': 12262, 'female': 12263, '1iecuoo': 12264, 'father': 12265, 'goog…': 12266, 'r1kgq': 12267, '1lknyad': 12268, 'persists': 12269, '381464': 12270, \"'as\": 12271, \"profound'\": 12272, '768899': 12273, '1xiuqlq': 12274, 'ib2bdi': 12275, 'bidder': 12276, 'fuels': 12277, 'juices': 12278, 'virtualization': 12279, '9ixdf': 12280, \"'pool'\": 12281, '112315': 12282, '782077': 12283, 'c2fms': 12284, 'pl2wy4': 12285, '3111926': 12286, 'ravens': 12287, 'qb': 12288, 'flacco': 12289, 'seriousone1975': 12290, 'otiznjy4': 12291, 'shave': 12292, 'stocksaints': 12293, '12939': 12294, 'gmail…': 12295, 'emily': 12296, 'frbvau': 12297, 'jefferies’s': 12298, '1oix247': 12299, 'refreshing': 12300, 'pricey': 12301, 'blackrock': 12302, '1fcyhbe': 12303, '031115': 12304, '742969': 12305, 'loyaltyhttp': 12306, 'f24v1': 12307, 'sirtaj': 12308, 'scavengers': 12309, 'scavenging': 12310, 'j1cgz': 12311, 'distractions': 12312, 'maintenance': 12313, 'niche': 12314, 'emerge': 12315, 'grelis': 12316, 'j1atl': 12317, '79th': 12318, 'gimme': 12319, 'babyyyyy': 12320, 'glaring': 12321, 'nnvz2au': 12322, 'capieffi': 12323, \"dxomark's\": 12324, 'slashgear': 12325, 'dxomarks': 12326, '01407324': 12327, 'proportions': 12328, 'uwfnl': 12329, 'd2som': 12330, '19613186': 12331, '9900': 12332, 'bullsih': 12333, 'dipping': 12334, 'd2d2q': 12335, 'secretcaps': 12336, 'trailer': 12337, 'spcb': 12338, '1gnfwha': 12339, 'chunky': 12340, 'adroid': 12341, '1cjkk2e': 12342, 'automobile': 12343, 'keystone': 12344, 'infections': 12345, 'h39tr': 12346, 'lapses': 12347, '1703171799…': 12348, '1hxdtzx': 12349, 'evaporating': 12350, '3399805': 12351, 'depth': 12352, '1gcljkr': 12353, 'sputters': 12354, 't34xa': 12355, 'follower': 12356, 'engt': 12357, '1auuxwj': 12358, 'lenders': 12359, 'stutz': 12360, 'jujhar': 12361, 'singh': 12362, 'prupnnx': 12363, 'nuzb8o4': 12364, '1qraxqz': 12365, '3171436': 12366, '1ikyxr1': 12367, 't3n15': 12368, '1la3c3u': 12369, 'attacker': 12370, 'c2': 12371, 'bosttv': 12372, 'ahscnw': 12373, '1k7lyn6': 12374, '1mffz9r': 12375, 'clarify': 12376, 'imn': 12377, 'mismanage': 12378, '030': 12379, 'dozenstocks': 12380, '673819503717974016…': 12381, \"'where'd\": 12382, 'whered': 12383, '19837501': 12384, 'rarity': 12385, 'b1zcr': 12386, 'd1zmi': 12387, '628577948711432192…': 12388, 'vcdqdg…': 12389, 'mindset': 12390, 'youngster': 12391, 'certification': 12392, 'featuring': 12393, 'conflicting': 12394, 'r2voq': 12395, 'ericschmidt': 12396, 'sherylsandberg': 12397, 'ssatyanadella': 12398, '8bn5js': 12399, '3457326': 12400, 'd1mxf': 12401, '7vvirh': 12402, 'poss': 12403, 'everybody': 12404, 'apis': 12405, 'restructured': 12406, '1f7vqty': 12407, 'jimbo': 12408, \"'definitely\": 12409, \"possible'\": 12410, '1duqqqx': 12411, 'h010cch0': 12412, 'argument…': 12413, 'plain': 12414, 'bnh4d5': 12415, '1iqpwd3': 12416, '2874716': 12417, 'bclspt': 12418, '1a1rp4c': 12419, 'stockoptionexpert': 12420, 'upstage': 12421, 'fifteen': 12422, '86sxx2': 12423, 'ftdrowssap': 12424, 'recommendation': 12425, 'marketmakers': 12426, 'p1o4e': 12427, 'aap': 12428, 'jewel': 12429, 'crown': 12430, 'roaring': 12431, 'omments': 12432, '1d9243i': 12433, 'stayed': 12434, 'woulda': 12435, 'p2ld4': 12436, 'wizards': 12437, 'curtain': 12438, '19706700': 12439, 'k1zit': 12440, 'k1znu': 12441, '15omu6b': 12442, '193': 12443, '68m': 12444, '04m': 12445, '92m': 12446, '99m': 12447, 'windowshttp': 12448, '1kz39pi': 12449, 'drinks': 12450, '1ascjbh': 12451, 'paths': 12452, 'specifications…': 12453, 'crapload': 12454, 'trickle': 12455, 'cxzv46': 12456, 't2nmh': 12457, '1owouq9': 12458, 'cleaner': 12459, 'nursing': 12460, 'wounds': 12461, 'bcos': 12462, 'j2rjt': 12463, 'whe': 12464, '1g4yuig': 12465, 'r1m46': 12466, '18et2pv': 12467, 'sabre': 12468, '1szhurl': 12469, 'bgictlghkxy…': 12470, 'detailed': 12471, 'trmx': 12472, 'autocorrect': 12473, '1kp': 12474, 'yfsver': 12475, 'tock': 12476, 'r2oel': 12477, 'footage…': 12478, 'headache': 12479, 'q1fpp': 12480, '1c5tcyz': 12481, 'a2slk': 12482, '1i2dkhh': 12483, 'aye': 12484, 'vulwug…': 12485, '1ko8auw': 12486, 'mesosphere': 12487, 'nerds': 12488, 'cried': 12489, 'silenced': 12490, 'dean': 12491, '380': 12492, 'h3t9o': 12493, 'spinning': 12494, '1s3fc1q': 12495, 'r2lub': 12496, 'sergey': 12497, 'larry': 12498, '1exd85s': 12499, 'blankenhorn': 12500, 'ignores': 12501, 'empire': 12502, '3051416': 12503, 'again…—future': 12504, 'balloon': 12505, 'wll': 12506, \"samsung's\": 12507, 'a2tbm': 12508, '749318': 12509, '66190061': 12510, 'stalwarts': 12511, '1mw1bp5': 12512, 'misread': 12513, 'wash': 12514, 'mattrick': 12515, 'overreacting': 12516, '3520336': 12517, 'manner': 12518, 'oneconomic': 12519, 'manner…': 12520, 'semi': 12521, 'npr': 12522, 'dailygraphics': 12523, 'hist': 12524, 'initialwidth': 12525, '800…': 12526, 'shipping': 12527, 'visible': 12528, 'wa': 12529, 'agent': 12530, 'mediatek': 12531, 'd1rbg': 12532, 'cmlviz': 12533, 'rc': 12534, 'card…': 12535, '2800045': 12536, 'ponzi': 12537, 'afte': 12538, 'g1ijm': 12539, 'anytime': 12540, '1v4ugyf': 12541, 'collide': 12542, 'smack': 12543, 'mit': 12544, '7pm': 12545, 'bedtime': 12546, 'enabler': 12547, '20e9jbr': 12548, '3056856': 12549, 'vsu8rq…': 12550, 'streettalklive': 12551, '2621…': 12552, 'testimonials': 12553, 'diversified': 12554, 'vewweq…': 12555, '8fj44j': 12556, '1dcjpq3': 12557, 'protective': 12558, 'applied': 12559, 'breakeven': 12560, 'cmp': 12561, 'j2baq': 12562, '1uzuhxo': 12563, '15th': 12564, 'p1xw3v': 12565, '1ll': 12566, '1kk6kmt': 12567, 'weightings': 12568, 'wuzat': 12569, 'jqhrv': 12570, 'ndc3nta5': 12571, 'weathering': 12572, 'eyjzijoidcisimkioijfbmcxym96zg04nzd3owtzzcj9…': 12573, '3214416': 12574, 'format': 12575, 'engines': 12576, '1g6f4dh': 12577, 'keanu': 12578, '9711698': 12579, 'oxford': 12580, 'assumption': 12581, 'chisels': 12582, 'paradigm': 12583, 'noone': 12584, 'sphs…': 12585, 'premkt': 12586, 'carfully': 12587, 'ub': 12588, 'bespoke': 12589, 'a2btq': 12590, 'spencerrascoff': 12591, '1lispiq': 12592, 'aeog4…': 12593, '1abbrzx': 12594, 'g1duj': 12595, 'consistent': 12596, 'g31nk': 12597, 'condor': 12598, 'advironco': 12599, '1xq1p78': 12600, 'idle': 12601, 'irresponsible': 12602, 'uncaring': 12603, 'brakes': 12604, '65267805': 12605, 'transform': 12606, 'e38df3b0': 12607, 'dcff': 12608, '4b48': 12609, 'aa81': 12610, '7fed66966e5e…': 12611, 'ycombinator': 12612, 'startups…': 12613, 'h3wvb': 12614, 'iduskcn0r80ke20150908': 12615, 'feedtype': 12616, 'feedname': 12617, 'usmorningdigest…': 12618, 'sco': 12619, '58vd61': 12620, 'putty': 12621, 'hanselman': 12622, 'itshappeningopensshforwindowsfrommicrosoft': 12623, 'qeoy85b': 12624, '2809625': 12625, 'b1b5j': 12626, 'style': 12627, \"carter's\": 12628, 'vibe': 12629, '13th': 12630, 'keybanc': 12631, '1dzmjri': 12632, 'cvspv7': 12633, 'e1vmr': 12634, \"'eye\": 12635, \"popping'\": 12636, 'liv': 12637, 'competed': 12638, '1qnmem7': 12639, 'm9lca': 12640, '059': 12641, 'videogame': 12642, 'e2hd2': 12643, 'ziop': 12644, '1pdfnwx': 12645, 'nkop94': 12646, '1rgicnc': 12647, 'toolbox': 12648, 'gazoo': 12649, 'av': 12650, 'j33an': 12651, '150tnzd': 12652, '17fv2vh': 12653, '3685956': 12654, 'btfd': 12655, 'hesitate': 12656, 'f1xff': 12657, '1mpyc0b': 12658, '1jikcae': 12659, '3135046': 12660, 'faced': 12661, 'i2jmc': 12662, 'imminen': 12663, 'commission': 12664, 'objections': 12665, 'b22q5': 12666, 'fugicals': 12667, '3465236': 12668, 'vdyphw…': 12669, 'bumper': 12670, '1gdxsuf': 12671, 'freakin': 12672, 'aw': 12673, 'shucks': 12674, '619': 12675, 'xd4d': 12676, '20150406': 12677, 'riding': 12678, \"icahn's\": 12679, 'coattails': 12680, 'tokl2y': 12681, 'h8': 12682, '1j2tqow': 12683, 'unified': 12684, 'paging': 12685, 'a20150708pd212': 12686, 't1uxx': 12687, 'chartists': 12688, 'eventual': 12689, 'consistency': 12690, 'u66yv': 12691, '1icopot': 12692, 'rod': 12693, 'hall': 12694, 'reminded': 12695, 'plight': 12696, 'unrepatriated': 12697, 'getstockal': 12698, 'g3dli': 12699, 'merill': 12700, '1bpnncc': 12701, 'kfckd': 12702, '28nflx': 12703, '10959172': 12704, 'hitters': 12705, 'critics': 12706, 'wispa': 12707, '1dhkyhw': 12708, 'compendium': 12709, 'q1xxg': 12710, 'mockfolio': 12711, '44793': 12712, '621815329772840…': 12713, 'p32mi': 12714, 'headwindshttp': 12715, 'e1ufx': 12716, 'presses': 12717, 'marketable': 12718, 'ygjgh': 12719, 'racing': 12720, 'f1jnx': 12721, 'forbestech': 12722, 'alexrkonrad': 12723, 'catz': 12724, 'acq': 12725, 'help…': 12726, 'coach': 12727, 'diligence': 12728, 'pyvn3l': 12729, 'odcwmzu2': 12730, 'shall': 12731, 'seeeee': 12732, 'snowing': 12733, 'ct': 12734, 'zip': 12735, 'gathering': 12736, 'f2gwg': 12737, 'kiosk': 12738, 'chosen': 12739, 'mspartner': 12740, 'wpc': 12741, 'fbid': 12742, 'd3oyaqequoj…': 12743, 'stk': 12744, '1ozpg': 12745, 'math': 12746, 'memberships': 12747, 'g24sn': 12748, 'gravestone': 12749, 'doji': 12750, 'hong': 12751, 'kong': 12752, '1smhnah': 12753, '1zsdd4a': 12754, '1brtyyv': 12755, 'vantagepointtrading': 12756, '13988': 12757, '1bcxuxf': 12758, '122447': 12759, 'bktk42': 12760, 'robotsfx': 12761, \"41's\": 12762, 'sooooo': 12763, 'nasdaqhttp': 12764, 'd27hu': 12765, '3418446': 12766, 'titles': 12767, '16hostx': 12768, 'ding': 12769, 'dong': 12770, 'witch': 12771, 'banishes': 12772, 'toolbar': 12773, 'kavx6u': 12774, 'cedes': 12775, '1monksb': 12776, 'unfinished': 12777, 'transformative': 12778, 'cz9a…': 12779, 'i3kbc': 12780, 'progect': 12781, 'infra': 12782, 'mondays': 12783, 'kitchennews': 12784, 'p2zoq': 12785, '34bn': 12786, 'ycharts': 12787, '31844792': 12788, 'outboundteam…': 12789, 'longbow': 12790, \"'read\": 12791, \"cautious'\": 12792, 'ownj8rp': 12793, '1gda5hc': 12794, '1ffdsdb': 12795, 'sprint’s': 12796, '1wjat5y': 12797, '3tqdp': 12798, 'meager': 12799, 'chartmill': 12800, 'f3vpp': 12801, 'edjievm': 12802, 'oblivious': 12803, 'panos': 12804, 'responsibility': 12805, '1ikzaab': 12806, 'unpopular': 12807, '010715': 12808, '733603': 12809, '1llckws': 12810, 'dcomp': 12811, '20and': 12812, '20development': 12813, '28us': 12814, 'b88e2e16f95e1f93601b4f6af9b5d8b8…': 12815, '1lvy0fu': 12816, '7481069': 12817, '061615': 12818, '757548': 12819, 'jqvqdw': 12820, 'spcapitaliq': 12821, 'fideility': 12822, 'quarter…': 12823, '1i0yotw': 12824, 'touted': 12825, '050415': 12826, '750794': 12827, 'undaunted': 12828, '1b5rjq4': 12829, '1kqxuu1': 12830, 'snipes': 12831, '163pyjr': 12832, 'df': 12833, 'salesppl': 12834, '1z14mck': 12835, 'proudly': 12836, 'boa': 12837, 'slouch': 12838, 'dept': 12839, '1fckjmh': 12840, 'intend': 12841, 'dividiend': 12842, '19d98us': 12843, 'trumps': 12844, 'funded': 12845, 'credible': 12846, 'ee7k6z4wab0': 12847, 'plummets': 12848, '1ezvomd': 12849, 'boxes': 12850, 'lulu': 12851, 's1lel': 12852, 's1lem': 12853, 'rd': 12854, '‘cold': 12855, 'mv2djo': 12856, '2800645': 12857, '68544314': 12858, '1gsjse5g5gcv2': 12859, 'proverbial': 12860, 'hallucinating': 12861, 'apartment': 12862, '2794805': 12863, 'u52hk': 12864, 'hogfb': 12865, '060215': 12866, '755333': 12867, '6wunderkinder': 12868, '1glj5jj': 12869, 'arkwebx0': 12870, \"ahead'\": 12871, '6082078': 12872, 'police': 12873, 'arrest': 12874, '1iiek7e': 12875, 'mechofjusticewz': 12876, 'teledildonics': 12877, 'upshot': 12878, '15joqea': 12879, 'srsly': 12880, 'pin': 12881, 'certs': 12882, '13y3qt4': 12883, 'kf4ff': 12884, 'lobby': 12885, 'bleed': 12886, 'listen2': 12887, 'robenfarzad': 12888, 'apple…': 12889, 'theres': 12890, '5763242': 12891, 'j3akx': 12892, 'tour': 12893, 'guidenext': 12894, 'paperclip': 12895, 'miip': 12896, 'circulating': 12897, 'boots': 12898, 'runtime': 12899, 'redistributable': 12900, '394': 12901, 'tmus': 12902, '750412': 12903, 'bitching': 12904, 'n6agae7': 12905, 'share—s': 12906, '07iphone': 12907, 'iplearn': 12908, 'alice': 12909, 'pbe7l': 12910, 'q354o': 12911, 'segmentation': 12912, \"vp's\": 12913, '2025347960': 12914, 'microsofthauserxml': 12915, 'vkrpafedp6i': 12916, 'handily': 12917, 'firepower': 12918, 'nkop54': 12919, '20150117': 12920, '7fed': 12921, '2791935': 12922, 'clutches': 12923, 'e1vir': 12924, '1ellpay': 12925, '15lxfsl': 12926, 'zafojg': 12927, 'lbknvb': 12928, '1fouskv': 12929, 'nagdevtarun': 12930, '645': 12931, 'kotaku': 12932, '1713004688…': 12933, '47753': 12934, 'lego': 12935, 'dolls': 12936, 'd248z': 12937, 'souls': 12938, '1qpss6f': 12939, 'underperforming': 12940, 'concluded': 12941, 'stupidity': 12942, 'cultural': 12943, 'phenomenon': 12944, '554': 12945, '1isdopw': 12946, '220904704': 12947, 'supporthttp': 12948, 'q1gtd': 12949, '3145806': 12950, 'superpower': 12951, 'owl': 12952, 'hkyfj': 12953, 'saddened': 12954, 'd2ur7': 12955, \"'chance\": 12956, \"reload'\": 12957, \"'if\": 12958, \"before'\": 12959, '5166972': 12960, 'frenemies': 12961, '1aauvdf': 12962, '1cbwp4b': 12963, 'c1td1': 12964, 'hure7': 12965, 'advised': 12966, '50c': 12967, \"salesforce's\": 12968, 'mystery': 12969, '1enw8ji': 12970, 'fxstreet': 12971, 'storyid': 12972, 'a4566732': 12973, 'a934': 12974, '4baf': 12975, '8f47': 12976, '73329709ef67…': 12977, '1td1b0drb': 12978, 'recycle': 12979, 'bin': 12980, 'peers': 12981, 'sequential': 12982, 'storytelling': 12983, 'lofty': 12984, 'admittedly': 12985, 'executed': 12986, 'mediapost': 12987, 'publications': 12988, '241838': 12989, 'foresees': 12990, '79412…': 12991, '1zhoij4': 12992, 'pbf9csyx': 12993, 'jertignes': 12994, '122051': 12995, '19626290': 12996, 'arndailyw': 12997, 'stranded': 12998, 'canada': 12999, 'listshow': 13000, '49129843': 13001, 'jkoxh': 13002, '3168276': 13003, '1pe7ov': 13004, '1q1x95e': 13005, 'infoblox': 13006, 'vknzt': 13007, '1h5cwgf': 13008, 'didn’t': 13009, 'n4cdlt': 13010, '16oakju': 13011, \"'expert'\": 13012, 'lifts': 13013, 'stating': 13014, 'inflated': 13015, 'aways': 13016, 'tblt': 13017, 'qzumlc': 13018, 'inferior': 13019, 'earphones': 13020, '7700122': 13021, 'contribute': 13022, '1mqf6rq': 13023, 'i3rri': 13024, 'twc': 13025, 'sarcastic': 13026, 'thanking': 13027, 'r2xtz': 13028, '8183rl': 13029, '092115': 13030, '772022': 13031, 'granted': 13032, '1a07xav': 13033, 'lfcf': 13034, '44x': 13035, '51x': 13036, '16x': 13037, '16pjxap': 13038, 'fwlink': 13039, '311967…': 13040, 'stanford': 13041, 'g3bar': 13042, '20150511': 13043, '905': 13044, 'wobble': 13045, '65266988': 13046, 'h1fra': 13047, \"consumer's\": 13048, 'a1fjc': 13049, 'carefullllllllll': 13050, '5olg': 13051, 'ffd': 13052, '5784318': 13053, '1igxolc': 13054, 'cratered': 13055, 'bb8qjn': 13056, 'anshelsag': 13057, '…users': 13058, 'legitimately': 13059, 'warmer': 13060, 'nychttp': 13061, 'siliconangle': 13062, '2014…': 13063, 'ppr': 13064, 'contributor': 13065, '3dtwitter': 13066, '3a936891528': 13067, 'url': 13068, '2f': 13069, '2fwww': 13070, 'eweek': 13071, '2fcloud': 13072, '2fbig': 13073, 'urlhash': 13074, '2e1dc671…': 13075, '1qvyayb': 13076, '4nhvk…': 13077, 'w2audz': 13078, 'dissolving': 13079, 'coins': 13080, 'tilted': 13081, 'f246h': 13082, '1ikwprn': 13083, '1987': 13084, 'revolutionize': 13085, 'clothes': 13086, '1zaneuz': 13087, '0nrpgo': 13088, 'guac': 13089, 'surged': 13090, 'shrs': 13091, 'billionaireslife': 13092, '6065963': 13093, 'mhealey': 13094, 'neur': 13095, 'oppt’y': 13096, 'hotly': 13097, 'contested': 13098, '010000742': 13099, 'html…nothing': 13100, '1msqmiq': 13101, '67625111': 13102, 'fudging': 13103, 'newsfeed': 13104, 'tend': 13105, 'viewership': 13106, '21645217': 13107, 'chinas': 13108, 'booming': 13109, 'spawned': 13110, 'innovator': 13111, 'te': 13112, 'chinasmartphones…': 13113, 'j2eby': 13114, 'toohightoolo': 13115, 'institutioal': 13116, 'j1yxz': 13117, '1ykdnzs': 13118, '2ttrqo': 13119, 'welp': 13120, 'offloaded': 13121, 'keurig': 13122, '1ksqlwz': 13123, 'overblown': 13124, '1uysntg': 13125, '8fm9p5': 13126, '28620': 13127, 'rackspace…': 13128, '65380863': 13129, \"romania's\": 13130, 'romanias': 13131, 'elena': 13132, 'udrea': 13133, '19838989': 13134, 'bubble’s': 13135, '102732677': 13136, 'impresive': 13137, 'bmpqvjm': 13138, 'sta…': 13139, \"\\uf3c6today's\": 13140, 'sweepers': 13141, 'r32cg': 13142, 'vocabularly': 13143, 'clobbering': 13144, '231': 13145, 'assume': 13146, 'wknd': 13147, 'minuscule': 13148, '67018553': 13149, 'bc1gdh': 13150, '1ohuaqu': 13151, 'murrica': 13152, '175000': 13153, '1fizpwk': 13154, '300k': 13155, 'shrewd': 13156, 'monopolies': 13157, 'livermore': 13158, '656280279502295040…': 13159, '1m6j5ff': 13160, 'sqqq': 13161, 'sen': 13162, '5min': 13163, 'vnewi': 13164, 'ytlje': 13165, \"mix'11\": 13166, '1pn2kr6': 13167, 'dnaiel': 13168, 'vhqweq…': 13169, 'commit': 13170, '1zxozde': 13171, '89655': 13172, '1zndkli': 13173, 'q3c1m': 13174, '1jqkc0a': 13175, '1ba2cip': 13176, '904': 13177, 'smog': 13178, 'idukkbn0ub1kb20151229': 13179, 'paleofuture': 13180, 'plo0v': 13181, '19qnhz0': 13182, '3716556': 13183, 'ios…': 13184, '042115': 13185, '748937': 13186, '3211446': 13187, '2640190…': 13188, 'shorter': 13189, 'timeframes': 13190, 'q1yko': 13191, 'reciprocal': 13192, 'prelude': 13193, '21rgwzi': 13194, 'drm': 13195, 'century': 13196, 'patter': 13197, \"phone'\": 13198, 'streams': 13199, 'bullying': 13200, 'vself': 13201, 'i2pna': 13202, '2qs': 13203, 'turrible': 13204, 'operator': 13205, '8pp3a…': 13206, '1qxl6uf': 13207, '111215': 13208, '780516': 13209, 'chromeos': 13210, '1i8mvlq': 13211, 'town': 13212, 'q8iob': 13213, 'twit': 13214, 'nduwnda5': 13215, 'julbqn': 13216, 'sensex…': 13217, '2828186': 13218, 'skx': 13219, 'etfchttp': 13220, 'a2in8': 13221, '420043': 13222, 'donald': 13223, 'deventer': 13224, '3797036': 13225, 'ibms': 13226, 'risk…': 13227, 'chou': 13228, 'management’s': 13229, 'q2http': 13230, 'g2aja': 13231, 'rfp': 13232, 'kojqor': 13233, 'introducing': 13234, 'salesforce1': 13235, '1z3vwep': 13236, 'eagerly': 13237, 's1mw8': 13238, 'boyz': 13239, 'radar': 13240, '1xsvd83': 13241, 'propped': 13242, 'manages': 13243, '17ntpp7': 13244, 'seeker': 13245, 'rmhjqkkozba': 13246, 'nods': 13247, '122115': 13248, '786268': 13249, 'nominated': 13250, '170640710': 13251, 'norman': 13252, 'brodeur': 13253, 'ac\\xadcount': 13254, '1g4lmu8': 13255, '1hs50tt': 13256, 'wearing': 13257, 'hysteria': 13258, 'pmlg0': 13259, '31023741…': 13260, 'kkqwzglnw1': 13261, '1tyvq': 13262, 'matching': 13263, 'regardless': 13264, 'revisions': 13265, \"do'nt\": 13266, 'backwards': 13267, '1gxtoke': 13268, 'domestically': 13269, '45506': 13270, '109': 13271, '22nqpbk': 13272, 'technologyreview': 13273, '544236': 13274, 'stampede': 13275, '2969296': 13276, '65328011': 13277, 'y0qjbh0': 13278, 'repository': 13279, '40x': 13280, 'codeand': 13281, 'r3azr': 13282, 'resdiual': 13283, '05s': 13284, '14jldev': 13285, 'patriots': 13286, '1he25k7': 13287, 'videostitch': 13288, 'alphavisor': 13289, 'meteor': 13290, 'vrmr4y3jyt28afisc…': 13291, \"'kill\": 13292, \"switch'\": 13293, '1acdvyn': 13294, 'bow': 13295, '744': 13296, '58b': 13297, '727b': 13298, 'stockholders': 13299, '1m4dlny': 13300, '1ablmtg': 13301, '353994917366034…': 13302, 'potus': 13303, 'gee4x': 13304, '1132015': 13305, '1998': 13306, '1inwffa': 13307, '1drzrww': 13308, '1ez73m9': 13309, 'navigating': 13310, 'juice': 13311, 'f3jjj': 13312, '1e1lpbg': 13313, 'cdt': 13314, 'audacious': 13315, '91419': 13316, 'airtime': 13317, '753895255863117…': 13318, 'hio6j': 13319, '1t9yar8': 13320, '••••': 13321, 'postmerger': 13322, 'ptpwjlz': 13323, '875': 13324, '44pts': 13325, \"'challenging'\": 13326, '45920': 13327, 'punishing': 13328, 'timer': 13329, '1995': 13330, 'powerhouses': 13331, 'ltg88': 13332, '2015312': 13333, '1yplads': 13334, 'factories': 13335, '1pjdiye': 13336, 'indicating': 13337, 'android…': 13338, 'negotiations': 13339, 'googleglass': 13340, 'sexier': 13341, '1wzjb0k': 13342, '1awemcs': 13343, 'elitist': 13344, 'nue77f9': 13345, 'nearest': 13346, 'uncorrected': 13347, 'trough': 13348, 'faith': 13349, 'appeals': 13350, 'qqzqj': 13351, 'spends1': 13352, '1l4bovx': 13353, 'hitman': 13354, '1qy0exn': 13355, '‘surface': 13356, 'hub’': 13357, '1agf8f': 13358, 'mtqxnzi3': 13359, '1bc8r6t': 13360, '155034282': 13361, '1s98rk6': 13362, 'bbt0ts': 13363, '46023': 13364, 'nxywe…': 13365, 'innovattion': 13366, 'conglomerate': 13367, 'scott': 13368, '6010822fa15d4b65abcbdd131cdcdaa9…': 13369, 'cz88q3': 13370, '070915': 13371, '760900': 13372, 'praised': 13373, 's1zfm': 13374, 'commitment': 13375, 'promised': 13376, 'timeless': 13377, 'indiana': 13378, 'h26wp': 13379, '2993556': 13380, 'fk': 13381, '031815': 13382, '744015': 13383, 'readers': 13384, 'immigrant': 13385, 'planet': 13386, '3658716': 13387, 'bluestripe': 13388, 'ni8ed': 13389, 'y0vxbd0': 13390, '1cumt2j': 13391, '1bjusib': 13392, 'secrty': 13393, 'heating': 13394, 'unloading': 13395, 'r2nna': 13396, '206': 13397, '5430399': 13398, 'statist': 13399, '222lo': 13400, 'worth…': 13401, 'punched': 13402, '1dci2ka': 13403, 'brokenness': 13404, 'e1nho': 13405, '6003127': 13406, 'elder': 13407, 'scrolls': 13408, 'durn': 13409, 'skygrid': 13410, '1ylcpdmso': 13411, 'purchasing': 13412, 'untamable': 13413, 'buble': 13414, 'eur': 13415, 'buck': 13416, '4the': 13417, 'mytrade': 13418, '182618': 13419, 'statuses': 13420, '4064553…': 13421, 'favors': 13422, '1u3jcli': 13423, '1ihjftv': 13424, '3jtrrq4ip': 13425, 'babe': 13426, 'doubts': 13427, 'domainmondo': 13428, '5pm': 13429, '1msqcje': 13430, 'zite': 13431, '1etd3oq': 13432, 'unix': 13433, 'oss': 13434, 'threads': 13435, '122215': 13436, '786416': 13437, 'vulnerable…': 13438, '2e0aa': 13439, 'outright': 13440, '657301430609428480…': 13441, 'scoffed': 13442, 'j2son': 13443, 'jimcramer': 13444, 'tainted': 13445, 'flagged': 13446, '1fulzxe': 13447, 'pagesix': 13448, 'warfare': 13449, 'dogfight': 13450, 'combine': 13451, 'adoption…': 13452, 'safari…': 13453, 'brad': 13454, 'reed': 13455, 'jan27': 13456, 'qkmm8gap': 13457, 'optionsamurai': 13458, 'winds': 13459, '1s8ukre': 13460, 'g2oks': 13461, '‘carrier': 13462, 'settings': 13463, 'update’': 13464, 'r1lpk': 13465, '3211876': 13466, 'categories': 13467, '1lclkqg': 13468, '3tbhhverw': 13469, '2887346': 13470, 'ftr': 13471, 'a2faq': 13472, 'makehttp': 13473, 'newtradermistakes…': 13474, \"mandel's\": 13475, '1mtohkj': 13476, 'methodical': 13477, 'weeklies': 13478, 'leveling': 13479, '14w0tpz': 13480, 'denying': 13481, '1nljw5q': 13482, 'z5skfp': 13483, 'nuqek6q': 13484, 'acqu': 13485, 'g2oag': 13486, '1lnkvag': 13487, 'skill': 13488, 'accomplish': 13489, '1dile1e': 13490, 'akay': 13491, 'shouldest': 13492, 'ponder': 13493, 'moveable': 13494, 'canst': 13495, 'usdjpy': 13496, 'catches': 13497, 'whose': 13498, 'disks': 13499, 'p2xra': 13500, 'futile': 13501, 'zmalmg': 13502, 'monthshttp': 13503, 'months…': 13504, 'behaviour': 13505, 'spared': 13506, 'php…': 13507, '19765307': 13508, '20150209': 13509, 'zettabyte': 13510, 'stressing': 13511, 'comprises': 13512, 'composite': 13513, '4462': 13514, '4987': 13515, '3359445': 13516, 'teaches': 13517, 'u4z7d': 13518, 'grabbing': 13519, \"'fat\": 13520, \"dividend'\": 13521, 'passed': 13522, '1…”': 13523, 'brighter': 13524, '1egwanh': 13525, '1imbsc': 13526, 'mocks': 13527, 'smoking': 13528, \"grandfather's\": 13529, '1zrdmjy': 13530, 'nationals': 13531, '1jzp6xb': 13532, 'numbering': 13533, 'mason': 13534, 'morfit': 13535, 'j2v2w': 13536, '1opzg75': 13537, 'fcx': 13538, 'phg': 13539, '1idxtwu': 13540, '820333469032189…': 13541, 'west': 13542, '1eyee91': 13543, '46869': 13544, 'elections': 13545, '3293995': 13546, 'analyzing': 13547, 'periscope': 13548, '3419252…': 13549, 'd7mqdw': 13550, 'netapplications': 13551, 'hogfk': 13552, 'iwgxmo': 13553, '050715': 13554, '751556': 13555, 'delve': 13556, '117461184': 13557, '761183': 13558, 'qnx': 13559, '48m': 13560, 'totaling': 13561, 'jean': 13562, 'luc': 13563, \"picard's\": 13564, '1kjgbhh': 13565, '1cktxtj': 13566, '19691426': 13567, '1l1mfon': 13568, 'indexed': 13569, 'balancing': 13570, '1bwbdub': 13571, '3enl2f': 13572, 'ptnkz': 13573, '2863146': 13574, 'france': 13575, 'mulling': 13576, 'curb': 13577, '1davwph': 13578, 'neglegent': 13579, 't2xf7': 13580, '1gfmv2j': 13581, '13003300': 13582, '1oejem': 13583, '1kshogq': 13584, 'rtlsmn': 13585, 'ummm': 13586, '1hemfxd': 13587, 'gigabarb': 13588, \"'msft\": 13589, 'sft': 13590, 'icrosoft': 13591, 's1jex': 13592, \"gonna'\": 13593, 'd2fxp': 13594, '76within': 13595, '86within': 13596, 'directv': 13597, 'pqrl': 13598, 't2mwz': 13599, '351303756273766…': 13600, 'strikeforce': 13601, '1bwkac0': 13602, '1h8utku': 13603, 'ndcwnzm4': 13604, 'q2l08': 13605, '2r2gjb3sa': 13606, '1ub4hgh': 13607, '3278195': 13608, '2879766': 13609, '23greececrisis': 13610, 'gflrgney': 13611, 'distortion': 13612, '1leh2sj': 13613, 'repeatedly': 13614, '1vcfms3': 13615, 'wished': 13616, 'opevzax3vzd': 13617, '071615': 13618, '761970': 13619, 'c1ljn': 13620, '1ppci': 13621, '1vgwtzr': 13622, 'vdsiiw…': 13623, 'bracing': 13624, 'austerity': 13625, 'imessages': 13626, 'diciembre': 13627, 'clones': 13628, 'a1z8w': 13629, 'glassdoor': 13630, 'abo': 13631, 'vjd': 13632, 'zejuzzg': 13633, 'scurvy': 13634, '15zlw6j': 13635, 'alum': 13636, 'jammed': 13637, '1grbmpi': 13638, '288': 13639, 'def': 13640, 'avt': 13641, 'fhn': 13642, 'ahh': 13643, 'kool': 13644, 'circa': 13645, 'recommending': 13646, 'outlandish': 13647, '1r1fhqb': 13648, 'f1wca': 13649, 's1kyg': 13650, 'torn': 13651, \"'buy'\": 13652, '9nxxhk': 13653, '1zqq8z1': 13654, '1pmzct2': 13655, '9x': 13656, '180801819': 13657, 'hilarious': 13658, 'r3tprng60afiic': 13659, 'cr': 13660, 'rvw': 13661, 'asin': 13662, 'b0163chnd0…': 13663, 'atb': 13664, 'biggy': 13665, 'qj5elsl': 13666, '1o6allv': 13667, '1hnxu3t': 13668, 'poke': 13669, '1t8mgtb': 13670, 'nhybral': 13671, '1gx7nvn': 13672, 'johnshinal': 13673, 'bravado': 13674, \"author's\": 13675, 'andy': 13676, 'grove': 13677, 'referrer': 13678, 'd28vy': 13679, 'd28vz': 13680, 'h1xqa': 13681, '1qb9djq': 13682, '1jbtxgs': 13683, \"see's\": 13684, '11pe': 13685, '10yrs': 13686, 'shameful': 13687, 'dishonest': 13688, 'sunny': 13689, '042415': 13690, '749559': 13691, '1fsr2jh': 13692, '7jvv2v6ui': 13693, 'q3f9a': 13694, 'dvj6bn': 13695, 'stabilises': 13696, '1xxooxj': 13697, '1dehtiz': 13698, 'edm': 13699, 'concert': 13700, 'djs': 13701, 'bcn4zy': 13702, '1iihyf1': 13703, 'jamesstewartnyt': 13704, 'willing': 13705, 'moat': 13706, 'theirs': 13707, 'projections': 13708, 'r2hdp': 13709, '1ck5ygn': 13710, '18oisky': 13711, 'linuxfoundation': 13712, 'swagger': 13713, 'specification': 13714, 'building…': 13715, 'natick': 13716, 'edison': 13717, 'lauds': 13718, 'encrypt': 13719, '1h3fehy': 13720, '1yakil3': 13721, 'attorneys': 13722, '615889586284331008…': 13723, 'vzkngq…': 13724, 'android’s': 13725, 'usual': 13726, \"'into\": 13727, \"day'\": 13728, 'rbl': 13729, '1poseyf': 13730, '1bghiux': 13731, 'shud': 13732, '0r': 13733, '441': 13734, 'cnbcclosingbell': 13735, 'iotnewsdaily': 13736, 'q1ohv': 13737, '494': 13738, 'whispers': 13739, 'nbumamb': 13740, '1ceonyc': 13741, 'disclaimer': 13742, 'renegotiating': 13743, 'bargaining': 13744, 'wh8fb': 13745, 'wrapx': 13746, 'averagethe': 13747, 'shareholders…': 13748, '1nxkqn7': 13749, 'roku': 13750, '769931': 13751, 'inviting': 13752, 'beers': 13753, 'jcummins': 13754, '5zpxq': 13755, '‘two': 13756, 'race’': 13757, 'three28capital': 13758, 'pressed': 13759, '1lspldz': 13760, 'inflection': 13761, 'q27rn': 13762, 'entm': 13763, 'ag': 13764, '1ofjsep': 13765, 'sipping': 13766, 'produces': 13767, 't2iht': 13768, 'nb4xpjn': 13769, 'squaring': 13770, '1xzomvk': 13771, '1icnsbw': 13772, 'baszf': 13773, \"90'\": 13774, 'rollouts': 13775, 'legally': 13776, 'accessible': 13777, \"buyers'\": 13778, '3691416': 13779, '1y2eg3l': 13780, 'r121…': 13781, '3771266': 13782, 'lied': 13783, 'freaky': 13784, 'facial': 13785, 'pkaej': 13786, 'p2oda': 13787, '1mro2n': 13788, '1ejuhg2': 13789, '1gaedmh': 13790, 'portfolionew': 13791, 'parlan': 13792, '336939': 13793, '12328483': 13794, 'happenedhttp': 13795, 'productive': 13796, 'zoom': 13797, '1eg0ggo': 13798, 'ystrday': 13799, 'e2vdh': 13800, 'funning': 13801, 'j2tws': 13802, '6h': 13803, '12pm': 13804, 'tumor': 13805, '020531029': 13806, 'tlfxy': 13807, 'crashing': 13808, '1fj2zj6': 13809, 'nikkei': 13810, 'participation': 13811, 'trophies': 13812, '2y4tlz': 13813, '3556246': 13814, 'e1z0z': 13815, 'profiting': 13816, 'ttlkzhwk': 13817, '5g': 13818, '1cypdya': 13819, 'intestinal': 13820, 'fortitude': 13821, 'haters': 13822, 'tangle': 13823, '1m6dpsw': 13824, 'american…': 13825, 'rhodes': 13826, 'flattening': 13827, 'j1dej': 13828, '1qdbmuy': 13829, '1k02xhm': 13830, 'r1r1m': 13831, 'drone': 13832, 'h2t2m': 13833, '5407352': 13834, '1q1hdtr': 13835, 'q9h5j2': 13836, 'bases': 13837, '770666': 13838, 'nexus': 13839, 'discounts': 13840, '3c': 13841, '56c': 13842, '19c': 13843, '1c': 13844, '32c': 13845, '6c': 13846, '7vpdyfuwh': 13847, 'nzo': 13848, 'pink': 13849, 'pumped': 13850, '2862226': 13851, 'rushes': 13852, 'emergency': 13853, '1vmtsnc': 13854, '7701882': 13855, '65817797': 13856, '56m': 13857, '82m': 13858, '70m': 13859, '96m': 13860, 'y0bqqp0': 13861, 'belle': 13862, 'perceived': 13863, 'xr1z0l': 13864, 'sentence': 13865, '1cjpinu': 13866, '4efgfyquy': 13867, 'competion': 13868, 'puniness': 13869, 'r1ghh': 13870, 'uflsk': 13871, 'prospect': 13872, '15am': 13873, 'dissect': 13874, 'goal': 13875, 'mircn': 13876, '1zifzcx': 13877, '2330506': 13878, '1rl6q3x': 13879, 'drives…': 13880, 'mktcap': 13881, 'willingness': 13882, 'successes': 13883, '3019896': 13884, '143373711': 13885, 'rigged': 13886, 'gt54uu': 13887, '3498936': 13888, 'housekeeping': 13889, 'c2fa5': 13890, 'eduvest': 13891, '152yjc9': 13892, '17apqts': 13893, \"'thank\": 13894, \"you'\": 13895, '1bzuhtl': 13896, 'pardon': 13897, '119': 13898, 'vwap': 13899, 'tkgzrf': 13900, '124046': 13901, '2870586': 13902, 'telecoms': 13903, 'p2ia9': 13904, 'integrating': 13905, 'cup': 13906, 'choppy': 13907, '65216116': 13908, 'companieshttp': 13909, 'rzy1aivia': 13910, 'h2hyo': 13911, 'prospecting': 13912, 'misleading': 13913, 'goldman’s': 13914, '1bw4kmo': 13915, '1dcjnyo': 13916, '1v6hami': 13917, 'qpgoxku': 13918, '120814': 13919, '729549': 13920, \"symantec's\": 13921, 'separation': 13922, 'veritas': 13923, '13202158': 13924, 'y0vxfb0': 13925, 'j2xex': 13926, 'mo5r4': 13927, \"cat's\": 13928, 'urged': 13929, 'nawwwww': 13930, '1vslkew': 13931, 'coy': 13932, 'yucky': 13933, '2q2015': 13934, 'kibble': 13935, '18qqaef': 13936, 'accompli': 13937, 'nzzl': 13938, '1xios8f': 13939, '511': 13940, 'axed': 13941, 'shedding': 13942, '1uz2dou': 13943, '2879089': 13944, 'preceeding': 13945, 'outstanding': 13946, 'displayfilinginfo': 13947, 'filingid': 13948, '10389181': 13949, '866': 13950, '4904': 13951, 'sect': 13952, 'tabindex': 13953, 'companyid': 13954, '1231': 13955, 'ppu': 13956, '252fdefault': 13957, '253fcik': 13958, '253d934549…': 13959, '8k': 13960, 'bckgbd': 13961, 'superstitioushttp': 13962, '5463': 13963, 'dr042315': 13964, 'b1dup': 13965, 'ikfrussia': 13966, '20150527': 13967, 'solar': 13968, 'editor': 13969, '1gaixrq': 13970, '1bfj1jc': 13971, '7w4vukuvw': 13972, 'beyonddevic': 13973, '1kdzqae': 13974, 'concepts': 13975, 'courts': 13976, 'sake': 13977, \"amazon''s\": 13978, '1ggczii': 13979, 's2dw6': 13980, 'cellphones': 13981, 'ul8eg': 13982, 'aback': 13983, 'awe': 13984, 'publicity': 13985, 'battleship': 13986, 'guns': 13987, 'blazing': 13988, 'finaly': 13989, '155406058': 13990, '3764726': 13991, '19761861': 13992, '1uxisiv': 13993, 'demoing': 13994, 'cannibalizing': 13995, 't1jwn': 13996, '643': 13997, '“significant': 13998, '1lzznli': 13999, '19yzm3j': 14000, '1zd1hbm': 14001, 'harding': 14002, '1hvy6hy': 14003, '47408': 14004, '1xrys1t': 14005, 'beloved': 14006, 'salvos': 14007, 'googler': 14008, 'say…': 14009, 'h1x36': 14010, 'misplaced': 14011, 'steepest': 14012, 't2ufu': 14013, 'afwvbt': 14014, '2070': 14015, '16nu2od': 14016, '1kkgugs': 14017, '1chbcgy': 14018, 'salphaaapl': 14019, 'complicated…': 14020, 'wireshark': 14021, 'lan': 14022, 'b55jy2': 14023, 'y0vxbl0': 14024, 'ails': 14025, 'rivalries': 14026, '2944212': 14027, 'itbwcw': 14028, '1iubco0': 14029, 'wolverton': 14030, 'inquiries': 14031, '1oewqgv': 14032, '3jafiicgu': 14033, '9s4wpy': 14034, 'heavenhttp': 14035, 'g2evh': 14036, '3240476': 14037, 'vxpfiw…': 14038, 'sooooooo': 14039, '5ye5eq': 14040, '17rm7qw': 14041, '1iuqtc2': 14042, 'wallstrt24': 14043, 'p2y7u': 14044, \"enemies'\": 14045, 'friend—': 14046, 'blah': 14047, \"aliyun's\": 14048, 'alizila': 14049, 'aliyun': 14050, 'simon': 14051, 'hu': 14052, 'wajhyhc0': 14053, 'fog': 14054, 'fades': 14055, '1fepnm7': 14056, '1zqgper': 14057, '600384577094320128…': 14058, 'vvo': 14059, 'vq…': 14060, '3780786': 14061, '1lhypbb': 14062, 'branch': 14063, 'closings': 14064, 'flashcr': 14065, '363': 14066, '628': 14067, '659': 14068, '882': 14069, '123': 14070, '703': 14071, 'modehttp': 14072, 'i2dpe': 14073, 'gearsofwar': 14074, \"shortly'\": 14075, '43971': 14076, '1zwednu': 14077, '1nhjonz': 14078, 'f37o0': 14079, '1ucppme': 14080, '3526936': 14081, 'j1yxx': 14082, 'ecommerce': 14083, '1eipvir': 14084, 'tsinghua': 14085, 'relist': 14086, 'f3tki': 14087, 'intermarket': 14088, 'markdive': 14089, 'bu': 14090, 'sustaina': 14091, '19966907': 14092, 'allstars': 14093, 'bigoptions': 14094, '55aeb0d3b6d377059428e0a5…': 14095, '1afu9iz': 14096, 'realmoneypro': 14097, 'positiong': 14098, 'havent': 14099, 'inherited': 14100, 'hackintosh': 14101, 'builders': 14102, 'c47mij': 14103, 'overlap': 14104, 'fudzilla': 14105, '19742978': 14106, 'mv3oo8m': 14107, '1s3fc1r': 14108, 'tue': 14109, 'tune': 14110, '1toel8w': 14111, 'deceptively': 14112, '142311993': 14113, 'pxewa2': 14114, 'pocketing': 14115, 'a2efo': 14116, '1jbwfvo': 14117, 'cybercriminals': 14118, '1itlbna': 14119, '2107': 14120, 'g3id1': 14121, '19793279': 14122, 'builds': 14123, '1ffdrun': 14124, 'quits': 14125, 'indexes': 14126, '8k2sd1': 14127, '13006360': 14128, '1mxruqe': 14129, 'acquirers': 14130, '46943': 14131, '65075399': 14132, 'beileves': 14133, 's1llj': 14134, '17uqefz': 14135, '‘robust': 14136, 'demand’': 14137, '’16': 14138, '1k9e5zy': 14139, 'plo0x': 14140, 'opensources': 14141, 'dataflow': 14142, 'p2g6tr': 14143, '1q0v': 14144, '1cnmfbt': 14145, 'recovers': 14146, 'qytoq': 14147, '3rsmalr8l': 14148, '84b7tg': 14149, '1dt7vgz': 14150, 'attaches': 14151, 'touches': 14152, 's20px': 14153, 'gmcapitalinvesting': 14154, 'tentative': 14155, 'jakks': 14156, '2241626': 14157, 'overloaded': 14158, 'hyperscale': 14159, 'vars': 14160, 'ebitda—': 14161, 'marissamayer': 14162, 'kulwi': 14163, 'pigs': 14164, 'incase': 14165, 'perfection': 14166, '1dyetjn': 14167, '1np1tl5': 14168, \"'absolute\": 14169, \"core'\": 14170, '46263': 14171, 'h3s4y': 14172, '1qzcetf': 14173, '16pyq8o': 14174, '3582146': 14175, 'feet': 14176, \"lot's\": 14177, \"qqq's\": 14178, 'o8qe3o3': 14179, '130000665': 14180, 'longform': 14181, 'mis': 14182, 'processes': 14183, 'cryptocurrencies': 14184, \"nfl's\": 14185, 'messed': 14186, 'g1dxl': 14187, 'beta…': 14188, '1zve2qs': 14189, 'dovish': 14190, 'fomc': 14191, 'foes': 14192, 'f3wrx': 14193, 'royxkn': 14194, 'realise': 14195, 'pcln': 14196, 'skus': 14197, 'doc': 14198, 'bellini': 14199, 'ltech': 14200, 'rockstargames': 14201, '1hydlrw': 14202, '1g1uiwa': 14203, 'surfaces': 14204, 'wedding': 14205, 'funeral': 14206, '742457': 14207, 'iem': 14208, 'chris': 14209, 'ditch': 14210, 'oxygen': 14211, 'oxygenos': 14212, '…”': 14213, \"ps4's\": 14214, '47577': 14215, 'ps4s': 14216, 'appalling': 14217, 'rented': 14218, 'intern': 14219, 'subaru': 14220, 'h1f6j': 14221, '2tb': 14222, '1w1j4gk': 14223, '576015978594746368…': 14224, \"'cloud\": 14225, \"tax'\": 14226, 'tax…': 14227, 'shots': 14228, 'gv': 14229, 'mixes': 14230, '3195326': 14231, 'j1z82': 14232, '14181': 14233, 'canaccord': 14234, '1hrk3kc': 14235, 'npje8ne': 14236, 'doubting': 14237, 'poten': 14238, \"29x'17\": 14239, '13336318': 14240, 'pandora': 14241, 'pigged': 14242, 'cocky': 14243, 'pvah54t': 14244, 'sho': 14245, 'con': 14246, 'osw3ab': 14247, '1mlsafj': 14248, '1mls80j': 14249, '1yj06ad': 14250, 'unethical': 14251, 'daytraders': 14252, 'outdated': 14253, 'cheery': 14254, '1f6jajz1': 14255, '212k': 14256, '110k': 14257, '5k': 14258, 'prfg5': 14259, '47621': 14260, 'wsxogo': 14261, 'teetering': 14262, 'irreversible': 14263, '1cgrimx': 14264, 'b1st1': 14265, 'y0bqjw0': 14266, 'intersection': 14267, 'liberal': 14268, 'barrier': 14269, '1dbzlw4': 14270, '28520': 14271, 'ph': 14272, 'u52qx': 14273, '20151211': 14274, 'mira': 14275, 'los': 14276, \"publication'\": 14277, 'publish': 14278, '55x': 14279, '1lfr9dk': 14280, 'businessbusiness': 14281, 'g2skx': 14282, \"changin'\": 14283, '1sqnz4j': 14284, '1aioosl': 14285, 'phrase': 14286, 'amzn…': 14287, 'trash': 14288, 'instructive': 14289, \"'marcus\": 14290, 'fenix': 14291, \"collection'\": 14292, '1hhverk': 14293, 'b2std': 14294, 'weeklys': 14295, 'publisher': 14296, '736883': 14297, '090115': 14298, '769255': 14299, 'p1hvc': 14300, 'verdict': 14301, 'departing': 14302, 'bowel': 14303, 'disease': 14304, 't1lsw': 14305, '1jtp14x': 14306, 'fuel': 14307, 'h1r1y': 14308, 'rationale': 14309, 'obsession': 14310, 'cleaning': 14311, 'stepchild': 14312, 'relegated': 14313, 'fangs': 14314, 'kicked': 14315, '2yrs': 14316, 'promotional': 14317, '3360825': 14318, '1qraxzq': 14319, 'placed': 14320, 'tactile': 14321, 'minority': 14322, 'vbevpa…': 14323, 'crock': 14324, 'accurately': 14325, 'getsmartgetwealthy': 14326, '1jr1uph': 14327, '67019452': 14328, '1ytptp6': 14329, 'k9uv992': 14330, '550c42b10cf292acc4d03049…': 14331, '44399': 14332, '1yyoyca': 14333, 'cxsxdd': 14334, 'oehbc9a': 14335, 'sto': 14336, 'feb4': 14337, 'j31uy': 14338, 't2zkf': 14339, '11002757': 14340, 'cxrwmq': 14341, 'harder': 14342, '3137116': 14343, 'i1zlg': 14344, '14x': 14345, 'foursquare’s': 14346, '1hjnm5t': 14347, 'j2rux': 14348, '1ipsf2j': 14349, 'internship': 14350, \"'work\": 14351, \"mars'\": 14352, '19766276': 14353, 'popcorn': 14354, 'dissing': 14355, 'sj': 14356, '2519': 14357, 'cartoon': 14358, 'apt': 14359, 'comic': 14360, 'gpu': 14361, 'imperiled': 14362, '1f8qerj': 14363, 'northpark': 14364, '9kog2np8iw': 14365, 'vgzp1q…': 14366, 'pee': 14367, 'bootloaders': 14368, 'doggie': 14369, '“sell”': 14370, '1a52x23': 14371, 'r1pt9': 14372, 'trefe': 14373, '092215': 14374, '772111': 14375, 'vjjw4akgk': 14376, 'mospzvlauu': 14377, 'zphbcl': 14378, '1arvtg2': 14379, 'ibkr': 14380, 'ti6603': 14381, 'compel': 14382, '4q2015': 14383, 'oracle’s': 14384, 'bcqwft': 14385, 'downexactly': 14386, 'produced': 14387, 'spokesman': 14388, 'communist': 14389, 'criticizing': 14390, 'norwegian': 14391, 'broadcast': 14392, 'futs': 14393, '375544': 14394, 'essentially': 14395, '020315': 14396, '737582': 14397, 'e2lj0': 14398, 'prev': 14399, 'kingdom': 14400, 'declared': 14401, '1ktn1wp': 14402, 's0e38': 14403, '5551856': 14404, 'optionpundit': 14405, 'wing': 14406, 'butterfly': 14407, '2000…': 14408, 'strategically': 14409, 'whiffed': 14410, '1443992062': 14411, 'e2tw…': 14412, 'jon': 14413, 'happier': 14414, 'xfer': 14415, 'stck': 14416, 'fnd': 14417, 'deseperate': 14418, 'climax': 14419, 'represented': 14420, '43e5rv': 14421, 'bps': 14422, 'kantar': 14423, '991081159037463…': 14424, 'w2xil': 14425, '1bjsyy9': 14426, '1fjf4ey': 14427, 'contemplating': 14428, '1kei6mq': 14429, 'citing': 14430, '1kei8eh': 14431, '16m': 14432, 'csg4a0': 14433, '14id4co': 14434, 'oopsies': 14435, 'bathroom': 14436, 'f2jfa': 14437, '198065': 14438, 'mampa…': 14439, 'zyzr1r': 14440, 'mole': 14441, 'offense': 14442, 'lync': 14443, 'communicate': 14444, 'appy': 14445, 'geek': 14446, 'articleweb': 14447, 'regionid': 14448, 'articleid': 14449, '37975142': 14450, 'buffer54100': 14451, 'buffer…': 14452, 'progressively': 14453, 'highscc': 14454, 'g2zfm': 14455, 'rfnmh': 14456, '1w8duzd': 14457, '1sl8hoo': 14458, '17th': 14459, '1xy93m1': 14460, 'performer': 14461, '759461': 14462, 'havens': 14463, 'mac´s': 14464, 'doldrum': 14465, 'revitalized': 14466, 'mvno': 14467, 'sh0wn': 14468, 'downed': 14469, '041': 14470, 'variations': 14471, 'messing': 14472, 'toppy': 14473, '646063205333143552…': 14474, '81…': 14475, 'p2g2t': 14476, 'lull': 14477, 'storm—it’s': 14478, 'lc7jpb': 14479, 'b20lp': 14480, '1xhn0pd': 14481, '3374025': 14482, 'browser’s': 14483, 'demoed': 14484, 'b1onc': 14485, 'implementing': 14486, 'a1zpw': 14487, '2793725': 14488, '541117160887933…': 14489, 'squeeeeze': 14490, 'fr': 14491, 'c1ump': 14492, '15p7i7j': 14493, 'msdn': 14494, 'powershell': 14495, 'shell': 14496, 'mkr2on': 14497, 'r2xca': 14498, 'vvqnx': 14499, '7349': 14500, 'scandals': 14501, 'd2a6r': 14502, 'narrowly': 14503, '85d4f124617a4afea93a0b5d3f71c378': 14504, '4q…': 14505, 'squeezed': 14506, 'innovators': 14507, 'thrives': 14508, '2023': 14509, '120301': 14510, 'hugh': 14511, 'hefner': 14512, 'playboy': 14513, 'prodigy': 14514, 'ebook': 14515, 'b00vplu4q8': 14516, 'b00vpvlelw': 14517, 'twi': 14518, 'qid': 14519, '1448208777': 14520, \"else's\": 14521, 'cal': 14522, 'integ': 14523, 'heartening': 14524, 'insurance': 14525, 'fourdata': 14526, 'lvo': 14527, 'volscan': 14528, 'dividendmaster': 14529, 'mjasay': 14530, 'mongo': 14531, 'sooner': 14532, '1gvxpbb': 14533, 'fang': 14534, 'i1cn4': 14535, '32am': 14536, 'akamai': 14537, 'campus': 14538, 'idyllic': 14539, 'enlists': 14540, '1a3ejcw': 14541, 'visualizations': 14542, 'perfectly': 14543, 'competency…': 14544, 'alliances': 14545, 'meg': 14546, 'compaq': 14547, 'wang': 14548, 'jake': 14549, \"insider's\": 14550, '802': 14551, '730': 14552, '3099165…': 14553, 'pioneers': 14554, 'ecfs': 14555, '60001076236…': 14556, '1hxxz2e': 14557, 'exuberance': 14558, 'immaterial': 14559, 'pmts': 14560, 'busines': 14561, 'quantified': 14562, '1hnlqob': 14563, '‘as': 14564, 'profound’': 14565, '3ya2ko': 14566, 'flailing': 14567, 'amd’s': 14568, '729558': 14569, 'd1mgr': 14570, 'conclusion': 14571, 'revive': 14572, '1csbrva': 14573, '532': 14574, '273': 14575, 'redmondpie': 14576, 'disable': 14577, '18ay09s': 14578, '1hcavnm': 14579, '2813542…': 14580, 'grand': 14581, 'remotely': 14582, '641700870615375872…': 14583, 'vfcoiq…': 14584, 'g3kld': 14585, 'davidfaber': 14586, 'new3bqy': 14587, \"'fanatical\": 14588, \"support'\": 14589, 'fading': 14590, 'color': 14591, '5500057': 14592, 'fanatical': 14593, 'fading…': 14594, 'siege': 14595, 'abysmal': 14596, '1mekl5b': 14597, 'mni’s': 14598, '1r7m83q': 14599, 'scales': 14600, 'photosynth': 14601, '1hofi4j': 14602, 'jeez': 14603, 'ekes': 14604, '1lzzxnj': 14605, '1j9lbzj': 14606, 'cloudwedge': 14607, '4966': 14608, '112015': 14609, '781853': 14610, 'hire': 14611, 'drastic': 14612, '9vr3x1': 14613, 'picks94': 14614, 'gainhttp': 14615, 'unususal': 14616, '17000': 14617, '15ae8yv': 14618, 'mktnews': 14619, '492699': 14620, '004': 14621, '3106943…': 14622, 'preaching': 14623, 'choir': 14624, 'overplayed': 14625, 'dallas': 14626, '38b': 14627, 'ana': 14628, 'capable': 14629, '1xztx8r': 14630, '66546563': 14631, '29th': 14632, '46052': 14633, 'vjobcq…': 14634, '060815': 14635, '756314': 14636, 'nxccgs': 14637, '1lg6mv4': 14638, 'aiwvz…': 14639, '2846316': 14640, 'downright': 14641, 'peg': 14642, '100ma': 14643, 'timeframe': 14644, 'q1msu': 14645, 'explosive': 14646, '20150206': 14647, '287': 14648, 'shadowshot': 14649, \"destiny's\": 14650, 'banner': 14651, 'eraser': 14652, 'collapsing': 14653, 'qualm': 14654, 'fin': 14655, 'eq': 14656, '3202276': 14657, 'yahoo’s': 14658, 'monetary': 14659, \"'gears\": 14660, '757306': 14661, \"'wisdom\": 14662, \"experts'\": 14663, '3308245': 14664, 'einstein': 14665, 'iduskbn0m914d20150313…': 14666, 'after—surprise': 14667, '—customers': 14668, '1hvbnhk': 14669, 'rby': 14670, 'incentive': 14671, 'promotion…': 14672, 'covers': 14673, 'tgs': 14674, 'covers…': 14675, '451': 14676, '618': 14677, 'ext': 14678, 'bummed': 14679, 'textbook': 14680, 'professional': 14681, 's2ow0': 14682, '8746857': 14683, 'supported…': 14684, '1n1nslu': 14685, \"'risk'\": 14686, 'turbo': 14687, '1qaqy5v': 14688, '3004556': 14689, 'kesslerspcapiq': 14690, 'spca…': 14691, 'creators': 14692, '1sg7ukg': 14693, 'cir': 14694, 'oral': 14695, '1iubcj5': 14696, 'gdgkbn': 14697, '17cw8uk': 14698, '1snuthn': 14699, '66738828': 14700, 'overcome': 14701, '477': 14702, '818': 14703, '3375535…': 14704, 'cancel': 14705, '19634278': 14706, 'helluva': 14707, '9168': 14708, 'c2rcb': 14709, '5140333': 14710, 'chains': 14711, '1wwiyv9': 14712, '1duwtc8': 14713, '46309': 14714, 'demonstrate': 14715, '19698604': 14716, 'girls': 14717, 'h3elo': 14718, 'equityfutures': 14719, 'ff1nqw': 14720, 'mvefo': 14721, 'reiterate': 14722, '1zo4tnl': 14723, 'phoronix': 14724, 'acs…': 14725, 'consumption': 14726, 'ally': 14727, 'illve': 14728, '1roq6js': 14729, '1ucmgcn': 14730, 'lugares': 14731, 'por': 14732, 'b5': 14733, 'perma': 14734, 'startup124': 14735, 'kaad6e': 14736, 'bah8uak': 14737, 'filled': 14738, 'mix': 14739, '1g5qpts': 14740, 'ah4k8f': 14741, 'households': 14742, \"'ole\": 14743, 'sack': 14744, '1cwl4sx': 14745, 'axjilu': 14746, 'c1vgu': 14747, 'diverge': 14748, 'h1w6r': 14749, 'shld': 14750, '20150408': 14751, 'qp': 14752, 'cdqaar': 14753, '1nxc8io': 14754, 'gainer': 14755, '208': 14756, '1hgwjp3': 14757, '20150123': 14758, 'blasting': 14759, 'imploding': 14760, 'ahi': 14761, 'genuinely': 14762, 'participant': 14763, '20vj3': 14764, 'htt…': 14765, '618777926234845185…': 14766, 'vz0peg…': 14767, '1421971783': 14768, 'hpp': 14769, 'lefttopstories…unappetizing': 14770, 'disabling': 14771, '1owzysw': 14772, \"yahootech's\": 14773, '1bisghi': 14774, '1jo3ueizwh': 14775, '1ocoen3': 14776, 'qrtrs': 14777, 'tradingthedate': 14778, 'today…': 14779, '1exc0eroc': 14780, 'bkofa': 14781, 'ml': 14782, '1z5bk33': 14783, 'cousin': 14784, 'vinny': 14785, 'resumes': 14786, '4t2clb': 14787, 'endeavours': 14788, 'bes12': 14789, 'mdm': 14790, 'q2uvs': 14791, 'i32ln': 14792, '088': 14793, '20151113': 14794, '47533': 14795, 'q215a': 14796, 'realises': 14797, 'capitalises': 14798, 'shark': 14799, 'adt': 14800, \"'death\": 14801, \"consoles'\": 14802, '46708': 14803, '20151001': 14804, 'suffer': 14805, 'jennifer': 14806, 'booton': 14807, '1lpea9i': 14808, 'xbrl4': 14809, 'seereport': 14810, 'documentkey': 14811, '1355064': 14812, '000158064215000036': 14813, '20141219': 14814, 'xml…': 14815, '2060': 14816, 'propel': 14817, 'd1vrm': 14818, '1v3knyf': 14819, '1stidit': 14820, 'r2zzn': 14821, 'u6fel4': 14822, '1ij8nov': 14823, '20ea': 14824, 'payback': 14825, 'mamma': 14826, 'mia': 14827, 'receives': 14828, '1gx9ivs': 14829, 'jobs’s': 14830, '208pxfq': 14831, 'hsmsw': 14832, '352': 14833, 'mar15': 14834, \"lawmakers'\": 14835, '1igf0ls': 14836, 'interests': 14837, 'microsofthttp': 14838, 'grinds': 14839, 'therecorder': 14840, '1202738654681': 14841, 'mcode': 14842, '1202617072607': 14843, 'curindex': 14844, 'viewed': 14845, 'accepting': 14846, \"o'man\": 14847, 'itv': 14848, 'icar': 14849, 'ichina': 14850, 'ippro': 14851, 'lenova': 14852, 'yoga': 14853, 'hmmn': 14854, 'percentr': 14855, 'cylinders': 14856, '743109': 14857, 'directly': 14858, 'touched': 14859, 'piay': 14860, 'fedflush': 14861, '2buy': 14862, '1ofnjs1': 14863, 'owensassetfund': 14864, '2854296': 14865, '1clzlmc': 14866, 'oust': 14867, 'combinedrussian': 14868, \"marketswitzerland's\": 14869, 'gnp': 14870, 'pans': 14871, '1szs3lr': 14872, 'justify': 14873, '110279571…': 14874, 'aaciones': 14875, '1yqbyk3': 14876, 'unlucky': 14877, 'george': 14878, 'soros': 14879, 'osc': 14880, '1lsmz1a': 14881, \"'extreme\": 14882, \"pinching'\": 14883, '1mf0k2j': 14884, 'vert': 14885, '1dlyn6b': 14886, 'horde': 14887, '416': 14888, '67021264': 14889, 'favorably': 14890, '3159106': 14891, 'p4yknc': 14892, 'dare': 14893, '1hkblzf': 14894, '2907896': 14895, 'q1u4y': 14896, '65187283': 14897, 'immed': 14898, 'unprofitable': 14899, 'puzzled': 14900, '17rxg4s': 14901, 'mizuho': 14902, '715': 14903, '1kz6s6u': 14904, 'focussed': 14905, 'bozos': 14906, '3322075': 14907, '3025916': 14908, 'accuses': 14909, 'rigging': 14910, 'spurred': 14911, 'perking': 14912, 'grind': 14913, 'intrigued': 14914, 'b2b': 14915, 'b2c': 14916, 'legitimate': 14917, '1d5dfu5': 14918, '20150710': 14919, '1dn4iyh': 14920, 'dalio': 14921, 'imad': 14922, 'khan': 14923, 'switching': 14924, 'roles': 14925, 'u4w4z': 14926, 'allisonmreilly': 14927, 'submitted': 14928, 'significantly': 14929, 'worm': 14930, 'j07vk…': 14931, 't1myf': 14932, 'g33ke': 14933, '8minutes': 14934, '“golden': 14935, 'age”': 14936, 'f2n9l': 14937, '7zyp': 14938, '1juxbwx': 14939, '2uzert': 14940, '5441900': 14941, '1gnryqq': 14942, 'serve': 14943, 'ceded': 14944, 'relationships': 14945, 'batshit': 14946, '3000400311…': 14947, 'nxxjs': 14948, '1sfhsg2market': 14949, '757870': 14950, 'bt': 14951, 'hv': 14952, 'inconspicuous': 14953, '9b1nnf': 14954, '1prvglk': 14955, 'overboard': 14956, 'fools': 14957, 'pranks': 14958, 'nix': 14959, 'flavor': 14960, 'itsfoss': 14961, 'imbfa': 14962, '7a226c4d': 14963, 'f9c1': 14964, '45d8': 14965, 'ac0f': 14966, 'd065c1b70590…': 14967, 'tipped': 14968, 'seng': 14969, '1cevbi0': 14970, 'hermits': 14971, 'outdoors': 14972, 'enjoyin': 14973, 'weeeeeeeeeeeeeeeee': 14974, 'io1x7y': 14975, 'a2gfm': 14976, '1ivbaaz': 14977, '1phd4ze': 14978, 'alphabet’s': 14979, '5680794': 14980, '1gmnqbk': 14981, 'discussions': 14982, '115c': 14983, '113p': 14984, 'strangle': 14985, '1dswc6h': 14986, 'assaulted': 14987, 'shorttrends': 14988, 'stockprofile': 14989, '3465146': 14990, '1arvsbw': 14991, \"'healthy\": 14992, \"momentum'\": 14993, 'thang': 14994, \"clippers'\": 14995, '1tetjbr': 14996, 'scuttles': 14997, 'office365': 14998, 'bitches': 14999, 'risen': 15000, '23639': 15001, 'i1ack': 15002, 'h3u8g': 15003, '5471618': 15004, 'pepa': 15005, 'pig': 15006, 'kidding': 15007, 'patrol': 15008, 'etcpb': 15009, '1lqfbev': 15010, '1tjdqiq': 15011, 'responded': 15012, 'softlayer': 15013, '67628078': 15014, '1i9qgkr': 15015, '2860076': 15016, 'relaxing': 15017, 'soybeans': 15018, 'cordi': 15019, '1tsb3gk': 15020, 'uodate': 15021, '777245': 15022, 'myadav2009': 15023, '45255741…': 15024, 'c1ddf': 15025, 'graphic': 15026, '5664311': 15027, 'statistacharts': 15028, 'lights': 15029, 'lamp': 15030, '2872726': 15031, 'iphoneetfapp': 15032, '119013': 15033, 'bids': 15034, 'f2bj3': 15035, '68657611': 15036, '1genknu': 15037, '1527401': 15038, '…that': 15039, 'disliked': 15040, 'outstrips': 15041, 'pzi2yr': 15042, 'reutersbiz': 15043, 'probly': 15044, 'ranges': 15045, '1sxqg4y': 15046, 'confidential': 15047, '1vceqa4': 15048, 'calenspr': 15049, '48423': 15050, 'exceeds': 15051, 'backbone': 15052, '1fi2ki7': 15053, '1dj9to0': 15054, 'i1znr': 15055, 'cordana': 15056, 'dawn': 15057, 'ogkq9qo': 15058, '560132371035332608…': 15059, 'probable': 15060, 'implements': 15061, 'g3mex': 15062, 'bottarelli': 15063, '19estee': 15064, 'rczsu': 15065, '1isuklg': 15066, 'watchos': 15067, 'realizes': 15068, 'ne598x6': 15069, 'dork': 15070, '19766807': 15071, 'recorded': 15072, '602k': 15073, '730k': 15074, 'eclipse': 15075, '3545216': 15076, 'fined': 15077, '1l2aaux': 15078, 'actively': 15079, 'e2udc': 15080, 'f1im7': 15081, '1tixbxq': 15082, 'g22p1': 15083, 'tumbled': 15084, 'endured': 15085, '3018506': 15086, 'treated': 15087, \"2009's\": 15088, '5309807': 15089, '062040347': 15090, 'y0qjcj0': 15091, 'pullbacks': 15092, 'forms': 15093, 'crore': 15094, 'digitalizing': 15095, 's3dxg': 15096, 'di': 15097, '1rzai': 15098, 'received': 15099, 's1bvk': 15100, 'k6sqeyn': 15101, 'neverland': 15102, 'whos': 15103, '3107086': 15104, '738328': 15105, 'trainer': 15106, 'aboard': 15107, 'sinking': 15108, '19975828': 15109, 'estaz': 15110, '011715': 15111, '735112': 15112, 'fifty': 15113, 'hi0q0': 15114, 'flight': 15115, 'collectively': 15116, 'models…': 15117, '1toaddz': 15118, 'r1lrl': 15119, 'vdmmwg…': 15120, '23th': 15121, '3126486': 15122, '5459019': 15123, '8275480': 15124, 'darkening': 15125, 'hes': 15126, '1xzw0tz': 15127, '14th': 15128, \"'craziest\": 15129, '1jmogps': 15130, 'piling': 15131, '1czakjx': 15132, 'suprised': 15133, 'broadcasters': 15134, '1folk17': 15135, 'fwd': 15136, 'employees…': 15137, '1omtkmk': 15138, 'aggravating': 15139, \"'virtual\": 15140, 'explor': 15141, 'exploration': 15142, '19745173': 15143, 'igrkk': 15144, 'hiv': 15145, '2038': 15146, 'astounding': 15147, '1gygg8a': 15148, 'energizer': 15149, '1d9rlmi': 15150, 'optionmillionaires': 15151, 'tlt': 15152, 'beard': 15153, 'mbl': 15154, '34k': 15155, 'hr': 15156, 'conv': 15157, 'imo…': 15158, '1wxdwav': 15159, '1ru0jrq': 15160, 'boxworks': 15161, 'heath…': 15162, \"'more\": 15163, \"years'\": 15164, '5188109': 15165, 'winter': 15166, 'market’s': 15167, '1rts8qc': 15168, '1cnatvv': 15169, 'comcast': 15170, '1skiri4': 15171, '19793144': 15172, 'neccessary': 15173, '3189536': 15174, 'figures': 15175, 'jayzs': 15176, 'infamous': 15177, '1ht5glw': 15178, '91336': 15179, 'weakens': 15180, \"45's\": 15181, '9189': 15182, 'playstation4': 15183, 'vita': 15184, 'trishathadani': 15185, '103602450': 15186, 'catwoman’s': 15187, '1jacgo4': 15188, 'corytv': 15189, 'r3fx1': 15190, 'appnexus': 15191, 'a2jgp': 15192, 'j3uge': 15193, '1q0p9om': 15194, 'y0qjgx0': 15195, '1c0ro90': 15196, '4pogmbb7c': 15197, 'floater': 15198, '71c': 15199, '5bn': 15200, 'hidding': 15201, 'undone': 15202, 'repurchasing': 15203, '1e1mplfalso': 15204, '21401475': 15205, 'brains': 15206, 'trig': 15207, 'acquisitionhttp': 15208, 'mn3lh': 15209, \"make's\": 15210, '17j6fh9': 15211, 'outperformance': 15212, 'dates': 15213, 'obxywxl': 15214, 'torched': 15215, 'restart': 15216, '1ahlrgi': 15217, \"gamer's\": 15218, 'warcraft': 15219, '1u2a2kt': 15220, 'report—if': 15221, 'riot': 15222, 'oe6y9m5': 15223, 'gers': 15224, '9807722': 15225, 'availability…': 15226, 'oolbsgd': 15227, 'daytrading': 15228, '1981': 15229, 'resist': 15230, 'c1fvq': 15231, '1u22yt3': 15232, 'procter': 15233, '1yt0kea': 15234, 'spenders': 15235, 'på1234': 15236, 'rending': 15237, 'ocktwits': 15238, 'jasper': 15239, '20150714': 15240, 'salary': 15241, 'engineer': 15242, 'dreamed': 15243, 'i2thw': 15244, '242458246912288…': 15245, 'cashtags': 15246, 'f1eyg': 15247, 'g1epw': 15248, 'smh': 15249, 'commoditized': 15250, 'swings': 15251, 'illogical': 15252, 'beets': 15253, 'b1suh': 15254, 'pdf': 15255, 'conversion': 15256, 'cheerleading': 15257, '1orsxvc': 15258, \"'underdog'\": 15259, 'vbd8zq…': 15260, '1pozeee': 15261, 'ninja': 15262, '1wzhnv9': 15263, '1geokwp': 15264, '1gep20o': 15265, 'ski': 15266, '2924306': 15267, 'todas': 15268, 'verdes': 15269, '2805036': 15270, \"'fail'\": 15271, 'conflict': 15272, 'mineral': 15273, 'disclosures': 15274, 'amnesty': 15275, '32403315…': 15276, 'kurt': 15277, 'delbene': 15278, 'returned': 15279, 'evp': 15280, 'standpoint': 15281, 'bonanza': 15282, 'mexican': 15283, 'handcuffing': 15284, 'walled': 15285, '1i0uopq': 15286, '1gtuchb': 15287, 'vukwaa…': 15288, 'elusive': 15289, 'ei1cvs': 15290, '91088': 15291, '1yzpekp': 15292, '1wwtehd': 15293, 'g3rcp': 15294, 'kim': 15295, 'forrest': 15296, 'postpaid': 15297, '2985346': 15298, 'stmts': 15299, 'stones': 15300, '2421596': 15301, 'h3kva': 15302, 'p5mgkpd': 15303, 'zooey': 15304, '643354679355797504…': 15305, 'c2smo': 15306, '“oh': 15307, 'pleads': 15308, 'ixzz3m644dt2d': 15309, '1yqcnp0': 15310, 'grounds': 15311, 'hundreds': 15312, 'flights': 15313, 'mynews': 15314, 'mb': 15315, 'cxjmj': 15316, 'cast': 15317, 'shadow': 15318, 'jot3m': 15319, '1ieumn6': 15320, '1aczrgt': 15321, '“flow”': 15322, '1ekhcr6': 15323, 's2iob': 15324, 'plunges': 15325, 'db9fq5d': 15326, 'deficit': 15327, '1vbk3el': 15328, 'jj': 15329, 'kinahan': 15330, '5690152': 15331, 'alienation': 15332, 'disq': 15333, '8ncsv4': 15334, '403': 15335, 'socialism': 15336, 'subsidiary': 15337, 'legion': 15338, 'squads': 15339, \"ddos'ng\": 15340, 'trails': 15341, '1apkwy4': 15342, 'triangl': 15343, '45079': 15344, '1lrycqq': 15345, 'serving': 15346, 'sugar': 15347, 'cones': 15348, '1lsxqod': 15349, 'adage': 15350, 'elohel': 15351, 'p30vf': 15352, 'ptsjt': 15353, 'tandem': 15354, 'vsdnig…': 15355, 'eve': 15356, 'wallstreet': 15357, '1kcltqa': 15358, 'j2rjj': 15359, 'solidly': 15360, 'dust': 15361, '20150803': 15362, '1tregcx': 15363, '1986': 15364, 'precedent': 15365, 'buddy': 15366, 'defined': 15367, '1di3lkn': 15368, 'miniscule': 15369, 'gy2ie7': 15370, 'combat': 15371, 'porn': 15372, '1ozvvc5': 15373, '1471441': 15374, '5723': 15375, 'dr102215': 15376, 'haaqh': 15377, '1gcttox': 15378, '736318': 15379, 'optimistic': 15380, 'k7epma4': 15381, 'flies': 15382, 'tempting': 15383, 'whoosh': 15384, 'dwn': 15385, 'pennies': 15386, 'slipping': 15387, 'tout': 15388, 'salesman': 15389, 'daringfireball': 15390, 'xboxone': 15391, 'luv': 15392, 'needing': 15393, '775146': 15394, 'revise': 15395, '1padgvf': 15396, '19631033': 15397, 'apadvisorhub': 15398, '1h6rbyq': 15399, 'c2747': 15400, 'pluto': 15401, 'fxuci': 15402, '761169': 15403, '1tpsdwl': 15404, 'evo': 15405, '12997756…': 15406, '1cbqieu': 15407, 'ptsweeney': 15408, '1jgrw6h': 15409, '1m8bpyk': 15410, '3071956': 15411, '1dg3jzu': 15412, 'nimbosa': 15413, 'tcrawford': 15414, '5m': 15415, 'comm': 15416, 'g2prn': 15417, 'backtest': 15418, 'suredividend': 15419, 'abandoning': 15420, 'dashed': 15421, \"wars'\": 15422, '111715': 15423, '781160': 15424, '1isdtmo': 15425, '11515': 15426, 'labels': 15427, 'paywall': 15428, '2831016': 15429, 'dawnc331': 15430, 'specifically': 15431, 'historyhttp': 15432, '1d9lj5k': 15433, '5510s': 15434, 'ali': 15435, 'prints': 15436, 'misconception': 15437, '5189115': 15438, '13125174': 15439, 'alerting': 15440, 'becoz': 15441, 'tech…': 15442, 'b1yuh': 15443, '1fxqoxq': 15444, 'ncaa': 15445, 'athletes': 15446, 'millionaires': 15447, 'cust': 15448, 'outsource': 15449, 'blamer': 15450, '7500': 15451, 'opt': 15452, '1kcfawo': 15453, 'recall': 15454, 'b1yo7': 15455, 'fastcompany': 15456, '3042112': 15457, 'pipe…': 15458, 'growhttp': 15459, 'grow…': 15460, 'morning’s': 15461, '1hr4ly2': 15462, '1sbzigx': 15463, 'lxj6d74': 15464, 'startin': 15465, 'cummin': 15466, 'thoze': 15467, '242': 15468, 'unsecured': 15469, '1ptvmtt': 15470, '408': 15471, 'lg': 15472, 'ntgjqh7': 15473, '1i8hvlh': 15474, 'stardock': 15475, 'cg': 15476, '1xt52f7': 15477, 'ons': 15478, '1e1ocrk': 15479, \"netsuite's\": 15480, 'absence': 15481, 'pervalle': 15482, 'netsuite': 15483, 'superdataresearch': 15484, 'sponsored': 15485, '22bfuub': 15486, 's1jso': 15487, 'kfcku': 15488, '46795': 15489, '2025464295': 15490, 'microsoftlaborxml': 15491, '1cpgw9v': 15492, '92371': 15493, 'mcdonalds': 15494, 'doubted': 15495, 'incumbents': 15496, 'd2ppp': 15497, \"akamai's\": 15498, '124501': 15499, 'tnx': 15500, 'flexible': 15501, 'hijack': 15502, '1kqfoxz': 15503, 'e6frfrnr': 15504, '1227474317011…': 15505, '2m': 15506, '750k': 15507, 'recycling': 15508, '1wbkvac': 15509, 'h3u0s': 15510, 'njcyntuz': 15511, '65302145': 15512, '1cdtako': 15513, 'hoards': 15514, 'gillis': 15515, 'spanked': 15516, 'd7b6km': 15517, '1p54xx7': 15518, 'y0iz': 15519, '46639': 15520, '1cppxux': 15521, 'pets': 15522, '348954': 15523, '102617402': 15524, '102702029': 15525, '1ihlog6': 15526, '1ztalmp': 15527, 'compensation': 15528, 'nvidia’s': 15529, '1j0whv9': 15530, 'x0hy': 15531, 'cshboy': 15532, 'mdr3t9f': 15533, 'qhse4s': 15534, 'tackles': 15535, 'racism': 15536, 'ageism': 15537, '1qf2a9g': 15538, \"weeks'\": 15539, 'hiatus': 15540, 'q1tji': 15541, 'focushttp': 15542, 's1wkb': 15543, 'autodesk': 15544, 'fixing': 15545, 'bookman…': 15546, 'wishing': 15547, 'lower…': 15548, '9x7j7x': 15549, 'marketglance': 15550, '682374728850497536…': 15551, '1pxssj6': 15552, 't1irg': 15553, 'levelhttp': 15554, '1sxzjft': 15555, \"lionbridge's\": 15556, 'boston': 15557, 'lionbridges': 15558, '348': 15559, 'scans': 15560, 'unprecedented': 15561, 'g3ulr': 15562, 'rebalancing': 15563, 'usershttp': 15564, 'businessfinancenews': 15565, '26652': 15566, 'cuban': 15567, 'wonders': 15568, 'out…': 15569, '5746283': 15570, 'screenshot': 15571, '1ezivnn': 15572, 'hasnt': 15573, '1pjdgxf': 15574, '1ytmc46': 15575, 'y7vrcgy0': 15576, 'abusers': 15577, 'joly': 15578, 'iconic': 15579, 'headquarters': 15580, 'evacuated': 15581, 'h1xhr': 15582, 'czechmagician': 15583, 'newer': 15584, 'virtualtrading': 15585, 'properly…': 15586, 'deere': 15587, 'diving': 15588, 'erased': 15589, 'yearhttp': 15590, 'attackofthefanboy': 15591, 'dkowvx': 15592, 'gdy0': 15593, 'ascending': 15594, '753747': 15595, 'vowes': 15596, '1btmthk': 15597, 'slight': 15598, '1448188684…': 15599, '1bzlbta': 15600, 'fouled': 15601, '67812906': 15602, 's3fxp': 15603, '1ltpg7l': 15604, '͡°╭͜ʖ╮͡°': 15605, '3088646': 15606, \"'unknown\": 15607, \"territory'\": 15608, '675503942986543105': 15609, '5skyji2mgx…': 15610, '20150219': 15611, 'elon': 15612, 'musk': 15613, 'richard': 15614, 'branson': 15615, '1o4fcum': 15616, 'expiration': 15617, 'uptodate': 15618, 'h3jlyg': 15619, 'camwilmot': 15620, 'thekeystonespeculator': 15621, '20010704': 15622, '5472107': 15623, 'vuehxw…': 15624, 'blunder': 15625, 'kp9v89w': 15626, 'actitrad': 15627, 'despise': 15628, 'foss': 15629, 'spooked': 15630, 'mucho': 15631, 'fundamentally': 15632, '9498': 15633, 'decides': 15634, 'hure6': 15635, '3714866': 15636, \"'house\": 15637, \"cards'\": 15638, 'awaited': 15639, '1vcndnh': 15640, 'thing…': 15641, '21c': 15642, '10p': 15643, '2p': 15644, 'exposed': 15645, '780734': 15646, 'gme': 15647, \"'it's\": 15648, \"race'\": 15649, '1pdncb8': 15650, '‘test': 15651, 'faith’': 15652, 'ov3y833': 15653, 'reluctant': 15654, \"'bout\": 15655, '20151223': 15656, 'slice': 15657, 'carbon': 15658, '1lo0kcc': 15659, 'savage': 15660, 'christiantoday': 15661, '64988': 15662, 'tullo': 15663, 'delays': 15664, 'tivo': 15665, '5767563': 15666, 'teva': 15667, 'nestle': 15668, 'i1apl': 15669, '789wnpvk6': 15670, 'stopcost': 15671, '1ka6iw3': 15672, 'aeri': 15673, '032615': 15674, '745402': 15675, '19808649': 15676, 'wouldn': 15677, '\\uf8ffcatch': 15678, '6b3sz': 15679, 'harmony': 15680, 'tmatd2qk564…': 15681, 'achievementhunt': 15682, '858088': 15683, '1jwnxbl': 15684, 'smug': 15685, 'oligarchs': 15686, '6vcvd6apu': 15687, '―': 15688, 'lov': 15689, '120s': 15690, '19970': 15691, 'damned': 15692, 'unnatural': 15693, 'queries': 15694, '217501': 15695, 'cid': 15696, '1565ebe403': 15697, 'eid': 15698, '092bdd919f…': 15699, 'reversals': 15700, 'xle': 15701, 'xlf': 15702, 'xlv': 15703, 'hon': 15704, 'ia': 15705, 'tbkk6': 15706, 'engulfing': 15707, 'tuesdayhttp': 15708, 'r1ie4': 15709, 'ludicrous': 15710, 'boast': 15711, 'sanity': 15712, '7am': 15713, 'riser': 15714, 'pegnat': 15715, 'ddierkin': 15716, '47428826…': 15717, '8y8m43': 15718, 'reset': 15719, 'arg': 15720, 'enema': 15721, 'tuff': 15722, \"500's\": 15723, '1lrqeks': 15724, 'speaks': 15725, '1zkvrmi': 15726, 'mall': 15727, 'distance': 15728, 'mic': 15729, 'demos': 15730, 'cxpvzq': 15731, 'laid': 15732, 'alphaarchitect': 15733, \"there've\": 15734, '’08': 15735, 'we’ll': 15736, '116383': 15737, 'amends': 15738, '1b4vu86': 15739, 'ojpb': 15740, 'bac': 15741, '16p6065': 15742, 'r1vrc': 15743, 'kf3jq': 15744, 'begs': 15745, 'internets': 15746, 'wrapping': 15747, 'b2fqf': 15748, 'pics': 15749, 'pearl': 15750, 'wa8kuv': 15751, \"mobile's\": 15752, '3582786': 15753, 'mobiles': 15754, 'sjohww': 15755, 't2ke4': 15756, '1azyq6c': 15757, 'exquisitelyr': 15758, '1zxqa2p': 15759, 'jest': 15760, '2w0mfg': 15761, '1k2qidp': 15762, 'oxqyrrl': 15763, '3396555': 15764, 'warranted': 15765, 'commoditizing': 15766, 'c1900101': 15767, '20017': 15768, '1irlfgz': 15769, 'highland': 15770, 'discloses': 15771, 'q4http': 15772, 't1jpk': 15773, '1lq4fiy': 15774, 'son': 15775, 'youll': 15776, 'nr': 15777, 'referer': 15778, 'sailthru': 15779, 'financeselect…': 15780, 'herald': 15781, '0425bd': 15782, 'iduskbn0ue01z20151231…': 15783, 'lambasts': 15784, 't2ntb': 15785, '13358990': 15786, 'unexpected': 15787, 'p2np5': 15788, '82p': 15789, '1hq8o7h': 15790, 'tenth': 15791, '1vtledmmd': 15792, '115093443618731…': 15793, 'forcing': 15794, 'salespeople': 15795, '1dyczip': 15796, 'atlassian': 15797, '1rmmwdz': 15798, 'asap': 15799, '54th': 15800, '3074646': 15801, 'concentrate': 15802, '44406': 15803, 'quantum': 15804, '1gbmtcj': 15805, 'p2anb': 15806, '1jvtmby': 15807, '434382264790761…': 15808, 'h1fun': 15809, '3305425': 15810, 'wearer': 15811, 'warm': 15812, 'u50mb': 15813, 'razerwares': 15814, 'instrument': 15815, 'elliottwave': 15816, '100715': 15817, '774621': 15818, 'aa': 15819, 'identical': 15820, '1bskyeb': 15821, 'ccr': 15822, 'soul': 15823, 'chasin': 15824, 'playin': 15825, 'ponzzzzzzz': 15826, \"tuesday's\": 15827, '18oqufg': 15828, 'ears': 15829, 'nprm': 15830, 'cablecos': 15831, 'holds…': 15832, 'attrition': 15833, 'paranoid': 15834, 'observer': 15835, 'telegraphed': 15836, 'chromebooks…': 15837, 'i1qkt': 15838, '106301': 15839, '2929756': 15840, \"'big\": 15841, \"4'\": 15842, '3359715': 15843, 'jinx': 15844, 'ascent': 15845, '1ngzfgj': 15846, 'jaxon': 15847, '1uxwzs4': 15848, \"os's\": 15849, 'invisible': 15850, 'cyborg': 15851, 'doofus': 15852, '67020740': 15853, '95258': 15854, '1a1jbjh': 15855, 'myths': 15856, 'riskprof': 15857, '1mwv9mn': 15858, 'busiest': 15859, '141': 15860, 'disgusting': 15861, \"pete's\": 15862, 'analyses': 15863, '1zkkegqhttp': 15864, '1bq9y6r': 15865, '8p5qwveze': 15866, 'asterisk': 15867, '19631984': 15868, 'g2bld': 15869, 'f2bcw': 15870, 'i2lgv': 15871, '8uklvq': 15872, 'yah': 15873, 'mvdl1': 15874, 'boats': 15875, 'floated': 15876, 'tide': 15877, '1genqkh': 15878, 'exercises': 15879, \"sprint's\": 15880, '1dhn7ou': 15881, 'hopeful': 15882, 'comparable': 15883, '44835': 15884, '188zbuq': 15885, 'rages': 15886, '1ea6oss': 15887, 'pmarca': 15888, 'craigbuj': 15889, 'dated': 15890, 'leveraging': 15891, \"oem's\": 15892, 'incentivize': 15893, \"ace'd\": 15894, '2moro': 15895, '9…': 15896, '1kmzmo0': 15897, 'mala': 15898, 'butt': 15899, 'jokes': 15900, 'loooows': 15901, 'dynamic': 15902, 'g3c9c': 15903, 'determine': 15904, '1nhrhl1': 15905, 'confident': 15906, 'virtually': 15907, 'a2zi0': 15908, 'deadline': 15909, 'greatly': 15910, 'hpc': 15911, 'rep': 15912, 'supercomputers': 15913, 'impossible': 15914, '1a9kzuy': 15915, 'unti': 15916, '19612331': 15917, 'headliners': 15918, 'taelo': 15919, '20150101': 15920, 'seals': 15921, '759658': 15922, 'transparency': 15923, 'resigned…': 15924, 'yard': 15925, 'chan': 15926, '072715': 15927, '763516': 15928, 'jaw': 15929, 'understatement': 15930, 'poor’s': 15931, '1epjvy2': 15932, 'eua…': 15933, 'oasis': 15934, 'mirage': 15935, '1j5xybu': 15936, 'p1f0k': 15937, '1cq92c': 15938, 'one…': 15939, 'physical': 15940, 'embodiment': 15941, 'baseball': 15942, 'bat': 15943, 'hearted': 15944, '1isewzy': 15945, '624221702193426433…': 15946, 'vbd3yg…': 15947, 'd1yw5': 15948, '234th': 15949, 'h010ck': 15950, 'msftnow': 15951, 'svvjwhp05u…': 15952, '‘delight’': 15953, 'gate': 15954, 'yeap': 15955, 'loosing': 15956, 'ja': 15957, '1nmgi7p': 15958, 'ante': 15959, 'kettle': 15960, '1ibysss': 15961, 'affairs': 15962, 'sizable': 15963, 'dent': 15964, 'r2n9s': 15965, 'cognitive': 15966, 'dissonance': 15967, 'jumpstart': 15968, 'pb1qt': 15969, 'opine': 15970, 'h20b1': 15971, 'anticipation': 15972, \"er's\": 15973, '1jly8uk': 15974, 'acct': 15975, 'jk': 15976, '1ar2fq3': 15977, 'cte': 15978, '1demvlg': 15979, 'repatriated': 15980, '16gb': 15981, '2gb': 15982, 'opub0': 15983, 'studio': 15984, 'countering': 15985, 'printed': 15986, 'af': 15987, 'allows': 15988, 'unlocking': 15989, '1laofsx': 15990, '64974399': 15991, '50ma': 15992, '47558': 15993, 'legalization': 15994, '1be8e1': 15995, 'servicing': 15996, '3tnzlb': 15997, '1vdqp9u': 15998, '1c5x1s5': 15999, '3589726': 16000, '3005622': 16001, 'holistic': 16002, 'tk': 16003, 'cloudcomputing…': 16004, '1wlohjq': 16005, 'yippeee': 16006, 'motorola': 16007, \"'project\": 16008, '2916517': 16009, '30b': 16010, 'vap2ip31hde': 16011, '3267645': 16012, 'leader…': 16013, '1b0o9kq': 16014, 'games’': 16015, 'sequel': 16016, '1kqoo1o': 16017, 'oledi45': 16018, 'oowc2o': 16019, 'microsoftazure': 16020, '200k': 16021, 'intead': 16022, 'wmpoweruser': 16023, 'uprising': 16024, 'globalmarketupdate': 16025, '11th': 16026, 'thrones’': 16027, '2btaob': 16028, 'b1lov': 16029, 'e2pjt': 16030, 'applehttp': 16031, 'phwar': 16032, 'isrg': 16033, 'y0vxhx0': 16034, '1yei5ej': 16035, 'erps': 16036, 'moats': 16037, '1ynrd5p': 16038, '151': 16039, '32m': 16040, '09m': 16041, '51m': 16042, '33m': 16043, 'marquee': 16044, 'dug…': 16045, '1dtibkg': 16046, 'xlb': 16047, 'bandwidth': 16048, '19637421': 16049, '1hnklh8': 16050, 'presser': 16051, \"'income\": 16052, \"bubble'\": 16053, '2949926': 16054, '140': 16055, 'y2day': 16056, 'tmtf': 16057, '67021349': 16058, '1prkxye': 16059, 'plo12': 16060, '3028286': 16061, 'wars…': 16062, 'pssst': 16063, 'uook8': 16064, '19977643': 16065, 'esxsyi7': 16066, 'wagged': 16067, \"street's\": 16068, 'downbeat': 16069, 'mood': 16070, 'squarehttp': 16071, 'dualshockers': 16072, 'giddiness': 16073, 'weatherford': 16074, 'defect': 16075, 'pixelsense': 16076, 'contenda': 16077, 'wearesocial': 16078, 'vmfmed3pavo': 16079, '3090366': 16080, 'stitcher': 16081, 'dan': 16082, 'ferris': 16083, '39730174…': 16084, 'fjhqj4fz': 16085, 'inquire': 16086, '20150112': 16087, 'snag': 16088, 'slack': 16089, 'impending': 16090, '20150317': 16091, 'caroltheva': 16092, '597714817718349824…': 16093, \"80's\": 16094, '80s': 16095, 'zones': 16096, 'sn5rg': 16097, 'fits': 16098, 'complements': 16099, '1f42vcc': 16100, '1uxhiwj': 16101, 'airs': 16102, '6019009': 16103, 'examples': 16104, '4dgwy0e8k': 16105, \"‘marketplace'\": 16106, '1ltwiqf': 16107, '1mizxja': 16108, '3101016': 16109, 'breakin': 16110, '8b8fvd': 16111, 'b2dcu': 16112, '305': 16113, '379': 16114, '4200': 16115, 'fallable': 16116, 'tv…': 16117, '‘secret’': 16118, '1wyu3g2': 16119, 'y0bqrs0': 16120, '1qnslkb': 16121, '1uyszmw': 16122, 'ken': 16123, 'fisher’s': 16124, '3184036': 16125, 'diverses': 16126, 'lecho': 16127, '9656942…': 16128, '1vtqtti': 16129, '19768024': 16130, 'hrly': 16131, '15min': 16132, \"moskowitz's\": 16133, 'fairing': 16134, 'examines': 16135, '65270225': 16136, 'sukgq': 16137, '1enkute': 16138, 'ptypm': 16139, 'oag64qg': 16140, 'freaks': 16141, '111815': 16142, '781426': 16143, 'heightens': 16144, 'swear': 16145, 'shatter': 16146, 'google…': 16147, 'genaudio': 16148, '45706': 16149, 'conexant': 16150, '1bvwlz9': 16151, 'relativity': 16152, 'required': 16153, \"dalio's\": 16154, 'slices': 16155, 'realized': 16156, 'illness': 16157, 'deviceshttp': 16158, 's1wua': 16159, \"'continued\": 16160, \"drag'\": 16161, 'p2uef': 16162, 'otm2mtaw': 16163, '79m': 16164, '63m': 16165, '34m': 16166, '24m': 16167, '01m': 16168, '1jfbfxr': 16169, 'oplqj': 16170, 'jay': 16171, \"z's\": 16172, 'tidal': 16173, 'nyp': 16174, '1dqqbgg': 16175, 'morevia': 16176, 'elliot': 16177, 'googms': 16178, 'sl': 16179, 'webi': 16180, '19840611': 16181, 'wipes': 16182, '1nxsxkz': 16183, 'affiliated': 16184, 'hjlfc': 16185, 'johnson': 16186, 's2op1': 16187, '19833929': 16188, 'prepares': 16189, 'cranks': 16190, '720': 16191, 'r2fwn': 16192, '48984': 16193, 'r2wuo': 16194, 'p2wqw': 16195, 'p2wqx': 16196, 'bled': 16197, '4asmfp': 16198, '769948': 16199, 'fending': 16200, 'chinatopix': 16201, '58139': 16202, '20150717': 16203, '19799543': 16204, 'throwing': 16205, 'appletv': 16206, 'firetv': 16207, 'androidtv': 16208, 'shieldothers': 16209, 'b2u5z': 16210, '1qvns2k': 16211, 'c2gbp': 16212, 'p1hkb': 16213, 'watchers': 16214, 'up105': 16215, '1lm5pbc': 16216, 'q’s': 16217, 'cumulative': 16218, '1wa3fpd': 16219, 'vast': 16220, 'entrants': 16221, '646325857959612418…': 16222, 'vgfhfq…': 16223, 'interbrand': 16224, '47760': 16225, 'repairing': 16226, '19d9bjn': 16227, 'tiger': 16228, 'cub': 16229, 'philippe': 16230, 'laffont': 16231, '1kkfjw4': 16232, 'bizz': 16233, 'resolution': 16234, 'section': 16235, 'international…': 16236, '“it': 16237, 'banklesstimes': 16238, 'peerrealty': 16239, 'crowdfunding': 16240, 'fbn': 16241, 'explanation': 16242, '151339': 16243, 'tdp': 16244, '5580697': 16245, '082715': 16246, '768499': 16247, 'invitations': 16248, 'shrunk': 16249, '7974759': 16250, 'dead…': 16251, 'gigantic': 16252, '47315': 16253, '1tma9ja': 16254, 'lvl': 16255, 'keys': 16256, 'kingdoms': 16257, 'onslaught': 16258, 'plugs': 16259, '021915': 16260, '740030': 16261, 'reseller': 16262, 'cdw': 16263, 'thinkfluential': 16264, 'futurist': 16265, 'wowed': 16266, 'reals': 16267, '1709775': 16268, 'qz…': 16269, '5114917': 16270, 'nerdy': 16271, 'inclined': 16272, 'listened': 16273, 'yeeeeehaaaa': 16274, 'q28se': 16275, 'spreading': 16276, 'somewhere': 16277, '‘in': 16278, 'months’': 16279, 'g2klu': 16280, 'emotions': 16281, 'lin': 16282, 'analyst’s': 16283, 'gapper': 16284, 'assure': 16285, 'forgotten': 16286, 'vrge': 16287, '1ybc0bs': 16288, 'scold': 16289, '1b4gn48': 16290, 'ny': 16291, 'congratulations': 16292, 'bv8f4h': 16293, 'watched': 16294, 'apologies': 16295, 'puns': 16296, 'threw': 16297, 'towel': 16298, '1mkhw0x': 16299, '229810': 16300, 'robinson': 16301, '1fbkt7r': 16302, 't2cig': 16303, 'shrug': 16304, '2626451': 16305, 'joseph': 16306, 'harry': 16307, '4145585': 16308, 'gaps…': 16309, 'scribbles': 16310, 'chcb5s': 16311, '65237827': 16312, 'andyswan': 16313, 'hahahah': 16314, '1hreurh': 16315, 'keysweeper': 16316, 'keystroke': 16317, 'logger': 16318, 'camouflaged': 16319, 'charger': 16320, '1c0eumz': 16321, \"americans'\": 16322, 'tackling': 16323, 'autism': 16324, 'unemployment': 16325, '3qaqk9du1': 16326, 'slashinvestor': 16327, '020415': 16328, '737913': 16329, '13owdbj': 16330, 'moth': 16331, 'flame': 16332, 'b2wvs': 16333, 'lotta': 16334, 'pipeline': 16335, 'h33pk': 16336, 'nonetheless': 16337, 'wallstreetstocksolutions': 16338, 'stockaction': 16339, 'darwinism': 16340, 'nevjsm': 16341, 'grumpy': 16342, '1qfi72a': 16343, '19783790': 16344, 'manage': 16345, 'viewers': 16346, 'pcosd': 16347, '1u8u237': 16348, 'p1lwe': 16349, '10http': 16350, 'h1wux': 16351, 'brought': 16352, 'marine': 16353, 'slogan': 16354, 'miscalculation': 16355, 'bblrdv4': 16356, 'ocid': 16357, 'st…': 16358, 'y0vxgr0': 16359, '1cpww4a': 16360, '734': 16361, 'e1oqp': 16362, 'surpass': 16363, 'tomorrow…ala': 16364, 'fee': 16365, 'stated': 16366, 'multitude': 16367, '1kzhfxb': 16368, 'easterbrook': 16369, 'porat': 16370, 'value2015': 16371, 'omx': 16372, 'toyota': 16373, 'motivating': 16374, 'prosthetics': 16375, 'r1pku': 16376, '20pm': 16377, '3094776': 16378, 'pitches': 16379, '1xy04xb': 16380, 'ver': 16381, 'd77ff1': 16382, 'description': 16383, '782511': 16384, 'kf3js': 16385, 'swim': 16386, 'lanes': 16387, 'adventures': 16388, '1j7ovxq': 16389, '1fm40kb': 16390, '1pcq12w': 16391, '65237873': 16392, '2nite': 16393, 'cloudon': 16394, 'int’l': 16395, '“github': 16396, 'designers': 16397, 'pixelapse': 16398, 'rememebr': 16399, 'outstading': 16400, 'insiders': 16401, 'buyings': 16402, 'pric': 16403, 'q33vb': 16404, '3044536': 16405, 'dynami': 16406, '19686219': 16407, \"satya's\": 16408, 'j2biv': 16409, 'seasons': 16410, 'underway': 16411, 'tiasf': 16412, 'bleeding': 16413, '1rptj6o': 16414, 'paas': 16415, 'maintian': 16416, '28x': 16417, 'viewer': 16418, 'implication': 16419, 'inaccurate': 16420, '65328155': 16421, 'theirrelevantinvestor': 16422, '111495043113': 16423, 'exceptions': 16424, 'urtcv': 16425, '1oi6bl6': 16426, 'clause': 16427, 'chartsi': 16428, '3j1dmyrl7': 16429, 'squandering': 16430, '2109': 16431, '1ukgy': 16432, '100gb': 16433, 'stor': 16434, 'u55vm': 16435, 'finro': 16436, '1gm3i3o': 16437, 'sourced': 16438, 'piggy': 16439, 'spys': 16440, 'microvision': 16441, 'cluescott': 16442, \"woltman's\": 16443, 'torrent': 16444, '1mooxxt': 16445, 'queazy': 16446, \"box's\": 16447, 'c1xyn': 16448, \"'fuck\": 16449, '21647612': 16450, 'determined': 16451, 'opening…': 16452, 'undercut': 16453, '1d5lqce': 16454, '19850436': 16455, 'layers': 16456, '65328012': 16457, 'davidlaz': 16458, '627159176750346241…': 16459, 'incorrect': 16460, 'jointhefoot': 16461, 'crm…': 16462, \"'windows\": 16463, \"chapter'\": 16464, 'kf9pw5s': 16465, 'e2qcb': 16466, '1k7lyn2': 16467, '2798805': 16468, 'riskscatter': 16469, 'evercore': 16470, '1o1g1wt': 16471, '5172493': 16472, '1hhvggy': 16473, 'hyundai': 16474, \"should've\": 16475, 'h3edy': 16476, 'kf3jp': 16477, 'p4n5z92': 16478, '1iagbuw': 16479, 'trusted': 16480, 'pljggpv': 16481, '1fndp1m': 16482, 'edit': 16483, 'rendering': 16484, 'bzuheab': 16485, '243': 16486, 'okta': 16487, 'e2zj2': 16488, 'drachma': 16489, 'shown': 16490, 'lolz': 16491, 'qx45wcq': 16492, 'mth': 16493, 'insightful': 16494, 'argued': 16495, 'society': 16496, '217': 16497, '1ca1wtr': 16498, 'ebay': 16499, '1zjzfmz': 16500, '118813': 16501, 'wilson': 16502, '7th': 16503, '127': 16504, 'ebitda': 16505, 'q2dzu': 16506, 'maligned': 16507, 'suprized': 16508, 'crashin': 16509, 'deleting': 16510, '49135': 16511, '3065736': 16512, 'more…': 16513, '5175458': 16514, '1d1qfrp': 16515, '5978133': 16516, '19766051': 16517, 'financialorbit': 16518, 'checklist': 16519, '33444': 16520, 'portcheck': 16521, '1rtgsip': 16522, '1hpo6mk': 16523, 'hearts': 16524, '8h': 16525, 't1mas': 16526, 'salvo': 16527, '1o4eccg': 16528, '1ctjebr': 16529, 'ideal': 16530, 'fares': 16531, '2251506': 16532, 'darn': 16533, 'queues': 16534, 'visions': 16535, 'delightfully': 16536, '8314362': 16537, '1saftpt': 16538, 't1m80': 16539, 'f3aay': 16540, 'accelerate': 16541, 'slew': 16542, 'shines': 16543, '749415': 16544, 'samsungmobile': 16545, '1um7qck': 16546, '1hxyvus': 16547, '1y1qvsl': 16548, 'migrate': 16549, 'u5c21': 16550, 'umm…': 16551, 'knowing': 16552, 'pwp': 16553, 'measuring': 16554, '48676': 16555, 'announcer': 16556, '1o0kjwz': 16557, '1j66wty': 16558, '16xl16t': 16559, 'digiltal': 16560, 'nomy': 16561, 'betastra': 16562, 'i203o': 16563, 'b1yyk': 16564, 'girlfriend': 16565, 'ecqja…': 16566, '1ejnlux': 16567, 'y2days': 16568, '2847806': 16569, '1hgbsit': 16570, 'story…': 16571, '1sl0ber': 16572, '1nqiwek': 16573, 'gta': 16574, 'missions': 16575, 'removed': 16576, '1uzniry': 16577, 'redesigned': 16578, 'slimmer': 16579, '1hzalei': 16580, '1yu1m9b': 16581, '682b': 16582, '527b': 16583, '508b': 16584, '434b': 16585, '358b': 16586, '308b': 16587, '306b': 16588, '298b': 16589, '41681400': 16590, '21645761': 16591, 'ratio…': 16592, 'cvlgb8': 16593, 'transports': 16594, '1ff5h4x': 16595, '157': 16596, 'g6pwojs': 16597, 'optionsedge': 16598, 'vivo': 16599, 'parallels': 16600, '1jityqc': 16601, '1ewskru': 16602, 'narrowed': 16603, '1tnhlph': 16604, '1b3aqcp': 16605, 'vyqvyq…': 16606, '1dktx9u': 16607, 't3ljl': 16608, '1iebna': 16609, 'bush': 16610, 'iraq': 16611, 'gamesindustry': 16612, 'hololens…': 16613, '65177110': 16614, 'silence': 16615, '1bfvl1y': 16616, 's24vr': 16617, 'h2rp5': 16618, '990': 16619, 'inner': 16620, '1lrqzkl': 16621, '964': 16622, '548': 16623, 't1qwe': 16624, '1wtfb0h': 16625, \"'broader\": 16626, '46169': 16627, '1nyq1': 16628, 'rights': 16629, 'convinced': 16630, 'documentary': 16631, 'jerk': 16632, '1cs8o1g': 16633, 'retook': 16634, 'pikih': 16635, 'i1cke': 16636, '184220481': 16637, 'birthright': 16638, \"quicken—company's\": 16639, 'product—that': 16640, 'handed': 16641, 'quicken': 16642, 'a20cx': 16643, 'gamespot': 16644, '6430567': 16645, '12gl8v': 16646, 'j0pay8': 16647, 'confluence': 16648, 'b1ys2': 16649, '150k': 16650, '13018681': 16651, 'fable': 16652, 'multiplayer': 16653, '8tnb7l': 16654, '1opjtoo': 16655, 'ondeviceresearch': 16656, 'climbed': 16657, '9d4e76bb4b': 16658, '333429241…': 16659, '7867593': 16660, 'holographic…': 16661, 'på123453': 16662, 'dough': 16663, 'xadvgd': 16664, 'poandpo': 16665, \"techonomy's\": 16666, 'e2vgu': 16667, '3yqo44nro': 16668, 'riskreversal': 16669, 'playbooks': 16670, 's1v6k': 16671, 'copied': 16672, 'flatlining': 16673, '1ebmvuh': 16674, '20150204': 16675, '1pz0ls6': 16676, 'i7uru': 16677, 'fairest': 16678, '7979367': 16679, 'app…they': 16680, '19744226': 16681, 'agst': 16682, '185': 16683, 'egzqium': 16684, 'p1ops': 16685, '2874726': 16686, '1npbu6r': 16687, 'changelong': 16688, '1guxq3k': 16689, '3002476': 16690, 'bethesda’s': 16691, 'timed': 16692, '1jpkd20': 16693, '1511': 16694, '1bv7fdz': 16695, 'rules…': 16696, 'onvpb': 16697, 'linked': 16698, 'q1yxj': 16699, 'rated…': 16700, 'bored': 16701, 'diversity': 16702, 'inoculation': 16703, 'monoculture': 16704, 'faceshift': 16705, 'q3fwf': 16706, 'hashtag': 16707, 'communications': 16708, 'f2qqz': 16709, 'sank': 16710, '2215': 16711, 'nazz': 16712, 'patttern': 16713, 'silverven': 16714, 'nbp9k': 16715, 'quantitive': 16716, '1516441': 16717, '1krytxe': 16718, 'chungkhoanmy': 16719, '2h15': 16720, '20150804': 16721, 'menu': 16722, '17b3jvs': 16723, '3105926': 16724, 'plo0u': 16725, 'sort': 16726, 'dcinno': 16727, 'rift': 16728, '15hior1': 16729, '2870356': 16730, 'oracles': 16731, 'mañana': 16732, 'lowering': 16733, 'j2zbu': 16734, 'kf3jh': 16735, '20android': 16736, '20smartphone': 16737, '20watch': 16738, 'advancement': 16739, 't2zih': 16740, '16th': 16741, 'gamechanger': 16742, 'bbin': 16743, 'mayores': 16744, 'empresas': 16745, 'del': 16746, 'mundo': 16747, 'eton': 16748, '419': 16749, \"msiusa's\": 16750, '48067': 16751, 'msis': 16752, '1tnqece': 16753, 'hgb': 16754, 'qe4': 16755, 'strait': 16756, 'qe5': 16757, 'goto': 16758, 'semicond': 16759, 'demanding': 16760, 'friday’s': 16761, 'g29yq': 16762, 'f1de3': 16763, 'naw': 16764, 'streetwisereport': 16765, 'knees': 16766, 'cypress': 16767, 'nasdaqcy': 16768, 'adcare': 16769, 'nysemktadk': 16770, '111484': 16771, 'e2q61': 16772, 'flushing': 16773, 'insists': 16774, '31047780': 16775, '1lijre1': 16776, 'tam': 16777, 'explode': 16778, 'monetized': 16779, '1z5ve92': 16780, 'apocalypse': 16781, '759397': 16782, 'irobot': 16783, 'robopocalypse': 16784, '67020029': 16785, 'tones': 16786, 'stevesi': 16787, '‘tough': 16788, '55c227deb6d37719c4b89460…': 16789, '1xymwpd': 16790, 'unbeleivable': 16791, 'snapcloud': 16792, 'unearned': 16793, 'cyq4': 16794, 'mobe': 16795, 'goodies': 16796, '1ka3i80': 16797, 'nifty': 16798, 'nikkei…': 16799, 'chowdhry': 16800, '777304': 16801, 'irbt': 16802, '1czityc': 16803, 'vkv24nomic4': 16804, 'borrow': 16805, 'div': 16806, '1hz7shs': 16807, '1bihvrrqcjmdj': 16808, '19706696': 16809, '1cn3slo': 16810, 'acceleration': 16811, '770633': 16812, '9b': 16813, 'e1qoa': 16814, 'batch': 16815, 'abcn': 16816, '1bjkui4': 16817, '3359105': 16818, '5799979': 16819, 'reminder': 16820, '3462166': 16821, 'd2hvg': 16822, 'tie': 16823, '355b': 16824, 'culprit': 16825, 'stagnancy': 16826, 'apparel': 16827, 'ua': 16828, 't1qxk': 16829, 'scanning': 16830, 'opportunitieshttp': 16831, 'rb': 16832, 'continuation': 16833, '1itcgib': 16834, \"boeing's\": 16835, 'g2kej': 16836, '20150104': 16837, 'h2try': 16838, '90746': 16839, '1jvy8f5': 16840, '48716': 16841, 'cityindex': 16842, 'sg': 16843, '85572015': 16844, 'd2qt1w': 16845}\n"
     ]
    }
   ],
   "source": [
    "print(word_index)"
   ]
  },
  {
   "cell_type": "markdown",
   "metadata": {},
   "source": [
    "## Padding Vetores \n",
    "* Tamanho max dos vetores = 300"
   ]
  },
  {
   "cell_type": "code",
   "execution_count": 90,
   "metadata": {},
   "outputs": [
    {
     "name": "stdout",
     "output_type": "stream",
     "text": [
      "Conjunto de treinamento:  \n",
      " [[   0    0    0 ...  557 1930 7599]\n",
      " [   0    0    0 ...    5  169   75]\n",
      " [   0    0    0 ...    0   44 1931]\n",
      " ...\n",
      " [   0    0    0 ...  162  858   74]\n",
      " [   0    0    0 ... 1082   56  580]\n",
      " [   0    0    0 ...  242 7602   66]]\n",
      "Conjunto de teste:  \n",
      " [[  0   0   0 ... 169  61 576]\n",
      " [  0   0   0 ...  18  14  72]\n",
      " [  0   0   0 ...   6  21  68]\n",
      " ...\n",
      " [  0   0   0 ...  18  14   1]\n",
      " [  0   0   0 ... 142  25   1]\n",
      " [  0   0   0 ...  55  29   1]]\n"
     ]
    }
   ],
   "source": [
    "# Transformar as sentencas dos dados de treinamento e teste para sequencias numericas. ex [[1,2,6],[65,952,15,65],[1,2]]\n",
    "train_data_sentences = tokenizer.texts_to_sequences(datasetVariables_train)\n",
    "test_data_sentences = tokenizer.texts_to_sequences(datasetVariables_test)\n",
    "\n",
    "# normalizar o tamnho das sequencias usando padding. ex [[0,1,2,6],[65,952,15,65],[0,0,1,2]]\n",
    "train_padded = pad_sequences(train_data_sentences, maxlen=300)\n",
    "test_padded = pad_sequences(test_data_sentences, maxlen=300)\n",
    "\n",
    "print(\"Conjunto de treinamento: \",\"\\n\",train_padded[0:19])\n",
    "print(\"Conjunto de teste: \",\"\\n\",test_padded[0:19])"
   ]
  },
  {
   "cell_type": "code",
   "execution_count": 91,
   "metadata": {},
   "outputs": [
    {
     "data": {
      "text/plain": [
       "1867801    pos\n",
       "151578     neu\n",
       "28673      neu\n",
       "3107607    pos\n",
       "169620     neu\n",
       "3106508    neg\n",
       "3110080    pos\n",
       "370781     neg\n",
       "260878     neg\n",
       "1903241    neu\n",
       "151373     neu\n",
       "3132501    neg\n",
       "111317     neu\n",
       "1898224    neu\n",
       "1946604    neg\n",
       "Name: label, dtype: object"
      ]
     },
     "execution_count": 91,
     "metadata": {},
     "output_type": "execute_result"
    }
   ],
   "source": [
    "datasetTarget_test[:15]"
   ]
  },
  {
   "cell_type": "code",
   "execution_count": 92,
   "metadata": {},
   "outputs": [],
   "source": [
    "#datasetTarget_train = to_categorical(np.array(datasetTarget_train))\n",
    "#datasetTarget_test = to_categorical(np.array(datasetTarget_test))"
   ]
  },
  {
   "cell_type": "markdown",
   "metadata": {},
   "source": [
    "## Machine Learning \n",
    "* Random forest"
   ]
  },
  {
   "cell_type": "code",
   "execution_count": 93,
   "metadata": {},
   "outputs": [
    {
     "data": {
      "text/plain": [
       "RandomForestClassifier(random_state=50)"
      ]
     },
     "execution_count": 93,
     "metadata": {},
     "output_type": "execute_result"
    }
   ],
   "source": [
    "# first ML model\n",
    "model_randomForest = RandomForestClassifier(random_state=50,criterion='gini')\n",
    "model_randomForest.fit(train_padded,datasetTarget_train)"
   ]
  },
  {
   "cell_type": "code",
   "execution_count": 94,
   "metadata": {},
   "outputs": [
    {
     "name": "stdout",
     "output_type": "stream",
     "text": [
      "ACC TRAINING:1.0\n",
      "ACC TEST:0.6799667497921862\n"
     ]
    }
   ],
   "source": [
    "predicaoTrain = model_randomForest.predict(train_padded)\n",
    "predicaoTest = model_randomForest.predict(test_padded)\n",
    "\n",
    "print(\"ACC TRAINING:\" + str(accuracy_score(datasetTarget_train, predicaoTrain)))\n",
    "print(\"ACC TEST:\" + str(accuracy_score(datasetTarget_test, predicaoTest)))"
   ]
  },
  {
   "cell_type": "code",
   "execution_count": 95,
   "metadata": {},
   "outputs": [
    {
     "name": "stdout",
     "output_type": "stream",
     "text": [
      "              precision    recall  f1-score   support\n",
      "\n",
      "         neg       0.63      0.65      0.64      2414\n",
      "         neu       0.84      0.69      0.76      2418\n",
      "         pos       0.61      0.70      0.65      2386\n",
      "\n",
      "    accuracy                           0.68      7218\n",
      "   macro avg       0.69      0.68      0.68      7218\n",
      "weighted avg       0.69      0.68      0.68      7218\n",
      "\n"
     ]
    }
   ],
   "source": [
    "from sklearn.metrics import classification_report\n",
    "print(classification_report(datasetTarget_test, predicaoTest))"
   ]
  },
  {
   "cell_type": "code",
   "execution_count": 96,
   "metadata": {},
   "outputs": [
    {
     "data": {
      "text/plain": [
       "neu    2418\n",
       "neg    2414\n",
       "pos    2386\n",
       "Name: label, dtype: int64"
      ]
     },
     "execution_count": 96,
     "metadata": {},
     "output_type": "execute_result"
    }
   ],
   "source": [
    "datasetTarget_test.value_counts()"
   ]
  },
  {
   "cell_type": "code",
   "execution_count": 97,
   "metadata": {},
   "outputs": [
    {
     "data": {
      "text/plain": [
       "array([[1680,  390,  348],\n",
       "       [ 150, 1670,  566],\n",
       "       [ 162,  694, 1558]], dtype=int64)"
      ]
     },
     "execution_count": 97,
     "metadata": {},
     "output_type": "execute_result"
    }
   ],
   "source": [
    "from sklearn.metrics import confusion_matrix\n",
    "confusion_matrix(datasetTarget_test, predicaoTest, labels=[\"neu\", \"pos\", \"neg\"])"
   ]
  },
  {
   "cell_type": "code",
   "execution_count": null,
   "metadata": {},
   "outputs": [],
   "source": []
  }
 ],
 "metadata": {
  "kernelspec": {
   "display_name": "Python 3",
   "language": "python",
   "name": "python3"
  },
  "language_info": {
   "codemirror_mode": {
    "name": "ipython",
    "version": 3
   },
   "file_extension": ".py",
   "mimetype": "text/x-python",
   "name": "python",
   "nbconvert_exporter": "python",
   "pygments_lexer": "ipython3",
   "version": "3.7.3"
  }
 },
 "nbformat": 4,
 "nbformat_minor": 2
}
