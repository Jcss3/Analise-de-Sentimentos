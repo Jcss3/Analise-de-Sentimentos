{
 "cells": [
  {
   "cell_type": "code",
   "execution_count": 1,
   "metadata": {},
   "outputs": [
    {
     "name": "stderr",
     "output_type": "stream",
     "text": [
      "2021-12-10 13:49:23.249121: W tensorflow/stream_executor/platform/default/dso_loader.cc:64] Could not load dynamic library 'libcudart.so.11.0'; dlerror: libcudart.so.11.0: cannot open shared object file: No such file or directory\n",
      "2021-12-10 13:49:23.249137: I tensorflow/stream_executor/cuda/cudart_stub.cc:29] Ignore above cudart dlerror if you do not have a GPU set up on your machine.\n"
     ]
    }
   ],
   "source": [
    "import pandas as pd\n",
    "import numpy as np\n",
    "import datetime\n",
    "from nltk.sentiment.vader import SentimentIntensityAnalyzer\n",
    "import matplotlib.pyplot as plt\n",
    "from sklearn.model_selection import train_test_split\n",
    "from sklearn.ensemble  import RandomForestClassifier\n",
    "from sklearn.metrics import confusion_matrix\n",
    "from sklearn.metrics import plot_confusion_matrix\n",
    "from sklearn.metrics import mean_squared_error\n",
    "from tensorflow.keras.preprocessing.text import Tokenizer\n",
    "from tensorflow.keras.preprocessing.sequence import pad_sequences\n",
    "# from dotenv import load_dotenv, find_dotenv\n",
    "# load_dotenv(find_dotenv())"
   ]
  },
  {
   "cell_type": "code",
   "execution_count": 2,
   "metadata": {},
   "outputs": [],
   "source": [
    "# Definindo o caminho dos dados\n",
    "data_company_path = \"dados/Company.csv\"\n",
    "data_tweet_path = \"dados/Tweet.csv\"\n",
    "data_company_tweet_path = \"dados/Company_Tweet.csv\""
   ]
  },
  {
   "cell_type": "code",
   "execution_count": 3,
   "metadata": {},
   "outputs": [],
   "source": [
    "# Ler e colocar em um dataframe\n",
    "data_company = pd.read_csv(data_company_path)\n",
    "data_tweet = pd.read_csv(data_tweet_path)\n",
    "data_company_tweet = pd.read_csv(data_company_tweet_path)"
   ]
  },
  {
   "cell_type": "code",
   "execution_count": 4,
   "metadata": {},
   "outputs": [
    {
     "name": "stdout",
     "output_type": "stream",
     "text": [
      "             tweet_id ticker_symbol\n",
      "0  550803612197457920          AAPL\n",
      "1  550803610825928706          AAPL\n",
      "2  550803225113157632          AAPL\n",
      "3  550802957370159104          AAPL\n",
      "4  550802855129382912          AAPL\n",
      "(4336445, 2)\n"
     ]
    }
   ],
   "source": [
    "print(data_company_tweet.head())\n",
    "print(data_company_tweet.shape)"
   ]
  },
  {
   "cell_type": "code",
   "execution_count": 5,
   "metadata": {},
   "outputs": [
    {
     "name": "stdout",
     "output_type": "stream",
     "text": [
      "  ticker_symbol company_name\n",
      "0          AAPL        apple\n",
      "1          GOOG   Google Inc\n",
      "2         GOOGL   Google Inc\n",
      "3          AMZN   Amazon.com\n",
      "4          TSLA    Tesla Inc\n",
      "5          MSFT    Microsoft\n",
      "(6, 2)\n"
     ]
    }
   ],
   "source": [
    "print(data_company)\n",
    "print(data_company.shape)"
   ]
  },
  {
   "cell_type": "code",
   "execution_count": 6,
   "metadata": {},
   "outputs": [
    {
     "name": "stdout",
     "output_type": "stream",
     "text": [
      "             tweet_id           writer   post_date  \\\n",
      "0  550441509175443456  VisualStockRSRC  1420070457   \n",
      "1  550441672312512512      KeralaGuy77  1420070496   \n",
      "2  550441732014223360      DozenStocks  1420070510   \n",
      "3  550442977802207232     ShowDreamCar  1420070807   \n",
      "4  550443807834402816     i_Know_First  1420071005   \n",
      "\n",
      "                                                body  comment_num  \\\n",
      "0  lx21 made $10,008  on $AAPL -Check it out! htt...            0   \n",
      "1  Insanity of today weirdo massive selling. $aap...            0   \n",
      "2  S&P100 #Stocks Performance $HD $LOW $SBUX $TGT...            0   \n",
      "3  $GM $TSLA: Volkswagen Pushes 2014 Record Recal...            0   \n",
      "4  Swing Trading: Up To 8.91% Return In 14 Days h...            0   \n",
      "\n",
      "   retweet_num  like_num  \n",
      "0            0         1  \n",
      "1            0         0  \n",
      "2            0         0  \n",
      "3            0         1  \n",
      "4            0         1  \n",
      "(3717964, 7)\n"
     ]
    }
   ],
   "source": [
    "print(data_tweet.head())\n",
    "print(data_tweet.shape)"
   ]
  },
  {
   "cell_type": "code",
   "execution_count": 7,
   "metadata": {},
   "outputs": [
    {
     "data": {
      "text/html": [
       "<div>\n",
       "<style scoped>\n",
       "    .dataframe tbody tr th:only-of-type {\n",
       "        vertical-align: middle;\n",
       "    }\n",
       "\n",
       "    .dataframe tbody tr th {\n",
       "        vertical-align: top;\n",
       "    }\n",
       "\n",
       "    .dataframe thead th {\n",
       "        text-align: right;\n",
       "    }\n",
       "</style>\n",
       "<table border=\"1\" class=\"dataframe\">\n",
       "  <thead>\n",
       "    <tr style=\"text-align: right;\">\n",
       "      <th></th>\n",
       "      <th>tweet_id</th>\n",
       "      <th>company_name</th>\n",
       "    </tr>\n",
       "  </thead>\n",
       "  <tbody>\n",
       "    <tr>\n",
       "      <th>0</th>\n",
       "      <td>550803612197457920</td>\n",
       "      <td>apple</td>\n",
       "    </tr>\n",
       "    <tr>\n",
       "      <th>1</th>\n",
       "      <td>550803610825928706</td>\n",
       "      <td>apple</td>\n",
       "    </tr>\n",
       "    <tr>\n",
       "      <th>2</th>\n",
       "      <td>550803225113157632</td>\n",
       "      <td>apple</td>\n",
       "    </tr>\n",
       "    <tr>\n",
       "      <th>3</th>\n",
       "      <td>550802957370159104</td>\n",
       "      <td>apple</td>\n",
       "    </tr>\n",
       "    <tr>\n",
       "      <th>4</th>\n",
       "      <td>550802855129382912</td>\n",
       "      <td>apple</td>\n",
       "    </tr>\n",
       "  </tbody>\n",
       "</table>\n",
       "</div>"
      ],
      "text/plain": [
       "             tweet_id company_name\n",
       "0  550803612197457920        apple\n",
       "1  550803610825928706        apple\n",
       "2  550803225113157632        apple\n",
       "3  550802957370159104        apple\n",
       "4  550802855129382912        apple"
      ]
     },
     "execution_count": 7,
     "metadata": {},
     "output_type": "execute_result"
    }
   ],
   "source": [
    "dados_merge1 = pd.merge(data_company_tweet,data_company, on='ticker_symbol')\n",
    "dados_merge1 = dados_merge1.drop(columns=['ticker_symbol'])\n",
    "dados_merge1.head()"
   ]
  },
  {
   "cell_type": "code",
   "execution_count": 8,
   "metadata": {},
   "outputs": [
    {
     "data": {
      "text/html": [
       "<div>\n",
       "<style scoped>\n",
       "    .dataframe tbody tr th:only-of-type {\n",
       "        vertical-align: middle;\n",
       "    }\n",
       "\n",
       "    .dataframe tbody tr th {\n",
       "        vertical-align: top;\n",
       "    }\n",
       "\n",
       "    .dataframe thead th {\n",
       "        text-align: right;\n",
       "    }\n",
       "</style>\n",
       "<table border=\"1\" class=\"dataframe\">\n",
       "  <thead>\n",
       "    <tr style=\"text-align: right;\">\n",
       "      <th></th>\n",
       "      <th>company_name</th>\n",
       "      <th>writer</th>\n",
       "      <th>post_date</th>\n",
       "      <th>body</th>\n",
       "      <th>comment_num</th>\n",
       "      <th>retweet_num</th>\n",
       "      <th>like_num</th>\n",
       "    </tr>\n",
       "  </thead>\n",
       "  <tbody>\n",
       "    <tr>\n",
       "      <th>0</th>\n",
       "      <td>apple</td>\n",
       "      <td>SentiQuant</td>\n",
       "      <td>1420156789</td>\n",
       "      <td>#TOPTICKERTWEETS $AAPL $IMRS $BABA $EBAY $AMZN...</td>\n",
       "      <td>0</td>\n",
       "      <td>0</td>\n",
       "      <td>1</td>\n",
       "    </tr>\n",
       "    <tr>\n",
       "      <th>1</th>\n",
       "      <td>Amazon.com</td>\n",
       "      <td>SentiQuant</td>\n",
       "      <td>1420156789</td>\n",
       "      <td>#TOPTICKERTWEETS $AAPL $IMRS $BABA $EBAY $AMZN...</td>\n",
       "      <td>0</td>\n",
       "      <td>0</td>\n",
       "      <td>1</td>\n",
       "    </tr>\n",
       "    <tr>\n",
       "      <th>2</th>\n",
       "      <td>apple</td>\n",
       "      <td>SentiQuant</td>\n",
       "      <td>1420156788</td>\n",
       "      <td>#SENTISHIFTUP $K $FB $GOOGL $GS $GOLD $T $AAPL...</td>\n",
       "      <td>0</td>\n",
       "      <td>0</td>\n",
       "      <td>1</td>\n",
       "    </tr>\n",
       "    <tr>\n",
       "      <th>3</th>\n",
       "      <td>Google Inc</td>\n",
       "      <td>SentiQuant</td>\n",
       "      <td>1420156788</td>\n",
       "      <td>#SENTISHIFTUP $K $FB $GOOGL $GS $GOLD $T $AAPL...</td>\n",
       "      <td>0</td>\n",
       "      <td>0</td>\n",
       "      <td>1</td>\n",
       "    </tr>\n",
       "    <tr>\n",
       "      <th>4</th>\n",
       "      <td>Amazon.com</td>\n",
       "      <td>SentiQuant</td>\n",
       "      <td>1420156788</td>\n",
       "      <td>#SENTISHIFTUP $K $FB $GOOGL $GS $GOLD $T $AAPL...</td>\n",
       "      <td>0</td>\n",
       "      <td>0</td>\n",
       "      <td>1</td>\n",
       "    </tr>\n",
       "  </tbody>\n",
       "</table>\n",
       "</div>"
      ],
      "text/plain": [
       "  company_name      writer   post_date  \\\n",
       "0        apple  SentiQuant  1420156789   \n",
       "1   Amazon.com  SentiQuant  1420156789   \n",
       "2        apple  SentiQuant  1420156788   \n",
       "3   Google Inc  SentiQuant  1420156788   \n",
       "4   Amazon.com  SentiQuant  1420156788   \n",
       "\n",
       "                                                body  comment_num  \\\n",
       "0  #TOPTICKERTWEETS $AAPL $IMRS $BABA $EBAY $AMZN...            0   \n",
       "1  #TOPTICKERTWEETS $AAPL $IMRS $BABA $EBAY $AMZN...            0   \n",
       "2  #SENTISHIFTUP $K $FB $GOOGL $GS $GOLD $T $AAPL...            0   \n",
       "3  #SENTISHIFTUP $K $FB $GOOGL $GS $GOLD $T $AAPL...            0   \n",
       "4  #SENTISHIFTUP $K $FB $GOOGL $GS $GOLD $T $AAPL...            0   \n",
       "\n",
       "   retweet_num  like_num  \n",
       "0            0         1  \n",
       "1            0         1  \n",
       "2            0         1  \n",
       "3            0         1  \n",
       "4            0         1  "
      ]
     },
     "execution_count": 8,
     "metadata": {},
     "output_type": "execute_result"
    }
   ],
   "source": [
    "dados_tweet_company = pd.merge(dados_merge1,data_tweet,on='tweet_id')\n",
    "dados_tweet_company = dados_tweet_company.drop(columns=['tweet_id'])\n",
    "dados_tweet_company.head()"
   ]
  },
  {
   "cell_type": "code",
   "execution_count": 11,
   "metadata": {},
   "outputs": [
    {
     "data": {
      "text/html": [
       "<div>\n",
       "<style scoped>\n",
       "    .dataframe tbody tr th:only-of-type {\n",
       "        vertical-align: middle;\n",
       "    }\n",
       "\n",
       "    .dataframe tbody tr th {\n",
       "        vertical-align: top;\n",
       "    }\n",
       "\n",
       "    .dataframe thead th {\n",
       "        text-align: right;\n",
       "    }\n",
       "</style>\n",
       "<table border=\"1\" class=\"dataframe\">\n",
       "  <thead>\n",
       "    <tr style=\"text-align: right;\">\n",
       "      <th></th>\n",
       "      <th>company_name</th>\n",
       "      <th>writer</th>\n",
       "      <th>post_date</th>\n",
       "      <th>body</th>\n",
       "      <th>comment_num</th>\n",
       "      <th>retweet_num</th>\n",
       "      <th>like_num</th>\n",
       "    </tr>\n",
       "  </thead>\n",
       "  <tbody>\n",
       "    <tr>\n",
       "      <th>0</th>\n",
       "      <td>apple</td>\n",
       "      <td>SentiQuant</td>\n",
       "      <td>1420156789</td>\n",
       "      <td>#TOPTICKERTWEETS $AAPL $IMRS $BABA $EBAY $AMZN...</td>\n",
       "      <td>0</td>\n",
       "      <td>0</td>\n",
       "      <td>1</td>\n",
       "    </tr>\n",
       "    <tr>\n",
       "      <th>1</th>\n",
       "      <td>Amazon.com</td>\n",
       "      <td>SentiQuant</td>\n",
       "      <td>1420156789</td>\n",
       "      <td>#TOPTICKERTWEETS $AAPL $IMRS $BABA $EBAY $AMZN...</td>\n",
       "      <td>0</td>\n",
       "      <td>0</td>\n",
       "      <td>1</td>\n",
       "    </tr>\n",
       "    <tr>\n",
       "      <th>2</th>\n",
       "      <td>apple</td>\n",
       "      <td>SentiQuant</td>\n",
       "      <td>1420156788</td>\n",
       "      <td>#SENTISHIFTUP $K $FB $GOOGL $GS $GOLD $T $AAPL...</td>\n",
       "      <td>0</td>\n",
       "      <td>0</td>\n",
       "      <td>1</td>\n",
       "    </tr>\n",
       "    <tr>\n",
       "      <th>3</th>\n",
       "      <td>Google Inc</td>\n",
       "      <td>SentiQuant</td>\n",
       "      <td>1420156788</td>\n",
       "      <td>#SENTISHIFTUP $K $FB $GOOGL $GS $GOLD $T $AAPL...</td>\n",
       "      <td>0</td>\n",
       "      <td>0</td>\n",
       "      <td>1</td>\n",
       "    </tr>\n",
       "    <tr>\n",
       "      <th>4</th>\n",
       "      <td>Amazon.com</td>\n",
       "      <td>SentiQuant</td>\n",
       "      <td>1420156788</td>\n",
       "      <td>#SENTISHIFTUP $K $FB $GOOGL $GS $GOLD $T $AAPL...</td>\n",
       "      <td>0</td>\n",
       "      <td>0</td>\n",
       "      <td>1</td>\n",
       "    </tr>\n",
       "  </tbody>\n",
       "</table>\n",
       "</div>"
      ],
      "text/plain": [
       "  company_name      writer   post_date  \\\n",
       "0        apple  SentiQuant  1420156789   \n",
       "1   Amazon.com  SentiQuant  1420156789   \n",
       "2        apple  SentiQuant  1420156788   \n",
       "3   Google Inc  SentiQuant  1420156788   \n",
       "4   Amazon.com  SentiQuant  1420156788   \n",
       "\n",
       "                                                body  comment_num  \\\n",
       "0  #TOPTICKERTWEETS $AAPL $IMRS $BABA $EBAY $AMZN...            0   \n",
       "1  #TOPTICKERTWEETS $AAPL $IMRS $BABA $EBAY $AMZN...            0   \n",
       "2  #SENTISHIFTUP $K $FB $GOOGL $GS $GOLD $T $AAPL...            0   \n",
       "3  #SENTISHIFTUP $K $FB $GOOGL $GS $GOLD $T $AAPL...            0   \n",
       "4  #SENTISHIFTUP $K $FB $GOOGL $GS $GOLD $T $AAPL...            0   \n",
       "\n",
       "   retweet_num  like_num  \n",
       "0            0         1  \n",
       "1            0         1  \n",
       "2            0         1  \n",
       "3            0         1  \n",
       "4            0         1  "
      ]
     },
     "execution_count": 11,
     "metadata": {},
     "output_type": "execute_result"
    }
   ],
   "source": [
    "dados_tweet_company = dados_tweet_company.iloc[0:10000]\n",
    "dados_tweet_company.head()"
   ]
  },
  {
   "cell_type": "code",
   "execution_count": 12,
   "metadata": {},
   "outputs": [
    {
     "data": {
      "text/plain": [
       "(10000, 7)"
      ]
     },
     "execution_count": 12,
     "metadata": {},
     "output_type": "execute_result"
    }
   ],
   "source": [
    "dados_tweet_company.shape"
   ]
  },
  {
   "cell_type": "markdown",
   "metadata": {},
   "source": [
    "## Ajustar os Dados"
   ]
  },
  {
   "cell_type": "code",
   "execution_count": 13,
   "metadata": {},
   "outputs": [
    {
     "data": {
      "text/plain": [
       "1420156789"
      ]
     },
     "execution_count": 13,
     "metadata": {},
     "output_type": "execute_result"
    }
   ],
   "source": [
    "dados_tweet_company.post_date[0]"
   ]
  },
  {
   "cell_type": "code",
   "execution_count": 14,
   "metadata": {},
   "outputs": [
    {
     "data": {
      "text/plain": [
       "'2015-01-01 20:59:49'"
      ]
     },
     "execution_count": 14,
     "metadata": {},
     "output_type": "execute_result"
    }
   ],
   "source": [
    "ts_epoch = dados_tweet_company.post_date[0]\n",
    "ts = datetime.datetime.fromtimestamp(ts_epoch).strftime('%Y-%m-%d %H:%M:%S')\n",
    "ts"
   ]
  },
  {
   "cell_type": "code",
   "execution_count": 15,
   "metadata": {},
   "outputs": [
    {
     "data": {
      "text/html": [
       "<div>\n",
       "<style scoped>\n",
       "    .dataframe tbody tr th:only-of-type {\n",
       "        vertical-align: middle;\n",
       "    }\n",
       "\n",
       "    .dataframe tbody tr th {\n",
       "        vertical-align: top;\n",
       "    }\n",
       "\n",
       "    .dataframe thead th {\n",
       "        text-align: right;\n",
       "    }\n",
       "</style>\n",
       "<table border=\"1\" class=\"dataframe\">\n",
       "  <thead>\n",
       "    <tr style=\"text-align: right;\">\n",
       "      <th></th>\n",
       "      <th>company_name</th>\n",
       "      <th>writer</th>\n",
       "      <th>post_date</th>\n",
       "      <th>body</th>\n",
       "      <th>comment_num</th>\n",
       "      <th>retweet_num</th>\n",
       "      <th>like_num</th>\n",
       "      <th>Date</th>\n",
       "    </tr>\n",
       "  </thead>\n",
       "  <tbody>\n",
       "    <tr>\n",
       "      <th>0</th>\n",
       "      <td>apple</td>\n",
       "      <td>SentiQuant</td>\n",
       "      <td>1420156789</td>\n",
       "      <td>#TOPTICKERTWEETS $AAPL $IMRS $BABA $EBAY $AMZN...</td>\n",
       "      <td>0</td>\n",
       "      <td>0</td>\n",
       "      <td>1</td>\n",
       "      <td>2015-01-01 20:59:49</td>\n",
       "    </tr>\n",
       "    <tr>\n",
       "      <th>1</th>\n",
       "      <td>Amazon.com</td>\n",
       "      <td>SentiQuant</td>\n",
       "      <td>1420156789</td>\n",
       "      <td>#TOPTICKERTWEETS $AAPL $IMRS $BABA $EBAY $AMZN...</td>\n",
       "      <td>0</td>\n",
       "      <td>0</td>\n",
       "      <td>1</td>\n",
       "      <td>2015-01-01 20:59:49</td>\n",
       "    </tr>\n",
       "    <tr>\n",
       "      <th>2</th>\n",
       "      <td>apple</td>\n",
       "      <td>SentiQuant</td>\n",
       "      <td>1420156788</td>\n",
       "      <td>#SENTISHIFTUP $K $FB $GOOGL $GS $GOLD $T $AAPL...</td>\n",
       "      <td>0</td>\n",
       "      <td>0</td>\n",
       "      <td>1</td>\n",
       "      <td>2015-01-01 20:59:48</td>\n",
       "    </tr>\n",
       "    <tr>\n",
       "      <th>3</th>\n",
       "      <td>Google Inc</td>\n",
       "      <td>SentiQuant</td>\n",
       "      <td>1420156788</td>\n",
       "      <td>#SENTISHIFTUP $K $FB $GOOGL $GS $GOLD $T $AAPL...</td>\n",
       "      <td>0</td>\n",
       "      <td>0</td>\n",
       "      <td>1</td>\n",
       "      <td>2015-01-01 20:59:48</td>\n",
       "    </tr>\n",
       "    <tr>\n",
       "      <th>4</th>\n",
       "      <td>Amazon.com</td>\n",
       "      <td>SentiQuant</td>\n",
       "      <td>1420156788</td>\n",
       "      <td>#SENTISHIFTUP $K $FB $GOOGL $GS $GOLD $T $AAPL...</td>\n",
       "      <td>0</td>\n",
       "      <td>0</td>\n",
       "      <td>1</td>\n",
       "      <td>2015-01-01 20:59:48</td>\n",
       "    </tr>\n",
       "  </tbody>\n",
       "</table>\n",
       "</div>"
      ],
      "text/plain": [
       "  company_name      writer   post_date  \\\n",
       "0        apple  SentiQuant  1420156789   \n",
       "1   Amazon.com  SentiQuant  1420156789   \n",
       "2        apple  SentiQuant  1420156788   \n",
       "3   Google Inc  SentiQuant  1420156788   \n",
       "4   Amazon.com  SentiQuant  1420156788   \n",
       "\n",
       "                                                body  comment_num  \\\n",
       "0  #TOPTICKERTWEETS $AAPL $IMRS $BABA $EBAY $AMZN...            0   \n",
       "1  #TOPTICKERTWEETS $AAPL $IMRS $BABA $EBAY $AMZN...            0   \n",
       "2  #SENTISHIFTUP $K $FB $GOOGL $GS $GOLD $T $AAPL...            0   \n",
       "3  #SENTISHIFTUP $K $FB $GOOGL $GS $GOLD $T $AAPL...            0   \n",
       "4  #SENTISHIFTUP $K $FB $GOOGL $GS $GOLD $T $AAPL...            0   \n",
       "\n",
       "   retweet_num  like_num                 Date  \n",
       "0            0         1  2015-01-01 20:59:49  \n",
       "1            0         1  2015-01-01 20:59:49  \n",
       "2            0         1  2015-01-01 20:59:48  \n",
       "3            0         1  2015-01-01 20:59:48  \n",
       "4            0         1  2015-01-01 20:59:48  "
      ]
     },
     "execution_count": 15,
     "metadata": {},
     "output_type": "execute_result"
    }
   ],
   "source": [
    "def ajustar_tempo(row):\n",
    "    ts_epoch = row['post_date']\n",
    "    ts = datetime.datetime.fromtimestamp(ts_epoch).strftime('%Y-%m-%d %H:%M:%S')\n",
    "    return ts  \n",
    "new_date = dados_tweet_company.apply(ajustar_tempo,axis=1)\n",
    "dados_tweet_company['Date'] = list(new_date)\n",
    "dados_tweet_company.head()"
   ]
  },
  {
   "cell_type": "code",
   "execution_count": 16,
   "metadata": {},
   "outputs": [
    {
     "name": "stdout",
     "output_type": "stream",
     "text": [
      "<class 'pandas.core.frame.DataFrame'>\n",
      "Int64Index: 10000 entries, 0 to 9999\n",
      "Data columns (total 8 columns):\n",
      " #   Column        Non-Null Count  Dtype \n",
      "---  ------        --------------  ----- \n",
      " 0   company_name  10000 non-null  object\n",
      " 1   writer        9895 non-null   object\n",
      " 2   post_date     10000 non-null  int64 \n",
      " 3   body          10000 non-null  object\n",
      " 4   comment_num   10000 non-null  int64 \n",
      " 5   retweet_num   10000 non-null  int64 \n",
      " 6   like_num      10000 non-null  int64 \n",
      " 7   Date          10000 non-null  object\n",
      "dtypes: int64(4), object(4)\n",
      "memory usage: 961.2+ KB\n"
     ]
    }
   ],
   "source": [
    "dados_tweet_company.info()"
   ]
  },
  {
   "cell_type": "code",
   "execution_count": 17,
   "metadata": {},
   "outputs": [
    {
     "name": "stdout",
     "output_type": "stream",
     "text": [
      "#TOPTICKERTWEETS $AAPL $IMRS $BABA $EBAY $AMZN $T $IGN $SPY $FB $UGAZ #sentiquant 20150101 19:00:08:298\n",
      "Our Penny Stock Picks Gained Over 968% In the Past 5 Weeks! Get our next pick early: http://tinyurl.com/p46mnk2 $TRX $AAPL $GOOG\n"
     ]
    }
   ],
   "source": [
    "sentenca = dados_tweet_company.body[0]\n",
    "print(sentenca)\n",
    "\n",
    "sentenca_2 = dados_tweet_company.body[100]\n",
    "print(sentenca_2)"
   ]
  },
  {
   "cell_type": "code",
   "execution_count": 18,
   "metadata": {},
   "outputs": [
    {
     "data": {
      "text/html": [
       "<div>\n",
       "<style scoped>\n",
       "    .dataframe tbody tr th:only-of-type {\n",
       "        vertical-align: middle;\n",
       "    }\n",
       "\n",
       "    .dataframe tbody tr th {\n",
       "        vertical-align: top;\n",
       "    }\n",
       "\n",
       "    .dataframe thead th {\n",
       "        text-align: right;\n",
       "    }\n",
       "</style>\n",
       "<table border=\"1\" class=\"dataframe\">\n",
       "  <thead>\n",
       "    <tr style=\"text-align: right;\">\n",
       "      <th></th>\n",
       "      <th>company_name</th>\n",
       "      <th>writer</th>\n",
       "      <th>post_date</th>\n",
       "      <th>body</th>\n",
       "      <th>comment_num</th>\n",
       "      <th>retweet_num</th>\n",
       "      <th>like_num</th>\n",
       "      <th>Date</th>\n",
       "      <th>Processed_Tweet</th>\n",
       "    </tr>\n",
       "  </thead>\n",
       "  <tbody>\n",
       "    <tr>\n",
       "      <th>0</th>\n",
       "      <td>apple</td>\n",
       "      <td>SentiQuant</td>\n",
       "      <td>1420156789</td>\n",
       "      <td>#TOPTICKERTWEETS $AAPL $IMRS $BABA $EBAY $AMZN...</td>\n",
       "      <td>0</td>\n",
       "      <td>0</td>\n",
       "      <td>1</td>\n",
       "      <td>2015-01-01 20:59:49</td>\n",
       "      <td>20150101 19:00:08:298</td>\n",
       "    </tr>\n",
       "    <tr>\n",
       "      <th>1</th>\n",
       "      <td>Amazon.com</td>\n",
       "      <td>SentiQuant</td>\n",
       "      <td>1420156789</td>\n",
       "      <td>#TOPTICKERTWEETS $AAPL $IMRS $BABA $EBAY $AMZN...</td>\n",
       "      <td>0</td>\n",
       "      <td>0</td>\n",
       "      <td>1</td>\n",
       "      <td>2015-01-01 20:59:49</td>\n",
       "      <td>20150101 19:00:08:298</td>\n",
       "    </tr>\n",
       "    <tr>\n",
       "      <th>2</th>\n",
       "      <td>apple</td>\n",
       "      <td>SentiQuant</td>\n",
       "      <td>1420156788</td>\n",
       "      <td>#SENTISHIFTUP $K $FB $GOOGL $GS $GOLD $T $AAPL...</td>\n",
       "      <td>0</td>\n",
       "      <td>0</td>\n",
       "      <td>1</td>\n",
       "      <td>2015-01-01 20:59:48</td>\n",
       "      <td>20150101 19:00:04:526</td>\n",
       "    </tr>\n",
       "    <tr>\n",
       "      <th>3</th>\n",
       "      <td>Google Inc</td>\n",
       "      <td>SentiQuant</td>\n",
       "      <td>1420156788</td>\n",
       "      <td>#SENTISHIFTUP $K $FB $GOOGL $GS $GOLD $T $AAPL...</td>\n",
       "      <td>0</td>\n",
       "      <td>0</td>\n",
       "      <td>1</td>\n",
       "      <td>2015-01-01 20:59:48</td>\n",
       "      <td>20150101 19:00:04:526</td>\n",
       "    </tr>\n",
       "    <tr>\n",
       "      <th>4</th>\n",
       "      <td>Amazon.com</td>\n",
       "      <td>SentiQuant</td>\n",
       "      <td>1420156788</td>\n",
       "      <td>#SENTISHIFTUP $K $FB $GOOGL $GS $GOLD $T $AAPL...</td>\n",
       "      <td>0</td>\n",
       "      <td>0</td>\n",
       "      <td>1</td>\n",
       "      <td>2015-01-01 20:59:48</td>\n",
       "      <td>20150101 19:00:04:526</td>\n",
       "    </tr>\n",
       "  </tbody>\n",
       "</table>\n",
       "</div>"
      ],
      "text/plain": [
       "  company_name      writer   post_date  \\\n",
       "0        apple  SentiQuant  1420156789   \n",
       "1   Amazon.com  SentiQuant  1420156789   \n",
       "2        apple  SentiQuant  1420156788   \n",
       "3   Google Inc  SentiQuant  1420156788   \n",
       "4   Amazon.com  SentiQuant  1420156788   \n",
       "\n",
       "                                                body  comment_num  \\\n",
       "0  #TOPTICKERTWEETS $AAPL $IMRS $BABA $EBAY $AMZN...            0   \n",
       "1  #TOPTICKERTWEETS $AAPL $IMRS $BABA $EBAY $AMZN...            0   \n",
       "2  #SENTISHIFTUP $K $FB $GOOGL $GS $GOLD $T $AAPL...            0   \n",
       "3  #SENTISHIFTUP $K $FB $GOOGL $GS $GOLD $T $AAPL...            0   \n",
       "4  #SENTISHIFTUP $K $FB $GOOGL $GS $GOLD $T $AAPL...            0   \n",
       "\n",
       "   retweet_num  like_num                 Date        Processed_Tweet  \n",
       "0            0         1  2015-01-01 20:59:49  20150101 19:00:08:298  \n",
       "1            0         1  2015-01-01 20:59:49  20150101 19:00:08:298  \n",
       "2            0         1  2015-01-01 20:59:48  20150101 19:00:04:526  \n",
       "3            0         1  2015-01-01 20:59:48  20150101 19:00:04:526  \n",
       "4            0         1  2015-01-01 20:59:48  20150101 19:00:04:526  "
      ]
     },
     "execution_count": 18,
     "metadata": {},
     "output_type": "execute_result"
    }
   ],
   "source": [
    "def replace_all(texto):\n",
    "    palavras_especiais = [word for word in texto.split(' ') if word.startswith(('#','$','@'))]\n",
    "    #print(palavras_especiais)\n",
    "    sentenca = ' '.join(x for x in texto.split(' ') if x not in palavras_especiais)\n",
    "    return sentenca\n",
    "\n",
    "new_strings = dados_tweet_company.body.apply(replace_all)\n",
    "dados_tweet_company['Processed_Tweet'] = list(new_strings)\n",
    "dados_tweet_company.head()"
   ]
  },
  {
   "cell_type": "code",
   "execution_count": 19,
   "metadata": {},
   "outputs": [
    {
     "data": {
      "text/plain": [
       "'https://towardsdatascience.com/sentimental-analysis-using-vader-a3415fef7664'"
      ]
     },
     "execution_count": 19,
     "metadata": {},
     "output_type": "execute_result"
    }
   ],
   "source": [
    "'https://towardsdatascience.com/sentimental-analysis-using-vader-a3415fef7664'"
   ]
  },
  {
   "cell_type": "code",
   "execution_count": 20,
   "metadata": {},
   "outputs": [
    {
     "data": {
      "text/plain": [
       "{'neg': 0.0, 'neu': 1.0, 'pos': 0.0, 'compound': 0.0}"
      ]
     },
     "execution_count": 20,
     "metadata": {},
     "output_type": "execute_result"
    }
   ],
   "source": [
    "sid = SentimentIntensityAnalyzer()\n",
    "sid.polarity_scores(dados_tweet_company.body[0])"
   ]
  },
  {
   "cell_type": "code",
   "execution_count": 21,
   "metadata": {},
   "outputs": [
    {
     "data": {
      "text/plain": [
       "(10000, 9)"
      ]
     },
     "execution_count": 21,
     "metadata": {},
     "output_type": "execute_result"
    }
   ],
   "source": [
    "dados_tweet_company.shape"
   ]
  },
  {
   "cell_type": "code",
   "execution_count": 22,
   "metadata": {},
   "outputs": [
    {
     "data": {
      "text/html": [
       "<div>\n",
       "<style scoped>\n",
       "    .dataframe tbody tr th:only-of-type {\n",
       "        vertical-align: middle;\n",
       "    }\n",
       "\n",
       "    .dataframe tbody tr th {\n",
       "        vertical-align: top;\n",
       "    }\n",
       "\n",
       "    .dataframe thead th {\n",
       "        text-align: right;\n",
       "    }\n",
       "</style>\n",
       "<table border=\"1\" class=\"dataframe\">\n",
       "  <thead>\n",
       "    <tr style=\"text-align: right;\">\n",
       "      <th></th>\n",
       "      <th>company_name</th>\n",
       "      <th>writer</th>\n",
       "      <th>post_date</th>\n",
       "      <th>body</th>\n",
       "      <th>comment_num</th>\n",
       "      <th>retweet_num</th>\n",
       "      <th>like_num</th>\n",
       "      <th>Date</th>\n",
       "      <th>Processed_Tweet</th>\n",
       "      <th>vader_scores</th>\n",
       "    </tr>\n",
       "  </thead>\n",
       "  <tbody>\n",
       "    <tr>\n",
       "      <th>0</th>\n",
       "      <td>apple</td>\n",
       "      <td>SentiQuant</td>\n",
       "      <td>1420156789</td>\n",
       "      <td>#TOPTICKERTWEETS $AAPL $IMRS $BABA $EBAY $AMZN...</td>\n",
       "      <td>0</td>\n",
       "      <td>0</td>\n",
       "      <td>1</td>\n",
       "      <td>2015-01-01 20:59:49</td>\n",
       "      <td>20150101 19:00:08:298</td>\n",
       "      <td>{'neg': 0.0, 'neu': 1.0, 'pos': 0.0, 'compound...</td>\n",
       "    </tr>\n",
       "    <tr>\n",
       "      <th>1</th>\n",
       "      <td>Amazon.com</td>\n",
       "      <td>SentiQuant</td>\n",
       "      <td>1420156789</td>\n",
       "      <td>#TOPTICKERTWEETS $AAPL $IMRS $BABA $EBAY $AMZN...</td>\n",
       "      <td>0</td>\n",
       "      <td>0</td>\n",
       "      <td>1</td>\n",
       "      <td>2015-01-01 20:59:49</td>\n",
       "      <td>20150101 19:00:08:298</td>\n",
       "      <td>{'neg': 0.0, 'neu': 1.0, 'pos': 0.0, 'compound...</td>\n",
       "    </tr>\n",
       "    <tr>\n",
       "      <th>2</th>\n",
       "      <td>apple</td>\n",
       "      <td>SentiQuant</td>\n",
       "      <td>1420156788</td>\n",
       "      <td>#SENTISHIFTUP $K $FB $GOOGL $GS $GOLD $T $AAPL...</td>\n",
       "      <td>0</td>\n",
       "      <td>0</td>\n",
       "      <td>1</td>\n",
       "      <td>2015-01-01 20:59:48</td>\n",
       "      <td>20150101 19:00:04:526</td>\n",
       "      <td>{'neg': 0.0, 'neu': 1.0, 'pos': 0.0, 'compound...</td>\n",
       "    </tr>\n",
       "    <tr>\n",
       "      <th>3</th>\n",
       "      <td>Google Inc</td>\n",
       "      <td>SentiQuant</td>\n",
       "      <td>1420156788</td>\n",
       "      <td>#SENTISHIFTUP $K $FB $GOOGL $GS $GOLD $T $AAPL...</td>\n",
       "      <td>0</td>\n",
       "      <td>0</td>\n",
       "      <td>1</td>\n",
       "      <td>2015-01-01 20:59:48</td>\n",
       "      <td>20150101 19:00:04:526</td>\n",
       "      <td>{'neg': 0.0, 'neu': 1.0, 'pos': 0.0, 'compound...</td>\n",
       "    </tr>\n",
       "    <tr>\n",
       "      <th>4</th>\n",
       "      <td>Amazon.com</td>\n",
       "      <td>SentiQuant</td>\n",
       "      <td>1420156788</td>\n",
       "      <td>#SENTISHIFTUP $K $FB $GOOGL $GS $GOLD $T $AAPL...</td>\n",
       "      <td>0</td>\n",
       "      <td>0</td>\n",
       "      <td>1</td>\n",
       "      <td>2015-01-01 20:59:48</td>\n",
       "      <td>20150101 19:00:04:526</td>\n",
       "      <td>{'neg': 0.0, 'neu': 1.0, 'pos': 0.0, 'compound...</td>\n",
       "    </tr>\n",
       "  </tbody>\n",
       "</table>\n",
       "</div>"
      ],
      "text/plain": [
       "  company_name      writer   post_date  \\\n",
       "0        apple  SentiQuant  1420156789   \n",
       "1   Amazon.com  SentiQuant  1420156789   \n",
       "2        apple  SentiQuant  1420156788   \n",
       "3   Google Inc  SentiQuant  1420156788   \n",
       "4   Amazon.com  SentiQuant  1420156788   \n",
       "\n",
       "                                                body  comment_num  \\\n",
       "0  #TOPTICKERTWEETS $AAPL $IMRS $BABA $EBAY $AMZN...            0   \n",
       "1  #TOPTICKERTWEETS $AAPL $IMRS $BABA $EBAY $AMZN...            0   \n",
       "2  #SENTISHIFTUP $K $FB $GOOGL $GS $GOLD $T $AAPL...            0   \n",
       "3  #SENTISHIFTUP $K $FB $GOOGL $GS $GOLD $T $AAPL...            0   \n",
       "4  #SENTISHIFTUP $K $FB $GOOGL $GS $GOLD $T $AAPL...            0   \n",
       "\n",
       "   retweet_num  like_num                 Date        Processed_Tweet  \\\n",
       "0            0         1  2015-01-01 20:59:49  20150101 19:00:08:298   \n",
       "1            0         1  2015-01-01 20:59:49  20150101 19:00:08:298   \n",
       "2            0         1  2015-01-01 20:59:48  20150101 19:00:04:526   \n",
       "3            0         1  2015-01-01 20:59:48  20150101 19:00:04:526   \n",
       "4            0         1  2015-01-01 20:59:48  20150101 19:00:04:526   \n",
       "\n",
       "                                        vader_scores  \n",
       "0  {'neg': 0.0, 'neu': 1.0, 'pos': 0.0, 'compound...  \n",
       "1  {'neg': 0.0, 'neu': 1.0, 'pos': 0.0, 'compound...  \n",
       "2  {'neg': 0.0, 'neu': 1.0, 'pos': 0.0, 'compound...  \n",
       "3  {'neg': 0.0, 'neu': 1.0, 'pos': 0.0, 'compound...  \n",
       "4  {'neg': 0.0, 'neu': 1.0, 'pos': 0.0, 'compound...  "
      ]
     },
     "execution_count": 22,
     "metadata": {},
     "output_type": "execute_result"
    }
   ],
   "source": [
    "dados_tweet_company['vader_scores']  = None\n",
    "dados_tweet_company['vader_scores'] = dados_tweet_company.Processed_Tweet.apply(lambda tweet : sid.polarity_scores(tweet))\n",
    "dados_tweet_company.head()"
   ]
  },
  {
   "cell_type": "code",
   "execution_count": 23,
   "metadata": {},
   "outputs": [
    {
     "data": {
      "text/html": [
       "<div>\n",
       "<style scoped>\n",
       "    .dataframe tbody tr th:only-of-type {\n",
       "        vertical-align: middle;\n",
       "    }\n",
       "\n",
       "    .dataframe tbody tr th {\n",
       "        vertical-align: top;\n",
       "    }\n",
       "\n",
       "    .dataframe thead th {\n",
       "        text-align: right;\n",
       "    }\n",
       "</style>\n",
       "<table border=\"1\" class=\"dataframe\">\n",
       "  <thead>\n",
       "    <tr style=\"text-align: right;\">\n",
       "      <th></th>\n",
       "      <th>company_name</th>\n",
       "      <th>writer</th>\n",
       "      <th>post_date</th>\n",
       "      <th>body</th>\n",
       "      <th>comment_num</th>\n",
       "      <th>retweet_num</th>\n",
       "      <th>like_num</th>\n",
       "      <th>Date</th>\n",
       "      <th>Processed_Tweet</th>\n",
       "      <th>vader_scores</th>\n",
       "      <th>compound</th>\n",
       "    </tr>\n",
       "  </thead>\n",
       "  <tbody>\n",
       "    <tr>\n",
       "      <th>0</th>\n",
       "      <td>apple</td>\n",
       "      <td>SentiQuant</td>\n",
       "      <td>1420156789</td>\n",
       "      <td>#TOPTICKERTWEETS $AAPL $IMRS $BABA $EBAY $AMZN...</td>\n",
       "      <td>0</td>\n",
       "      <td>0</td>\n",
       "      <td>1</td>\n",
       "      <td>2015-01-01 20:59:49</td>\n",
       "      <td>20150101 19:00:08:298</td>\n",
       "      <td>{'neg': 0.0, 'neu': 1.0, 'pos': 0.0, 'compound...</td>\n",
       "      <td>0.0</td>\n",
       "    </tr>\n",
       "    <tr>\n",
       "      <th>1</th>\n",
       "      <td>Amazon.com</td>\n",
       "      <td>SentiQuant</td>\n",
       "      <td>1420156789</td>\n",
       "      <td>#TOPTICKERTWEETS $AAPL $IMRS $BABA $EBAY $AMZN...</td>\n",
       "      <td>0</td>\n",
       "      <td>0</td>\n",
       "      <td>1</td>\n",
       "      <td>2015-01-01 20:59:49</td>\n",
       "      <td>20150101 19:00:08:298</td>\n",
       "      <td>{'neg': 0.0, 'neu': 1.0, 'pos': 0.0, 'compound...</td>\n",
       "      <td>0.0</td>\n",
       "    </tr>\n",
       "    <tr>\n",
       "      <th>2</th>\n",
       "      <td>apple</td>\n",
       "      <td>SentiQuant</td>\n",
       "      <td>1420156788</td>\n",
       "      <td>#SENTISHIFTUP $K $FB $GOOGL $GS $GOLD $T $AAPL...</td>\n",
       "      <td>0</td>\n",
       "      <td>0</td>\n",
       "      <td>1</td>\n",
       "      <td>2015-01-01 20:59:48</td>\n",
       "      <td>20150101 19:00:04:526</td>\n",
       "      <td>{'neg': 0.0, 'neu': 1.0, 'pos': 0.0, 'compound...</td>\n",
       "      <td>0.0</td>\n",
       "    </tr>\n",
       "    <tr>\n",
       "      <th>3</th>\n",
       "      <td>Google Inc</td>\n",
       "      <td>SentiQuant</td>\n",
       "      <td>1420156788</td>\n",
       "      <td>#SENTISHIFTUP $K $FB $GOOGL $GS $GOLD $T $AAPL...</td>\n",
       "      <td>0</td>\n",
       "      <td>0</td>\n",
       "      <td>1</td>\n",
       "      <td>2015-01-01 20:59:48</td>\n",
       "      <td>20150101 19:00:04:526</td>\n",
       "      <td>{'neg': 0.0, 'neu': 1.0, 'pos': 0.0, 'compound...</td>\n",
       "      <td>0.0</td>\n",
       "    </tr>\n",
       "    <tr>\n",
       "      <th>4</th>\n",
       "      <td>Amazon.com</td>\n",
       "      <td>SentiQuant</td>\n",
       "      <td>1420156788</td>\n",
       "      <td>#SENTISHIFTUP $K $FB $GOOGL $GS $GOLD $T $AAPL...</td>\n",
       "      <td>0</td>\n",
       "      <td>0</td>\n",
       "      <td>1</td>\n",
       "      <td>2015-01-01 20:59:48</td>\n",
       "      <td>20150101 19:00:04:526</td>\n",
       "      <td>{'neg': 0.0, 'neu': 1.0, 'pos': 0.0, 'compound...</td>\n",
       "      <td>0.0</td>\n",
       "    </tr>\n",
       "  </tbody>\n",
       "</table>\n",
       "</div>"
      ],
      "text/plain": [
       "  company_name      writer   post_date  \\\n",
       "0        apple  SentiQuant  1420156789   \n",
       "1   Amazon.com  SentiQuant  1420156789   \n",
       "2        apple  SentiQuant  1420156788   \n",
       "3   Google Inc  SentiQuant  1420156788   \n",
       "4   Amazon.com  SentiQuant  1420156788   \n",
       "\n",
       "                                                body  comment_num  \\\n",
       "0  #TOPTICKERTWEETS $AAPL $IMRS $BABA $EBAY $AMZN...            0   \n",
       "1  #TOPTICKERTWEETS $AAPL $IMRS $BABA $EBAY $AMZN...            0   \n",
       "2  #SENTISHIFTUP $K $FB $GOOGL $GS $GOLD $T $AAPL...            0   \n",
       "3  #SENTISHIFTUP $K $FB $GOOGL $GS $GOLD $T $AAPL...            0   \n",
       "4  #SENTISHIFTUP $K $FB $GOOGL $GS $GOLD $T $AAPL...            0   \n",
       "\n",
       "   retweet_num  like_num                 Date        Processed_Tweet  \\\n",
       "0            0         1  2015-01-01 20:59:49  20150101 19:00:08:298   \n",
       "1            0         1  2015-01-01 20:59:49  20150101 19:00:08:298   \n",
       "2            0         1  2015-01-01 20:59:48  20150101 19:00:04:526   \n",
       "3            0         1  2015-01-01 20:59:48  20150101 19:00:04:526   \n",
       "4            0         1  2015-01-01 20:59:48  20150101 19:00:04:526   \n",
       "\n",
       "                                        vader_scores  compound  \n",
       "0  {'neg': 0.0, 'neu': 1.0, 'pos': 0.0, 'compound...       0.0  \n",
       "1  {'neg': 0.0, 'neu': 1.0, 'pos': 0.0, 'compound...       0.0  \n",
       "2  {'neg': 0.0, 'neu': 1.0, 'pos': 0.0, 'compound...       0.0  \n",
       "3  {'neg': 0.0, 'neu': 1.0, 'pos': 0.0, 'compound...       0.0  \n",
       "4  {'neg': 0.0, 'neu': 1.0, 'pos': 0.0, 'compound...       0.0  "
      ]
     },
     "execution_count": 23,
     "metadata": {},
     "output_type": "execute_result"
    }
   ],
   "source": [
    "# separar os valores do compound - vamos uas-lo para determinar os lbels dos tweets pos/beg\n",
    "dados_tweet_company['compound']  = dados_tweet_company['vader_scores'].apply(lambda score_dict: score_dict['compound'])\n",
    "dados_tweet_company.head()\n"
   ]
  },
  {
   "cell_type": "code",
   "execution_count": 24,
   "metadata": {},
   "outputs": [
    {
     "data": {
      "text/html": [
       "<div>\n",
       "<style scoped>\n",
       "    .dataframe tbody tr th:only-of-type {\n",
       "        vertical-align: middle;\n",
       "    }\n",
       "\n",
       "    .dataframe tbody tr th {\n",
       "        vertical-align: top;\n",
       "    }\n",
       "\n",
       "    .dataframe thead th {\n",
       "        text-align: right;\n",
       "    }\n",
       "</style>\n",
       "<table border=\"1\" class=\"dataframe\">\n",
       "  <thead>\n",
       "    <tr style=\"text-align: right;\">\n",
       "      <th></th>\n",
       "      <th>company_name</th>\n",
       "      <th>writer</th>\n",
       "      <th>post_date</th>\n",
       "      <th>body</th>\n",
       "      <th>comment_num</th>\n",
       "      <th>retweet_num</th>\n",
       "      <th>like_num</th>\n",
       "      <th>Date</th>\n",
       "      <th>Processed_Tweet</th>\n",
       "      <th>vader_scores</th>\n",
       "      <th>compound</th>\n",
       "      <th>label</th>\n",
       "    </tr>\n",
       "  </thead>\n",
       "  <tbody>\n",
       "    <tr>\n",
       "      <th>0</th>\n",
       "      <td>apple</td>\n",
       "      <td>SentiQuant</td>\n",
       "      <td>1420156789</td>\n",
       "      <td>#TOPTICKERTWEETS $AAPL $IMRS $BABA $EBAY $AMZN...</td>\n",
       "      <td>0</td>\n",
       "      <td>0</td>\n",
       "      <td>1</td>\n",
       "      <td>2015-01-01 20:59:49</td>\n",
       "      <td>20150101 19:00:08:298</td>\n",
       "      <td>{'neg': 0.0, 'neu': 1.0, 'pos': 0.0, 'compound...</td>\n",
       "      <td>0.0</td>\n",
       "      <td>0</td>\n",
       "    </tr>\n",
       "    <tr>\n",
       "      <th>1</th>\n",
       "      <td>Amazon.com</td>\n",
       "      <td>SentiQuant</td>\n",
       "      <td>1420156789</td>\n",
       "      <td>#TOPTICKERTWEETS $AAPL $IMRS $BABA $EBAY $AMZN...</td>\n",
       "      <td>0</td>\n",
       "      <td>0</td>\n",
       "      <td>1</td>\n",
       "      <td>2015-01-01 20:59:49</td>\n",
       "      <td>20150101 19:00:08:298</td>\n",
       "      <td>{'neg': 0.0, 'neu': 1.0, 'pos': 0.0, 'compound...</td>\n",
       "      <td>0.0</td>\n",
       "      <td>0</td>\n",
       "    </tr>\n",
       "    <tr>\n",
       "      <th>2</th>\n",
       "      <td>apple</td>\n",
       "      <td>SentiQuant</td>\n",
       "      <td>1420156788</td>\n",
       "      <td>#SENTISHIFTUP $K $FB $GOOGL $GS $GOLD $T $AAPL...</td>\n",
       "      <td>0</td>\n",
       "      <td>0</td>\n",
       "      <td>1</td>\n",
       "      <td>2015-01-01 20:59:48</td>\n",
       "      <td>20150101 19:00:04:526</td>\n",
       "      <td>{'neg': 0.0, 'neu': 1.0, 'pos': 0.0, 'compound...</td>\n",
       "      <td>0.0</td>\n",
       "      <td>0</td>\n",
       "    </tr>\n",
       "    <tr>\n",
       "      <th>3</th>\n",
       "      <td>Google Inc</td>\n",
       "      <td>SentiQuant</td>\n",
       "      <td>1420156788</td>\n",
       "      <td>#SENTISHIFTUP $K $FB $GOOGL $GS $GOLD $T $AAPL...</td>\n",
       "      <td>0</td>\n",
       "      <td>0</td>\n",
       "      <td>1</td>\n",
       "      <td>2015-01-01 20:59:48</td>\n",
       "      <td>20150101 19:00:04:526</td>\n",
       "      <td>{'neg': 0.0, 'neu': 1.0, 'pos': 0.0, 'compound...</td>\n",
       "      <td>0.0</td>\n",
       "      <td>0</td>\n",
       "    </tr>\n",
       "    <tr>\n",
       "      <th>4</th>\n",
       "      <td>Amazon.com</td>\n",
       "      <td>SentiQuant</td>\n",
       "      <td>1420156788</td>\n",
       "      <td>#SENTISHIFTUP $K $FB $GOOGL $GS $GOLD $T $AAPL...</td>\n",
       "      <td>0</td>\n",
       "      <td>0</td>\n",
       "      <td>1</td>\n",
       "      <td>2015-01-01 20:59:48</td>\n",
       "      <td>20150101 19:00:04:526</td>\n",
       "      <td>{'neg': 0.0, 'neu': 1.0, 'pos': 0.0, 'compound...</td>\n",
       "      <td>0.0</td>\n",
       "      <td>0</td>\n",
       "    </tr>\n",
       "  </tbody>\n",
       "</table>\n",
       "</div>"
      ],
      "text/plain": [
       "  company_name      writer   post_date  \\\n",
       "0        apple  SentiQuant  1420156789   \n",
       "1   Amazon.com  SentiQuant  1420156789   \n",
       "2        apple  SentiQuant  1420156788   \n",
       "3   Google Inc  SentiQuant  1420156788   \n",
       "4   Amazon.com  SentiQuant  1420156788   \n",
       "\n",
       "                                                body  comment_num  \\\n",
       "0  #TOPTICKERTWEETS $AAPL $IMRS $BABA $EBAY $AMZN...            0   \n",
       "1  #TOPTICKERTWEETS $AAPL $IMRS $BABA $EBAY $AMZN...            0   \n",
       "2  #SENTISHIFTUP $K $FB $GOOGL $GS $GOLD $T $AAPL...            0   \n",
       "3  #SENTISHIFTUP $K $FB $GOOGL $GS $GOLD $T $AAPL...            0   \n",
       "4  #SENTISHIFTUP $K $FB $GOOGL $GS $GOLD $T $AAPL...            0   \n",
       "\n",
       "   retweet_num  like_num                 Date        Processed_Tweet  \\\n",
       "0            0         1  2015-01-01 20:59:49  20150101 19:00:08:298   \n",
       "1            0         1  2015-01-01 20:59:49  20150101 19:00:08:298   \n",
       "2            0         1  2015-01-01 20:59:48  20150101 19:00:04:526   \n",
       "3            0         1  2015-01-01 20:59:48  20150101 19:00:04:526   \n",
       "4            0         1  2015-01-01 20:59:48  20150101 19:00:04:526   \n",
       "\n",
       "                                        vader_scores  compound  label  \n",
       "0  {'neg': 0.0, 'neu': 1.0, 'pos': 0.0, 'compound...       0.0      0  \n",
       "1  {'neg': 0.0, 'neu': 1.0, 'pos': 0.0, 'compound...       0.0      0  \n",
       "2  {'neg': 0.0, 'neu': 1.0, 'pos': 0.0, 'compound...       0.0      0  \n",
       "3  {'neg': 0.0, 'neu': 1.0, 'pos': 0.0, 'compound...       0.0      0  \n",
       "4  {'neg': 0.0, 'neu': 1.0, 'pos': 0.0, 'compound...       0.0      0  "
      ]
     },
     "execution_count": 24,
     "metadata": {},
     "output_type": "execute_result"
    }
   ],
   "source": [
    "# definindo os labels usando o compund value como referenecia\n",
    "def labels(value):\n",
    "    if value == 0:\n",
    "        return 0\n",
    "    elif value > 0:\n",
    "        return 1\n",
    "    elif value < 0:\n",
    "        return -1\n",
    "    \n",
    "dados_tweet_company['label']  = dados_tweet_company['compound'].apply(lambda value: labels(value))\n",
    "dados_tweet_company.head()"
   ]
  },
  {
   "cell_type": "code",
   "execution_count": 25,
   "metadata": {},
   "outputs": [
    {
     "data": {
      "text/plain": [
       " 1    4711\n",
       " 0    4102\n",
       "-1    1187\n",
       "Name: label, dtype: int64"
      ]
     },
     "execution_count": 25,
     "metadata": {},
     "output_type": "execute_result"
    }
   ],
   "source": [
    "dados_tweet_company.label.value_counts()"
   ]
  },
  {
   "cell_type": "code",
   "execution_count": 26,
   "metadata": {},
   "outputs": [
    {
     "data": {
      "text/html": [
       "<div>\n",
       "<style scoped>\n",
       "    .dataframe tbody tr th:only-of-type {\n",
       "        vertical-align: middle;\n",
       "    }\n",
       "\n",
       "    .dataframe tbody tr th {\n",
       "        vertical-align: top;\n",
       "    }\n",
       "\n",
       "    .dataframe thead th {\n",
       "        text-align: right;\n",
       "    }\n",
       "</style>\n",
       "<table border=\"1\" class=\"dataframe\">\n",
       "  <thead>\n",
       "    <tr style=\"text-align: right;\">\n",
       "      <th></th>\n",
       "      <th>Processed_Tweet</th>\n",
       "      <th>label</th>\n",
       "    </tr>\n",
       "  </thead>\n",
       "  <tbody>\n",
       "    <tr>\n",
       "      <th>0</th>\n",
       "      <td>20150101 19:00:08:298</td>\n",
       "      <td>0</td>\n",
       "    </tr>\n",
       "    <tr>\n",
       "      <th>1</th>\n",
       "      <td>20150101 19:00:08:298</td>\n",
       "      <td>0</td>\n",
       "    </tr>\n",
       "    <tr>\n",
       "      <th>2</th>\n",
       "      <td>20150101 19:00:04:526</td>\n",
       "      <td>0</td>\n",
       "    </tr>\n",
       "    <tr>\n",
       "      <th>3</th>\n",
       "      <td>20150101 19:00:04:526</td>\n",
       "      <td>0</td>\n",
       "    </tr>\n",
       "    <tr>\n",
       "      <th>4</th>\n",
       "      <td>20150101 19:00:04:526</td>\n",
       "      <td>0</td>\n",
       "    </tr>\n",
       "  </tbody>\n",
       "</table>\n",
       "</div>"
      ],
      "text/plain": [
       "         Processed_Tweet  label\n",
       "0  20150101 19:00:08:298      0\n",
       "1  20150101 19:00:08:298      0\n",
       "2  20150101 19:00:04:526      0\n",
       "3  20150101 19:00:04:526      0\n",
       "4  20150101 19:00:04:526      0"
      ]
     },
     "execution_count": 26,
     "metadata": {},
     "output_type": "execute_result"
    }
   ],
   "source": [
    "# separando os valores para a machine learning\n",
    "dados = dados_tweet_company[['Processed_Tweet','label']]\n",
    "dados.head()"
   ]
  },
  {
   "cell_type": "code",
   "execution_count": 27,
   "metadata": {},
   "outputs": [],
   "source": [
    "datasetVariables_train, datasetVariables_test, datasetTarget_train, datasetTarget_test = train_test_split(dados['Processed_Tweet'], dados['label'], test_size=0.33, random_state=42)"
   ]
  },
  {
   "cell_type": "code",
   "execution_count": 28,
   "metadata": {},
   "outputs": [
    {
     "name": "stdout",
     "output_type": "stream",
     "text": [
      "8096\n"
     ]
    }
   ],
   "source": [
    "tokenizer = Tokenizer(oov_token='<OOV>')\n",
    "tokenizer.fit_on_texts(datasetVariables_train)\n",
    "\n",
    "word_index = tokenizer.word_index\n",
    "print(len(word_index))"
   ]
  },
  {
   "cell_type": "code",
   "execution_count": 30,
   "metadata": {},
   "outputs": [
    {
     "name": "stdout",
     "output_type": "stream",
     "text": [
      "{'<OOV>': 1, 'http': 2, 'in': 3, 'for': 4, 'the': 5, 'apple': 6, 'me': 7, 'com': 8, 'to': 9, 'free': 10, 'first': 11, '100': 12, 'adyou': 13, '000': 14, 'account': 15, 'members': 16, 'balance': 17, '5€': 18, 'on': 19, 'a': 20, 'is': 21, 'of': 22, 'and': 23, '2015': 24, 'tqm': 25, 'up': 26, 'ly': 27, 'tt': 28, 'ift': 29, 'you': 30, 'it': 31, 'stock': 32, 'co': 33, 'my': 34, 'at': 35, 'stks': 36, 'with': 37, 'over': 38, 'watch': 39, 'i': 40, 'get': 41, '1vwqqqa': 42, 'bit': 43, 'this': 44, 'options': 45, 'will': 46, '1': 47, 'goo': 48, 'gl': 49, 'here': 50, 'our': 51, 'iphone': 52, 'be': 53, 'when': 54, 'if': 55, 'source': 56, 'seekingalpha': 57, 'all': 58, 'article': 59, 'win': 60, 'are': 61, 'w': 62, 'now': 63, 'link': 64, 'market': 65, 'us': 66, 'from': 67, 'aapl': 68, 'binary': 69, 'competition': 70, 'out': 71, 'new': 72, 'that': 73, '200': 74, 'sign': 75, 'available': 76, '6': 77, 'news': 78, 'worldwide': 79, 'countries': 80, 'feed': 81, '…': 82, 'r0z': 83, 'bonus': 84, 'stocks': 85, 'today': 86, '2': 87, '01': 88, '5': 89, 'year': 90, 'but': 91, 'not': 92, 'sales': 93, '2014': 94, 'trading': 95, 'like': 96, 'just': 97, '00': 98, 'could': 99, 'join': 100, 'more': 101, 'see': 102, 'https': 103, 'dlvr': 104, 'day': 105, 'inc': 106, 'we': 107, 'buy': 108, 's23': 109, 'via': 110, 'social': 111, 'revenues': 112, 'january': 113, 'daily': 114, 'how': 115, 'levels': 116, 'sharing': 117, '3': 118, 'calls': 119, 'chart': 120, 'tsū': 121, '4zgqio': 122, 'as': 123, 'support': 124, 'what': 125, 'or': 126, 'its': 127, 'trade': 128, 'updated': 129, 'down': 130, 'tickers…': 131, 'price': 132, 'rt': 133, 'next': 134, 'tech': 135, '8': 136, 'sell': 137, '50': 138, 'some': 139, '4': 140, 'still': 141, 'why': 142, 'imagine': 143, 'should': 144, 'an': 145, 'analysis': 146, 'have': 147, 'l6s': 148, 'has': 149, 'ow': 150, 'by': 151, 'about': 152, 'one': 153, 'p': 154, 'do': 155, 'long': 156, 'live': 157, 'weekly': 158, 'so': 159, 'last': 160, 'days': 161, 'good': 162, 'profit': 163, 'earnings': 164, '15': 165, 'app': 166, 'was': 167, 'big': 168, 'monthly': 169, 'return': 170, 'key': 171, 'starbreakouts': 172, 'find': 173, 'list': 174, 'read': 175, \"apple's\": 176, 'into': 177, '10': 178, 'top': 179, 'off': 180, 'resistance': 181, 'pick': 182, 'week': 183, 'intraday': 184, '12': 185, 'short': 186, 'lows': 187, 'target': 188, 'your': 189, 'no': 190, 'open': 191, 'time': 192, 'highs': 193, 'view': 194, 'f…': 195, '112': 196, 'pm': 197, 'technology': 198, '106': 199, 'after': 200, 'early': 201, 'jan': 202, 'can': 203, 'am': 204, 'store': 205, 'close': 206, '1a5crqg': 207, \"it's\": 208, 'look': 209, 'back': 210, 'ios': 211, 'samsung': 212, 'google': 213, 't': 214, 's': 215, '11': 216, 'x': 217, 'best': 218, '09': 219, 'puts': 220, 'video': 221, 'very': 222, '07': 223, 'call': 224, 'looking': 225, 'board': 226, 'going': 227, 'pay': 228, '7': 229, 'think': 230, 'sold': 231, 'go': 232, 'investors': 233, 'twitter': 234, 'weeks': 235, 'again': 236, 'futures': 237, 'check': 238, 'training': 239, '08': 240, '0': 241, 'aapl…': 242, 'position': 243, '110': 244, '9': 245, 'update': 246, 'most': 247, 'technicals': 248, '14': 249, 'few': 250, 'tinyurl': 251, 'post': 252, 'emini': 253, 'sp500': 254, 'html…': 255, 'symbol': 256, 'run': 257, 'ces': 258, 'penny': 259, 'quantpost': 260, 'may': 261, \"market's\": 262, '20': 263, 'videos': 264, 'u': 265, 'selling': 266, 'btcyv': 267, 'attend': 268, 'tradingroom': 269, 'nice': 270, 'right': 271, 'share': 272, 'optionmillionaires': 273, 'storage': 274, 'picks': 275, 'than': 276, '02': 277, 'subscribers': 278, 'amazing': 279, 'coming': 280, '30': 281, 'growth': 282, 'where': 283, 'below': 284, 'tv': 285, 'buff': 286, 'strong': 287, 'march': 288, '05': 289, '111': 290, 'report': 291, 'buying': 292, 'commented': 293, 'high': 294, '968': 295, 'only': 296, 'says': 297, 'friday': 298, 'move': 299, 'hit': 300, 'they': 301, 'making': 302, 'iphones': 303, \"i'm\": 304, 'great': 305, 'net': 306, 'v': 307, 'did': 308, 'would': 309, 'gained': 310, 'p46mnk2': 311, 'algos': 312, 'above': 313, 'lower': 314, 'vs': 315, 'biloselhi': 316, 'past': 317, 'triggered': 318, 'twitter…': 319, 'much': 320, 'traders': 321, 'beats': 322, 'smart': 323, 'active': 324, 'review': 325, 'too': 326, 'trades': 327, 'well': 328, 'benzinga': 329, 'china': 330, 'hold': 331, 'end': 332, 'level': 333, 'tradingview': 334, 'sigma': 335, 'crossfinder': 336, 'ats': 337, 'lx': 338, 'thing': 339, 'were': 340, 'want': 341, 'apples': 342, 'utm': 343, 'monster': 344, 'looks': 345, 'part': 346, 'bounce': 347, 'charts': 348, \"don't\": 349, 'green': 350, 'yahoo': 351, 'mkt': 352, 'monday': 353, 'z': 354, 'tomorrow': 355, 'youtu': 356, 'higher': 357, 'ibdn': 358, 'uz': 359, 'wsj': 360, 'low': 361, '23': 362, 'record': 363, 'recent': 364, 'lawsuit': 365, 'expect': 366, '»': 367, 'cnb': 368, 'cx': 369, 'morning': 370, 'them': 371, 'world': 372, 'mobile': 373, 'ipad': 374, 'thoughts': 375, 'macbook': 376, 'far': 377, '“': 378, 'bullish': 379, 'put': 380, 'chat': 381, 'revenue': 382, 'cheaper': 383, 'action': 384, 'plus': 385, 'pain': 386, 'launch': 387, 'innovation': 388, 'info': 389, 'cnbc': 390, 'take': 391, '03': 392, '25': 393, 'companies': 394, 'thursday': 395, 'android': 396, 'stocktwits': 397, 'took': 398, 'preserve': 399, 'another': 400, 'really': 401, '109': 402, 'many': 403, 'years': 404, 'before': 405, 'value': 406, '60': 407, 'christmas': 408, 'then': 409, 'watching': 410, '108': 411, 'bought': 412, 'e': 413, '107': 414, 'htm…': 415, 'both': 416, 'holding': 417, 'got': 418, 'asian': 419, 'momentum': 420, 'interest': 421, 'php': 422, 'outlook': 423, 'wall': 424, '24': 425, 'wearables': 426, 'these': 427, '335': 428, 'quarter': 429, 'logging': 430, 'apple’s': 431, 'option': 432, 'lol': 433, 'also': 434, 'carriers': 435, 'analyst': 436, 'shares': 437, 'might': 438, 'better': 439, 'way': 440, 'even': 441, 'story': 442, 'their': 443, 'postpaid': 444, 'million': 445, 'lnkd': 446, 'swing': 447, 'air': 448, 'feature': 449, 'make': 450, 'start': 451, 'sues': 452, 'unlocked': 453, 'around': 454, 'had': 455, 'soon': 456, '28': 457, 'ideas': 458, 'been': 459, '105': 460, 'forum': 461, 'alerts': 462, 'cboe': 463, 'setting': 464, 'trend': 465, 'beyond': 466, 'know': 467, 'q1': 468, '27': 469, 'entry': 470, 'gap': 471, 'need': 472, '06': 473, 'percent': 474, 'electronics': 475, 'set': 476, 'subscribe': 477, 'gains': 478, 'tablet': 479, 'since': 480, 'advfn': 481, 'pid': 482, 'xref': 483, 'newsalerttweet': 484, 'adw': 485, '1126416…': 486, 'against': 487, 'there': 488, 'profits': 489, 'markets': 490, 'smartphone': 491, 'products': 492, 'play': 493, 'actives': 494, 'expected': 495, 'blog': 496, 'bull': 497, 'ih': 498, 'nmona': 499, 'content': 500, 'who': 501, 'patent': 502, 'c': 503, 'everyone': 504, 'oil': 505, 'finance': 506, 'follow': 507, 'major': 508, 'click': 509, '1i8y6ch': 510, '17': 511, 'r': 512, 'prepping': 513, 'ago': 514, 'based': 515, '04': 516, 'keep': 517, 'continue': 518, 'corporate': 519, 'rose': 520, 'getting': 521, 'added': 522, '52': 523, 'every': 524, 'huge': 525, 'tuesday': 526, 'months': 527, '104': 528, 'losing': 529, 'volatility': 530, 'billion': 531, 'those': 532, 'iad': 533, 'volume': 534, '26': 535, 'y': 536, '2015…': 537, 'cash': 538, 'prices': 539, 'id': 540, 'company': 541, 'microsoft': 542, 'dividend': 543, 'said': 544, 'yet': 545, 'through': 546, 'investordiscussionboard': 547, 'boards': 548, 'nasdaq': 549, '40': 550, 'phone': 551, 'future': 552, 'youtube': 553, 'starbrekaouts': 554, 'term': 555, 'weakest': 556, 'articles': 557, 'windows': 558, '20150101': 559, 'videoblog': 560, 'something': 561, \"that's\": 562, 'say': 563, 'yesterday': 564, 'bearish': 565, 'jobs': 566, 'hard': 567, 'bottom': 568, 'aspx': 569, 'facebook': 570, 'work': 571, 'money': 572, 'his': 573, 'demand': 574, 'alerted': 575, 'global': 576, 'home': 577, 'retail': 578, '”': 579, 'made': 580, 'html': 581, 'any': 582, 'line': 583, 'wednesday': 584, 'impact': 585, 'possible': 586, 'investcorrectly': 587, 'full': 588, 'stop': 589, 'drop': 590, 'gain': 591, 'pullback': 592, 'devices': 593, 'pre': 594, 'algo': 595, 'test': 596, 'forex': 597, 'working': 598, 'mktw': 599, 'search': 600, 'must': 601, '13': 602, 'terms': 603, 'minutes': 604, '36': 605, '61': 606, 'todays': 607, 'positions': 608, 'product': 609, 'watches': 610, 'super': 611, 'pop': 612, 'xiaomi': 613, 'come': 614, 'upside': 615, 'wearable': 616, 'predictions': 617, '115': 618, 'posted': 619, 'ibd': 620, 'already': 621, '8kj8jgghlc8': 622, 'be…': 623, 'bet': 624, 'rank': 625, 'people': 626, 'own': 627, 'red': 628, 'needs': 629, 'flop': 630, 'fibonacci': 631, 'financials': 632, '59': 633, 'nomura': 634, 'ceo': 635, 'wp': 636, 'track': 637, '35': 638, 'taking': 639, 'falls': 640, 'thestreet': 641, 'likely': 642, 'phones': 643, 'game': 644, \"didn't\": 645, 'holiday': 646, 'near': 647, 'frivolous': 648, 'continues': 649, 'same': 650, 'while': 651, '22': 652, '45': 653, 'diversity': 654, '1st': 655, 'makes': 656, 'biggest': 657, 'minute': 658, 'technical': 659, 'does': 660, 'sued': 661, 'pretty': 662, 'b': 663, 'reports': 664, 'fall': 665, 'neither': 666, 'propel': 667, 'status': 668, 'maximum': 669, 'break': 670, '21': 671, 'deal': 672, \"street's\": 673, 'things': 674, 'europe': 675, 'blue': 676, 'chip': 677, '80': 678, '19': 679, 'weekend': 680, 'area': 681, 'month': 682, 'which': 683, 'efuf0i': 684, 'subscriber': 685, 'apps': 686, 'ever': 687, 'investor': 688, 'range': 689, 'ahead': 690, 'increase': 691, 'mac': 692, 'highest': 693, 'hotpage': 694, 'trying': 695, 'media': 696, 'other': 697, 're': 698, 'icloud': 699, 'trends': 700, 'used': 701, 'mean': 702, 'pin': 703, 'change': 704, 'hurt': 705, 'lot': 706, 'being': 707, 'd': 708, 'nearly': 709, '2782865': 710, '2791555': 711, '42': 712, 'mark': 713, 'vulnerability': 714, 'details': 715, 'headed': 716, 'org': 717, \"can't\": 718, 'iphoneportfolioapp': 719, 'dec': 720, 'oi': 721, 'potential': 722, 'icahn': 723, 'finally': 724, 'outperform': 725, 'industry': 726, 'bulls': 727, 'points': 728, '90': 729, 'recap': 730, '1xsbwit': 731, 'users': 732, 'gold': 733, 'rally': 734, 'signals': 735, 'crashing': 736, '75': 737, '010215': 738, 'cars': 739, 'trader': 740, 'inch': 741, 'consumer': 742, 'goes': 743, 'data': 744, 'done': 745, '43': 746, 'correction': 747, 'spy': 748, 'twtr': 749, 'fb': 750, 'seasonalities': 751, 'music': 752, 'smartphones': 753, 'double': 754, 'went': 755, 'simple': 756, 'hot': 757, \"today's\": 758, 'according': 759, 'use': 760, 'professional': 761, 'campaign': 762, '18': 763, 'feb': 764, 'shows': 765, 'point': 766, \"'s\": 767, \"here's\": 768, 'head': 769, 'businessinsider': 770, 'current': 771, 'q4': 772, 'dont': 773, 'n': 774, 'final': 775, 'ready': 776, 'away': 777, 'traded': 778, 'half': 779, '103': 780, 'iwatch': 781, 'googl': 782, 'bad': 783, 'cook': 784, 'equities': 785, 'enter': 786, 'flow': 787, 'business': 788, 'ship': 789, 'flexible': 790, 'risk': 791, 'ma': 792, \"isn't\": 793, '16': 794, 'show': 795, 'stay': 796, 'medium': 797, 'headedhttps': 798, 'etc': 799, 'names': 800, 'predicts': 801, 'sees': 802, 'largest': 803, 'm': 804, 'lost': 805, 'comes': 806, 'bear': 807, 'weak': 808, 'blogspot': 809, '2013': 810, 'started': 811, 'intel': 812, 'during': 813, 'december': 814, 'dominates': 815, 'help': 816, '70': 817, 'between': 818, '20150105': 819, 'five': 820, 'digital': 821, 'case': 822, 'little': 823, 'contest': 824, 'investorshangout': 825, '2469789': 826, '2nd': 827, 'forecast': 828, '4849': 829, \"let's\": 830, 'pro': 831, 'carl': 832, 'helpful': 833, 'daytraders': 834, 'inside': 835, 'others': 836, 'macd': 837, 'fallen': 838, 'guys': 839, 'act': 840, 'fast': 841, 'almost': 842, 'wow': 843, \"doesn't\": 844, 'estimates': 845, 'wrong': 846, 'buys': 847, 'having': 848, 'bigger': 849, 'starting': 850, 'small': 851, \"won't\": 852, 'algorithmic': 853, 'large': 854, 'strategic': 855, 'marketwatch': 856, 'means': 857, 'yr': 858, 'loss': 859, 'leaders': 860, 'htc': 861, 'spreads': 862, '91': 863, 'breakout': 864, 'online': 865, 'waiting': 866, 'sector': 867, 'advantage': 868, 'he': 869, 'happy': 870, '9to5mac': 871, 'updates': 872, 'gaining': 873, 'try': 874, 'forecasts': 875, 'maturity': 876, 'sellers': 877, 'pos': 878, '20150107': 879, 'buyback': 880, 'user': 881, 'left': 882, 'yes': 883, '44': 884, 'across': 885, 'later': 886, 'couple': 887, 'breaking': 888, 'impressive': 889, 'strategy': 890, '1xmndt2': 891, 'least': 892, 'cap': 893, 'software': 894, 'plays': 895, 'smartwatch': 896, 'seems': 897, 'though': 898, 'course': 899, 'vulnerable': 900, '250': 901, 'opportunity': 902, 'drives': 903, 'headphones': 904, 'sure': 905, 'wants': 906, 'total': 907, 'watchlist': 908, 'love': 909, 'worth': 910, 'advertising': 911, 'positive': 912, 'p4f4mu': 913, 'hope': 914, 'challenge': 915, '2785215': 916, 'rising': 917, '2786495': 918, 'reversal': 919, 'due': 920, 'eps': 921, 'raising': 922, 'research': 923, 'ii': 924, 'pt': 925, 'strength': 926, 'because': 927, 'moving': 928, 'mini': 929, 'st': 930, 'results': 931, 'opinions': 932, 'turns': 933, 'expiration': 934, 'max': 935, 'cents': 936, 'late': 937, 'man': 938, '20150109': 939, 'hires': 940, 'hp': 941, 'amazon': 942, \"what's\": 943, 'let': 944, 'wait': 945, 'interesting': 946, 'hint': 947, 'candle': 948, 'nothing': 949, 'granted': 950, 'device': 951, 'dip': 952, 'scorecard': 953, 'screen': 954, 'scncsj': 955, 'millions': 956, 'j': 957, 'beat': 958, 'average': 959, 'barrons': 960, 'thanks': 961, '56': 962, 'analysts': 963, 'dma': 964, 'chinese': 965, '5127779': 966, 'fraud': 967, 'longer': 968, 'targets': 969, 'nflx': 970, \"you're\": 971, 'twice': 972, 'important': 973, 'homekit': 974, 'steve': 975, 'performance': 976, 'success': 977, 'never': 978, 'blackberry': 979, 'under': 980, '97': 981, 'talking': 982, 'patents': 983, \"microsoft's\": 984, 'eye': 985, 'preview': 986, 'decline': 987, 'o': 988, 'today’s': 989, 'falconglobaltraders': 990, '\\uf8ff': 991, 'awesome': 992, 'falling': 993, '48': 994, 'following': 995, 'funds': 996, 'seen': 997, 'records': 998, '2781375': 999, 'negative': 1000, 'takes': 1001, 'credit': 1002, 'sim': 1003, 'cloud': 1004, 'called': 1005, 'clear': 1006, 'glimpse': 1007, 'promise': 1008, 'release': 1009, 'q': 1010, 'grows': 1011, 'gets': 1012, 'held': 1013, 'dow': 1014, 'two': 1015, 'aol': 1016, 'pattern': 1017, 'consumers': 1018, 'spread': 1019, 'hour': 1020, 'closing': 1021, 'nicely': 1022, '5th': 1023, 'add': 1024, 'continued': 1025, 'ibm': 1026, '43e5rv': 1027, 'g': 1028, '1000': 1029, 'sma': 1030, 'maybe': 1031, 'earlier': 1032, 'testing': 1033, 'investing': 1034, 'zone': 1035, 'downtrend': 1036, 'founders': 1037, 'push': 1038, 'dyt3ump': 1039, 'matter': 1040, 'opening': 1041, 'quick': 1042, 'rebound': 1043, '—': 1044, '2007': 1045, 'trending': 1046, 'micron': 1047, '1…': 1048, 'vol': 1049, 'sale': 1050, 'earth': 1051, 'elements': 1052, 'missed': 1053, 'sunday': 1054, \"i'll\": 1055, 'become': 1056, 'probably': 1057, 'tim': 1058, 'forward': 1059, '11zifop': 1060, 'design': 1061, 'program': 1062, 'acquisition': 1063, 'cost': 1064, 'picture': 1065, 'strategies': 1066, 'larger': 1067, 'february': 1068, 'space': 1069, 'cant': 1070, 'hedge': 1071, 'er': 1072, '2794075': 1073, 'cybersecurity': 1074, 'advertisers': 1075, 'capflow': 1076, 'froic': 1077, 'yield': 1078, 'hod': 1079, 'seeing': 1080, 'effect': 1081, 'failed': 1082, 'showing': 1083, '41': 1084, 'poised': 1085, 'fire': 1086, 'deals': 1087, 'enterprise': 1088, 'customers': 1089, 'appleinsider': 1090, 'slide': 1091, 'livetradingnews': 1092, '2796065': 1093, 'bi': 1094, 'rise': 1095, 'starts': 1096, 'astounding': 1097, 'exit': 1098, 'searched': 1099, 'drones': 1100, 'retina': 1101, 'imo': 1102, 'reviews': 1103, 'saturday': 1104, 'split': 1105, 'opinion': 1106, 'drone': 1107, 'press': 1108, 'overtake': 1109, 'reasons': 1110, 'real': 1111, 'rumor': 1112, 'personal': 1113, 'talk': 1114, 'sells': 1115, 'downside': 1116, 'room': 1117, 'debate': 1118, '29': 1119, 'three': 1120, 'prior': 1121, 'portfolio': 1122, 'baba': 1123, 'reason': 1124, 'developers': 1125, 'raised': 1126, 'critical': 1127, 'rare': 1128, 'commodity': 1129, 'street': 1130, 'payments': 1131, 'tip': 1132, 'identify': 1133, 'dj': 1134, 'enough': 1135, 'suffers': 1136, '66': 1137, 'index': 1138, 'sellin': 1139, 'doeolfio3ccmy': 1140, 'npd': 1141, 'releases': 1142, 'zones': 1143, 'battery': 1144, 'mid': 1145, 'gives': 1146, \"we're\": 1147, 'q2': 1148, 'guidance': 1149, 'guess': 1150, 'adds': 1151, 'relative': 1152, \"week's\": 1153, '114': 1154, 'saying': 1155, 'until': 1156, 'wilson': 1157, 'sentiment': 1158, 'kantar': 1159, 'greenlight': 1160, 'submitted': 1161, 'twitterhandle': 1162, 'getinsideapple…': 1163, 'buyers': 1164, 'considering': 1165, 'breakdown': 1166, 'lucky': 1167, 'hours': 1168, '20150106': 1169, 'min': 1170, 'history': 1171, 'exposed': 1172, 'debut': 1173, 'mkts': 1174, 'partnership': 1175, 'wk': 1176, 'focus': 1177, 'whole': 1178, 'unit': 1179, 'headphone': 1180, 'sweet': 1181, 'pivot': 1182, 'veteran': 1183, 'access': 1184, 'plan': 1185, 'gonna': 1186, 'filings': 1187, 'glasses': 1188, 'treasuries': 1189, 'till': 1190, 'engine': 1191, 'contract': 1192, 'acquires': 1193, 'longs': 1194, 'soc': 1195, 'works': 1196, 'avg': 1197, 'yhoo': 1198, 'reality': 1199, 'connected': 1200, 'dominate': 1201, 'usually': 1202, 'fill': 1203, 'losses': 1204, \"yesterday's\": 1205, 'webinar': 1206, 'cantor': 1207, 'fortune': 1208, 'satisfaction': 1209, 'bring': 1210, 'breaks': 1211, 'remain': 1212, 'different': 1213, 'lotto': 1214, 'investment': 1215, 'cheers': 1216, 'blogs': 1217, 'dump': 1218, 'thinks': 1219, '95': 1220, 'channel': 1221, 'entire': 1222, 'streaming': 1223, 'paid': 1224, 'student': 1225, 'increasing': 1226, '51': 1227, 'star': 1228, 'tweet…': 1229, 'argus': 1230, 'slowing': 1231, 'feels': 1232, 'rip': 1233, 'changes': 1234, 'beating': 1235, 'picked': 1236, 'rate': 1237, 'fashion': 1238, 'cable': 1239, 'touch': 1240, 'thought': 1241, 'less': 1242, 'operating': 1243, 'power': 1244, 'note': 1245, 'stylus': 1246, 'itunes': 1247, 'icon': 1248, 'carplay': 1249, 'learning': 1250, 'place': 1251, 'latest': 1252, 'ipod': 1253, 'apr': 1254, '2012': 1255, 'setups': 1256, '96': 1257, 'fitness': 1258, 'trackers': 1259, 'group': 1260, 'increases': 1261, 'computer': 1262, 'flush': 1263, 'hibben': 1264, 'giants': 1265, '113': 1266, 'services': 1267, 'en': 1268, 'numbers': 1269, 'ubs': 1270, '120': 1271, 'times': 1272, 'shift': 1273, '5124596': 1274, 'weeklyoptionplays': 1275, 'models': 1276, 'rating': 1277, 'fred': 1278, 'idea': 1279, '78': 1280, 'trial': 1281, 'site': 1282, 'thru': 1283, 'ok': 1284, 'six': 1285, 'stuffit': 1286, 'service': 1287, 'poll': 1288, 'remember': 1289, 'entertainment': 1290, 'dongles': 1291, 'heavy': 1292, 'remains': 1293, '6s': 1294, 'flag': 1295, 'warns': 1296, 'internet': 1297, 'gt': 1298, \"'15\": 1299, 'car': 1300, 'wheels': 1301, 'changing': 1302, 'always': 1303, 'surprised': 1304, 'rings': 1305, 'book': 1306, 'previous': 1307, 'holds': 1308, 'fib': 1309, 'mar': 1310, 'canada': 1311, 'os': 1312, 'give': 1313, 'broke': 1314, 'raises': 1315, '5k': 1316, 'imac': 1317, 'competitive': 1318, 'yo': 1319, 'predicted': 1320, 'season': 1321, 'highlights': 1322, 'giving': 1323, 'cold': 1324, 'gone': 1325, 'per': 1326, 'happen': 1327, 'ugly': 1328, 'catalyst': 1329, 'straight': 1330, \"google's\": 1331, 'else': 1332, 'step': 1333, 'shaft': 1334, 'virtual': 1335, 'margin': 1336, 'nokia': 1337, 'core': 1338, 'boom': 1339, 'block': 1340, 'lets': 1341, 'please': 1342, 'guy': 1343, '65008503': 1344, 'using': 1345, 'leading': 1346, 'tradewithjoe': 1347, 'mt': 1348, '6th': 1349, '54': 1350, '6xu0n0': 1351, 'supertrades': 1352, 'message': 1353, 'team': 1354, 'despite': 1355, 'tablets': 1356, 'pass': 1357, 'tvs': 1358, 'consensus': 1359, 'tell': 1360, 'newsletter': 1361, \"company's\": 1362, 'ways': 1363, 'fact': 1364, 'algorithms': 1365, 'valuation': 1366, 'bn': 1367, 'peeps': 1368, 'currently': 1369, 'trust': 1370, 'developer': 1371, 'expansion': 1372, 'killed': 1373, 'wallet': 1374, '–': 1375, 'subscription': 1376, '102': 1377, 'cheap': 1378, 'deeper': 1379, '64': 1380, 'brings': 1381, 'jabil': 1382, 'circuit': 1383, 'benefit': 1384, 'table': 1385, 'neutral': 1386, 'rsi': 1387, '20150108': 1388, 'rest': 1389, 'turn': 1390, 'stores': 1391, 'america': 1392, 'worst': 1393, 'ground': 1394, 'marco': 1395, 'hits': 1396, 'second': 1397, 'blockbuster': 1398, 'include': 1399, '2801515': 1400, '68': 1401, '69': 1402, 'anyone': 1403, 'cc': 1404, '’s': 1405, 'electronic': 1406, \"'14\": 1407, 'reply': 1408, 'sense': 1409, 'announces': 1410, 'banks': 1411, 'closed': 1412, 'billings': 1413, 'bag': 1414, 'version': 1415, '84': 1416, '33': 1417, '38': 1418, 'netflix': 1419, 'htm': 1420, 'takeover': 1421, 'bot': 1422, 'bears': 1423, 'port': 1424, 'size': 1425, 'mentioned': 1426, \"i've\": 1427, 'checking': 1428, '55': 1429, 'everything': 1430, 'ripping': 1431, 'setup': 1432, 'behind': 1433, 'unless': 1434, 'ln': 1435, 'forming': 1436, 'sent': 1437, 'middle': 1438, 'remainder': 1439, 'contracts': 1440, 'information': 1441, 'rumored': 1442, 'forget': 1443, 'russia': 1444, 'damn': 1445, 'premium': 1446, 'understand': 1447, 'fitzgerald': 1448, 'stories': 1449, 'lead': 1450, 'skid': 1451, 'happens': 1452, 'financial': 1453, 'perfect': 1454, 'dr': 1455, 'roundup': 1456, 'mm': 1457, 'battle': 1458, 'shot': 1459, 'indicator': 1460, 'uk': 1461, 'date': 1462, 'prediction': 1463, 'compete': 1464, 'premarket': 1465, 'lastchipstanding': 1466, '010415': 1467, 'ipads': 1468, 'happened': 1469, 'job': 1470, 'safety': 1471, \"friday's\": 1472, 'she': 1473, 'friends': 1474, 'ridiculous': 1475, 'heres': 1476, 'sites': 1477, 'partner': 1478, 'approach': 1479, 'de': 1480, 'mins': 1481, 'fed': 1482, 'falsely': 1483, 'expecting': 1484, \"watch's\": 1485, 'signal': 1486, 'selloff': 1487, 'party': 1488, 'resolutions': 1489, 'ya': 1490, 'solid': 1491, 'recovered': 1492, 'hikes': 1493, 'tn': 1494, 'anything': 1495, 'favorite': 1496, '39': 1497, 'jan02': 1498, 'quality': 1499, 'embarrassing': 1500, 'setback': 1501, 'camera': 1502, 'verified': 1503, 'headline': 1504, 'whatever': 1505, '‘bad': 1506, 'sign’': 1507, 'valuewalk': 1508, 'brand': 1509, 'tape': 1510, 'turning': 1511, '2208605': 1512, 'structure': 1513, 'system': 1514, 'pandora': 1515, 'crude': 1516, 'scalp': 1517, '732996': 1518, 'crushed': 1519, 'flat': 1520, 'shocked': 1521, 'copy': 1522, 'expensive': 1523, '69m': 1524, 'session': 1525, 'ride': 1526, 'loses': 1527, 'south': 1528, '123114': 1529, '732780': 1530, 'ott': 1531, 'supply': 1532, '150': 1533, 'development': 1534, 'pic': 1535, 'sharply': 1536, 'further': 1537, 'suit': 1538, 'income': 1539, 'alpha': 1540, 'wins': 1541, '74': 1542, 'theflynews': 1543, 'fly': 1544, 'warren': 1545, 'buffett': 1546, 'april': 1547, 'learn': 1548, '50ma': 1549, 'progress': 1550, 'class': 1551, 'dish': 1552, 'aapls': 1553, 'books': 1554, 'launches': 1555, 'losers': 1556, 'mechanic': 1557, 'broght': 1558, 'odyssey': 1559, 'dents': 1560, 'crown': 1561, 'believe': 1562, 'lines': 1563, 'bs': 1564, 'bank': 1565, '49': 1566, 'xx': 1567, 'stocktalk': 1568, 'est': 1569, 'main': 1570, 'usb': 1571, 'offers': 1572, 'life': 1573, 'chinanow': 1574, 'guide': 1575, 'stockaviator': 1576, '31': 1577, 'corner': 1578, 'thestreettech': 1579, '2212765': 1580, 'stops': 1581, 'cases': 1582, 'four': 1583, 'platform': 1584, 'lt': 1585, 'reverse': 1586, 'display': 1587, 'overall': 1588, 'tax': 1589, 'plunges': 1590, 'bid': 1591, 'growing': 1592, 'mar15': 1593, 'alibaba': 1594, 'failing': 1595, 'calendar': 1596, '63': 1597, 'demo': 1598, \"i'd\": 1599, 'pull': 1600, 'non': 1601, 'otpicks': 1602, 'surprise': 1603, 'aaple': 1604, 'saw': 1605, 'surge': 1606, 'absolutely': 1607, 'wish': 1608, 'paper': 1609, 'n1': 1610, '99': 1611, 'nook': 1612, '2792475': 1613, 'safe': 1614, 'question': 1615, \"'bad\": 1616, \"sign'\": 1617, '14dulki': 1618, 'worldpanel': 1619, 'tw…': 1620, 'dollar': 1621, '3a': 1622, 'multiple': 1623, 'photo': 1624, 'goggles': 1625, '733014': 1626, 'uhd': 1627, 'released': 1628, \"samsung's\": 1629, '500': 1630, 'pump': 1631, 'campus': 1632, 'suffered': 1633, '1kiz010': 1634, '1nyq1': 1635, 'revealed': 1636, 'thx': 1637, '20150116': 1638, 'notional': 1639, 'dennyt': 1640, 'al': 1641, 'oversold': 1642, 'oh': 1643, 'catch': 1644, 'units': 1645, 'cool': 1646, 'greed': 1647, 'uso': 1648, 'xle': 1649, 'bounces': 1650, 'someone': 1651, 'machine': 1652, 'lose': 1653, 'default': 1654, 'ratings': 1655, 'dropped': 1656, 'along': 1657, 'among': 1658, '125': 1659, '2801165': 1660, 'facing': 1661, 'worried': 1662, 'model': 1663, 'activations': 1664, 'etf': 1665, 'forbes': 1666, 'dollars': 1667, 'pundits': 1668, 'efficient': 1669, 'raise': 1670, 'integration': 1671, 'links': 1672, 'capacity': 1673, '72': 1674, 'tumbling': 1675, 'rather': 1676, 'grabbed': 1677, 'promo': 1678, '1zxpvt0': 1679, 'hey': 1680, 'reminder': 1681, 'l': 1682, '4s': 1683, 'kind': 1684, 'fell': 1685, 'expects': 1686, 'uptrend': 1687, '32': 1688, 'covering': 1689, 'credits': 1690, 'face': 1691, 'msft': 1692, 'appstore': 1693, 'extension': 1694, 'bc': 1695, '1ctsfxq': 1696, 'band': 1697, \"we'll\": 1698, 'insider': 1699, 'priced': 1700, 'smartwatches': 1701, 'changer': 1702, 'ah': 1703, 'fade': 1704, 'stopped': 1705, 't3ex4u': 1706, 'un': 1707, 'france': 1708, 'congrats': 1709, 'castle': 1710, 'moat': 1711, '2787925': 1712, '58': 1713, 'lottos': 1714, 'upcoming': 1715, 'reinvent': 1716, 'themselves': 1717, 'gee4x': 1718, 'suggests': 1719, 'seriously': 1720, 'spending': 1721, 'seeitmarket': 1722, '13985': 1723, 'bb': 1724, 'sgfr': 1725, '2783505': 1726, 'bouncing': 1727, \"zacks'\": 1728, '2775205': 1729, 'zacks': 1730, 'overweight': 1731, '5116219': 1732, 'outside': 1733, '9x': 1734, 'greatest': 1735, 'clones': 1736, 'straddles': 1737, \"haven't\": 1738, 'functional': 1739, 'rich': 1740, 'sunedison': 1741, 'cross': 1742, 'email': 1743, 'easily': 1744, 'seeking': 1745, 'bendable': 1746, 'wrap': 1747, 'mainstream': 1748, 'adoption': 1749, 'danrocks': 1750, 'him': 1751, 'within': 1752, 'comments': 1753, 'go2jump': 1754, 'shrm34': 1755, 'tells': 1756, 'her': 1757, 'easy': 1758, 'owners': 1759, 'rigged': 1760, 'talks': 1761, '62': 1762, 'amzn': 1763, 'corp': 1764, '33599375': 1765, '85': 1766, 'mode': 1767, 'ws': 1768, 'folks': 1769, 'vix': 1770, 'card': 1771, '92': 1772, 'img': 1773, 'single': 1774, 'complete': 1775, 'retirement': 1776, 'wowza': 1777, 'nov': 1778, 'debuts': 1779, 'lod': 1780, 'speakers': 1781, 'becoming': 1782, 'tweet': 1783, 'caught': 1784, 'eod': 1785, 'true': 1786, 'dent': 1787, \"he's\": 1788, 'currents': 1789, 'announce': 1790, 'leaps': 1791, '53': 1792, 'tizen': 1793, 'biomedical': 1794, 'competitors': 1795, \"aren't\": 1796, 'rises': 1797, 'spot': 1798, 'piper': 1799, 'jaffray': 1800, 'fomc': 1801, 'momo': 1802, 'toward': 1803, 'old': 1804, 'annual': 1805, 'ads': 1806, 'thurs': 1807, 'activated': 1808, '16gb': 1809, 'wonder': 1810, 'shown': 1811, 'zuckerberg': 1812, 'sum': 1813, 'fear': 1814, '2m': 1815, 'qe': 1816, 'dog': 1817, 'driving': 1818, 'found': 1819, 'purchases': 1820, 'hands': 1821, '1m': 1822, 'drive': 1823, 'bell': 1824, 'li': 1825, 'distribution': 1826, 'quickly': 1827, 'slump': 1828, 'automation': 1829, 'emotions': 1830, 'mf': 1831, '595': 1832, 'photos': 1833, 'spx': 1834, 'stick': 1835, 'stream': 1836, 'bitcoin': 1837, 'respect': 1838, 'period': 1839, 'decrease': 1840, 'equity': 1841, 'src': 1842, 'trk': 1843, '2yr': 1844, 'mjna': 1845, '2783535': 1846, 'defenses': 1847, 'scharts': 1848, 'stockcharts': 1849, '2f': 1850, 'sc': 1851, 'stellar': 1852, 'airdrop': 1853, 'round': 1854, 'receives': 1855, 'siliconinvestor': 1856, 'readmsg': 1857, 'msgid': 1858, 'luck': 1859, 'nearing': 1860, 'atm': 1861, 'cocked': 1862, \"barron's\": 1863, 'problems': 1864, 'causes': 1865, 'hubs': 1866, 'williams': 1867, 'sec': 1868, 'ratio': 1869, 'gartley': 1870, 'buck': 1871, 'bounced': 1872, 'donate': 1873, 'juliangent': 1874, 'wix': 1875, 'pleasedonate': 1876, 'purchase': 1877, 'miss': 1878, 'p32swe': 1879, 'l8': 1880, '5min': 1881, 'upper': 1882, 'war': 1883, '67': 1884, 'leave': 1885, 'kicks': 1886, 'importance': 1887, 'hike': 1888, 'door': 1889, 'rallies': 1890, 'managers': 1891, 'moves': 1892, 'remaining': 1893, 'feye': 1894, 'iwm': 1895, 'example': 1896, 'icymi': 1897, 'cause': 1898, 'strike': 1899, 'welcome': 1900, 'memory': 1901, 'chips': 1902, 'wont': 1903, 'reach': 1904, 'apart': 1905, 'yahootix…': 1906, 'flyer': 1907, 'gipa0': 1908, 'investorsobserver': 1909, 'dre': 1910, 'projects': 1911, 'limited': 1912, 'lack': 1913, 'creates': 1914, 'compared': 1915, 'strikes': 1916, 'american': 1917, 'pulling': 1918, 'yourself': 1919, 'optionpundit': 1920, 'significant': 1921, 'tight': 1922, 'increased': 1923, 'false': 1924, 'ibeacon': 1925, 'qnx': 1926, 'security': 1927, 'row': 1928, 'puc': 1929, 'cm': 1930, 'ven': 1931, 'alert': 1932, 'schedule': 1933, 'banking': 1934, 'recently': 1935, 'trib': 1936, 'triangle': 1937, 'tap': 1938, 'delivery': 1939, '109p': 1940, 'settlement': 1941, 'bankers': 1942, 'dilemma': 1943, 'ez': 1944, 'expires': 1945, 'usage': 1946, 'yoy': 1947, 'former': 1948, 'h1xqp': 1949, 'acting': 1950, '3d': 1951, 'sound': 1952, 'correct': 1953, 'usd': 1954, 'returns': 1955, 'wit': 1956, 'instagram': 1957, 'doomed': 1958, 'e6xgix': 1959, 'helped': 1960, 'segments': 1961, 'forums': 1962, 'eu': 1963, 'catches': 1964, 'european': 1965, '400': 1966, 'running': 1967, 'style': 1968, '2774835': 1969, 'thank': 1970, 'everywhere': 1971, 'rival': 1972, 'it’s': 1973, 'turned': 1974, 'interactive': 1975, '174': 1976, 'midday': 1977, 'techanaly': 1978, 'understanding': 1979, 'simply': 1980, 'given': 1981, 'clouds': 1982, 'brick': 1983, 'mortar': 1984, 'survive': 1985, '6dwnqm': 1986, 'follwing': 1987, 'pennystocksecret': 1988, 'fruit': 1989, 'im': 1990, 'btig': 1991, 'prob': 1992, 'dropping': 1993, 'drops': 1994, 'except': 1995, 'notice': 1996, 'ending': 1997, 'created': 1998, 'art': 1999, 'activist': 2000, 'usatoday': 2001, 'closely': 2002, '119': 2003, 'save': 2004, 'cnbcfastmoney': 2005, 'roughly': 2006, '2015e': 2007, 'vegas': 2008, 'faces': 2009, 'ft': 2010, 'closer': 2011, 'announcement': 2012, 'school': 2013, 'quote': 2014, 'cylindrical': 2015, 'glass': 2016, 'decent': 2017, 'attention': 2018, 'downgrade': 2019, 'similar': 2020, 'individual': 2021, 'energy': 2022, 'splash': 2023, 'qqq': 2024, 'teach': 2025, '4q': 2026, '50sma': 2027, 'google’s': 2028, 'mercadomagico': 2029, 'performed': 2030, 'handle': 2031, 'definitely': 2032, 'stronger': 2033, 'f7': 2034, 'entertaining': 2035, 'educational': 2036, '2793465': 2037, 'study': 2038, 'doc': 2039, 'purchased': 2040, '2791935': 2041, 'equipment': 2042, 'candidate': 2043, 'agree': 2044, 'promotes': 2045, 'ad': 2046, 'tradrdaily': 2047, 'forever': 2048, 'parrot': 2049, 'bar': 2050, 'sue': 2051, 'gillis': 2052, 'issuers': 2053, '1h': 2054, 'charging': 2055, '20150102': 2056, '2011': 2057, 'espn': 2058, 'fighting': 2059, 'eyes': 2060, '1977': 2061, 'incorporated': 2062, 'side': 2063, '101': 2064, 'necessarily': 2065, '2206285': 2066, 'health': 2067, 'ass': 2068, 'territory': 2069, 'implied': 2070, 'mashable': 2071, 'instead': 2072, 'hammer': 2073, 'cnnmon': 2074, 'ie': 2075, 'ppl': 2076, 'vc': 2077, 'advanced': 2078, 'sorry': 2079, 'kick': 2080, '2797705': 2081, 'activity': 2082, 'recovery': 2083, 'ihome': 2084, 'trip': 2085, 'chowdhry': 2086, 'applestock': 2087, 'reportedly': 2088, \"hasn't\": 2089, '2782715': 2090, 'jump': 2091, 'mr': 2092, '37': 2093, 'millionaires': 2094, 'lovely': 2095, 'claims': 2096, \"year's\": 2097, 'weighing': 2098, 'tasty': 2099, 'told': 2100, '82': 2101, 'night': 2102, 'boys': 2103, 'brief': 2104, 'moment': 2105, 'android’s': 2106, 'amid': 2107, 'fake': 2108, 'bibliophiles': 2109, 'rejoice': 2110, 'bookbub': 2111, 'helps': 2112, 'readers': 2113, '1tq3xcn': 2114, 'stephenjohnmoran': 2115, 'ur': 2116, '65': 2117, 'pie': 2118, 'nyse': 2119, 'oct': 2120, 'weeklies': 2121, 'official': 2122, 'zite': 2123, 'dips': 2124, 'idiot': 2125, 'tues': 2126, 'macrumors': 2127, 'sensors': 2128, 'leader': 2129, 'moved': 2130, 'beta': 2131, 'employees': 2132, 'network': 2133, 'fans': 2134, 'buyer': 2135, 'incredible': 2136, 'ill': 2137, 'beast': 2138, 'stockandfinancewatch': 2139, 'mind': 2140, 'tests': 2141, 'solar': 2142, 'ms': 2143, '2000': 2144, 'factor': 2145, 'either': 2146, 'streak': 2147, 'killer': 2148, 'shooting': 2149, 'bbc': 2150, 'b4': 2151, 'interested': 2152, 'generated': 2153, 'linkedin': 2154, 'networks': 2155, 'gtyhm': 2156, 'tool': 2157, 'gm': 2158, '652': 2159, 'counting': 2160, 'doubt': 2161, 'white': 2162, 'union': 2163, '2800595': 2164, 'self': 2165, 'flip': 2166, 'shorts': 2167, 'tonight': 2168, '1evwc2c': 2169, 'homeland': 2170, 'haptic': 2171, 'trailer': 2172, 'delivers': 2173, 'metrics': 2174, 'smaller': 2175, 'invest': 2176, '6m': 2177, 'claytrader': 2178, 'bonacapital': 2179, '1408551985…': 2180, \"who's\": 2181, 'kickstarter': 2182, 'hostage': 2183, 'suing': 2184, 'auto': 2185, 'triples': 2186, 'earns': 2187, 'direct': 2188, 'sequel': 2189, 'extensive': 2190, 'foldable': 2191, 'force': 2192, 'tracker': 2193, 'volumes': 2194, 'barnes': 2195, 'noble': 2196, 'pinned': 2197, '65008576': 2198, 'myself': 2199, 'd1rm6': 2200, 'shoulder': 2201, 'cut': 2202, 'ramp': 2203, 'spotlight': 2204, '65034056': 2205, 't3': 2206, 'regarding': 2207, \"they're\": 2208, 'serious': 2209, 'q3': 2210, 'parking': 2211, 'switching': 2212, 'killing': 2213, '2809625': 2214, 'googles': 2215, 'attributed': 2216, 'computers': 2217, 'damage': 2218, 'php2': 2219, 'lib': 2220, 'cpath': 2221, 'cipath': 2222, 'sym': 2223, 'quite': 2224, 'viedo': 2225, 'recaps': 2226, 'accuracy': 2227, 'j1vug': 2228, 'usat': 2229, '1wql9sz': 2230, 'teeth': 2231, \"you've\": 2232, 'led': 2233, 'ta': 2234, '100sma': 2235, 'hitting': 2236, 'hed': 2237, 'legacy': 2238, 'developing': 2239, '2x': 2240, 'hate': 2241, 'fri': 2242, 'experts': 2243, 'confirm': 2244, 'concern': 2245, 'director': 2246, 'evan': 2247, 'gov': 2248, 'archives': 2249, 'edgar': 2250, '1418091': 2251, '000143774915000420': 2252, 'xslf345x01': 2253, 'rdgdoc': 2254, 'xml…': 2255, 'zhdx8g': 2256, 'reversed': 2257, 'golden': 2258, 'rotation': 2259, '118': 2260, 'yeah': 2261, 'riding': 2262, 'gigantic': 2263, 'essentially': 2264, 'pointing': 2265, 'crap': 2266, 'bollinger': 2267, '71': 2268, 'areas': 2269, 'f5': 2270, 'abc': 2271, 'retest': 2272, 'website': 2273, 'paypal': 2274, 'hardware': 2275, 'acquired': 2276, 'dis': 2277, 'topping': 2278, 'belkin': 2279, 'wemo': 2280, '116': 2281, 'nytimes': 2282, '10apple': 2283, 'pagewanted': 2284, 'all…': 2285, 'generation': 2286, 'eating': 2287, 'snf24': 2288, 'vp4': 2289, 'color': 2290, 'empires': 2291, 'prepare': 2292, 'semiconductor': 2293, '010715': 2294, 'leads': 2295, '65004247': 2296, 'plans': 2297, '2018': 2298, '130': 2299, 'faster': 2300, 'rules': 2301, 'insanity': 2302, 'pr': 2303, 'crossed': 2304, 'tnr': 2305, 'element': 2306, 'project': 2307, 'labrador': 2308, 'db5nrzw': 2309, 'earnweb': 2310, 'analysts’': 2311, 'chatter': 2312, 'solidtrading': 2313, 'theverge': 2314, 'gappy': 2315, 'rkxfht': 2316, 'ipo': 2317, 'daytradersgroupofamerica': 2318, 'discount': 2319, 'jan1': 2320, 'here’s': 2321, 'announced': 2322, 'globally': 2323, 'kids': 2324, 'op': 2325, 'situation': 2326, 'master': 2327, 'coursbund': 2328, 'able': 2329, 'meant': 2330, 'tweets': 2331, 'fails': 2332, 'supports': 2333, 'ui': 2334, 'utbblogs': 2335, 'tweeted': 2336, 'par': 2337, 'adding': 2338, 'mu': 2339, 'tsla': 2340, 'imminent': 2341, 'published': 2342, 'eyeing': 2343, '732922': 2344, 'xp': 2345, 'themes': 2346, 'executive': 2347, 'smarter': 2348, 'highly': 2349, 'poorly': 2350, 'manipulation': 2351, 'finest': 2352, 'movement': 2353, 'gotta': 2354, 'exactly': 2355, 'doubled': 2356, 'reut': 2357, 'rs': 2358, 'macro': 2359, 'manufacturing': 2360, 'opposite': 2361, 'tone': 2362, 'esp': 2363, 'ai': 2364, 'leviat': 2365, 'hn': 2366, 'crash': 2367, 'dual': 2368, 'public': 2369, 'wps': 2370, 'portal': 2371, 'demographic': 2372, 'divide': 2373, 'attracting': 2374, 'voluprof': 2375, 'broadwell': 2376, 'charges': 2377, 'mobilepaymentstoday': 2378, 'picking': 2379, 'spotify': 2380, 'invests': 2381, 'polymer': 2382, 'seeo': 2383, 'wh': 2384, 'kg': 2385, 'weakness': 2386, 'likes': 2387, 'pulled': 2388, 'trap': 2389, 'gartner': 2390, 'expiry': 2391, 'tickers': 2392, 'ema': 2393, 'thinking': 2394, 'bucks': 2395, 'for…': 2396, 'g1v5s': 2397, 'h1vab': 2398, 'retour': 2399, 'holy': 2400, 'cow': 2401, 'suddenly': 2402, 'bgr': 2403, '2010': 2404, '2801055': 2405, 'chessnwine': 2406, 'archive': 2407, 'signs': 2408, '112s': 2409, '5c': 2410, \"xiaomi's\": 2411, 'xiaomis': 2412, 'threaten': 2413, 'breathtaking': 2414, 'anger': 2415, 'fury': 2416, '2806715': 2417, 'whatsapp': 2418, 'excited': 2419, 'name': 2420, 'massive': 2421, 'h1x36': 2422, 'rated': 2423, 'downloads': 2424, \"'in\": 2425, 'covered': 2426, 'doing': 2427, 'jack': 2428, 'reward': 2429, 'pts': 2430, 'upgrade': 2431, 'sne…': 2432, 'dji': 2433, 'finish': 2434, 'gb': 2435, 'hang': 2436, 'bloodbath': 2437, 'fascinating': 2438, '274': 2439, 'calling': 2440, 'kantarworldpanel': 2441, 'china…': 2442, 'ouch': 2443, 'divergence': 2444, 'surprising': 2445, 'tried': 2446, 'ath': 2447, 'las': 2448, 'attack': 2449, '370': 2450, 'tref': 2451, 'trefis': 2452, 'incomweb': 2453, \"there's\": 2454, 'panic': 2455, 'excellent': 2456, '4th': 2457, 'c1rwq': 2458, 'offer': 2459, 'versions': 2460, 'costs': 2461, 'thats': 2462, 'questions': 2463, 'vi': 2464, \"wouldn't\": 2465, 'lowest': 2466, 'peers': 2467, 'triple': 2468, 'risky': 2469, 'common': 2470, '1alfulh': 2471, 'explode': 2472, 'noise': 2473, 'creation': 2474, 'hr': 2475, 'discussion': 2476, 'es': 2477, 'wacky': 2478, 'trim': 2479, 'exact': 2480, 'drj': 2481, 'password': 2482, 'local': 2483, 'newspaper': 2484, 'versus': 2485, 'includes': 2486, 'subcats': 2487, 'pshort': 2488, 'pfull': 2489, 'pname': 2490, 'pkeywords': 2491, 'dispatch': 2492, 'search…': 2493, 'discuses': 2494, 'implication': 2495, 'brainer': 2496, 'interview': 2497, 'tos': 2498, 'dutch': 2499, 'ginyy': 2500, 'curious': 2501, 'secured': 2502, '“flexible': 2503, 'device”': 2504, 't3live': 2505, 'hated': 2506, \"'14's\": 2507, 'winnerbut': 2508, 'excuse': 2509, 'tradi': 2510, 'stocksaints': 2511, 'hunch': 2512, '2804635': 2513, 'et': 2514, '8th': 2515, \"android's\": 2516, '102317264': 2517, 'audio': 2518, 'maker': 2519, 'gas': 2520, 'bac': 2521, 'ends': 2522, 'dumping': 2523, 'galleries': 2524, 'king': 2525, 'formation': 2526, 'afraid': 2527, 'shortage': 2528, 'actually': 2529, 'yrs': 2530, '5128522': 2531, 'starter': 2532, 'broken': 2533, 'lightning': 2534, 'q4…': 2535, 'sling': 2536, 'lookups': 2537, 'however': 2538, 'iron': 2539, 'lies': 2540, 'order': 2541, 'filled': 2542, 'resume': 2543, 'begin': 2544, '8eaybcghqam': 2545, 'surges': 2546, 'baidu': 2547, 'launched': 2548, 'readfulapp': 2549, 'tag': 2550, 'item': 2551, 'dailysample…': 2552, 'usual': 2553, '64991899': 2554, 'recode': 2555, '77': 2556, 'tho': 2557, 'sliding': 2558, '34': 2559, 'greater': 2560, 'ask': 2561, 'prep': 2562, '1fejpv2': 2563, '128': 2564, 'transforming': 2565, 'lollipop': 2566, 'powerful': 2567, 'optpower': 2568, 'replacing': 2569, 'contrarian': 2570, 'daytrading': 2571, 'fukubukuro': 2572, 'keeps': 2573, 'pulqyi': 2574, 'reiterated': 2575, 'btw': 2576, 'possibly': 2577, 'shipments': 2578, 'launching': 2579, 'unveiled': 2580, '815': 2581, 'entries': 2582, 'exits': 2583, 'popularity': 2584, 'advice': 2585, 'quartz': 2586, '811': 2587, 'carnage': 2588, 'primary': 2589, 'bases': 2590, 'legit': 2591, '7zmkxy': 2592, 'h': 2593, 'gadget': 2594, 'homes': 2595, 'loonie': 2596, 'fail': 2597, 'bottoming': 2598, 'thus': 2599, 'uncle': 2600, '2783715': 2601, 'issues': 2602, 'dinner': 2603, 'backed': 2604, 'sony': 2605, 'edge': 2606, 'wrecked': 2607, 'water': 2608, 'confirms': 2609, 'holidays': 2610, 'component': 2611, 'office': 2612, 'sway': 2613, 'playing': 2614, 'beasting': 2615, '12998724': 2616, 'financenews': 2617, 'aapltree': 2618, 'wordpress': 2619, '142': 2620, 'ticket': 2621, 'corporation': 2622, 'opn': 2623, 'july': 2624, 'quarterly': 2625, 'mess': 2626, 'programmer': 2627, 'unusually': 2628, 'number': 2629, 'zero': 2630, 'kept': 2631, '27th': 2632, 'brain': 2633, '64991960': 2634, 'type': 2635, 'each': 2636, 'additions': 2637, 'j1vzv': 2638, 'feeling': 2639, 'actionable': 2640, 'ivolatility': 2641, 'nid': 2642, 'gross': 2643, 'flash': 2644, 'sto': 2645, 'reading': 2646, 'orders': 2647, 'problem': 2648, 'idict': 2649, \"co's\": 2650, '438': 2651, 'straddle': 2652, 'senses': 2653, 'presentation': 2654, 'process': 2655, 'ambitious': 2656, 'lifestreaming': 2657, 'once': 2658, '1050': 2659, 'meh': 2660, 'lame': 2661, 'innovative': 2662, 'appears': 2663, 'healthy': 2664, \"y'day\": 2665, 'profile': 2666, 'oust': 2667, 'squeezed': 2668, 'wedge': 2669, 'pathetic': 2670, 'detailed': 2671, 'opex': 2672, 'stuck': 2673, 'court': 2674, 'haunt': 2675, 'rbl': 2676, '1aq2i3n': 2677, 'peaked': 2678, 'promotion': 2679, 'steady': 2680, 'box': 2681, 'affects': 2682, 'pressure': 2683, '204': 2684, 'unreleased': 2685, 'minimum': 2686, 'files': 2687, 'monthlys1': 2688, 'janney': 2689, 'banked': 2690, 'rides': 2691, 'introduces': 2692, 'teewn': 2693, 'gainers': 2694, 'e2': 2695, 'unveils': 2696, 'plug': 2697, 'dubbed': 2698, 'touched': 2699, '4k': 2700, 'flyover': 2701, 'create': 2702, 'wed': 2703, 'noon': 2704, 'randi2kewl': 2705, 'lots': 2706, '2788135': 2707, 'volkswagen': 2708, 'infotainment': 2709, \"amazon's\": 2710, 'lab126': 2711, 'fastcompany': 2712, '3040383': 2713, 'amazons': 2714, 'lab126…': 2715, 'daniel': 2716, 'riccio': 2717, '2016': 2718, 'ndx': 2719, '93': 2720, 'disappears': 2721, 'mood': 2722, 'h1xqa': 2723, 'madaz': 2724, 'blips': 2725, 'buzz': 2726, 'nosedived': 2727, 'arment': 2728, 'bro': 2729, 'studios': 2730, 'partnerships': 2731, '89266': 2732, 'worse': 2733, 'bias': 2734, 'scores': 2735, 'score': 2736, 'fading': 2737, 'gaps': 2738, 'extends': 2739, 'fund': 2740, '3rd': 2741, 'spike': 2742, 'churn': 2743, '2794695': 2744, 'russell': 2745, 'stand': 2746, 'manipulate': 2747, 'nimble': 2748, 'wanted': 2749, 'seem': 2750, 'joke': 2751, 'train': 2752, 'follows': 2753, 'oculus': 2754, 'throws': 2755, 'gauntlet': 2756, '89473': 2757, 'hub': 2758, 'ti': 2759, '1bljyix': 2760, 'finds': 2761, 'hell': 2762, '89470': 2763, 'gift': 2764, 'patient': 2765, 'yummy': 2766, 'dan': 2767, 'crazy': 2768, 'gouaz': 2769, 'inductive': 2770, 'monitor': 2771, 'beatingthemarket': 2772, 'hoping': 2773, 'lunch': 2774, 'economy': 2775, 'alleged': 2776, 'sensationalist': 2777, 'compelling': 2778, 'overbought': 2779, '5m': 2780, 'repeat': 2781, 'taken': 2782, 'markrogowsky': 2783, 'gesture': 2784, 'controls': 2785, 'isentium': 2786, 'emerge': 2787, 'sustained': 2788, 'accumulation': 2789, \"107's\": 2790, 'candles': 2791, 'exists': 2792, 'mixed': 2793, 'overnight': 2794, 'yea': 2795, 'north': 2796, '5124275': 2797, 'code': 2798, '1bxfbyh”': 2799, 'p1euw': 2800, 'naysayers': 2801, 'lookin': 2802, 'answers': 2803, 'sounds': 2804, 'def': 2805, 'nervous': 2806, 'samesung': 2807, 'loosing': 2808, 'nyc': 2809, 'tickets': 2810, 'repatriate': 2811, '“safety': 2812, '1d92aj4': 2813, '330': 2814, 'kill': 2815, 'attempt': 2816, 'capitalistbull': 2817, 'fifth': 2818, 'kills': 2819, 'several': 2820, 'quickfire': 2821, 'compression': 2822, 'hepatitis': 2823, 'k': 2824, '47': 2825, 'percentage': 2826, 'indicate': 2827, 'www': 2828, 'plunge': 2829, '162051721': 2830, 'mediacontentsharebuttons': 2831, 'decoding': 2832, 'quantum': 2833, '4984117': 2834, '2769365': 2835, '86': 2836, '2fscharts': 2837, '2fstockcharts': 2838, '2fc': 2839, '2fsc': 2840, '3fs': 2841, '3daapl': 2842, '26p': 2843, '26b': 2844, '3d5': 2845, '26g': 2846, '3d0': 2847, '26i': 2848, 'rounded': 2849, 'bottoms': 2850, 'hardly': 2851, '79': 2852, 'quadruple': 2853, 'witching': 2854, \"'perfect'\": 2855, 'getty': 2856, '1duhygz': 2857, '275': 2858, 'yahoofinance': 2859, 'exp': 2860, 'wallstjesus': 2861, 'g56czm8f': 2862, 'henry': 2863, 'recommendations': 2864, 'td': 2865, 'ameritrade': 2866, 'sides': 2867, 'outperformed': 2868, 'compares': 2869, '1zrhrmu': 2870, 'sat': 2871, 'curated': 2872, 'h1uz7': 2873, 'jan2': 2874, '5109079': 2875, 'death': 2876, 'firm': 2877, '700': 2878, 'overheating': 2879, 'y0qjbh0': 2880, '2day': 2881, \"here''s\": 2882, '‘smart': 2883, 'hello': 2884, 'hearing': 2885, 'hurting': 2886, 'theta': 2887, 'dice': 2888, 'flagged': 2889, 'generous': 2890, 'stockmarket': 2891, 'dying': 2892, 'confirmed': 2893, 'gouba': 2894, 'outlier': 2895, 'p5spf3': 2896, 'ak': 2897, 'screens': 2898, 'living': 2899, '675': 2900, 'popping': 2901, 'clearing': 2902, 'historical': 2903, 'stunning': 2904, 'dtl': 2905, 'rates': 2906, 'portable': 2907, 'ntk': 2908, 'dist': 2909, 'beforebell…': 2910, 'lag': 2911, 'fiscal': 2912, 'alone': 2913, \"'sham\": 2914, \"transaction'\": 2915, 'tw': 2916, 'significantly': 2917, 'expands': 2918, 'messaging': 2919, 'including': 2920, '64974393': 2921, 'membership': 2922, 'glucp': 2923, 'tripe': 2924, 'rd': 2925, 'external': 2926, 'hftn': 2927, 'sig': 2928, '12r16ukma': 2929, 'xid': 2930, 'fortune…': 2931, 'hblodget': 2932, 'flying': 2933, 'gdkrt': 2934, 'discuss': 2935, 'features': 2936, 'loading': 2937, 'improved': 2938, 'celebrates': 2939, 'recession': 2940, 'pricewatch': 2941, '10620151': 2942, 'alleges': 2943, 'creep': 2944, 'cashing': 2945, 'consolidation': 2946, 'kirillklip': 2947, 'bust': 2948, 'strategically': 2949, 'transport': 2950, 'magazines': 2951, '9jre4qdr': 2952, 'role': 2953, '1ctn1tl': 2954, 'games': 2955, 'ups': 2956, 'owns': 2957, 'stats': 2958, 'biopic': 2959, 'batch': 2960, 'c1olj…': 2961, '13tl64c': 2962, 'express': 2963, 'volatile': 2964, 'struggling': 2965, 'shareholders': 2966, 'ener': 2967, 'rem': 2968, 'stake': 2969, 'shoot': 2970, '205': 2971, 'broad': 2972, 'marginally': 2973, 'searching': 2974, 'rients': 2975, 'unusual': 2976, 'ytd': 2977, 'sheet': 2978, 'microkernel': 2979, 'reliability': 2980, 'owned': 2981, 'csx': 2982, 'closes': 2983, 'feel': 2984, '12998225': 2985, 'yahoo…': 2986, 'pennystocksuperstar': 2987, '1bohqap': 2988, \"tencent's\": 2989, 'webank': 2990, 'declines': 2991, 'fourth': 2992, '1420674456…': 2993, '1xwjhx4': 2994, 'influence': 2995, 'btfd': 2996, '394': 2997, 'resis': 2998, '8ma': 2999, 'i1vrm': 3000, 'mtg': 3001, 'truth': 3002, 'care': 3003, '2791665': 3004, 'comprehensive': 3005, 'education': 3006, 'tools': 3007, 'confident': 3008, 'caps': 3009, 'siri': 3010, 'gotten': 3011, 'recommend': 3012, '2208875': 3013, 'looms': 3014, 'mc': 3015, 'dragged': 3016, 'l2': 3017, '2800905': 3018, 'word': 3019, 'noted': 3020, '20th': 3021, 'liked': 3022, 'blame': 3023, '1rlcxbb': 3024, 'chance': 3025, 'cripsin': 3026, 'odey': 3027, 'loyalty': 3028, 'expert': 3029, 'execs': 3030, 'heavier': 3031, 'rdr': 3032, '1ajdu4j': 3033, 'sideways': 3034, '1drzrww': 3035, 'keeping': 3036, 'notably': 3037, 'ghq7s': 3038, 'yosemite': 3039, 'wireless': 3040, 'pricing': 3041, '2015http': 3042, 'gamer': 3043, 'raid': 3044, '2792375': 3045, 'army': 3046, 'hotel': 3047, 'california': 3048, 'speed': 3049, 'participate': 3050, 'shazam': 3051, 'vimeo': 3052, '113790513': 3053, 'zy8g8nek': 3054, 'dxs': 3055, 'dbr': 3056, 'argue': 3057, \"'13\": 3058, 'knows': 3059, 'designers': 3060, 'spruce': 3061, 'eventually': 3062, 'booking': 3063, 'lifestream': 3064, '90s': 3065, 'tiny': 3066, 'improves': 3067, 'availability': 3068, 'santa': 3069, 'claus': 3070, 'angst': 3071, 't1eqs': 3072, 'swingtrade': 3073, 'bending': 3074, 'blast': 3075, 'algorithmique': 3076, 'jours': 3077, 'ggdp5': 3078, 'banditcot': 3079, 'tank': 3080, 'oteu4xv': 3081, 'mysterious': 3082, 'glitch': 3083, 'caused': 3084, '1wafkrs': 3085, 'rev': 3086, 'largely': 3087, 'dirt': 3088, \"insider's\": 3089, 'lunchtime': 3090, 'reads': 3091, 'shattering': 3092, 'november': 3093, 'quot': 3094, 'film': 3095, 'zpr': 3096, 'io': 3097, '7uac': 3098, 'brokers': 3099, 'navigator': 3100, 'tutorial': 3101, 'rwb7jg': 3102, 'contributor': 3103, 'bullishness': 3104, 'liking': 3105, '553208898182606848…': 3106, '552115858236272641…': 3107, '88': 3108, 'earning': 3109, 'comp': 3110, 'won': 3111, \"'t\": 3112, 'halfbridge': 3113, 'peak': 3114, 'gftpu': 3115, 'abv': 3116, 'shipping': 3117, 'kidding': 3118, 'stretch': 3119, 'leaked': 3120, 'sketch': 3121, 'careful': 3122, 'notin': 3123, 'p100': 3124, '12stocks': 3125, 'sp100': 3126, 'grind': 3127, '350': 3128, 'sticking': 3129, '89300': 3130, 'disappoint': 3131, 'freakin': 3132, 'himself': 3133, 'usell': 3134, '8183rl': 3135, 'flashratings': 3136, 'lists': 3137, \"stock'\": 3138, 'gvxvv': 3139, 'intends': 3140, 'improve': 3141, 'salvage': 3142, \"109's\": 3143, 'squat': 3144, 'sl': 3145, '1yhndmd': 3146, 'apparently': 3147, 'broker': 3148, '6mo': 3149, 'inflection': 3150, 'partial': 3151, 'alphatrends': 3152, 'f1xyt': 3153, 'listings': 3154, '89169': 3155, 'gqwhf': 3156, 'mega': 3157, 'palo': 3158, 'alto': 3159, 'ambarella': 3160, 'nxp': 3161, 'tough': 3162, '010615': 3163, 'legs': 3164, 'focused': 3165, '981': 3166, 'uranium': 3167, 'pinto': 3168, 'beans': 3169, 'backstory': 3170, '21355033': 3171, 'summary': 3172, 'collectivetraders': 3173, 'fonsietrader': 3174, 'afternoon': 3175, '2803475': 3176, 'crossroad': 3177, '–time': 3178, 'pushing': 3179, 'disruption': 3180, 'firm’s': 3181, '1auhsal': 3182, 'moshe': 3183, 'spends': 3184, 'displays': 3185, 'anchor': 3186, '2014…': 3187, '2791825': 3188, 'newyorker': 3189, 'currency': 3190, 'discussed': 3191, 'th': 3192, 'stockch': 3193, 'sales…': 3194, 'amusing': 3195, 'posting': 3196, '‘price': 3197, 'contestant': 3198, 'direction': 3199, 'he’s': 3200, 'unwraps': 3201, 'gvxva': 3202, 'gvxvs': 3203, 'linear': 3204, 'goub6': 3205, 'gave': 3206, 'releasing': 3207, 'page': 3208, 'pray': 3209, 'combined': 3210, 'shareplanner': 3211, 'featured': 3212, 'ryan': 3213, 'mallory': 3214, '20579': 3215, 'laser': 3216, 'grow': 3217, 'neg': 3218, 'beginners': 3219, 'replay': 3220, 'intoptweb': 3221, 'rips': 3222, 'accelerating': 3223, '1q': 3224, '4l9pulc': 3225, 'xeo': 3226, '1xjosg7': 3227, 'e1rrs': 3228, 'trail': 3229, 'ewg': 3230, 'corrected': 3231, 'socialflow': 3232, 'lifehacker': 3233, 'harder': 3234, 'matters': 3235, 'theinformation': 3236, 'use…': 3237, \"couldn't\": 3238, 'cue': 3239, 'keith': 3240, 'jackson': 3241, '“whoooooooah': 3242, 'nellie”': 3243, '010315': 3244, 'biotech': 3245, 'semiconductors': 3246, 'wa': 3247, 'favo': 3248, 'fa': 3249, 'urite': 3250, 'newsp': 3251, 'betting': 3252, 'systems': 3253, 'goals': 3254, 'exclusive': 3255, 'three28capital': 3256, 'poses': 3257, 'niche': 3258, 'tbd': 3259, 'btigresearch': 3260, 'ing': 3261, 'glad': 3262, '1bvnv2d': 3263, '5115509': 3264, 'decide': 3265, 'collins': 3266, 'fools': 3267, 'thanky': 3268, 'gvxvm': 3269, 'hourly': 3270, 'upward': 3271, 'haven’t': 3272, 'awhile': 3273, 'stayed': 3274, 'rolled': 3275, 'i’ll': 3276, 'anniversary': 3277, \"googl's\": 3278, 'rebuy': 3279, 'llc': 3280, 'perspective': 3281, 'boost': 3282, 'criticism': 3283, 'floor': 3284, '60847405': 3285, '13003196': 3286, \"'iphone\": 3287, \"mini'\": 3288, 'pace': 3289, 'peter': 3290, 'thiel': 3291, 'marijuana': 3292, 'multicam': 3293, 'nest': 3294, 'and…': 3295, 'typo': 3296, 'courtroom': 3297, 'nibbled': 3298, 'bluechipgem': 3299, 'bluechipgems': 3300, '1ipsxuf': 3301, 'bigtime': 3302, 'sources': 3303, '341': 3304, 'map': 3305, 'tweetworldtom': 3306, 'herokuapp': 3307, '764': 3308, 'candidates': 3309, 'replace': 3310, 'cnn': 3311, 'ysty': 3312, 'today…': 3313, 'juice': 3314, 'winner': 3315, 'authoritative': 3316, 'perhaps': 3317, 'downturn': 3318, 'environment': 3319, '060252860': 3320, 'smar': 3321, 'editorial': 3322, 'client': 3323, '54ac82691ce53623784bb32a…': 3324, 'gipwp': 3325, 'igone': 3326, 'knife': 3327, 'followed': 3328, '98': 3329, 'realmoneypro': 3330, 'themes…': 3331, 'rewarding': 3332, 'applewatch': 3333, 'implies': 3334, 'base': 3335, 'stable': 3336, 'extravagant': 3337, 'develops': 3338, 'writes': 3339, '1i4nw2a”': 3340, 'basics': 3341, 'introfin': 3342, 'imho': 3343, '100dma': 3344, 'f1x27': 3345, 'shines': 3346, 'hide': 3347, 'ansh…': 3348, 'forexstat': 3349, 'advstrdle': 3350, 'cashed': 3351, 'forgot': 3352, 'mover': 3353, 'whose': 3354, 'subpar': 3355, 'paying': 3356, 'daytrweb': 3357, 'bo': 3358, 'resist': 3359, 'unbeatable': 3360, 'ebay': 3361, 'awt3': 3362, 'normal': 3363, 'polaroid': 3364, 'shuffle': 3365, 'pack': 3366, 'nope': 3367, 'safari': 3368, 'browser': 3369, '12895': 3370, '121814': 3371, 'tally75000…': 3372, 'smartplugs': 3373, 'flask': 3374, 'kineta': 3375, 'gang': 3376, 'plz': 3377, 'yearly': 3378, 'patented': 3379, 'bent': 3380, 'shov6s': 3381, \"'\": 3382, '2803605': 3383, 'customer': 3384, 'qtr': 3385, '347': 3386, '208': 3387, 'central': 3388, 'fears': 3389, 'perfectly': 3390, 'appstoreios': 3391, 'earned': 3392, '2k': 3393, 'exciting': 3394, '618': 3395, 'suspect': 3396, \"china's\": 3397, 'taste': 3398, 'hand': 3399, '60min': 3400, '89': 3401, 'cru': 3402, 'spikes': 3403, 'curved': 3404, '20dma': 3405, 'default…': 3406, '82v3mz': 3407, 'heading': 3408, 'hereit1st': 3409, '142015': 3410, 'scale': 3411, 'toilet': 3412, 'daringfireball': 3413, 'don’t': 3414, 'building': 3415, 'chase': 3416, 'fixed': 3417, 'upgrades': 3418, 'misleading': 3419, 'opp': 3420, 'relevant': 3421, '2015and': 3422, 'waited': 3423, 'taxes': 3424, 'xperia': 3425, 'braken': 3426, 'blew': 3427, '5131621': 3428, '526': 3429, 'startup': 3430, 'believers': 3431, 'fan': 3432, 'evening': 3433, 'keurig': 3434, 'mountain': 3435, '89611': 3436, 'intro': 3437, 'ugh': 3438, 'performers': 3439, '1bjsyy9': 3440, '1uxqsiw': 3441, '099': 3442, '422': 3443, 'i1vs1': 3444, 'mediacontentstory': 3445, 'otherwise': 3446, 'avc': 3447, 'loopu': 3448, 'frame': 3449, 'volcano': 3450, 'patches': 3451, 'hackers': 3452, 'stopping': 3453, '2008': 3454, 'clay': 3455, 'tour': 3456, 'macintosh': 3457, 'the…': 3458, 'secret': 3459, '2776695': 3460, 'cvs': 3461, 'window': 3462, 'graphed': 3463, 'nextdoorneighbor': 3464, 'chartguy89': 3465, \"'apple\": 3466, \"ground'\": 3467, 'diversified': 3468, 'oems': 3469, 'involved': 3470, 'disappoints': 3471, 'snagged': 3472, 'leverage': 3473, 'ops': 3474, 'squeeze': 3475, 'e1sug': 3476, 'quit': 3477, 'e1rr6': 3478, 'cracks': 3479, 'merchants': 3480, 'cards': 3481, '1bpltjm': 3482, 'perform': 3483, 'nhod': 3484, 'trouble': 3485, 'aristocrat': 3486, 'reit': 3487, 'portfolios': 3488, 'bill': 3489, 'focuses': 3490, 'voice': 3491, 'recognition': 3492, 'royxkn': 3493, 'contrary': 3494, 'strongest': 3495, 'ny2qyc5': 3496, 'paired': 3497, 'pointed': 3498, 'jumper': 3499, 'difficult': 3500, 'family': 3501, 'seconds': 3502, 'threat': 3503, 'rode': 3504, 'greedy': 3505, 'gdks0': 3506, 'dream': 3507, 'scenario': 3508, 'betastra': 3509, 'doable': 3510, 'convinced': 3511, 'abt': 3512, \"everyone's\": 3513, 'symm': 3514, 'pc': 3515, '105c': 3516, 'on…': 3517, 'formed': 3518, 'massacre': 3519, 'downward': 3520, 'begins': 3521, 'winners': 3522, 'gels': 3523, 'marriott': 3524, 'jams': 3525, 'analystratings': 3526, 'patentlyapple': 3527, 'patently': 3528, 'gdkrn': 3529, 'fakes': 3530, 'shorter': 3531, 'approaches': 3532, 'tcrn': 3533, 'ch': 3534, 'die': 3535, 'anticipate': 3536, '265': 3537, 'gftpd': 3538, 'unveiling': 3539, 'doji': 3540, 'slow': 3541, 'theres': 3542, 'webinars': 3543, 'syllabus': 3544, 'wejb0n14zje': 3545, 'changed': 3546, 'without': 3547, 'advantages': 3548, 'studying': 3549, 'emas': 3550, 'successful': 3551, 'gyhog': 3552, 'traction': 3553, \"growth'\": 3554, 'psst': 3555, 'happening': 3556, 'optmarstr': 3557, 'speaker': 3558, 'related': 3559, 'earn': 3560, '8bn': 3561, 'international': 3562, 'blowing': 3563, 'ascent': 3564, 'enerplex': 3565, '331': 3566, 'j1w4n': 3567, 'incoming': 3568, 'lying': 3569, 'salut': 3570, '1b4dt7w': 3571, 'matching': 3572, 'mil': 3573, 'form': 3574, '296': 3575, \"bag'\": 3576, 'event': 3577, 'pause': 3578, 'b1tpt': 3579, 'strategists': 3580, 'moneywiz': 3581, '1fa0lgr': 3582, 'reuters': 3583, '14i9daq': 3584, '•': 3585, 'bucket': 3586, 'stocks—': 3587, 'bdbqcnp': 3588, 'guesses': 3589, 'traderstewie': 3590, 'quarters': 3591, 'pdf…': 3592, 'crying': 3593, 'smh': 3594, 'trimmed': 3595, 'claim': 3596, 'player': 3597, '928': 3598, '856': 3599, '74¢': 3600, 'eight': 3601, 'sets': 3602, 'gopro': 3603, \"htc's\": 3604, 'b1rwr': 3605, 'pros': 3606, '10x': 3607, 'guru': 3608, 'extend': 3609, 'fucking': 3610, 'stages': 3611, 'lie': 3612, 'flattening': 3613, 'pounding': 3614, 'slipping': 3615, 'dust': 3616, 'hiking': 3617, 'norway': 3618, 'posts': 3619, 'tmrw': 3620, 'appeal': 3621, 'farm': 3622, 'employment': 3623, 'res': 3624, 'idevices': 3625, 'skip': 3626, 'processor': 3627, 'intc': 3628, '109s': 3629, 'baby': 3630, '100ma': 3631, 'custom': 3632, 'thestreetmentor': 3633, 'courses': 3634, 'chain': 3635, '100day': 3636, 'punch': 3637, 'items': 3638, 'frm': 3639, 'hole': 3640, 'surface': 3641, 'accelerated': 3642, 'provides': 3643, 'bbry': 3644, 'handles': 3645, 'svp': 3646, '804': 3647, 'fave': 3648, 'capital': 3649, 'benchmark': 3650, \"'deceiving'\": 3651, '218': 3652, 'danieleran': 3653, 'cal': 3654, '2203615': 3655, 'tmw': 3656, 'avago': 3657, 'technologies': 3658, 'groundbreaking': 3659, '1iftxub': 3660, 'utter': 3661, '2006': 3662, 'fm': 3663, 'visit': 3664, 'danger': 3665, 'bite': 3666, \"they'll\": 3667, '345': 3668, 'catalysts': 3669, 'printing': 3670, 'bluetooth': 3671, 'shouldn’t': 3672, 'kaaahhhbooom': 3673, 'dumb': 3674, 'carry': 3675, 'blodget': 3676, 'buybacks': 3677, 'sp': 3678, 'puzzle': 3679, 'lg': 3680, '2064': 3681, 'sick': 3682, 'places': 3683, 'j1xbd': 3684, 'f1xcm': 3685, 'steal': 3686, \"ces'\": 3687, 'thunder': 3688, 'strongly': 3689, 'jbl': 3690, '5131306': 3691, 'recieved': 3692, 'third': 3693, 'series': 3694, 'iknowfirst': 3695, 'standing': 3696, '110c': 3697, 'grab': 3698, 'correlating': 3699, '1wuxh2a': 3700, 'sprd': 3701, 'angiemiles': 3702, '65033530': 3703, 'telling': 3704, 'wi': 3705, 'fi': 3706, 'mail': 3707, '90913': 3708, 'vk2mma5gtw9': 3709, 'gigaom': 3710, 'dayhttp': 3711, 't1emh': 3712, 'lock': 3713, '14bger6': 3714, \"right'\": 3715, 'rotating': 3716, 'towards': 3717, 'eoy': 3718, 'boredom': 3719, 'a1slk': 3720, 'worked': 3721, '108p': 3722, 'inc’s': 3723, 'googls': 3724, 'mispricing': 3725, 'thin': 3726, 'confirmation': 3727, 'extending': 3728, 'entering': 3729, 'hmmm': 3730, 'failure': 3731, 'gapped': 3732, 'narrows': 3733, 'onto': 3734, 'result': 3735, 'favor': 3736, 'bloom': 3737, 'bg': 3738, 'r1fh2': 3739, 'stinky': 3740, 'silent': 3741, 'deadly': 3742, 'fart': 3743, 'etfs': 3744, 'goldman': 3745, 'rnb6': 3746, 'basher': 3747, 'followers': 3748, 'black': 3749, 'nasty': 3750, 'lookn4wins': 3751, 'stuff': 3752, '211': 3753, 'school’s': 3754, '99s': 3755, 'fool': 3756, 'beautiful': 3757, 'visual': 3758, 'divergent': 3759, 'compatible': 3760, 'accessories': 3761, 'shorting': 3762, 'such': 3763, 'int': 3764, 'andrewreineck': 3765, 'topbreakoutstocks': 3766, 'surprises': 3767, 'evercore': 3768, \"immersion's\": 3769, '2797775': 3770, 'immersions': 3771, 'wildly': 3772, 'joined': 3773, 'chump': 3774, 'nd4lgg9': 3775, '9th': 3776, 'coach': 3777, 'mba': 3778, 'unlock': 3779, 'conviction': 3780, 'gftvl': 3781, '1brb3da': 3782, 'gftpi': 3783, '30s': 3784, 'shock': 3785, 'year’s': 3786, '14ujcfb': 3787, 'ecosystem': 3788, 'stocktweets': 3789, \"twitter's\": 3790, \"'while\": 3791, \"away'\": 3792, 'engagement': 3793, 'i1w5k': 3794, 'expectations': 3795, 'companys': 3796, 'r1edh': 3797, 'p1el4': 3798, 'swarovski': 3799, 'crystals': 3800, 'creating': 3801, 'weather': 3802, 'storm': 3803, 'edited': 3804, 'offering': 3805, 'mod': 3806, 'general': 3807, 'fo': 3808, 'cover': 3809, 'crossing': 3810, '551027251865980928…': 3811, 'smallcapvoice': 3812, 'nl': 3813, '1zhkvgv': 3814, 'briansozzi': 3815, 'underlying': 3816, 'tgt': 3817, 'radically': 3818, 'redesign': 3819, 'reversals': 3820, 'comparing': 3821, 'retailers': 3822, 'infographic': 3823, 'measured': 3824, 'r1fhh': 3825, 's1eus': 3826, 'yen': 3827, 'isg11': 3828, 'printer': 3829, 'realfanboy101': 3830, 'irrational': 3831, 'exerberance': 3832, 'sucking': 3833, 'playbook': 3834, 'guessing': 3835, 'person': 3836, 'kite': 3837, 'eaglealpha': 3838, 'newsletters': 3839, '1400…': 3840, 'wallstcheatsheet': 3841, 'rewind': 3842, 'iii': 3843, 'dividends': 3844, '21401475': 3845, 'trailing': 3846, 'thesis': 3847, 'challenges': 3848, '1419656198…': 3849, 'amat': 3850, '20ma': 3851, 'intra': 3852, 'mx': 3853, '1agbkhs': 3854, 'aftermarket': 3855, 'stc': 3856, 'tko': 3857, 'tkostocks': 3858, 'usd3': 3859, 'hep': 3860, 'saturate': 3861, 'decided': 3862, 'proven': 3863, 'mental': 3864, 'sitting': 3865, 'loving': 3866, 'brothers': 3867, 'dead': 3868, 'excluding': 3869, 'f': 3870, 'predict': 3871, 'abandon': 3872, 'exchange': 3873, 'hrs': 3874, 'violet': 3875, 'uv': 3876, 'stradbasi': 3877, 'invstplc': 3878, '1xnhqyv': 3879, 'founder': 3880, 'fight': 3881, 'although': 3882, \"y'all\": 3883, 'horrible': 3884, 'deliver': 3885, '‘hyper': 3886, 'local’': 3887, 'wrist': 3888, 'fridays': 3889, 'fiasco': 3890, '89560': 3891, \"new'\": 3892, 'sh': 3893, 'speaking': 3894, 'carmakers': 3895, '1xcur6i': 3896, 'trw': 3897, 'notable': 3898, 'discounts': 3899, 'climb': 3900, 'topic': 3901, '2122': 3902, 'msg25920': 3903, \"16gb's\": 3904, 'unavailable': 3905, 'calenspr': 3906, 'digit': 3907, 'ripe': 3908, 'blocked': 3909, '273': 3910, 'came': 3911, 'levered': 3912, 'overseas': 3913, 'ny': 3914, 'resolution': 3915, 'widely': 3916, 'remote': 3917, 'pe': 3918, 'mention': 3919, '112c': 3920, 'brian': 3921, 'they’re': 3922, 'ignorant': 3923, 'bottomed': 3924, 'tick': 3925, 'btd': 3926, 'pcmag': 3927, '91101': 3928, 'vk6h58dhl94': 3929, 'biz': 3930, 'optimism': 3931, 'present': 3932, 'evidence': 3933, 'disappointed': 3934, 'sponsor': 3935, 'qardio': 3936, 'misrepresentation': 3937, 'begun': 3938, 'schlage': 3939, 'nuts': 3940, 'macxdvd': 3941, 'macx': 3942, 'dvd': 3943, 'ripper': 3944, 'videobloghttps': 3945, 'attempts': 3946, '20e': 3947, 'indecision': 3948, 'gpro': 3949, 'difference': 3950, \"world's\": 3951, 'reform': 3952, 'totally': 3953, '102311539': 3954, '7cheadline': 3955, '2792425': 3956, 'agreed': 3957, 'sune': 3958, 'effective': 3959, 'notes': 3960, '1hr': 3961, 'i1wdj': 3962, 'replicates': 3963, 'tower': 3964, 'entered': 3965, 'flirting': 3966, 'clock': 3967, 'offerings': 3968, 'giant': 3969, 'gikky': 3970, 'reduced': 3971, 'methodical': 3972, 'mastery': 3973, 'la': 3974, 'vetr': 3975, 'deserves': 3976, 'owensassetfund': 3977, 'behavioral': 3978, '1bkzkgc': 3979, 'introduced': 3980, 'feasting': 3981, 'sometimes': 3982, 'steps': 3983, 'walter': 3984, 'cha': 3985, 'heads': 3986, 'louder': 3987, 'hear': 3988, 'watchers': 3989, 'dependent': 3990, 'bgc': 3991, 'victorious': 3992, 'strengthens': 3993, 'didnt': 3994, 'continuation': 3995, 'insiderinsights': 3996, 'opk': 3997, 'sncr': 3998, 'gpre': 3999, '915': 4000, 'r1evr': 4001, 'ck': 4002, '65032361': 4003, 'timing': 4004, 'techbund': 4005, 'showstoppers': 4006, '82nz7g': 4007, 'slingshot': 4008, 'presumptuously': 4009, 'accident': 4010, 'write': 4011, 'ice': 4012, 'squad': 4013, '7jnil': 4014, '13yyfe3': 4015, 'castlesinspain': 4016, \"'09\": 4017, '10day': 4018, '30min': 4019, 'formula': 4020, '8jkguf': 4021, 'mucker': 4022, 'bird': 4023, 'texas': 4024, 'mysteriously': 4025, 'vanishes': 4026, '8060q5': 4027, 'gpflv': 4028, 'moneyhttp': 4029, 't1emc': 4030, 'desks': 4031, 'glue': 4032, 'aboutgetting': 4033, '1ah6fy0': 4034, 'engulfing': 4035, 'acts': 4036, 'favorably': 4037, \"reit's\": 4038, 'end…': 4039, 'reached': 4040, 'guygo”': 4041, 'suited': 4042, 'thinkingprofit': 4043, 'lsdde…': 4044, 'quietly': 4045, 'loltraders': 4046, 'sheep': 4047, 'prodigious': 4048, 'stimulus': 4049, 'instance': 4050, '17hhxxz': 4051, '2f17hhxxz': 4052, '24usd': 4053, '3dm': 4054, '3dt63235231163': 4055, 'usd…': 4056, 'weaker': 4057, 'e1rlq': 4058, \"school's\": 4059, '80xhqd': 4060, 'f1x7a': 4061, 'cmon': 4062, 'cute': 4063, 'anytime': 4064, 'canuck2usa': 4065, 'surfaces': 4066, 'macbook…': 4067, '8260pv': 4068, 'kicked': 4069, '1a8dict': 4070, '1zya8bw': 4071, 'keqwlwl': 4072, \"reachapp's\": 4073, 'multitasking': 4074, '7znykw': 4075, '1a6w9ta': 4076, 'advocating': 4077, 'pursue': 4078, 'som': 4079, 'prc': 4080, 'a1skl': 4081, 'cheatsheet': 4082, 'vodka': 4083, 'e1stp': 4084, 'sweep': 4085, '1hpwsvx': 4086, 'tooo': 4087, '216': 4088, 'costanzo': 4089, '29884217…': 4090, 'zap': 4091, '10amest': 4092, 'sg22': 4093, '1ftu1ls': 4094, '1tvxrci': 4095, 'goog': 4096, '400s': 4097, 'swyw': 4098, 'screwed': 4099, 'ringtone': 4100, 'kqgefokv': 4101, 'vconomics': 4102, 'bottomfrenzy': 4103, '2019': 4104, 'visits': 4105, 'spaceship': 4106, 'j1vi4': 4107, '1a7rszu': 4108, 'survey': 4109, 'zte': 4110, 'touts': 4111, 'presents': 4112, 'inheritor': 4113, '1xww5fz': 4114, '1ajhmnx': 4115, 'clip': 4116, 'rotten': 4117, 'weighs': 4118, 'mindblowing': 4119, '1tm8kwq': 4120, 'ginvk': 4121, 'dear': 4122, 'yellen': 4123, 'inflation': 4124, 'deflation': 4125, '2780305': 4126, 'ansh': 4127, 'etf…': 4128, 'j1x57': 4129, 'practice': 4130, 'pays': 4131, 'cuts': 4132, 'numerous': 4133, '2433': 4134, 'gluce': 4135, 'woodies': 4136, 'meet': 4137, 'hyperdon': 4138, 'watch’': 4139, 'knockoff': 4140, 'comeback': 4141, '76v9pvg4': 4142, 'string': 4143, 'section': 4144, 'psycho…': 4145, 'joining': 4146, 'hells': 4147, '1s8iztn': 4148, 'optgreek': 4149, '2xhd34': 4150, '327': 4151, 'a1sbl': 4152, 'phys': 4153, 'vfntsdlr': 4154, 'hence': 4155, 'indices': 4156, 'heavily': 4157, 'weighted': 4158, 'jimcramer': 4159, 'gore': 4160, 'goubl': 4161, 'h1vay': 4162, 'djn': 4163, 'hat': 4164, 'trick': 4165, \"'chess\": 4166, 'nail': 4167, '1hgne9y': 4168, 'e1ttc': 4169, 'b1tmk': 4170, 'feb20': 4171, 'booom': 4172, '50ema': 4173, 'curbed': 4174, 'trouncing': 4175, 'decks': 4176, 'techtraderdaily': 4177, 'builders': 4178, 'broader': 4179, 'announcing': 4180, 'particularly': 4181, 'sort': 4182, 'sai': 4183, 'kit': 4184, 'translucent': 4185, '11clvqq': 4186, 'atmcharts': 4187, 'a1rwd': 4188, \"'dollar\": 4189, \"king'\": 4190, 'fucked': 4191, 'announcements': 4192, '81wlkf': 4193, 'trendline': 4194, 'recommends': 4195, '112p': 4196, '333': 4197, 'frugal': 4198, 'showtime': 4199, 'spinoff': 4200, 'independent': 4201, '102ish': 4202, '29882633…': 4203, 'suits': 4204, 'h4lag': 4205, 'h4lah': 4206, 'j1vml': 4207, 'sham': 4208, 'transaction…': 4209, 'healthcare': 4210, 'mq': 4211, 'dang': 4212, '819v1b': 4213, '87': 4214, 'barely': 4215, 'performing': 4216, 'shameful': 4217, 'tied': 4218, 'greece': 4219, '1txaqpb': 4220, 'valaafshar': 4221, 'tilt': 4222, 'mandate': 4223, 'google…': 4224, 'e1rhu': 4225, 'surged': 4226, 'parabolic': 4227, 'sar': 4228, 'fastest': 4229, '733613': 4230, 'sagarch': 4231, 'worry': 4232, 'mar2015': 4233, '1x2': 4234, '1bvtafs': 4235, 'steam': 4236, 'competition—and': 4237, 'boygenius': 4238, 'choose': 4239, '832hcs': 4240, \"appleinsider's\": 4241, 'image': 4242, 'font': 4243, '806nxx': 4244, 'merry': 4245, 'ichristmas': 4246, '123014': 4247, '732577': 4248, '89pqv': 4249, '1aqpvk9': 4250, 'outflows': 4251, '1ax956f': 4252, '1zxl1ud': 4253, 'r1eor': 4254, '1zxkyia': 4255, 'generate': 4256, 'dominant': 4257, 'ewanspence': 4258, 'iknowfirstuk': 4259, 'gftvs': 4260, '1xdtqfm': 4261, '177oaae': 4262, 'slightly': 4263, 'jake13': 4264, 'h1vpx': 4265, 'ios8': 4266, 'kirill': 4267, 'klip': 4268, 'vkkwp2xrsou': 4269, 'asked': 4270, 'fine': 4271, '1xch9gu': 4272, 'adi': 4273, 'brcm': 4274, 'cemp': 4275, 'cir': 4276, 'cpn': 4277, 'cy': 4278, 'ddd': 4279, 'eqy': 4280, '1baipqh': 4281, 'correlation': 4282, 'iphone6': 4283, \"tv's\": 4284, '7510647': 4285, 'automation…': 4286, 'kiddie': 4287, 'grown': 4288, '7zk09x': 4289, 'r1efk': 4290, 'decorticator': 4291, 'usa': 4292, 'kwyoerhkua8…': 4293, 'grim': 4294, 'casts': 4295, 'teen': 4296, 'actress': 4297, \"cofounder's\": 4298, 'daughter': 4299, '820c1x': 4300, 'slumping': 4301, \"it'll\": 4302, 'gusto': 4303, 'unified': 4304, 'inbox': 4305, 'handoff': 4306, '7zkbs1': 4307, 'unholy': 4308, 'alliance': 4309, 'e1rhb': 4310, 'lowering': 4311, 'positives': 4312, 'light': 4313, '291m': 4314, 'flow2': 4315, 'sequential': 4316, 's1edt': 4317, 'rumors': 4318, 'visa': 4319, 'mastercard': 4320, '115c': 4321, 'afterwards': 4322, \"'should\": 4323, 'treated': 4324, \"evidence'\": 4325, 'fuss': 4326, 'figures': 4327, 'mortgaged': 4328, 'wife': 4329, 'boatload': 4330, 'up…': 4331, 'gyqcy': 4332, 'sits': 4333, 'investorroom': 4334, 'updates…': 4335, 'flawed': 4336, 'united': 4337, 'theory': 4338, 'wars': 4339, 'positioning': 4340, 'offs': 4341, 'limb': 4342, 'cleverly': 4343, 'named': 4344, 'runaway': 4345, 'runway': 4346, 'throwback': 4347, 'r1fpl': 4348, 'revenued': 4349, 'insurgent': 4350, '352': 4351, 'reclaims': 4352, 'amidst': 4353, 'huawei': 4354, 'resistances': 4355, 'rough': 4356, 'msdos': 4357, 'surf': 4358, '2760995': 4359, 'starthttp': 4360, 'h1vn2': 4361, 'uup': 4362, 'hop': 4363, 'bandwagon': 4364, 'combo': 4365, \"thursday's\": 4366, '1amdbmr': 4367, 'meaning': 4368, 'universe': 4369, 'food': 4370, 'pewinternet': 4371, 'sheets': 4372, 'jbooton': 4373, 'consider': 4374, '1rklbny': 4375, 'utb': 4376, 'comment': 4377, '11725…': 4378, 'dema': 4379, 'biased': 4380, 'sbxgma': 4381, 'now700': 4382, 'staunchtrading': 4383, 'glhqh': 4384, 'marketnone': 4385, 'knitting': 4386, 'widening': 4387, 'noting': 4388, 'a1rhi': 4389, 't0lh8gq': 4390, 'thespecial': 4391, 'plain': 4392, 'xhz1nq0w': 4393, 'simplicity': 4394, '83jbmb': 4395, '1d0omph': 4396, 'md': 4397, 'jcp': 4398, 'galt': 4399, 'twtrshort': 4400, 'sny': 4401, '13003179': 4402, 'virnetx': 4403, 'appe': 4404, 'oun67ft': 4405, 'd1ri7': 4406, 'la…': 4407, 'traderstoolbox': 4408, 'grew': 4409, 'vcs': 4410, 'publicappstore': 4411, 'standalone': 4412, 'affected': 4413, '1asxatx': 4414, 'c1rwx': 4415, 'parallax': 4416, 'h0fdd': 4417, 'endeavors': 4418, 'msmy': 4419, '0017': 4420, '0007': 4421, 'breakeven': 4422, '1mq5an': 4423, 'nlightn': 4424, 'd1rpk': 4425, 'baiters': 4426, 'bait': 4427, 'exaggeration': 4428, 'fracas': 4429, '80ygh2': 4430, '782827341828…': 4431, 'xom': 4432, 'serves': 4433, 'mouth': 4434, 'familar': 4435, 'microblog': 4436, '149lkix': 4437, 'ave': 4438, 'leaner': 4439, 'healthier': 4440, 'appear': 4441, 'pits': 4442, 'f1wjt': 4443, '334': 4444, '505': 4445, 'turnaround': 4446, 'alcatel': 4447, \"onetouch's\": 4448, '81y1bw': 4449, '35m': 4450, 'poor': 4451, 's2': 4452, 'j1wnp': 4453, '81': 4454, 'jut': 4455, 'bold': 4456, 'glneo': 4457, 'ems': 4458, 'exported': 4459, 'asia': 4460, 'tie': 4461, 'mobilecommercedaily': 4462, 'nielsen': 4463, 'majority': 4464, 'requires': 4465, 'mobile…': 4466, 'sbux': 4467, 'mking': 4468, \"hi'er\": 4469, '1bovnhp': 4470, 'retro': 4471, '80hkng': 4472, 'shitting': 4473, 'doesnt': 4474, 'autocorrect': 4475, 'mad': 4476, '1xq6muf': 4477, 'install': 4478, 'poop': 4479, 'emojis': 4480, '1wspyf3': 4481, '1zxk9uh': 4482, 'glhqz': 4483, 'controlled': 4484, 'wifi': 4485, 'feet…': 4486, '81xt27': 4487, 'to…': 4488, '7zr99r': 4489, 'p1fjy': 4490, \"nothin'\": 4491, 'constructively': 4492, 'fighter': 4493, 'wing': 4494, 'deathstar': 4495, 'toldubro': 4496, '…”': 4497, '1an2vp9': 4498, '1hfo7cg': 4499, 'dock': 4500, 'designed': 4501, '83fbzc': 4502, '19632894': 4503, 'americal': 4504, 'refigurator': 4505, 'resolve': 4506, 'partialling': 4507, 'f1vxh': 4508, '822fhn': 4509, 'sup': 4510, '50s': 4511, 'movers': 4512, 'h1wxf': 4513, 'iavian': 4514, '3t3i': 4515, '1s1kdsy': 4516, 'bitchez': 4517, '44qnp5': 4518, 'demonstration': 4519, 'gy4ey': 4520, '1hqxluz': 4521, 'pfls': 4522, 'noteable': 4523, 'workshop': 4524, 'protector': 4525, '818m7t': 4526, 's1elr': 4527, 'precision': 4528, 'lmao': 4529, '1aaqfta': 4530, 'lilmac': 4531, 'toooo': 4532, 'arguments': 4533, 'regardless': 4534, '1tprf2y': 4535, '¼': 4536, 'uide': 4537, '8124081': 4538, 'uprof': 4539, '25…': 4540, '17m': 4541, '4g': 4542, '20m': 4543, 'smarteranalyst': 4544, 'rulestocktrading': 4545, 'nothin': 4546, 'mimentum': 4547, 'region': 4548, '9ema': 4549, 'jobs…': 4550, 'fully': 4551, '1wenocc': 4552, 'imitate': 4553, 'sneak': 4554, 'woah': 4555, 'c1tp2': 4556, '80yp5h': 4557, 'rippin': 4558, 'bodes': 4559, 'lagging': 4560, '5s': 4561, 'today—thx': 4562, 'writing—keep': 4563, 'revised': 4564, 'clues': 4565, 'downplay': 4566, 'majorcontributor': 4567, '‘home': 4568, 'product’': 4569, 'fxexaminer': 4570, '20d': 4571, 'eying': 4572, 'b1rvh': 4573, '“see': 4574, 'wib': 4575, '‘ipad': 4576, \"pro'\": 4577, 'presence': 4578, \"device's\": 4579, 'top…': 4580, '81cpvt': 4581, 'g1wwd': 4582, 'that’s': 4583, 'mvg': 4584, 'kidshttp': 4585, '13x53aj': 4586, '2f13x53aj': 4587, '3dd': 4588, '3dt12601188059': 4589, 'rr': 4590, 'g1vie': 4591, 'piece': 4592, '1ycqgkp': 4593, \"'em\": 4594, 'sync': 4595, 'wreaked': 4596, 'figure': 4597, 'pound': 4598, 'noticing': 4599, 'depreciation': 4600, 'iphone4': 4601, 'h1vky': 4602, 'runwe': 4603, 'jumps': 4604, '1anrysn': 4605, '1hnpbgd': 4606, 'york': 4607, 'city': 4608, 'payment': 4609, '1xm3vj4': 4610, 'q0h': 4611, 'pumper': 4612, '19643150': 4613, 'tristan': 4614, '“approaching': 4615, '”12': 4616, '“as': 4617, '389': 4618, 'advertise': 4619, \"'expert'\": 4620, 'tdansherrod': 4621, 'vulnerable…': 4622, 'gdkrp': 4623, 'iam': 4624, 'chances': 4625, 'spiking': 4626, 'showcasing': 4627, '1ewpszb': 4628, 'scoring': 4629, 'getaom': 4630, '784144943945…': 4631, '73343strength': 4632, 'pushed': 4633, 'shes': 4634, 'iqnwdmr5': 4635, 'mall': 4636, 'shoppers': 4637, 'guqot': 4638, 'ipen': 4639, '7k': 4640, 'dramatically': 4641, 'sung': 4642, 'flipkart': 4643, 'myfitnesspal': 4644, 'airwatch': 4645, 'dropcam': 4646, 'uber': 4647, 'snapchat': 4648, 'loads': 4649, 'shit': 4650, 'smkmjn': 4651, 'forth': 4652, 'moon': 4653, 'r1foa': 4654, 'appl': 4655, 'wa13ncho': 4656, 'eflrvwu': 4657, 'gild': 4658, 'fml': 4659, 'known': 4660, \"'pile\": 4661, \"on'\": 4662, '817f4d': 4663, '2074': 4664, '249': 4665, '353': 4666, '1d9oog4': 4667, '552123149030940674…': 4668, '4me': 4669, 'ominous': 4670, 'bailout': 4671, 'c1rxu': 4672, 'radioshack': 4673, '58655546541…': 4674, 'abbv': 4675, 'unexpected': 4676, '1ic5sdb': 4677, 'molassass': 4678, 't1e2i': 4679, 'slight': 4680, 'skew': 4681, 'j1v7z': 4682, 'h1vav': 4683, '2013…': 4684, 'tomorrows': 4685, 'skipping': 4686, '1ddcw9u': 4687, '89uqu': 4688, 'sandisk': 4689, 'showcases': 4690, '1x3t29o': 4691, '80dpt7': 4692, \"aapl's\": 4693, 'slips': 4694, 'bbry’s': 4695, 'iot': 4696, 'activism': 4697, 'ground…': 4698, 'terror': 4699, '1blbd3s': 4700, 'crapple': 4701, 'comparison': 4702, 'conversation2': 4703, '↑↑↑↑': 4704, 'u4wlq': 4705, 'gmitsopoulos': 4706, 'cocktails': 4707, 'gong': 4708, 'possessed': 4709, 'cameras': 4710, 'glucz': 4711, '696': 4712, 'journo': 4713, 'cousin': 4714, 'iphone’s': 4715, 'sending': 4716, 'selfies': 4717, 'buyin': 4718, '50k': 4719, '1zx6kmr': 4720, 'right’': 4721, 'r1dxi': 4722, 'constructive': 4723, 'wasting': 4724, 'mainly': 4725, 'f1vdk': 4726, 'tmorow': 4727, 'emotional': 4728, 'biasses': 4729, 'g1vvm': 4730, 'heard': 4731, '“here': 4732, 'jesus': 4733, 'entrance': 4734, 'entrance…': 4735, 'unanswered': 4736, '81trpr': 4737, 'bendgate': 4738, 'purpose': 4739, '1tpseae': 4740, 'monetize': 4741, 'transaction': 4742, 'fee': 4743, 'underperform': 4744, 'a1sak': 4745, 'complex': 4746, 'issue': 4747, 'eve': 4748, 'yui8wi0fhb”': 4749, 'regression': 4750, 'switched': 4751, 'p1fby': 4752, 'stupidity': 4753, 'guqod': 4754, 'gvxv1': 4755, 'xly': 4756, 'basic': 4757, 'j1vp3': 4758, 'boosted': 4759, '151500254': 4760, '4chhccts': 4761, 'calander': 4762, 'gdkrl': 4763, 'scroll': 4764, 'annoyed': 4765, 'understatement': 4766, 'off…': 4767, '2793575': 4768, 'biotechnology': 4769, \"they'd\": 4770, 'received': 4771, '29878822…': 4772, 'pennies': 4773, 'prize': 4774, 'pen': 4775, 'spik': 4776, 'genpq': 4777, 'helmet': 4778, 'luscious': 4779, 'hair': 4780, '81wp6f': 4781, 'frightfulbut': 4782, 'delightfulwhoops': 4783, 'dean': 4784, 'karnazes': 4785, '1vq0k5t': 4786, 'reporting': 4787, 'broadcast': 4788, 'ponder': 4789, 'possibility': 4790, 'blowout': 4791, 'optionsprofits': 4792, 'fitstar': 4793, 'mmaser': 4794, '1ilvs0s': 4795, 'itz': 4796, 'pix': 4797, 'clarity': 4798, 'jul': 4799, '87¢': 4800, 'scott': 4801, 'whenever': 4802, 'bourses': 4803, 'greeneuro': 4804, '1894': 4805, '85breather': 4806, \"80's\": 4807, \"30's\": 4808, 'indications': 4809, 'kicking': 4810, 'backside': 4811, '117': 4812, 'gizmodo': 4813, 'befo': 4814, '1677091364': 4815, 'socialflow…': 4816, 'bidding': 4817, 'stays': 4818, 'craking': 4819, '871': 4820, 'nomnomnom': 4821, 'nation': 4822, '732941': 4823, 'tinder': 4824, 'swipes': 4825, '19612881': 4826, 'projection': 4827, 'slowly': 4828, '1zxyaz7': 4829, '17jmudj': 4830, 'h1qsc': 4831, '1acitih': 4832, 'foxonstocks': 4833, 'i1wpy': 4834, 'monthsstill': 4835, 'ergaining': 4836, 'fracking': 4837, 'upgraded': 4838, '1abyl3a': 4839, 'glhqk': 4840, 'h1wbg': 4841, 'prettygirltrader': 4842, 'polar': 4843, 'disorder': 4844, 'techinsights': 4845, 'teardown': 4846, 'ghqkq': 4847, 'o6xo5bx': 4848, '“probably': 4849, '750': 4850, 'december’': 4851, 'woes': 4852, 'russians': 4853, 'kaylatausche': 4854, 'cent': 4855, 'aggressively': 4856, 'd1sux': 4857, 'vkvovk2cq3q': 4858, 'arrow': 4859, '13uz54': 4860, 'gftly': 4861, 'iangertler': 4862, 'rabois': 4863, 'verizon': 4864, 'fibretrace': 4865, 'ranges': 4866, '5295': 4867, 'dr010514': 4868, '520': 4869, 'meat': 4870, 'bone': 4871, 'air…': 4872, 'galcon': 4873, 'galactic': 4874, 'conquest': 4875, '80bjy1': 4876, 'thier': 4877, 'fun': 4878, 'citi': 4879, '12897': 4880, 'tally60000…': 4881, 'participated': 4882, 'cyptrader': 4883, 'kabooom': 4884, '1hi54hg': 4885, 'r1f7f': 4886, 'unwind': 4887, 'deliberate': 4888, 'aftermkt': 4889, 'premkt': 4890, 'infoblox': 4891, '30pm': 4892, '1wwxrdt': 4893, '1ahdqkz': 4894, 'generations': 4895, 'chief': 4896, 'considerin': 4897, 'conglomerate': 4898, 'nature': 4899, 'd1s5o': 4900, '1zxb1kp': 4901, '20150104': 4902, 'intact': 4903, 'ties': 4904, '2744905': 4905, 'socket': 4906, 'prime': 4907, 'beneficiary': 4908, 'explosive': 4909, 'market…': 4910, '40dma': 4911, 'roller': 4912, 'coaster': 4913, 'historic': 4914, 'extreme': 4915, 'dld': 4916, 'bz': 4917, 'd4gqc': 4918, 'lively': 4919, 's1ef2': 4920, 'b1shb': 4921, '1xpragl': 4922, 'ragincajun': 4923, 'p1g0k': 4924, '2795485': 4925, 'consecutive': 4926, 'eo8ygh': 4927, 'puking': 4928, 'bob': 4929, \"marley's\": 4930, 'b1tnk': 4931, 'lytro': 4932, '805rvq': 4933, 'owu9tfjjham…': 4934, 'forcing': 4935, 'f1wgj': 4936, 'fundamentals': 4937, 'g1wfp': 4938, 'integrations': 4939, \"home'\": 4940, '81nzxb': 4941, 'collin': 4942, '1hkgae2': 4943, '1htqudc': 4944, 'us8': 4945, 'archive1': 4946, '9c3804a16b0968abce7a3b26a': 4947, '1b0fb0e288': 4948, '317289ac72…': 4949, '14hy4cp': 4950, 'mine': 4951, 'd1ti7': 4952, '70mil': 4953, '81ynvp': 4954, 'cheapies': 4955, 'launch…': 4956, '1tdhezv': 4957, \"momo's\": 4958, 'printed': 4959, '1ahdomq': 4960, '1hi9k0p': 4961, 'g1w9j': 4962, 'gftm2': 4963, '1hoqwbl': 4964, 'cables': 4965, '82fsdy': 4966, 'donald': 4967, 'yacktman': 4968, 'moats': 4969, '1rrru': 4970, 'f1x7f': 4971, 'janwk5': 4972, 'butterfly': 4973, 'tommorrow': 4974, 'more…': 4975, 'minimalist': 4976, 'represent': 4977, 'future…': 4978, '82xsh5': 4979, 'flex': 4980, 'muscles': 4981, 'q1ebr': 4982, 'continuing': 4983, 'roooolllllll': 4984, '370370767718…': 4985, 'foxa': 4986, 'kmi': 4987, 'dec16th': 4988, 'j1vpo': 4989, 't1fgj': 4990, 'frosted': 4991, 'wallpapers': 4992, '812zl5': 4993, 'aprl': 4994, 'akay': 4995, 'tracking': 4996, 'ps': 4997, '10c': 4998, 'r1fts': 4999, 'hmmmm': 5000, 'p1fal': 5001, '116s': 5002, 'tsrc': 5003, 'applewf…': 5004, 'birthday': 5005, 'wikipedia': 5006, 'wiki': 5007, 'keithmccullough': 5008, 'qzdrmrd': 5009, 'axm8': 5010, 'e6iq5': 5011, 'f1vme': 5012, '1acf3ec': 5013, 'elevator': 5014, 'i1wow': 5015, 'slims': 5016, 'pocs': 5017, 'e1rdp': 5018, 'i1vhp': 5019, 'drawn': 5020, 'lo': 5021, 'mighty': 5022, 'murkier': 5023, 'weight': 5024, 'enjoy': 5025, '1hwuuaa': 5026, 'continuous': 5027, 'condor': 5028, 'advironco': 5029, 'thompson': 5030, 'implying': 5031, 'msxmgnb': 5032, 'extended': 5033, 'dime': 5034, 'healthkit': 5035, 'solution': 5036, '3m': 5037, '63ish': 5038, 'connect': 5039, '1toolo1': 5040, 'tide': 5041, \"buffett's\": 5042, 'berkshire': 5043, 'hathaway': 5044, '2785375': 5045, 'object': 5046, 'h1vx3': 5047, 'racernic': 5048, 'tune': 5049, 'assets': 5050, 'divergences': 5051, 'cleaning': 5052, 'fgusw22x': 5053, 'drew': 5054, 'kkewvnl9': 5055, '1zjnaqf': 5056, 'guqog': 5057, 'egg': 5058, '1waxook': 5059, 'seek': 5060, 'p1ghy': 5061, 'e1srg': 5062, 'e1t52': 5063, 't1fjx': 5064, 'restaurants': 5065, 'heating': 5066, 'fewer': 5067, 'neighborhood': 5068, 'wilson’s': 5069, 'critique': 5070, '1a0ozki': 5071, 'gftia': 5072, 'sad': 5073, 'execute': 5074, '247wallst': 5075, 'debit': 5076, 'intbund': 5077, '’17': 5078, 'tweeting': 5079, '1420343590…': 5080, 'dannysullivan': 5081, 'stinkin': 5082, 'secondary': 5083, 'descending': 5084, 'attempting': 5085, 'averages': 5086, 'itm': 5087, 'japanese': 5088, '221650691964': 5089, 'lh': 5090, 'defaultdomain': 5091, 'hash': 5092, 'item339b69277c…': 5093, 'peace': 5094, '595111668387…': 5095, 'ego': 5096, 'andrew': 5097, 'axyr': 5098, '18rhriq': 5099, 'oftentype': 5100, 'billing': 5101, '7zppzm': 5102, 'montblanc': 5103, '‘e': 5104, \"strap'\": 5105, 'traditional': 5106, '80k7rq': 5107, 'incipio': 5108, 'trestle': 5109, '‘defend': 5110, \"bend'\": 5111, '8254j8': 5112, '830bpg': 5113, 'decay': 5114, 'illustrations': 5115, '1xuzays': 5116, 'mophie': 5117, '822rcz': 5118, 'b1rmw': 5119, 'b1rmx': 5120, 'bravo': 5121, 'gftpp': 5122, 'weeklys': 5123, 'autoimmune': 5124, 'drug': 5125, 'f1wd5': 5126, 'glhqv': 5127, 'amazon…': 5128, '552900540531605504…': 5129, 'volum': 5130, 'underestimate': 5131, \"mm's\": 5132, 'gamble': 5133, 'bouncehttp': 5134, 'skygrid': 5135, '1ywoxec': 5136, 'bullet': 5137, 'ephemerid': 5138, 'molasync': 5139, 'planets': 5140, '81vm3r': 5141, 'cmc': 5142, 'cmcmarkets': 5143, 'vkpafnprj': 5144, 'frontier': 5145, 'foundation': 5146, 'skips': 5147, '1wwyxxw': 5148, 'notch': 5149, 'packaging': 5150, 'reminds': 5151, 'classy': 5152, 'sophisticated': 5153, '1zya4sz': 5154, 'i1wfx': 5155, '143edz4': 5156, '357': 5157, 'devs': 5158, 'tu': 5159, 'c1scm': 5160, 'reread': 5161, 'gftvh': 5162, 'scully': 5163, 'dig': 5164, 'hopes': 5165, '8iry4…': 5166, 'saving': 5167, 'butt': 5168, 'analytics': 5169, '431': 5170, 'impressions': 5171, '409': 5172, 'sry': 5173, 'delay': 5174, '1xvromz': 5175, 'built': 5176, 'omhja37': 5177, 'cutting': 5178, 'phablet': 5179, 'activation': 5180, 'climbs': 5181, 'statista': 5182, '3098': 5183, 'phablets': 5184, 'conversation': 5185, 'sched': 5186, '1mq34g': 5187, 'shared': 5188, 'f1vmx': 5189, 'masks': 5190, 'lego': 5191, 'bionicle': 5192, 'mask': 5193, 'of…': 5194, '7zm5mc': 5195, 'casually': 5196, 'polls': 5197, 'intentions': 5198, 'dinged': 5199, 'forging': 5200, 'path': 5201, '1xeltij': 5202, 'fist': 5203, 'shaking': 5204, 'b1rzv': 5205, 'postpaid…': 5206, \"benzinga's\": 5207, 'iv': 5208, 'wks': 5209, 'camel': 5210, 'hump': 5211, \"d'exception\": 5212, 'macg': 5213, 'dexception': 5214, '86540…': 5215, 'r1f2q': 5216, '19624983': 5217, 'gftih': 5218, '1hkq9og': 5219, '19618427': 5220, '1akukdq': 5221, 'porn': 5222, 'lovers': 5223, '8364ch': 5224, '1yukpkg': 5225, 'roth': 5226, 'ira': 5227, 'contribution': 5228, '145ish': 5229, 'hangover': 5230, 'february…': 5231, 'janw': 5232, \"bbg's\": 5233, 'ian': 5234, 'aware': 5235, 'wearabless': 5236, 'ym84h7c': 5237, 'entirely': 5238, 'resonating': 5239, 'linked': 5240, 'lyons': 5241, 'arment…': 5242, 'cellular': 5243, 'telephone': 5244, 'cbsnews': 5245, 'allegedly': 5246, '1aumijw': 5247, 'j1vlj': 5248, 'f1vnz': 5249, 'd1rqc': 5250, 'fmty': 5251, '19609605': 5252, 'defend': 5253, 'romance': 5254, 'a1rdt': 5255, 'payouts': 5256, 'topped': 5257, 't1erj': 5258, '1aiz11n': 5259, '83zfqf': 5260, 'seat': 5261, '1hnmtaq': 5262, 'author': 5263, 'philip': 5264, 'elmer': 5265, 'dewitt': 5266, '90497': 5267, 'symbo': 5268, 'up6ro…': 5269, '60609415': 5270, 'keepin': 5271, '80v1bl': 5272, '5¢': 5273, 'toronto': 5274, 'b1sk3': 5275, 'h1x5e': 5276, 'inks': 5277, 'pepper': 5278, 'snapple': 5279, 'drink': 5280, 'capsule': 5281, 'j1o': 5282, 'surpassed': 5283, '1xcukki': 5284, 'yay': 5285, 'b1sni': 5286, 'actual': 5287, 'buycalopt': 5288, '2799925': 5289, 'gmhbc': 5290, 'knowing': 5291, 'besides': 5292, 'unlikely': 5293, 'boat': 5294, 'capex': 5295, 'goofy': 5296, '1akuiep': 5297, '2809585': 5298, \"c'mon\": 5299, 'geahjhhz': 5300, 'wwad': 5301, 'determine': 5302, 'd1ryk': 5303, 'bury': 5304, 'adx': 5305, 't1fbs': 5306, 'au': 5307, 'ibtimes': 5308, '577932': 5309, 'vksllaxhyen': 5310, 'relatively': 5311, 'b1sm5': 5312, 'avoiding': 5313, 'ebola': 5314, '27…': 5315, 'holdings': 5316, '309': 5317, '1s1mc4b': 5318, 'proudly': 5319, 'displaying': 5320, '225043077': 5321, 'q1fwh': 5322, 'cupertino': 5323, 'california―january': 5324, '2015―apple®': 5325, '1xkcfox': 5326, 'closet': 5327, 'coverd': 5328, \"'buy'\": 5329, 'detected': 5330, 'screencast': 5331, 'rkff7ie5au': 5332, '1mq34f': 5333, 'fy15': 5334, 'releasetuesday': 5335, '2015at': 5336, '1fzy34d': 5337, '1anrz9b': 5338, 'dma…': 5339, 'luxury': 5340, '1aquhvz': 5341, 'icymiapple': 5342, 'perception': 5343, 'abbreviated': 5344, 'screwups': 5345, '…but': 5346, 'statue': 5347, 'empire': 5348, 'superficial': 5349, 'perceptions': 5350, 'a1rmv': 5351, 'quarter…': 5352, 'j1wjh': 5353, '552473796234719232…': 5354, 'i1vg0': 5355, 'your…': 5356, '81byhq': 5357, 'sky': 5358, 'mot': 5359, '1zrsyav': 5360, '15http': 5361, 's1ete': 5362, 'nxt': 5363, 'guided': 5364, '1984': 5365, 'culture': 5366, '82pbw4': 5367, 'comcast': 5368, 'philstockworld': 5369, 'tends': 5370, 'sloppy': 5371, '83f2fy': 5372, 'appreciate': 5373, 'sincerely': 5374, 'ikfrussia': 5375, 'gftvo': 5376, '828qhr': 5377, 'opportunistic': 5378, 'amount': 5379, 'atllesaassttttttt': 5380, 'ten': 5381, \"'flows\": 5382, 'workflow': 5383, '82w0jd': 5384, 'lobster': 5385, 'provide': 5386, 'twits': 5387, 'gulnf': 5388, 'goubq': 5389, 'amzg': 5390, 'aue': 5391, 'cldt': 5392, 'cpss': 5393, 'kmx': 5394, 'orex': 5395, 'payx': 5396, 'swks': 5397, '1vqmedm': 5398, 'kdx': 5399, 'grsfc': 5400, 'h1vuv': 5401, '1isu469': 5402, 'faith': 5403, 'cramer': 5404, '301': 5405, 'overtook': 5406, \"'largest\": 5407, \"cap'\": 5408, 'c1tlw': 5409, 'a1tmi': 5410, '1zxy7mv': 5411, 'anyway': 5412, 'shudnt': 5413, 'affect': 5414, 'sour': 5415, 'ap': 5416, '1tyluhd': 5417, '1tqvwhu': 5418, 'checkout': 5419, 'capitalcube': 5420, '1i7rjgf': 5421, '16th': 5422, \"it'd\": 5423, 'inappropriate': 5424, '4m': 5425, 'ipods': 5426, \"fy'14\": 5427, 'fuel': 5428, '…rev': 5429, 'divisions': 5430, 'prft': 5431, 'expired': 5432, '245': 5433, 'fia': 5434, 'championship': 5435, '80fdrp': 5436, '098': 5437, 'scammed': 5438, '1zxxucy': 5439, '1zy9qq0': 5440, '618ext2': 5441, 'sooo': 5442, 'stewie': 5443, 'reveal': 5444, '1tesqam': 5445, '1kpmtzc': 5446, 'eliminate': 5447, 'differences': 5448, 'stopcost': 5449, 'wozniak': 5450, 'ca': 5451, 'spent': 5452, 'comfortable': 5453, 'familiar': 5454, 'juncture': 5455, '29881779…': 5456, '82yy9p': 5457, 'yessssssssss': 5458, 'paints': 5459, 'recurring': 5460, 'colin': 5461, '1ajffri': 5462, 'd1sir': 5463, 'accept': 5464, '821mbf': 5465, '735': 5466, 'bikes': 5467, 'babies': 5468, '14kp5vu': 5469, 'legal': 5470, '481': 5471, '2794535': 5472, 'penetrates': 5473, 'swingweb': 5474, 'tl': 5475, 'clocked': 5476, '50dma': 5477, 'believing': 5478, 'goodnight': 5479, 'kingston': 5480, '—short': 5481, '82z4r5': 5482, '1bb5cuy': 5483, 'gftis': 5484, 'macnn': 5485, 'po': 5486, '3mxwim': 5487, \"kobe's\": 5488, '1evxkki': 5489, 'directions': 5490, 'til': 5491, 'q1erw': 5492, 'beauty': 5493, 'scenarios': 5494, 'gftit': 5495, \"ubs'\": 5496, 'steven': 5497, 'milunovich': 5498, 'accounted': 5499, 'conditional': 5500, 'busy': 5501, 'googcond': 5502, 'philiped': 5503, 'inline': 5504, 'milkball': 5505, 'precise': 5506, 'sixteen': 5507, 'd1rur': 5508, 'plaguing': 5509, 'vfm': 5510, '1awl6w5': 5511, 'backdown': 5512, '817kpz': 5513, 'spring': 5514, 'boots': 5515, 'zoetis': 5516, '1bvpaop': 5517, 'letting': 5518, '1ki8g5y': 5519, 'busted': 5520, 'looked': 5521, 'scalping': 5522, 'rhe': 5523, 'skeptical': 5524, 'tomaspray': 5525, 'strock': 5526, '1ywim0s': 5527, '1ahjdi4': 5528, 'basis': 5529, '90983': 5530, 'cleared': 5531, 'whaaaaa': 5532, 'bloomberg': 5533, 'newsarchive': 5534, 'sid': 5535, 'arelvkwbmav0…': 5536, 'mmm': 5537, 'typical': 5538, 'exposure': 5539, 'bonds': 5540, '13qlghe': 5541, 'wearable’s': 5542, '5297': 5543, 'dr010615': 5544, 'jimmy': 5545, 'iovine': 5546, 'swindled': 5547, '89587': 5548, \"shorty's\": 5549, \"disney's\": 5550, '82gdrw': 5551, 'thinkback': 5552, 'thinkbac': 5553, 'radar': 5554, '2yrs': 5555, 'c1tm0': 5556, 'q1g1j': 5557, 'replacement': 5558, 'diptic': 5559, 'canvaspop': 5560, 'landscape': 5561, '80l4gl': 5562, 'i’d': 5563, 'throw': 5564, '1axceiy': 5565, 'partly': 5566, 'tweaktown': 5567, '1zvfyc3': 5568, 'j1w4t': 5569, 'brake': 5570, 'abcd': 5571, 'dish’s': 5572, 'businessweek': 5573, 'television…': 5574, 'pluses': 5575, 'minuses': 5576, 'strdstrn': 5577, 'xosaf': 5578, \"davidnelsoncfa's\": 5579, 'gvxv5': 5580, '1htvgkd': 5581, 'handful': 5582, 'writers': 5583, 'diary': 5584, 'nye…': 5585, 'silly': 5586, 'afford': 5587, 'dial': 5588, 'internets': 5589, '1awmeg0': 5590, 'stroooong': 5591, '1tq4v9s': 5592, '60day': 5593, '385965': 5594, 'j1wc8': 5595, 'hunt': 5596, 'g1wrr': 5597, 'exited': 5598, 'gearing': 5599, '1xp6nd3': 5600, '2791985': 5601, 'xd': 5602, 'dives': 5603, 'quark': 5604, 'se': 5605, 'curie': 5606, 'module': 5607, '1aoxpzball': 5608, '055': 5609, '13tknlt': 5610, 'topflighttrades': 5611, 'telease': 5612, 'replaced': 5613, 'supporters': 5614, 'tolerate': 5615, '2767555': 5616, '1wkkrw2': 5617, 'synonym': 5618, 'plagiarism': 5619, 'extremely': 5620, 'copycat': 5621, '83dv5m': 5622, 'sample': 5623, 'c1t2h': 5624, 'let’s': 5625, \"'atomic\": 5626, 'pinball': 5627, \"collection'\": 5628, 'beloved…': 5629, '83ckrw': 5630, 'courts': 5631, '83hcrc': 5632, 'horse': 5633, 'doctor': 5634, 'oppenheimer': 5635, '50d': 5636, '1efvzfb': 5637, 'aggravated': 5638, 'parsing': 5639, 'phenomenal': 5640, 'unlike': 5641, 'ball': 5642, 'clunky': 5643, 'unreliable': 5644, '1tkgu7n': 5645, 'digits': 5646, 'useful': 5647, 'resurrect': 5648, 'junk': 5649, 'drawer': 5650, '83y9ds': 5651, 'showed': 5652, '13xp0je': 5653, '1dneoqd': 5654, 'foods': 5655, 'cio': 5656, \"'significant\": 5657, '1x0yu8y': 5658, \"set's\": 5659, 'e1td5': 5660, 'quagmires': 5661, '82xqst': 5662, 'explodes': 5663, 'lvo': 5664, 'volscan': 5665, '19614973': 5666, 'b1rpv': 5667, 'oracle': 5668, 'macy’s': 5669, '13sona8': 5670, 'west': 5671, 'fanatical': 5672, 'weapon': 5673, 'zagg': 5674, 'hardware…': 5675, '81f51n': 5676, 'eyjzijoidcisimkioijfmxkybwg4zjuwynpmd2f6zij9…': 5677, '1akulqr': 5678, 'yikyakapp': 5679, 'burned': 5680, 'thumb': 5681, 'auburn”': 5682, 'deficit': 5683, 'collapse': 5684, 'inverted': 5685, 'proves': 5686, 'installs': 5687, 'neowin': 5688, 'kitkat': 5689, '01…': 5690, 'jeeze': 5691, 'chasing': 5692, 'screwing': 5693, 'worldwiderev': 5694, 'john': 5695, 'solomon': 5696, '1ztswxl': 5697, 'disrupters': 5698, 'destruction': 5699, 'intl': 5700, 'cms': 5701, 'b9677026': 5702, '8b6d': 5703, '11e4': 5704, 'ae73': 5705, '00144feabdc0': 5706, 'slide0…': 5707, \"mommy's\": 5708, 'sensation': 5709, 'tripled': 5710, \"int'l\": 5711, 'd1ruq': 5712, 'chg': 5713, 'e1rx2': 5714, \"cto's\": 5715, 'byod': 5716, '1ahxpnw': 5717, '14mssh5': 5718, 'gvxv2': 5719, 'you’re': 5720, 'believer': 5721, 'levie': 5722, 'together': 5723, 'solar’s': 5724, '110000325': 5725, 'heffx': 5726, 'vk05ccznbrs': 5727, 'fundamental': 5728, 'standpoint': 5729, 'outrageous': 5730, 'stance': 5731, 'apologies': 5732, 'flurry': 5733, 'tracked': 5734, 'journaling': 5735, 'rebranding': 5736, 'blipfoto': 5737, '80wsht': 5738, '“macbook': 5739, 'stealth”': 5740, '1hnxhn9': 5741, 'revision': 5742, 'angus': 5743, '1vs8ehy': 5744, 'cycle': 5745, 'components': 5746, 'reeled': 5747, 'sleemstockpicks': 5748, '‘coming': 5749, 't1evw': 5750, '152600384': 5751, 'sudden': 5752, 'billions': 5753, '887': 5754, 'g1vho': 5755, 'swore': 5756, 'downtread': 5757, \"japan's\": 5758, \"'lucky\": 5759, 'doles': 5760, 'goods': 5761, '1zhimpn': 5762, 'finished': 5763, 'normalizing': 5764, 'weary': 5765, 'perennial': 5766, 'lamentation': 5767, 'tiresome': 5768, 'adverse': 5769, 'fda': 5770, 'send': 5771, 'lab': 5772, 'thousand': 5773, 'g1wew': 5774, 'b1roy': 5775, \"you'll\": 5776, 'glucm': 5777, 'asks': 5778, 'yells': 5779, 'booyacasha': 5780, 'hangs': 5781, 'shine': 5782, '1f9sppe': 5783, 'syna': 5784, 'qorvo': 5785, 'incumbent': 5786, 'equivocal': 5787, '1ho6z3x': 5788, 'stepping': 5789, '1zwpb0k': 5790, '145wvxu': 5791, 'salphaaapl': 5792, 'wrc': 5793, '80xhbz': 5794, 'unprecedented': 5795, 'distro': 5796, 'p1gog': 5797, 'p1fvn': 5798, 'swooped': 5799, '285107085149…': 5800, 'included': 5801, '‘lucky': 5802, 'specials': 5803, '7ztt76': 5804, '2776825': 5805, 'oom': 5806, 'inloworbit': 5807, 'stepped': 5808, 'jinx': 5809, 'spam': 5810, '1yg7d8o': 5811, 'delayed': 5812, 'downdraft': 5813, 'swiping': 5814, 'y0nn2': 5815, 'meanwhile': 5816, 'erodes': 5817, 'troubling': 5818, 'performer': 5819, 'manual': 5820, 'fcc': 5821, '809g1b': 5822, 'supplier': 5823, 'ginqa': 5824, 'returned': 5825, '4q12': 5826, 'decreased': 5827, 'shareholder': 5828, '3212485839x0x787361': 5829, '552af8f9': 5830, '3c45': 5831, '423d': 5832, 'ab92': 5833, '4fa93d529d81': 5834, '20of': 5835, '20capital': 5836, '20timeline': 5837, '20q414': 5838, 'makers': 5839, 'institutional': 5840, 'pivots': 5841, 'yahtzee': 5842, 'ignites': 5843, 'everybody': 5844, '1zxkbma': 5845, 'gauging': 5846, 'hired': 5847, 'q1fgh': 5848, 'f1whp': 5849, 'imacs': 5850, '1fhpstb': 5851, '76': 5852, '82cgyn': 5853, 'lockheed': 5854, 'canard': 5855, 'rumour': 5856, 'mta': 5857, 'shame': 5858, 'stupid': 5859, 'diff': 5860, 'leagues': 5861, 'mktg': 5862, 'wknd': 5863, 'stinking': 5864, 'enuf': 5865, \"he'll\": 5866, 'doesn’t': 5867, '81c6cy': 5868, '256k': 5869, '146k': 5870, 'putscalls': 5871, 'betweenbulls': 5872, 'tuff': 5873, 'accordance': 5874, 'warning': 5875, 'c1rn9': 5876, 'comferm': 5877, 'shake': 5878, 'currencies': 5879, 'sink': 5880, 'g1wr5': 5881, 'overpay': 5882, 'gftie': 5883, '1hoqwrt': 5884, 'tmblr': 5885, 'z9du4s1zatl5b': 5886, 'luckiest': 5887, 'ceos': 5888, '1xkyydc': 5889, 'd9vefcx': 5890, \"'shrinking'\": 5891, '30655176': 5892, 'ocid': 5893, '30ish': 5894, 'cellphone': 5895, 'trendspot': 5896, 'd6x5': 5897, 'johnwordock': 5898, '1anapta': 5899, '60758575': 5900, 'fest': 5901, 'resumes': 5902, 'loyal': 5903, 'marketsharegains': 5904, '8f': 5905, '91133': 5906, 'vk66u7gz3ho': 5907, 'rumble': 5908, 'equal': 5909, 'ylb': 5910, 'supt': 5911, 't1fka': 5912, 'em': 5913, 'depend': 5914, 'd1sql': 5915, 'enabled': 5916, '‘switch’': 5917, '‘smartplug’': 5918, 'switch': 5919, 'watchs': 5920, 'earnings…': 5921, '1fjbw2d': 5922, 'extra': 5923, 'shelly': 5924, 'palmer': 5925, 'f6at79': 5926, 'reiterations': 5927, 'aauky': 5928, 'abg': 5929, 'anfgy': 5930, 'armh': 5931, 'atuk': 5932, 'bcs': 5933, 'bd15': 5934, 'bsyby': 5935, 'cscg': 5936, '1fiwmu3': 5937, 'knocking': 5938, 'park': 5939, '7488495': 5940, 'aol…': 5941, 'illusion': 5942, 'choice': 5943, '813z09': 5944, 'staz': 5945, 'video…': 5946, 'watcharound': 5947, 'canton': 5948, '54a5e0f7a88039b809dd0c9f…': 5949, 'mfrancois13': 5950, 'homie2989': 5951, 'xepvsumomd': 5952, 'g1vjq': 5953, 'mentorship': 5954, 'vkrmsum9dcs': 5955, 'burning': 5956, '599': 5957, 'fair': 5958, 'bair': 5959, 'peeling': 5960, 'onion': 5961, 'phony': 5962, 'doom': 5963, 'reaction': 5964, '7zldpv': 5965, 'outlandish': 5966, 'j1va7': 5967, 'weighed': 5968, 'segment': 5969, 'mktshare': 5970, '19613274': 5971, '1xk3gy5': 5972, 'mistakes': 5973, 'corrodes': 5974, 'delights': 5975, 'magma': 5976, '19619171': 5977, 'nowmay': 5978, 'slowlycomes': 5979, 'wechat': 5980, 'techcrunch': 5981, 'increasingly': 5982, 'brands': 5983, 'modified': 5984, 'magic': 5985, 'trackpad': 5986, 'knurled': 5987, 'protruding': 5988, 'resonater': 5989, 'reduces': 5990, 'u4x06': 5991, 'andro': 5992, 'symmetric': 5993, 'patterns': 5994, 'j1xq7': 5995, 'aside': 5996, 'tremendous': 5997, 'secs': 5998, 'scan': 5999, 'thumbprint': 6000, 'reacts': 6001, 'reassert': 6002, 'g1vsc': 6003, 'teaser': 6004, '‘five': 6005, 'nights': 6006, \"freddy's\": 6007, '3′': 6008, '80ms2b': 6009, 'alright': 6010, 'predix': 6011, '20k': 6012, 'natgas': 6013, 'wti': 6014, 'ruble': 6015, '€': 6016, 'huntsman': 6017, 'uhm': 6018, 'booker': 6019, \"blackberry's\": 6020, 'systemshttp': 6021, 'crackberry': 6022, 'systems…': 6023, 'r1etr': 6024, 'cowen': 6025, 'semis': 6026, 'pcs': 6027, \"'stable'\": 6028, 'nasdaqaapl': 6029, '90424': 6030, 'vkqn': 6031, 'c8rbtt': 6032, 'gapping': 6033, 'judge': 6034, 'composure': 6035, 'i1wjr': 6036, '1brxbij': 6037, 'r1fhb': 6038, \"'no\": 6039, \"brainer'\": 6040, '5300': 6041, 'dr010714': 6042, 'saturation': 6043, '1be0wh2': 6044, 'multimedia': 6045, 'grsf5': 6046, 'di': 6047, 'satan': 6048, 'tse': 6049, 'russian': 6050, 'dailym': 6051, '1k6erk1”': 6052, '1fjbyan': 6053, 'explanation': 6054, 'dated': 6055, '1wbgyom': 6056, 't1fte': 6057, 'declined': 6058, 'extent': 6059, 'developments': 6060, 'dwtu6e': 6061, 'regular': 6062, 'label': 6063, 'b1sum': 6064, 'influenced': 6065, 'revs': 6066, 'saggy': 6067, 'cup': 6068, 'drooping': 6069, 'f1ve4': 6070, 'undercorns': 6071, 'stage': 6072, 'economics': 6073, 'd1s91': 6074, '1zyo9gr': 6075, 'f1vzt': 6076, '1vhwxcz': 6077, '1hfiq9e': 6078, 'gdkrz': 6079, 'sigue': 6080, 'debil': 6081, 'julianyosovitch': 6082, 'ar': 6083, 'vkwp2nkg': 6084, 'ri…': 6085, 'hacking': 6086, '1vvrbdw': 6087, 'chipmaker': 6088, 'reaps': 6089, 'rewards': 6090, '733012': 6091, 'analog': 6092, 'plagued': 6093, 'g1vg6': 6094, 'cos': 6095, 'a1rj6': 6096, 'seg': 6097, 'younger': 6098, 'server': 6099, 'formalizes': 6100, 'smb3': 6101, '1xdlqfc': 6102, 'satisfaction…': 6103, 'etechcrunch': 6104, 'secretly': 6105, 'a1rys': 6106, 'hammered': 6107, \"micron's\": 6108, '3q3gei': 6109, 'horizon': 6110, '191728738': 6111, 'a1rgd': 6112, 'jan…': 6113, '552130951103262720…': 6114, '90153': 6115, 'i1wv6': 6116, 'pressured': 6117, '80glk3': 6118, '40105900': 6119, '2090': 6120, 'rinse': 6121, 'mash': 6122, '12998224': 6123, 'latecomer': 6124, 'load': 6125, 'returning': 6126, 'cn': 6127, '0107': 6128, 'c98649': 6129, '8832410': 6130, 'threefold': 6131, '13tpi8k': 6132, 'heavens': 6133, 'crosshairs': 6134, '1iqleun': 6135, 'manana': 6136, 'sapporo': 6137, 'japan': 6138, 'ht': 6139, 'iurlsc4sek': 6140, '1tocwgj': 6141, 'ibex': 6142, \"spain's\": 6143, 'rent': 6144, 'knew': 6145, 'gigs': 6146, 'advertised': 6147, '7474947': 6148, 'storage…': 6149, '207': 6150, 'undistorted': 6151, 'kjo8d': 6152, 'saved': 6153, 'y2nsfwfi': 6154, 'folios': 6155, 'knomo': 6156, 'mate': 6157, 'moshi': 6158, '81yg2q': 6159, \"grandfather's\": 6160, 'csco': 6161, '1dprg3f': 6162, 'killin': 6163, 'yummly': 6164, 'integrates': 6165, 'instacart': 6166, 'recipe': 6167, 'ingredients': 6168, '81q0jj': 6169, 'v84wqia': 6170, 'stockstat': 6171, 'site…': 6172, 'plenty': 6173, 'faders': 6174, '1hcgaqh': 6175, 'pasted': 6176, '2013s': 6177, 'nailed': 6178, 'gooood': 6179, 'temptraq': 6180, 'thermometer': 6181, '816pn7': 6182, 'evade': 6183, 'thusly': 6184, 'p1f58': 6185, 'gdkrw': 6186, 'generates': 6187, 'freecashflo': 6188, 'bankif': 6189, \"trader's\": 6190, 't1eho': 6191, 'analyzing': 6192, 'q1g7n': 6193, '150426022': 6194, 'p1fh3': 6195, 'darkens': 6196, '733017': 6197, 'vía': 6198, 'doomavoid': 6199, 'falseprophets': 6200, 'beatsbydre': 6201, 'foxbusiness': 6202, '3975991699001': 6203, 'playlist': 6204, '3365167752001': 6205, 'clips': 6206, '3975991699001…': 6207, 'portion': 6208, '210005129': 6209, 'jacks': 6210, 'blitz': 6211, '82wgcv': 6212, 'prospect': 6213, 'partnerships…': 6214, 'ecb': 6215, 'eurozone': 6216, 'iduskbn0kf0t020150106…': 6217, 't1f9k': 6218, 'slideee': 6219, 'bail': 6220, 'jyarow': 6221, 'hasnt': 6222, '3…”': 6223, 'paild': 6224, '2052': 6225, 'nvo': 6226, 'investments': 6227, 'grandpa': 6228, 'glgbh': 6229, 'h1vgd': 6230, '1htwd9d': 6231, 'variety': 6232, 'motives': 6233, 'u4wpb': 6234, 'cease': 6235, 'nuqp7b': 6236, 'gurman': 6237, '82dpv3': 6238, 'rejected': 6239, 'nw': 6240, 'refraining': 6241, 'piggishness': 6242, '304': 6243, '1hcakct': 6244, '83': 6245, '1atsfnn': 6246, '1hmu8dw': 6247, \"'wickedly\": 6248, \"successful'…\": 6249, '5135372': 6250, 'i1wut': 6251, 'a1tku': 6252, 'pay’s': 6253, 'e1rqd': 6254, 'ltd': 6255, 'wowzers': 6256, 'qk8ub5za': 6257, 'year…': 6258, '000x20': 6259, 'snaps': 6260, 'snap': 6261, 'tom…': 6262, '115ish': 6263, 'r1ekn': 6264, '780488590142…': 6265, '2100': 6266, 'gftm8': 6267, 'gradual': 6268, 'rollout': 6269, '807pzn': 6270, 'gftvx': 6271, 'lifecycle': 6272, 'divest': 6273, 'e1rt6': 6274, 'gftlw': 6275, 's1dri': 6276, 'audi': 6277, 'perfecting': 6278, 'hmi': 6279, '1fiu5sc': 6280, 'brks': 6281, 'reliable”': 6282, 'fiving': 6283, 'suxs': 6284, 'retrart': 6285, 'finger': 6286, 'cook’n': 6287, \"canada's\": 6288, 'exporters': 6289, 'whacked': 6290, 'p1fvb': 6291, 'fundamentally': 6292, 'transform': 6293, \"person's\": 6294, '1yf4mgt': 6295, 'proceeds': 6296, '1vqwyxzg': 6297, '10102': 6298, '19642732': 6299, '987904978910…': 6300, 'csiq': 6301, '1zyotvq': 6302, 'repeats': 6303, 'flesh': 6304, 'j1vnw': 6305, 'a1shn': 6306, 'advbund': 6307, 'reaching': 6308, 'f1xsh': 6309, 'clo': 6310, 'p1ebe': 6311, '1hbuqbs': 6312, 'opps': 6313, '7zqmhd': 6314, 'stabilize': 6315, \"sheep's\": 6316, 'sacrifice': 6317, '1hspilm': 6318, 'rwesrtsw': 6319, 'frozen': 6320, '130026824': 6321, 'geno0210': 6322, 'kiss': 6323, 'turtle': 6324, 'flight': 6325, 'goubc': 6326, 'f1wbw': 6327, 'ergo': 6328, '1s53bhv': 6329, '1zxk9du': 6330, '1w6m9u5': 6331, 'r1ekq': 6332, 'race': 6333, 'build': 6334, 'command': 6335, 'centers': 6336, 'a1rdl': 6337, 'f1wrc': 6338, 'fyi': 6339, 'cnet': 6340, '1xbknxm': 6341, 'expense': 6342, 'coz': 6343, 'flops': 6344, 'scalped': 6345, 'ribbon': 6346, '“icycle': 6347, 'ice”': 6348, 'week’s': 6349, '1anhjng': 6350, 'yesterday’s': 6351, '1xmrovk': 6352, 'hods': 6353, '002': 6354, '0022': 6355, '0023': 6356, '0041': 6357, 'structural': 6358, 'divisional': 6359, 'confluence': 6360, 'i1wpn': 6361, '1xfaruj': 6362, \"virnetx's\": 6363, 'banc': 6364, '1mwlj': 6365, 'smash': 6366, 'faded': 6367, 'shakeout': 6368, '82tmv4': 6369, '744271524132…': 6370, 'qcom': 6371, 'shakes': 6372, 'kevinbantz': 6373, 'd1thg': 6374, 'b1tmm': 6375, 'cry': 6376, 'competing': 6377, \"'experts'\": 6378, 'sittin': 6379, 'midpoint': 6380, 'watch’s': 6381, '1dafcuw': 6382, 'stating': 6383, 'anticipating': 6384, 'similiar': 6385, 'buls': 6386, 'urself': 6387, 'harmonics': 6388, 'outrevenue': 6389, '1dzfcqj': 6390, 'rot': 6391, 'ripen': 6392, '13uyuop': 6393, 'gauge': 6394, 'cotation': 6395, 'gvrrq': 6396, 'gftm4': 6397, 'mylio': 6398, 'organized': 6399, 'synced': 6400, '7zhbzw': 6401, 'exuberance': 6402, 'excessive': 6403, 'u4x8i': 6404, 'br3nt0n': 6405, 'peek': 6406, 'snapping': 6407, 'survived': 6408, 'nasd': 6409, '010515': 6410, '733120': 6411, 'dma21': 6412, 'clean': 6413, 'multi': 6414, 'faceted': 6415, '1vqd176': 6416, '2009': 6417, 'i1vvf': 6418, 'teases': 6419, \"'puzzle\": 6420, \"blitz'\": 6421, '80crc4': 6422, 'baiter': 6423, 'captivity': 6424, 'starbucks': 6425, 'mp': 6426, '1tohe7a': 6427, 'tmus': 6428, 'f1vug': 6429, 'crashes': 6430, 'unresponsive': 6431, 'restart': 6432, 'keyboard': 6433, 'illuminated': 6434, 'fix': 6435, 'p1gjl': 6436, '228': 6437, 'trapping': 6438, 'now…that': 6439, 'bulk': 6440, 'delete': 6441, 'images': 6442, '82t1kq': 6443, '107s': 6444, 'clue': 6445, '1i3clpx': 6446, 'mabusinc': 6447, 'goffn': 6448, 'equivalent': 6449, 'urban': 6450, 'stoked': 6451, 'hanging': 6452, 'whiff': 6453, 'glucs': 6454, 'g6hxlq4f': 6455, 'vkxevr': 6456, 'ucii': 6457, 'gyhoh': 6458, 'magnet': 6459, 'scanaflo': 6460, 'hospital': 6461, 'urinalysis': 6462, '81w2bx': 6463, 'typing': 6464, 'characters': 6465, 'tipping': 6466, 'glty': 6467, 'laz': 6468, 'airdrop…': 6469, '1br6tlx': 6470, 't1dmt': 6471, '1hrzqoc': 6472, 'a1tox': 6473, 'brkout': 6474, 'headlines': 6475, 'jennifer': 6476, 'booton': 6477, '82rd5z': 6478, 'hft': 6479, 'wolfsnap': 6480, '2801225': 6481, '1aap5mz': 6482, 'ipads…': 6483, 'participating': 6484, 'somewhat': 6485, 'tougher': 6486, 'breakouts': 6487, 'glamour': 6488, 'seagate': 6489, 'ultra': 6490, 'thin…': 6491, '80wb4y': 6492, 'comply': 6493, 'u4vx3': 6494, 'transforms': 6495, 'mfi': 6496, 'tail': 6497, 'ic2muj': 6498, '560': 6499, '466': 6500, 'thread': 6501, 'respected': 6502, 'clockwork': 6503, 'becomes': 6504, 'planning': 6505, 'e1trw': 6506, 'g1vtt': 6507, '552482590427725826…': 6508, 'gt5ma': 6509, '1doyqr4': 6510, 'doodle': 6511, 'bye': 6512, 'succeeding': 6513, '1xrhj5t': 6514, 'sa': 6515, 'suggestion': 6516, 'smoothly': 6517, 'exceptions': 6518, 'seymour': 6519, 'options…': 6520, 'needed': 6521, 'hundreds': 6522, 'capture': 6523, 'r1dmb': 6524, 'newbies': 6525, 'pls': 6526, 'bezels': 6527, 'accommodate': 6528, '1vqrguk': 6529, 'caribbean': 6530, '89aea': 6531, 'manager': 6532, '1asa5iu': 6533, 'scutify': 6534, '1xj9vez': 6535, '614': 6536, '805': 6537, '226': 6538, 'changer…': 6539, 'c1rkg': 6540, 'dgnw': 6541, 'ns': 6542, \"'wearables'\": 6543, 'thrill': 6544, 'absence': 6545, '733765': 6546, 'demonstrations': 6547, 'carter': 6548, 'thumbs': 6549, 'dare': 6550, 'xjnjxo6m': 6551, 'cwr93j': 6552, '1hwspr9': 6553, 'onbalvol': 6554, 'tips': 6555, \"mac's\": 6556, 'menu': 6557, '81tjf3': 6558, '837pjn': 6559, \"kass'\": 6560, '2201075': 6561, 'textbook': 6562, 'monthlypivot': 6563, 'a1sft': 6564, 'e1sew': 6565, 'smoke': 6566, 'community': 6567, 'blow': 6568, 'dwarf': 6569, 'spotted': 6570, '831zd1': 6571, 'grt': 6572, 'reserve': 6573, 'prints': 6574, 'hagw': 6575, 'noramassetmanagement': 6576, 'reazor': 6577, 'blueprint': 6578, 'uptodate': 6579, 'locked': 6580, '2798805': 6581, 'conservative': 6582, 'afr': 6583, 'digitallife': 6584, '2ksc6cwxesyx2zr0dvawzj…': 6585, 'refurbished': 6586, '1vd1byz': 6587, 'wklys': 6588, 'worries': 6589, 'e1ruk': 6590, 'satisfy': 6591, 'avgs': 6592, 'established': 6593, 'a1smw': 6594, 'd1rfn': 6595, 'desc': 6596, 'broadening': 6597, 'e1slg': 6598, 'wtf': 6599, \"weren't\": 6600, 'underperformed': 6601, '1amfho1': 6602, 'basically': 6603, 'succeed': 6604, '1w3htfx': 6605, 'itself': 6606, '2waytrading': 6607, 'fwiw': 6608, '‘tells’': 6609, 'boooyaaaa': 6610, 'blonder': 6611, 'chains': 6612, 'ecommerce': 6613, '1seru7u': 6614, '1awcanc': 6615, \"'rollover\": 6616, \"data'\": 6617, '82zjzw': 6618, 'macs': 6619, '14a2mzk': 6620, '1hafamu': 6621, \"android''s\": 6622, '1cvrynl': 6623, '1mq4ri': 6624, 'insist': 6625, '733211': 6626, 'winning': 6627, '1420732861': 6628, 'hs…app': 6629, 'totaled': 6630, '2014http': 6631, 'ixzz3obw7az00…': 6632, 'schooling': 6633, 'ww': 6634, 'risen': 6635, 'viewership': 6636, '81cbvl': 6637, 'candy': 6638, 'renderings': 6639, 'depict': 6640, 'apple…': 6641, '835939': 6642, 'issuing': 6643, 'uncovered': 6644, '825v8m': 6645, 'reaffirms': 6646, '1xzxscg': 6647, 'presumptuous': 6648, 'answer': 6649, '4898': 6650, 'rethinking': 6651, 'blondietrader': 6652, 'luyz2…': 6653, '257z1': 6654, 'expectingalpha': 6655, 'dy': 6656, '120i': 6657, 'hilarious': 6658, '81d5ly': 6659, '1wqeocp': 6660, \"'radically'\": 6661, 'redesigns': 6662, 'a1sxj': 6663, 'maoxian': 6664, 'c1snr': 6665, 'somewhere': 6666, 'powered': 6667, '81bxpr': 6668, 'optexdyna': 6669, 'f1x1i': 6670, \"gillis'\": 6671, 'rebalancing': 6672, 'ye': 6673, 'institutonal': 6674, \"'15vs'14\": 6675, 'meeting': 6676, 'ibkr': 6677, 'ti4903': 6678, 'rocks': 6679, 'inverse': 6680, 'loser': 6681, 'anthony': 6682, 'diclemente': 6683, 'i11': 6684, '2044': 6685, 'asymco': 6686, 'monopolists': 6687, 'unaffected': 6688, 'alternatives': 6689, 'benefits': 6690, 'glg83': 6691, '19612321': 6692, 'yephttp': 6693, 'taunchtrading': 6694, 'experiencing': 6695, '1badxp7': 6696, 'misfortunes': 6697, 'collateral': 6698, 'c1rg5': 6699, 'd1rzd': 6700, '4000': 6701, 'helping': 6702, 'drawdown': 6703, \"repair'\": 6704, 'todayinhistory7': 6705, 'okayhere': 6706, 'hhmmm': 6707, \"america's\": 6708, 'companies…': 6709, '2803855': 6710, 'americas': 6711, 'convenience': 6712, 'gsiehza0': 6713, 'sliced': 6714, 'butter': 6715, 'mistake': 6716, '1xqvrlm': 6717, 'amused': 6718, 'rfwk19cz': 6719, 'rolling': 6720, 'ton': 6721, '589': 6722, 'india': 6723, 'galaxy': 6724, 'sharesamsung': 6725, 'fights': 6726, 'xiaomigood': 6727, 'concerts': 6728, 'taylor': 6729, 'swift': 6730, 'kid': 6731, 'eur': 6732, 'hi': 6733, 'rob': 6734, 'lowe': 6735, 'constitutes': 6736, '“fading': 6737, 'happily': 6738, '3dprintingindustry': 6739, '886': 6740, '1aslmf1': 6741, 'square': 6742, 'examples': 6743, 't1e5g': 6744, 'najarian': 6745, 'milli': 6746, 'vanilli': 6747, 'ballmer': 6748, 'dance': 6749, 'celebrate': 6750, 'chop': 6751, 'nknjjr5e': 6752, 'comaapl': 6753, 'momos': 6754, 'wind': 6755, 'cantechletter': 6756, 'plummet': 6757, 'i1vko': 6758, 'revolved': 6759, 'journalism': 6760, 'don': 6761, 'optimistic': 6762, 'freak': 6763, 'costello': 6764, 'canned': 6765, '1hfc4a2': 6766, 'alarmist': 6767, 'b1rly': 6768, \"kiplinger's\": 6769, 'h1vzu': 6770, 'seller': 6771, 'targ': 6772, 'fr': 6773, 'shhhhhhhhhhh': 6774, 'anymore': 6775, 'excuses': 6776, 'gftvr': 6777, 'goffv': 6778, 'giggle': 6779, 'snort': 6780, 'luufy': 6781, '516': 6782, 'learners': 6783, 'confidence': 6784, 'emucb': 6785, '146jcu7': 6786, 'oled': 6787, 'inspired': 6788, 'foxconn': 6789, 'factory': 6790, '81v9zv': 6791, 'cranking': 6792, 'carols': 6793, 'assume': 6794, 'beginning': 6795, 'ray': 6796, 'merola': 6797, 'speech': 6798, 'day…': 6799, 'p1zh0a': 6800, 'promoting': 6801, 'loudmouth': 6802, 'nathani': 6803, 'dumber': 6804, '871988838945…': 6805, 'pcln': 6806, '1i3dxgo': 6807, '13sz3dy': 6808, '89lwx': 6809, 'juiced': 6810, 'iconic': 6811, 'shanghai': 6812, 'promised': 6813, 'lx21': 6814, '1mnd8s': 6815, 'aff': 6816, '202': 6817, '1c1nljx': 6818, 'pegged': 6819, '1fiwo3n': 6820, 'nathan': 6821, 'disgusted': 6822, 'guest': 6823, 'gear': 6824, 'racing': 6825, 'tracktivity': 6826, '82s0xt': 6827, '126': 6828, 'bouce': 6829, 'f1wk7': 6830, '46': 6831, 'jan9': 6832, 'watchig': 6833, 'scalps': 6834, 'artists': 6835, 'e1tek': 6836, 'orderly': 6837, 'requirements': 6838, 'e1rpk': 6839, '83bl8m': 6840, 'kenwood': 6841, '8237q2': 6842, '1hljvmx': 6843, '40ish': 6844, 'hmm': 6845, 'todayhttp': 6846, 'e1sz6': 6847, 'hottest': 6848, 'cured': 6849, 'fitbit': 6850, 'lifeless': 6851, 'waste': 6852, 'appletv': 6853, 'predictor': 6854, 'gene': 6855, \"munster's\": 6856, 'mrkts': 6857, '14ufzb5': 6858, 'c1skg': 6859, 'p0t': 6860, 'r1': 6861, 'i1wdb': 6862, '100m': 6863, 'days…': 6864, 'debicred': 6865, 'negate': 6866, 'crack': 6867, '82zbjr': 6868, '82srcc': 6869, '1auvhg2': 6870, 'drama': 6871, '1xnwgtu': 6872, 'gftpg': 6873, 'measure': 6874, '863': 6875, 'j1wcp': 6876, 'visionary': 6877, 'shadow': 6878, 'technologyreview': 6879, '525881': 6880, 'rift': 6881, '1mq4rh': 6882, 'u4vzc': 6883, '1avjfat': 6884, '1hkda9c': 6885, 'reference': 6886, '82ytvv': 6887, '1hrtnqw': 6888, 'accumulating': 6889, 'waterlogue': 6890, 'paint': 6891, 'offered': 6892, '80fghn': 6893, 'reminding': 6894, 'ole': 6895, '733435': 6896, 'lessons': 6897, 'j1xpw': 6898, '2btheman': 6899, 'debating': 6900, 'whether': 6901, 'ive': 6902, 'selloffs': 6903, 'brilliant': 6904, 'experience': 6905, 'bband': 6906, 'myithz': 6907, 'u4wth': 6908, 'jason': 6909, 'footage': 6910, 'spa': 6911, '669325777176…': 6912, 'ibb': 6913, 'intentional': 6914, '1af00iy': 6915, '174…': 6916, 'suffer': 6917, 'p1fyh': 6918, '1iruioz': 6919, 'wor': 6920, 'u4x7g': 6921, '1wyrbbh': 6922, 'ios…': 6923, 'rair': 6924, 'adapters': 6925, 'converters': 6926, 'fault': 6927, 'i1vrg': 6928, 'aapllevel': 6929, 'ete': 6930, '168176606377…': 6931, 'ufqdg3la': 6932, 'f1wxo': 6933, 'joins': 6934, '1pm': 6935, 'itrouble': 6936, 'p1ezt': 6937, 'r1fo1': 6938, 'nb': 6939, 'presumably': 6940, 'applies': 6941, 'plethora': 6942, 'circulates': 6943, 'develop': 6944, '1wkk2ew': 6945, '1avdvck': 6946, 'walls': 6947, 'trailings': 6948, 'mother': 6949, 'goooddddddd': 6950, 's1ebp': 6951, '1d4l8w8': 6952, 'r1egz': 6953, 'woods': 6954, 'transparency': 6955, 'grjmd': 6956, 'uses': 6957, \"iphone's\": 6958, 'gps': 6959, 'underinvestment': 6960, 'phenomena': 6961, '513': 6962, 'workout': 6963, 'squares': 6964, 'challenging': 6965, '7ztvgm': 6966, 'guessed': 6967, '229': 6968, 'pushes': 6969, '‘start': 6970, 'webpage': 6971, 'highlight': 6972, \"ios'…\": 6973, '7zjbgf': 6974, 'transformed': 6975, '1ygfl2a': 6976, 'sectors': 6977, 'gdx': 6978, 'skf': 6979, 'ycl': 6980, 'sds': 6981, 'shrt': 6982, 'bottomless': 6983, 'reveals': 6984, 'concept': 6985, 'onforb': 6986, '1xunauh': 6987, 'continuously': 6988, 'member': 6989, 'evvxbuywtbe': 6990, '1fdnjox': 6991, '1xvmh9c': 6992, 'tree': 6993, 'aaplfall': 6994, 'j1wdd': 6995, 'saves': 6996, 'melons': 6997, 'disappointment': 6998, '1vmbmus': 6999, '2harrybawlz': 7000, 'haven': 7001, 'soem': 7002, 'alluded': 7003, 'marketpulse': 7004, 'ylt': 7005, 'awrbtzwnd6xuklaa6ubx': 7006, '9w4': 7007, 'ylu': 7008, 'x3odmtezmdvtz2dobhnlywnzcgrwb3mdmgrjb2xva2jmmqr2dglka01pvvmynv8x…': 7009, '836gfv': 7010, 'duds': 7011, 'rickypadda': 7012, '14itwb0': 7013, '8mcq6q': 7014, '2764095': 7015, 'hthcsan0': 7016, 'frackit89': 7017, 'stalking': 7018, 'resilient': 7019, 'often': 7020, 'guk0m': 7021, 'leahanne': 7022, '1zya8bg': 7023, 'payday': 7024, 'shooooooort': 7025, 'sspencer': 7026, 'smb': 7027, 'indeed': 7028, '149': 7029, 'a1se2': 7030, 'sharp': 7031, 'vols': 7032, '1zyoter': 7033, '1aooulq': 7034, '1zwouus': 7035, 'reasonable': 7036, 'qarp': 7037, 'sfvo0': 7038, 'gr': 7039, 'r1dzb': 7040, 'carrying': 7041, 'puttering': 7042, \"20's\": 7043, 'pulse': 7044, 'consistency': 7045, 'gs4': 7046, 'ip5s': 7047, \"gap's\": 7048, 'overlooked': 7049, 'jivedata': 7050, 'insiders': 7051, 'targeting': 7052, '5115376': 7053, \"mobile's\": 7054, 'legere': 7055, 'fires': 7056, 'shots': 7057, 'rivals': 7058, 'praises': 7059, 'overboard': 7060, 'sir': 7061, 'hereby': 7062, 'banned': 7063, 'btdip': 7064, 'q1fbk': 7065, '2770885': 7066, \"ystdy's\": 7067, 'vieira': 7068, 'publishes': 7069, 'chipotle': 7070, 'perking': 7071, 'evaporates': 7072, 'repatriation': 7073, 'c1rly': 7074, '2014…record': 7075, 'q1dqt': 7076, 'buzzword': 7077, 'b1sr6': 7078, 'd1sst': 7079, 'ui91dixh': 7080, '85letting': 7081, \"'swindled'\": 7082, 'overpriced': 7083, 'awful': 7084, 'sounding': 7085, '1hmpesh': 7086, '828pps': 7087, 'q1e9q': 7088, '12999983': 7089, 'knight': 7090, 'rider': 7091, 'valet': 7092, 'bmwgroup': 7093, 'ccnyn': 7094, '1hutvyw': 7095, '1d2j3yf': 7096, 'glhql': 7097, 'htt': 7098, 'creeping': 7099, 'whining': 7100, 'awesomely': 7101, \"snowball's\": 7102, 'writeyourownreality': 7103, 'h1wwv': 7104, 'demoapplewatch': 7105, 'boil': 7106, 'pundit': 7107, 'pronounces': 7108, 'doa': 7109, \"'useless\": 7110, \"bauble'\": 7111, 'settle': 7112, 'c1slf': 7113, 'stereo': 7114, 'pictured': 7115, 'render': 7116, 'claimed…': 7117, '811qtq': 7118, '1ynenmw': 7119, 'blown': 7120, '13xxemg': 7121, 'manipulating': 7122, 'renaissance': 7123, '190601873': 7124, 'gipju': 7125, 'gk5ir': 7126, \"'start\": 7127, '1tof86m': 7128, '1i4nw2a': 7129, 'earbuds': 7130, 'ears': 7131, 'reverses': 7132, 'nutty': 7133, 'gradually': 7134, 'observation': 7135, 'feb105c': 7136, '1fhooev': 7137, 'x10': 7138, 'numbers…': 7139, '“will': 7140, 'attribution': 7141, 'prototype': 7142, '812krb': 7143, 'hoard': 7144, 'pair': 7145, 'mp3': 7146, 'players': 7147, 'mom': 7148, '30116319…': 7149, 'jumped': 7150, 'perla': 7151, 'haney': 7152, 'jardine': 7153, 'cast': 7154, 'lisa': 7155, \"universal's\": 7156, '14igccy': 7157, 'violated': 7158, 'vwap': 7159, 'ironic': 7160, 'wagged': 7161, '1bc65': 7162, '1zwanni': 7163, 'manage': 7164, 'bookedit': 7165, '2soon': 7166, 'p1egy': 7167, 'vicinity': 7168, 'newest': 7169, '2790335': 7170, \"'price\": 7171, 'contestants': 7172, 'apwly…': 7173, '2791175': 7174, 'j1wab': 7175, '298': 7176, 'ignorant…': 7177, 'expanding': 7178, 'beewi': 7179, 'plans…': 7180, '81ppqs': 7181, 'forgetting': 7182, 'gen': 7183, 'motorola': 7184, '360': 7185, 'apparent': 7186, 'runup': 7187, 'capitalism': 7188, 'logo': 7189, 'elephant': 7190, 'innovate': 7191, 's1fm5': 7192, 'sundown': 7193, 'oy': 7194, 'pams': 7195, 'h1vlb': 7196, 'j1vmb': 7197, 'accumulated': 7198, '1aqfncz': 7199, 'shrinking': 7200, 'msn': 7201, 'gjlaw': 7202, '21ema': 7203, '517': 7204, 'nippling': 7205, 'supp': 7206, 'e1s1m': 7207, 'goubt': 7208, 'risl': 7209, 'riskhttp': 7210, 'thetradecircle': 7211, 'jcpenney': 7212, 'risk…': 7213, 'dds': 7214, '122': 7215, 'vault': 7216, 'suppport': 7217, 'exhausted': 7218, '1tvjypz': 7219, 'bajarin': 7220, 'article2': 7221, '2817': 7222, '2474572': 7223, 'asp…': 7224, 'thur': 7225, '484': 7226, 'businesses': 7227, 'panels': 7228, 'fav': 7229, 'fx': 7230, 'effectslost': 7231, 'shirt': 7232, 'j1w9u': 7233, 'j1vn6': 7234, 'insights': 7235, 'qjo7fbw': 7236, 'discover': 7237, '1vnerwm': 7238, 'r1e8g': 7239, '1a7mhv0': 7240, 'letd': 7241, 'opens': 7242, 'laughing': 7243, 'proud': 7244, 'emerging': 7245, 'operators': 7246, 'anticipates': 7247, 'breed': 7248, '14http': 7249, 'b1ra0': 7250, 'monkey': 7251, 'g1vyk': 7252, 'ascending': 7253, 'managements': 7254, 'riskmanage': 7255, 'bestofhn': 7256, 'app…': 7257, 'gftmj': 7258, 'newertech': 7259, 'mounts': 7260, '1emhfgn': 7261, 'issuersbanks…': 7262, 'patience': 7263, '1adjvup': 7264, 'polled': 7265, 'g11': 7266, 'kings': 7267, 'leaving': 7268, '1zz29qs': 7269, '1ajqvoy': 7270, '1rmfgky': 7271, 'mia': 7272, 'ip6': 7273, 'shook': 7274, 'earlier…should': 7275, 'severly': 7276, '1hymop9': 7277, '20c': 7278, '60c': 7279, \"shouldn't\": 7280, '1kbqkql': 7281, \"'story\": 7282, \"line'\": 7283, '1vfyqrh': 7284, 'erasing': 7285, '9to5mac’s': 7286, '9to5macs': 7287, '50mas': 7288, 'itrader': 7289, 'g1x4e': 7290, 'out”': 7291, 'miserable': 7292, '19619310': 7293, 'here…': 7294, \"we've\": 7295, 'lately': 7296, '834jb0': 7297, 'posssible': 7298, 'r1ey6': 7299, 'locals': 7300, 'canadian': 7301, '1wycnvo': 7302, '8bpq3': 7303, 'proliferate': 7304, 'philips': 7305, '8371g5': 7306, 'suggested': 7307, 'him…': 7308, 'ditching': 7309, 'locks': 7310, 'isi': 7311, 'reiterates': 7312, '1xvxpep': 7313, '7znsd9': 7314, '1dr4faj': 7315, 'enduring': 7316, 'asset': 7317, 'mosaic': 7318, 'productive': 7319, 'meetings': 7320, 'd1rjz': 7321, '1hpohwz': 7322, 'grading': 7323, '80d7h2': 7324, 'perfection': 7325, 'loan': 7326, '17iyrez': 7327, 'counterfactual': 7328, 'pops': 7329, \"rally's\": 7330, 'yielding': 7331, 'annually': 7332, 'rutrading': 7333, 'chewing': 7334, 'premiums': 7335, 'remind': 7336, 'schadenfreude': 7337, 'facts': 7338, '109c': 7339, '40k': 7340, 'hurry': 7341, 'sessions': 7342, 'writing': 7343, 'eat': 7344, 'du': 7345, 'jour': 7346, '‘health': 7347, \"snapshot'\": 7348, 'throughout': 7349, 'nudge': 7350, '80vrsm': 7351, 'dt': 7352, 'jbmmdkcv': 7353, 'i1wfg': 7354, 'wiz': 7355, '7zmzhb': 7356, '1bogjya': 7357, 'ypt': 7358, '100pt': 7359, 'walk': 7360, \"'risk\": 7361, \"salut'http\": 7362, 'tussle': 7363, '1fvl6sx': 7364, 'pikers': 7365, 'rewriting': 7366, 'revolutionize': 7367, 'clothes': 7368, 'shopping': 7369, '1zaneuz': 7370, 'strength…': 7371, 'overwhelmed': 7372, 'cautious': 7373, 'allowed': 7374, 'brute': 7375, 'u4wj1': 7376, 'llowellw': 7377, 'patched': 7378, 'friken': 7379, 'd1roh': 7380, 'gvxvj': 7381, '3mos': 7382, 'idownloadblog': 7383, 'mill': 7384, '19608696': 7385, '146bh7b': 7386, '1atsfge': 7387, \"'14op\": 7388, 'breakfast': 7389, 'desserthullo': 7390, 'prognosticating': 7391, 'homerun': 7392, 'projecting': 7393, 'biasesnot': 7394, 'cooldown': 7395, 'cit': 7396, 'dates': 7397, 'citdates': 7398, 'spref': 7399, '1ah6dq5': 7400, '1xaoz0t': 7401, 'screener': 7402, '1widfif': 7403, 'moron': 7404, 'p1fkz': 7405, 'valuable': 7406, 'b1rhl': 7407, '80bqcj': 7408, 'briefly': 7409, \"satechi's\": 7410, 'aluminum': 7411, 'edition': 7412, '14bddfk': 7413, '2771195': 7414, 'p1gl5': 7415, 'p1ef7': 7416, 'collello': 7417, 'directional': 7418, 'nondirec': 7419, \"'street\": 7420, \"high'\": 7421, '“overweight”': 7422, '1bwbonv': 7423, 'glhqd': 7424, 'harami': 7425, 'vacation': 7426, 'homeruns': 7427, 'doubles': 7428, 'h1x1f': 7429, 'dramatic': 7430, 'resale': 7431, 'indicates': 7432, '7cfinance': 7433, '7cstory': 7434, 'overpower': 7435, 'r1feu': 7436, 'avoided': 7437, 'finding': 7438, 'i1wwo': 7439, 'attractive': 7440, 'safer': 7441, 'spells': 7442, 'inducted': 7443, 'oops': 7444, 'oct14': 7445, 't1efm': 7446, 'liquidity': 7447, 'crisis': 7448, 'i’m': 7449, 'risks': 7450, 'bugs': 7451, '1tjm1kj': 7452, 'doors': 7453, 'narrow': 7454, '–worst': 7455, '1vo6ajk': 7456, 'c1spo': 7457, '1dgqcse': 7458, 'hm': 7459, 'ihs': 7460, 'roll': 7461, '1q15': 7462, 'holders': 7463, '106s': 7464, 'ricklejeune': 7465, 'j1wfm': 7466, 'stil': 7467, 'aapl115': 7468, 'calls1': 7469, '2015from': 7470, 'erase': 7471, 'wslmrf': 7472, '553204341260451841…': 7473, 'anchored': 7474, 'lazybear': 7475, 'innovations': 7476, 'memorable': 7477, 'whoa': 7478, \"cchina's\": 7479, 'fortresses': 7480, 'residents': 7481, 'tourists': 7482, 'natgeo': 7483, '1aja4wk': 7484, '50ma…': 7485, '552769926474502144…reminds': 7486, 'additional': 7487, 'comscore': 7488, \"sunnebo's\": 7489, 'leg': 7490, '15th': 7491, '552831692650471424': 7492, 'snp': 7493, 'grip': 7494, 'dash': 7495, 'receiver': 7496, '818xmj': 7497, 'az0a': 7498, 'nearby': 7499, '106ish': 7500, 'downhill': 7501, 'i1vzv': 7502, '793': 7503, '82bd3p': 7504, 'd1sgv': 7505, 'p1xw3v': 7506, '1dv': 7507, 'overhead': 7508, 'p1edo': 7509, 'kobe': 7510, '527': 7511, 'keypad': 7512, 'continuity': 7513, 'verticals': 7514, 'dragging': 7515, 'p1xtr9': 7516, '1vhl': 7517, \"nathan's\": 7518, 'famous': 7519, 'sayin': 7520, '1aoz6pq': 7521, 'e1sp3': 7522, 'gjjix': 7523, 'assuming': 7524, 'idc': 7525, 'expand': 7526, '1bmc1kk': 7527, '1yfbdea': 7528, 'a1rfr': 7529, '1axm5ca': 7530, '12999106': 7531, 'warrenpuffettstradingacademy': 7532, 'cp2u': 7533, 'ocfn': 7534, '1bxeej5': 7535, 'wood': 7536, \"'home\": 7537, '1ziov52': 7538, 'switcher': 7539, 'reachability': 7540, '7zqsbk': 7541, '60983835': 7542, 'inviting': 7543, '1deuncu': 7544, '1alp294': 7545, 'ztradeczar': 7546, 'intermediate': 7547, '1alnp9m': 7548, 'ck89…': 7549, 'herd': 7550, \"dow's\": 7551, '1txajn9': 7552, '732901': 7553, 'ipadread': 7554, 'indiatoday': 7555, 'intoday': 7556, '410816': 7557, 'vis': 7558, 'nyti': 7559, '1yf7his': 7560, 'sunset': 7561, 't1ebq': 7562, 'd1rpf': 7563, 'looming': 7564, 'glut': 7565, 'carte': 7566, 'channels': 7567, '14bnqi1': 7568, 'bollband': 7569, 's1f6r': 7570, '7zskdj': 7571, '1xi3yiv': 7572, 'rikki': 7573, 'basisi': 7574, '637': 7575, 'personally': 7576, '3gb': 7577, '1tzhsrl': 7578, 'jeopardize': 7579, '1xiyz1b”': 7580, '693': 7581, '1bmb3j7': 7582, '483': 7583, '1nr6d': 7584, '1hwondj': 7585, 'surely': 7586, 'jest': 7587, '1fq2goz': 7588, 'techinasia': 7589, 'recordsetting': 7590, 'stars': 7591, 'ratings…': 7592, 'griffin': 7593, 'reversible': 7594, '82cjwb': 7595, 'b1sdw': 7596, 'j1vlx': 7597, 'b1rvq': 7598, 'stacking': 7599, 'wkrb13': 7600, '457167': 7601, 'freezes': 7602, 'q1dvq': 7603, 'classes': 7604, 'vkblz7vmav0': 7605, 'roger': 7606, 'muddled': 7607, 'botto': 7608, '142dbrz': 7609, 'jackhole': 7610, 'nobody': 7611, '“80': 7612, 'ifone': 7613, 'aaplstocknews': 7614, 'sustain': 7615, 'shouldnt': 7616, 'amaeturs': 7617, '1hnxhn0': 7618, 'iographer': 7619, '7zn1gb': 7620, '“apple': 7621, 'influencing': 7622, 'suicidal': 7623, 'vq1tw': 7624, 'wake': 7625, 'wondering': 7626, 'denominated': 7627, 'euros': 7628, 'actively': 7629, 't07894436475': 7630, 'savior': 7631, 'collective': 7632, 'asses': 7633, 'kicker': 7634, 'r1e2a': 7635, 'beep': 7636, '1aox4b7': 7637, 'ticks': 7638, '3min': 7639, '8x': 7640, 'd…': 7641, 'isnt': 7642, 'bto': 7643, '1ao5b7c': 7644, 'camp': 7645, 'mon': 7646, 'razr': 7647, 'lawsuits': 7648, 'heist': 7649, 'i1vga': 7650, 'pinners': 7651, '1aoz6n6': 7652, 'heaven': 7653, 'rangehttp': 7654, 'sasi': 7655, 'admn': 7656, 'gmail': 7657, 'lasts': 7658, '31st': 7659, 'seasonal': 7660, 'hurts': 7661, 'therefore': 7662, 'odds': 7663, 'dozen': 7664, '668': 7665, 'intense': 7666, \"machine's\": 7667, \"people's\": 7668, 'etite': 7669, 'peoples': 7670, '193514446': 7671, 'okay': 7672, 'f1wd0': 7673, '1hkwpg8': 7674, 'downgrading': 7675, 'ignore': 7676, 'mere': 7677, 'papa': 7678, 'postmarket': 7679, '08jan15': 7680, 'emotionally': 7681, 'chased': 7682, 'panicked': 7683, 'usatodaytech': 7684, 'initial': 7685, 'battleground': 7686, 'd1szn': 7687, '165012385': 7688, '“start': 7689, 'new”': 7690, '1bqxrwr': 7691, '446': 7692, 'complaints': 7693, '1ywuvkbitunes': 7694, 'shade': 7695, 'npr': 7696, '1ywutjw': 7697, 'viper': 7698, 'smartstart': 7699, 'dominance': 7700, 'marginal': 7701, 'improvements': 7702, 'diminish': 7703, '23rd': 7704, 'p1ecu': 7705, '1vpslyp': 7706, '130pm': 7707, '500pts': 7708, 'shorted': 7709, 'hypes': 7710, 'r1f4v': 7711, \"artist's\": 7712, 'renditions': 7713, 'rendition': 7714, 'q1ev7': 7715, 'openoutcrier': 7716, 'jan23': 7717, 'special': 7718, 'symbols': 7719, 'texts': 7720, '16mwjei': 7721, 'nose': 7722, 'wire': 7723, 'goodfellas': 7724, 'q1fjt': 7725, 'gameblend': 7726, 'princess': 7727, 'bride': 7728, '83g8h5': 7729, 'tempted': 7730, 'pussy': 7731, 'a1rfy': 7732, 'bids': 7733, 'hats': 7734, 'warnings': 7735, 'uptick': 7736, 'claimed': 7737, 'mold': 7738, '833sgc': 7739, 'e1sga': 7740, 'harvardbiz': 7741, 'empathetic': 7742, 'hbr': 7743, '1iyvwdp': 7744, '”surprised': 7745, 'e1sph': 7746, 'nearest': 7747, 'pullbacks': 7748, 'i1w1a': 7749, 'yklcdqne': 7750, 'a1tkp': 7751, '12998487': 7752, \"wasn't\": 7753, 'depends': 7754, 'r1f0o': 7755, '19613275': 7756, 'yep': 7757, 'particular': 7758, 'clever': 7759, 'establish': 7760, '1iglswl': 7761, \"‘nightcry'\": 7762, 'adventure': 7763, 'horror': 7764, 'live…': 7765, '80m608': 7766, '82b3sq': 7767, \"40's\": 7768, 'chongqing': 7769, '1axszzq': 7770, 'piecyk': 7771, 'q1edy': 7772, 'jpm': 7773, 'splitting': 7774, 'xmas': 7775, '689323871252…': 7776, '232': 7777, 'mxn': 7778, 'machines': 7779, 'mostly': 7780, 'ching': 7781, '1bqskwm': 7782, 'robin': 7783, 'prefer': 7784, 'dell': 7785, 'stereoscopic': 7786, '110p': 7787, 'worthless': 7788, 'qs': 7789, 'vhc': 7790, 'peterbrady': 7791, 's1ekd': 7792, 'sensehud': 7793, 'scared': 7794, 'i1wwn': 7795, 'rorc': 7796, '“sales”': 7797, 'speak': 7798, 'i1vht': 7799, '‘mini’': 7800, 'modest': 7801, 't1eal': 7802, 'macrbund': 7803, 'gftve': 7804, 'tapsense': 7805, '81t2bp”': 7806, 'unique': 7807, 'puzzler': 7808, \"‘mujo'\": 7809, '839czv': 7810, 'yoou': 7811, 'slug': 7812, \"jobs'\": 7813, 'supervillain': 7814, 'yacht': 7815, 'chilling': 7816, 'british': 7817, 'virgin': 7818, 'islands': 7819, 'not…': 7820, '81z6bl': 7821, '1xvt2vk': 7822, 'messy': 7823, 'igniting': 7824, 'volleyball': 7825, 'upset': 7826, 'sooner': 7827, 'passbook': 7828, 'amtrak': 7829, 'trains': 7830, 'conductors': 7831, 'asking': 7832, 'qr': 7833, 'selll': 7834, 'thot': 7835, 'immediately': 7836, 'appointments': 7837, 'facility': 7838, '1i5ostm': 7839, '1wm8upd': 7840, \"algo's\": 7841, 'suck': 7842, '105s': 7843, 'contradicts': 7844, 'duopoly': 7845, 'amongst': 7846, 'strengths': 7847, 'ongoing': 7848, 'exelium’s': 7849, 'clearly': 7850, 'stood': 7851, '1akeqy6': 7852, 'powering': 7853, '1ahlumj': 7854, '82fbzx': 7855, '1bvnv2d”': 7856, 'chopfest': 7857, 'protect': 7858, '1tvxdea': 7859, 'company’s': 7860, 'dangers': 7861, 'correlated': 7862, '2005': 7863, 'chdnp': 7864, 'chdd': 7865, 'chds': 7866, 'chdv': 7867, 'chvs': 7868, 'chdeh': 7869, 'chfdeh': 7870, 'chdet': 7871, '1420228080000': 7872, 'chddm': 7873, '986641': 7874, 'chls': 7875, 'intervalbasedline': 7876, 'fct': 7877, 'ei': 7878, 'ygaqvkmrczkeqqho6ihaba…': 7879, 'minimal': 7880, 'herb': 7881, 'confused': 7882, 'ikfresearch': 7883, 'msg25922': 7884, 'msg25922…': 7885, 'quess': 7886, 'a1rr7': 7887, 'sometime': 7888, 'prosperous': 7889, 'polling': 7890, '881': 7891, 'strengthening': 7892, 'd1tgz': 7893, 'trolls': 7894, '1zz1lwr': 7895, 'pessimists': 7896, 'rampant': 7897, 'preempting': 7898, 'mi': 7899, 'bode': 7900, 'globalmacroresearch': 7901, 'commentary': 7902, 'repurchases': 7903, 'eh': 7904, 'hem': 7905, '1awl8gn': 7906, 'nonsense': 7907, 'underinvesting': 7908, 'annd': 7909, 'sharse': 7910, 'dipper': 7911, 'f1wy0': 7912, 'mpgtrader': 7913, '550816704415428608…': 7914, 'boring': 7915, 'excercise': 7916, 'q1dqm': 7917, '8200nd': 7918, 'wager': 7919, 'struggle': 7920, '627k': 7921, 'strake': 7922, 'julthats': 7923, 'mor': 7924, 'glhqw': 7925, 'hearts': 7926, 'minds': 7927, '1k02rjt': 7928, '14sztxa': 7929, 'yields': 7930, 'benchmarks': 7931, 'remembering': 7932, '“fab': 7933, 'four”': 7934, 'millennium': 7935, 'derided': 7936, '5by': 7937, 'serve': 7938, '83bjhm': 7939, 'brilliance': 7940, 'marketing': 7941, 'stress': 7942, \"ceo's\": 7943, 'lifetime': 7944, '609554043324…': 7945, 'cenx': 7946, 'august': 7947, '1ugnaysxg': 7948, 'subway': 7949, 'surfers': 7950, '80vxmm': 7951, \"'redparty'\": 7952, 'amusingly': 7953, 'gloom': 7954, '1duudoi': 7955, 'beanie': 7956, 'ol': 7957, 'wear': 7958, 'shirts': 7959, 'escape': 7960, 'bowing': 7961, 'genius': 7962, '1zx4b4x': 7963, '600': 7964, '1hcw90l': 7965, 'controls…': 7966, 'endless': 7967, 'debt': 7968, '82202r': 7969, 'bam': 7970, '“a': 7971, 'secrets': 7972, 'vsui7nt3vig…”': 7973, \"'coming\": 7974, \"2015'\": 7975, 'q1e4t': 7976, 'p1enh': 7977, '14vzxhk': 7978, '1zz1zik': 7979, 'rearrange': 7980, 'hidden': 7981, 'filters': 7982, '80fw6d': 7983, 'bidu': 7984, '1perception': 7985, 'athletic': 7986, 'types': 7987, 'lug': 7988, '1hyscam': 7989, '1ajfeno': 7990, 'parade': 7991, 'stockshttp': 7992, 'g1x5i': 7993, 'preparing': 7994, '1a8fh4m': 7995, 'e1ry2': 7996, '1wq6ixn': 7997, 'shall': 7998, 'e1rbu': 7999, 'dissolution': 8000, '1aesdip': 8001, 'share…': 8002, 'can’t': 8003, 'anybody': 8004, 'mynews': 8005, 'pages': 8006, 'reader': 8007, 'articleid': 8008, 'sb11535115272481233958904580371493419100242': 8009, 'djempersonal…': 8010, 'benefiting': 8011, '1dqps8k': 8012, 't1ees': 8013, 'downgraded': 8014, '281': 8015, 'votes': 8016, 'stockcircles': 8017, '1mq3xh': 8018, 'completely': 8019, '835jqr': 8020, '1xnofsw': 8021, '1hhkh2c': 8022, 'hedged': 8023, '20358911': 8024, '60559955': 8025, 'stale': 8026, 'bread': 8027, 'txts': 8028, 'constant': 8029, '1xv8vfd': 8030, '1hrqhaw': 8031, 'tom': 8032, 'weirdo': 8033, 'hefty': 8034, 'chunk': 8035, 'realizing': 8036, 'reduce': 8037, 'vertical': 8038, 'condors': 8039, 'historyread': 8040, 'ixzz3oewdngqm…': 8041, 'lfap': 8042, 'gftpm': 8043, 'burn': 8044, 'p1fyr': 8045, 'xhcefs': 8046, 'panicking': 8047, 'relax': 8048, 'nlods': 8049, 'popular': 8050, 'awe': 8051, 'j1vjd': 8052, '1yk3zub': 8053, 'reiterate': 8054, 'keys': 8055, 'kingdom': 8056, 'vehicle': 8057, 'masses': 8058, 'q1fhj': 8059, 'pins': 8060, '1dbzktk': 8061, 'p1fqn': 8062, '2796385': 8063, '1ahdqlb': 8064, 'dislike': 8065, 'revisit': 8066, \"braven's\": 8067, 'brv': 8068, 'modular': 8069, '81b583': 8070, 'r1fdd': 8071, 'f1w07': 8072, '1huriva': 8073, 'fuck': 8074, '1hqjipb': 8075, 'scaling': 8076, 'outta': 8077, \"feb's\": 8078, 'volcrush': 8079, 'ss': 8080, 'f1wdd': 8081, 'location': 8082, '1xeiyvf': 8083, 'candlesticks': 8084, 'it’d': 8085, 'mypov': 8086, '1yuilc0': 8087, 'outtage': 8088, 'alarm': 8089, '80gtdb': 8090, 'smashes': 8091, 'fader': 8092, 'bios': 8093, 'dnt': 8094, 'knw': 8095, 'whats': 8096}\n"
     ]
    }
   ],
   "source": [
    "print(word_index)"
   ]
  },
  {
   "cell_type": "code",
   "execution_count": 31,
   "metadata": {},
   "outputs": [
    {
     "name": "stdout",
     "output_type": "stream",
     "text": [
      "Conjunto de treinamento:  \n",
      " [[   0    0    0 ...   13    7  109]\n",
      " [   0    0    0 ...  766  357  200]\n",
      " [   0    0    0 ...   98  289 4000]\n",
      " ...\n",
      " [   0    0    0 ...   56   81  131]\n",
      " [   0    0    0 ...  727  159  377]\n",
      " [   0    0    0 ...    9  151 4010]]\n",
      "Conjunto de teste:  \n",
      " [[   0    0    0 ...   13    7   25]\n",
      " [   0    0    0 ...  484  485  486]\n",
      " [   0    0    0 ...   13    7  148]\n",
      " ...\n",
      " [   0    0    0 ...  150   27 5162]\n",
      " [   0    0    0 ...    2  172    8]\n",
      " [   0    0    0 ...   80   79   84]]\n"
     ]
    }
   ],
   "source": [
    "# Transformar as sentencas dos dados de treinamento e teste para sequencias numericas. ex [[1,2,6],[65,952,15,65],[1,2]]\n",
    "train_data_sentences = tokenizer.texts_to_sequences(datasetVariables_train)\n",
    "test_data_sentences = tokenizer.texts_to_sequences(datasetVariables_test)\n",
    "\n",
    "# normalizar o tamnho das sequencias usando padding. ex [[0,1,2,6],[65,952,15,65],[0,0,1,2]]\n",
    "train_padded = pad_sequences(train_data_sentences, maxlen=300)\n",
    "test_padded = pad_sequences(test_data_sentences, maxlen=300)\n",
    "\n",
    "print(\"Conjunto de treinamento: \",\"\\n\",train_padded[0:19])\n",
    "print(\"Conjunto de teste: \",\"\\n\",test_padded[0:19])"
   ]
  },
  {
   "cell_type": "code",
   "execution_count": 38,
   "metadata": {},
   "outputs": [],
   "source": [
    "from tensorflow.keras.utils import to_categorical\n",
    "\n",
    "datasetTarget_train = to_categorical(np.array(datasetTarget_train))\n",
    "datasetTarget_test = to_categorical(np.array(datasetTarget_test))"
   ]
  },
  {
   "cell_type": "code",
   "execution_count": 33,
   "metadata": {},
   "outputs": [],
   "source": [
    "from math import sqrt"
   ]
  },
  {
   "cell_type": "code",
   "execution_count": 40,
   "metadata": {},
   "outputs": [
    {
     "data": {
      "text/plain": [
       "0.8196969696969697"
      ]
     },
     "execution_count": 40,
     "metadata": {},
     "output_type": "execute_result"
    }
   ],
   "source": [
    "# first ML model\n",
    "model_v1 = RandomForestClassifier(random_state=50,criterion='gini')\n",
    "model_v1.fit(train_padded,datasetTarget_train)\n",
    "# model_v1 acuracy\n",
    "model_v1Score = model_v1.score(test_padded,datasetTarget_test)\n",
    "model_v1Score"
   ]
  },
  {
   "cell_type": "code",
   "execution_count": 41,
   "metadata": {},
   "outputs": [],
   "source": [
    "# save model\n",
    "import pickle\n",
    "filename = 'model_randomForest_80.sav'\n",
    "pickle.dump(model_v1,open(filename,'wb'))"
   ]
  },
  {
   "cell_type": "code",
   "execution_count": null,
   "metadata": {},
   "outputs": [],
   "source": []
  },
  {
   "cell_type": "code",
   "execution_count": null,
   "metadata": {},
   "outputs": [],
   "source": []
  }
 ],
 "metadata": {
  "kernelspec": {
   "display_name": "Python 3",
   "language": "python",
   "name": "python3"
  },
  "language_info": {
   "codemirror_mode": {
    "name": "ipython",
    "version": 3
   },
   "file_extension": ".py",
   "mimetype": "text/x-python",
   "name": "python",
   "nbconvert_exporter": "python",
   "pygments_lexer": "ipython3",
   "version": "3.8.10"
  }
 },
 "nbformat": 4,
 "nbformat_minor": 2
}
